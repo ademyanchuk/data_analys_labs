{
 "cells": [
  {
   "cell_type": "markdown",
   "metadata": {},
   "source": [
    "### Импорты"
   ]
  },
  {
   "cell_type": "code",
   "execution_count": 3,
   "metadata": {},
   "outputs": [],
   "source": [
    "import numpy as np\n",
    "import pandas as pd"
   ]
  },
  {
   "cell_type": "code",
   "execution_count": 4,
   "metadata": {
    "scrolled": true
   },
   "outputs": [
    {
     "name": "stdout",
     "output_type": "stream",
     "text": [
      "SQLalchemy is not installed. No support for SQL output.\n"
     ]
    }
   ],
   "source": [
    "from simpledbf import Dbf5"
   ]
  },
  {
   "cell_type": "code",
   "execution_count": 5,
   "metadata": {},
   "outputs": [],
   "source": [
    "import matplotlib.pyplot as plt"
   ]
  },
  {
   "cell_type": "code",
   "execution_count": 49,
   "metadata": {},
   "outputs": [],
   "source": [
    "from sklearn.neural_network import MLPRegressor"
   ]
  },
  {
   "cell_type": "code",
   "execution_count": 59,
   "metadata": {},
   "outputs": [],
   "source": [
    "from sklearn.metrics import mean_squared_error"
   ]
  },
  {
   "cell_type": "markdown",
   "metadata": {},
   "source": [
    "### Загрузка из dbf (файлы баз данных)"
   ]
  },
  {
   "cell_type": "markdown",
   "metadata": {},
   "source": [
    "загружаем данные из файлов формата `dbf`  с использованием библиотеки `simpledbf`"
   ]
  },
  {
   "cell_type": "code",
   "execution_count": 6,
   "metadata": {},
   "outputs": [],
   "source": [
    "sales = Dbf5('sales.dbf', codec='cp1251')"
   ]
  },
  {
   "cell_type": "markdown",
   "metadata": {},
   "source": [
    "конвертируем в нативную для `Pandas` форму датафрейма `df`"
   ]
  },
  {
   "cell_type": "code",
   "execution_count": 7,
   "metadata": {},
   "outputs": [],
   "source": [
    "sales_df = sales.to_dataframe()"
   ]
  },
  {
   "cell_type": "code",
   "execution_count": 90,
   "metadata": {},
   "outputs": [],
   "source": [
    "test = pd.read_csv('fact.txt', sep='\\t', encoding='cp1251')"
   ]
  },
  {
   "cell_type": "code",
   "execution_count": null,
   "metadata": {},
   "outputs": [],
   "source": []
  },
  {
   "cell_type": "code",
   "execution_count": 10,
   "metadata": {},
   "outputs": [
    {
     "data": {
      "text/html": [
       "<div>\n",
       "<style scoped>\n",
       "    .dataframe tbody tr th:only-of-type {\n",
       "        vertical-align: middle;\n",
       "    }\n",
       "\n",
       "    .dataframe tbody tr th {\n",
       "        vertical-align: top;\n",
       "    }\n",
       "\n",
       "    .dataframe thead th {\n",
       "        text-align: right;\n",
       "    }\n",
       "</style>\n",
       "<table border=\"1\" class=\"dataframe\">\n",
       "  <thead>\n",
       "    <tr style=\"text-align: right;\">\n",
       "      <th></th>\n",
       "      <th>DATA</th>\n",
       "      <th>TOVAR</th>\n",
       "      <th>KOL</th>\n",
       "      <th>SUMMA</th>\n",
       "    </tr>\n",
       "  </thead>\n",
       "  <tbody>\n",
       "    <tr>\n",
       "      <th>0</th>\n",
       "      <td>2001-06-19</td>\n",
       "      <td>00092860</td>\n",
       "      <td>1.0</td>\n",
       "      <td>387.20</td>\n",
       "    </tr>\n",
       "    <tr>\n",
       "      <th>1</th>\n",
       "      <td>2001-06-19</td>\n",
       "      <td>00092861</td>\n",
       "      <td>8.0</td>\n",
       "      <td>774.40</td>\n",
       "    </tr>\n",
       "    <tr>\n",
       "      <th>2</th>\n",
       "      <td>2001-06-19</td>\n",
       "      <td>00092864</td>\n",
       "      <td>2.0</td>\n",
       "      <td>431.24</td>\n",
       "    </tr>\n",
       "    <tr>\n",
       "      <th>3</th>\n",
       "      <td>2001-06-19</td>\n",
       "      <td>00092867</td>\n",
       "      <td>1.0</td>\n",
       "      <td>316.80</td>\n",
       "    </tr>\n",
       "    <tr>\n",
       "      <th>4</th>\n",
       "      <td>2001-06-19</td>\n",
       "      <td>00092869</td>\n",
       "      <td>1.0</td>\n",
       "      <td>264.00</td>\n",
       "    </tr>\n",
       "    <tr>\n",
       "      <th>5</th>\n",
       "      <td>2001-06-19</td>\n",
       "      <td>00092873</td>\n",
       "      <td>2.0</td>\n",
       "      <td>739.20</td>\n",
       "    </tr>\n",
       "    <tr>\n",
       "      <th>6</th>\n",
       "      <td>2001-06-19</td>\n",
       "      <td>00092881</td>\n",
       "      <td>1.0</td>\n",
       "      <td>378.42</td>\n",
       "    </tr>\n",
       "    <tr>\n",
       "      <th>7</th>\n",
       "      <td>2001-06-20</td>\n",
       "      <td>00092865</td>\n",
       "      <td>2.0</td>\n",
       "      <td>431.20</td>\n",
       "    </tr>\n",
       "    <tr>\n",
       "      <th>8</th>\n",
       "      <td>2001-06-21</td>\n",
       "      <td>00092861</td>\n",
       "      <td>4.0</td>\n",
       "      <td>387.27</td>\n",
       "    </tr>\n",
       "    <tr>\n",
       "      <th>9</th>\n",
       "      <td>2001-06-21</td>\n",
       "      <td>00092864</td>\n",
       "      <td>2.0</td>\n",
       "      <td>431.20</td>\n",
       "    </tr>\n",
       "  </tbody>\n",
       "</table>\n",
       "</div>"
      ],
      "text/plain": [
       "         DATA     TOVAR  KOL   SUMMA\n",
       "0  2001-06-19  00092860  1.0  387.20\n",
       "1  2001-06-19  00092861  8.0  774.40\n",
       "2  2001-06-19  00092864  2.0  431.24\n",
       "3  2001-06-19  00092867  1.0  316.80\n",
       "4  2001-06-19  00092869  1.0  264.00\n",
       "5  2001-06-19  00092873  2.0  739.20\n",
       "6  2001-06-19  00092881  1.0  378.42\n",
       "7  2001-06-20  00092865  2.0  431.20\n",
       "8  2001-06-21  00092861  4.0  387.27\n",
       "9  2001-06-21  00092864  2.0  431.20"
      ]
     },
     "execution_count": 10,
     "metadata": {},
     "output_type": "execute_result"
    }
   ],
   "source": [
    "sales_df.head(10)"
   ]
  },
  {
   "cell_type": "code",
   "execution_count": 11,
   "metadata": {
    "scrolled": true
   },
   "outputs": [
    {
     "data": {
      "text/plain": [
       "189"
      ]
     },
     "execution_count": 11,
     "metadata": {},
     "output_type": "execute_result"
    }
   ],
   "source": [
    "sales_df.TOVAR.nunique()"
   ]
  },
  {
   "cell_type": "code",
   "execution_count": 12,
   "metadata": {},
   "outputs": [
    {
     "data": {
      "text/plain": [
       "903"
      ]
     },
     "execution_count": 12,
     "metadata": {},
     "output_type": "execute_result"
    }
   ],
   "source": [
    "sales_df.DATA.nunique()"
   ]
  },
  {
   "cell_type": "code",
   "execution_count": 13,
   "metadata": {},
   "outputs": [
    {
     "name": "stdout",
     "output_type": "stream",
     "text": [
      "<class 'pandas.core.frame.DataFrame'>\n",
      "RangeIndex: 8955 entries, 0 to 8954\n",
      "Data columns (total 4 columns):\n",
      "DATA     8955 non-null object\n",
      "TOVAR    8955 non-null object\n",
      "KOL      8955 non-null float64\n",
      "SUMMA    8955 non-null float64\n",
      "dtypes: float64(2), object(2)\n",
      "memory usage: 279.9+ KB\n"
     ]
    }
   ],
   "source": [
    "sales_df.info()"
   ]
  },
  {
   "cell_type": "markdown",
   "metadata": {},
   "source": [
    "### Предварительная обработка "
   ]
  },
  {
   "cell_type": "code",
   "execution_count": 14,
   "metadata": {},
   "outputs": [],
   "source": [
    "# Переведем колонку `DATA`  в формат datetime\n",
    "sales_df.DATA = pd.to_datetime(sales_df.DATA, yearfirst=True)"
   ]
  },
  {
   "cell_type": "code",
   "execution_count": 15,
   "metadata": {},
   "outputs": [
    {
     "name": "stdout",
     "output_type": "stream",
     "text": [
      "2001-06-19 00:00:00\n",
      "2004-10-31 00:00:00\n"
     ]
    }
   ],
   "source": [
    "print(sales_df.DATA.min())\n",
    "print(sales_df.DATA.max())"
   ]
  },
  {
   "cell_type": "code",
   "execution_count": 16,
   "metadata": {},
   "outputs": [],
   "source": [
    "# Назначим даты индексом в DataFrame\n",
    "sales_df.set_index('DATA', inplace=True)"
   ]
  },
  {
   "cell_type": "code",
   "execution_count": 17,
   "metadata": {
    "scrolled": true
   },
   "outputs": [],
   "source": [
    "# Отсортируем индекс по возрастанию\n",
    "sales_df.sort_index(inplace=True)"
   ]
  },
  {
   "cell_type": "code",
   "execution_count": 18,
   "metadata": {},
   "outputs": [],
   "source": [
    "sales_df.index = sales_df.index.to_period(freq='D')"
   ]
  },
  {
   "cell_type": "code",
   "execution_count": 19,
   "metadata": {
    "scrolled": true
   },
   "outputs": [
    {
     "data": {
      "text/html": [
       "<div>\n",
       "<style scoped>\n",
       "    .dataframe tbody tr th:only-of-type {\n",
       "        vertical-align: middle;\n",
       "    }\n",
       "\n",
       "    .dataframe tbody tr th {\n",
       "        vertical-align: top;\n",
       "    }\n",
       "\n",
       "    .dataframe thead th {\n",
       "        text-align: right;\n",
       "    }\n",
       "</style>\n",
       "<table border=\"1\" class=\"dataframe\">\n",
       "  <thead>\n",
       "    <tr style=\"text-align: right;\">\n",
       "      <th></th>\n",
       "      <th>TOVAR</th>\n",
       "      <th>KOL</th>\n",
       "      <th>SUMMA</th>\n",
       "    </tr>\n",
       "    <tr>\n",
       "      <th>DATA</th>\n",
       "      <th></th>\n",
       "      <th></th>\n",
       "      <th></th>\n",
       "    </tr>\n",
       "  </thead>\n",
       "  <tbody>\n",
       "    <tr>\n",
       "      <th>2001-06-19</th>\n",
       "      <td>00092860</td>\n",
       "      <td>1.0</td>\n",
       "      <td>387.20</td>\n",
       "    </tr>\n",
       "    <tr>\n",
       "      <th>2001-06-19</th>\n",
       "      <td>00092861</td>\n",
       "      <td>8.0</td>\n",
       "      <td>774.40</td>\n",
       "    </tr>\n",
       "    <tr>\n",
       "      <th>2001-06-19</th>\n",
       "      <td>00092864</td>\n",
       "      <td>2.0</td>\n",
       "      <td>431.24</td>\n",
       "    </tr>\n",
       "    <tr>\n",
       "      <th>2001-06-19</th>\n",
       "      <td>00092867</td>\n",
       "      <td>1.0</td>\n",
       "      <td>316.80</td>\n",
       "    </tr>\n",
       "    <tr>\n",
       "      <th>2001-06-19</th>\n",
       "      <td>00092869</td>\n",
       "      <td>1.0</td>\n",
       "      <td>264.00</td>\n",
       "    </tr>\n",
       "    <tr>\n",
       "      <th>2001-06-19</th>\n",
       "      <td>00092873</td>\n",
       "      <td>2.0</td>\n",
       "      <td>739.20</td>\n",
       "    </tr>\n",
       "    <tr>\n",
       "      <th>2001-06-19</th>\n",
       "      <td>00092881</td>\n",
       "      <td>1.0</td>\n",
       "      <td>378.42</td>\n",
       "    </tr>\n",
       "    <tr>\n",
       "      <th>2001-06-20</th>\n",
       "      <td>00092865</td>\n",
       "      <td>2.0</td>\n",
       "      <td>431.20</td>\n",
       "    </tr>\n",
       "    <tr>\n",
       "      <th>2001-06-21</th>\n",
       "      <td>00092861</td>\n",
       "      <td>4.0</td>\n",
       "      <td>387.27</td>\n",
       "    </tr>\n",
       "    <tr>\n",
       "      <th>2001-06-21</th>\n",
       "      <td>00092864</td>\n",
       "      <td>2.0</td>\n",
       "      <td>431.20</td>\n",
       "    </tr>\n",
       "  </tbody>\n",
       "</table>\n",
       "</div>"
      ],
      "text/plain": [
       "               TOVAR  KOL   SUMMA\n",
       "DATA                             \n",
       "2001-06-19  00092860  1.0  387.20\n",
       "2001-06-19  00092861  8.0  774.40\n",
       "2001-06-19  00092864  2.0  431.24\n",
       "2001-06-19  00092867  1.0  316.80\n",
       "2001-06-19  00092869  1.0  264.00\n",
       "2001-06-19  00092873  2.0  739.20\n",
       "2001-06-19  00092881  1.0  378.42\n",
       "2001-06-20  00092865  2.0  431.20\n",
       "2001-06-21  00092861  4.0  387.27\n",
       "2001-06-21  00092864  2.0  431.20"
      ]
     },
     "execution_count": 19,
     "metadata": {},
     "output_type": "execute_result"
    }
   ],
   "source": [
    "sales_df.head(10)"
   ]
  },
  {
   "cell_type": "code",
   "execution_count": 20,
   "metadata": {},
   "outputs": [],
   "source": [
    "sales_df.drop('TOVAR', axis=1, inplace=True)"
   ]
  },
  {
   "cell_type": "code",
   "execution_count": 21,
   "metadata": {},
   "outputs": [],
   "source": [
    "# сгруппируем данные по месяцам продаж, агрегация по сумме\n",
    "sales_by_month = sales_df.resample('M').sum()"
   ]
  },
  {
   "cell_type": "code",
   "execution_count": 22,
   "metadata": {},
   "outputs": [
    {
     "data": {
      "text/html": [
       "<div>\n",
       "<style scoped>\n",
       "    .dataframe tbody tr th:only-of-type {\n",
       "        vertical-align: middle;\n",
       "    }\n",
       "\n",
       "    .dataframe tbody tr th {\n",
       "        vertical-align: top;\n",
       "    }\n",
       "\n",
       "    .dataframe thead th {\n",
       "        text-align: right;\n",
       "    }\n",
       "</style>\n",
       "<table border=\"1\" class=\"dataframe\">\n",
       "  <thead>\n",
       "    <tr style=\"text-align: right;\">\n",
       "      <th></th>\n",
       "      <th>KOL</th>\n",
       "      <th>SUMMA</th>\n",
       "    </tr>\n",
       "    <tr>\n",
       "      <th>DATA</th>\n",
       "      <th></th>\n",
       "      <th></th>\n",
       "    </tr>\n",
       "  </thead>\n",
       "  <tbody>\n",
       "    <tr>\n",
       "      <th>2001-06</th>\n",
       "      <td>163.0</td>\n",
       "      <td>23584.34</td>\n",
       "    </tr>\n",
       "    <tr>\n",
       "      <th>2001-07</th>\n",
       "      <td>182.0</td>\n",
       "      <td>26192.45</td>\n",
       "    </tr>\n",
       "    <tr>\n",
       "      <th>2001-08</th>\n",
       "      <td>209.0</td>\n",
       "      <td>36497.35</td>\n",
       "    </tr>\n",
       "    <tr>\n",
       "      <th>2001-09</th>\n",
       "      <td>147.0</td>\n",
       "      <td>25624.92</td>\n",
       "    </tr>\n",
       "    <tr>\n",
       "      <th>2001-10</th>\n",
       "      <td>217.0</td>\n",
       "      <td>40886.54</td>\n",
       "    </tr>\n",
       "    <tr>\n",
       "      <th>2001-11</th>\n",
       "      <td>724.0</td>\n",
       "      <td>107230.90</td>\n",
       "    </tr>\n",
       "    <tr>\n",
       "      <th>2001-12</th>\n",
       "      <td>741.0</td>\n",
       "      <td>106877.63</td>\n",
       "    </tr>\n",
       "    <tr>\n",
       "      <th>2002-01</th>\n",
       "      <td>547.0</td>\n",
       "      <td>78972.99</td>\n",
       "    </tr>\n",
       "    <tr>\n",
       "      <th>2002-02</th>\n",
       "      <td>702.0</td>\n",
       "      <td>109098.54</td>\n",
       "    </tr>\n",
       "    <tr>\n",
       "      <th>2002-03</th>\n",
       "      <td>641.0</td>\n",
       "      <td>93518.36</td>\n",
       "    </tr>\n",
       "  </tbody>\n",
       "</table>\n",
       "</div>"
      ],
      "text/plain": [
       "           KOL      SUMMA\n",
       "DATA                     \n",
       "2001-06  163.0   23584.34\n",
       "2001-07  182.0   26192.45\n",
       "2001-08  209.0   36497.35\n",
       "2001-09  147.0   25624.92\n",
       "2001-10  217.0   40886.54\n",
       "2001-11  724.0  107230.90\n",
       "2001-12  741.0  106877.63\n",
       "2002-01  547.0   78972.99\n",
       "2002-02  702.0  109098.54\n",
       "2002-03  641.0   93518.36"
      ]
     },
     "execution_count": 22,
     "metadata": {},
     "output_type": "execute_result"
    }
   ],
   "source": [
    "sales_by_month.head(10)"
   ]
  },
  {
   "cell_type": "code",
   "execution_count": 23,
   "metadata": {},
   "outputs": [
    {
     "data": {
      "image/png": "[encoded data removed]",
      "text/plain": [
       "<Figure size 576x432 with 1 Axes>"
      ]
     },
     "metadata": {},
     "output_type": "display_data"
    }
   ],
   "source": [
    "sales_by_month[['SUMMA']].plot(kind='area', figsize=(8,6), title='Суммы продаж по месяцам');"
   ]
  },
  {
   "cell_type": "code",
   "execution_count": 24,
   "metadata": {},
   "outputs": [
    {
     "data": {
      "image/png": "[encoded data removed]",
      "text/plain": [
       "<Figure size 576x432 with 1 Axes>"
      ]
     },
     "metadata": {},
     "output_type": "display_data"
    }
   ],
   "source": [
    "sales_by_month[['KOL']].plot(kind='area', figsize=(8,6), title='Количества продаж по месяцам');"
   ]
  },
  {
   "cell_type": "markdown",
   "metadata": {},
   "source": [
    "#### Тест "
   ]
  },
  {
   "cell_type": "code",
   "execution_count": 91,
   "metadata": {},
   "outputs": [],
   "source": [
    "test.columns = ['DATA', 'SUMMA', 'KOL']"
   ]
  },
  {
   "cell_type": "code",
   "execution_count": 92,
   "metadata": {},
   "outputs": [],
   "source": [
    "test['DATA'] = pd.to_datetime(test.DATA, format='%m.%Y')"
   ]
  },
  {
   "cell_type": "code",
   "execution_count": 93,
   "metadata": {},
   "outputs": [],
   "source": [
    "test.set_index('DATA', inplace=True)"
   ]
  },
  {
   "cell_type": "code",
   "execution_count": 95,
   "metadata": {},
   "outputs": [],
   "source": [
    "test.index = test.index.to_period('M')"
   ]
  },
  {
   "cell_type": "code",
   "execution_count": 97,
   "metadata": {},
   "outputs": [
    {
     "data": {
      "text/html": [
       "<div>\n",
       "<style scoped>\n",
       "    .dataframe tbody tr th:only-of-type {\n",
       "        vertical-align: middle;\n",
       "    }\n",
       "\n",
       "    .dataframe tbody tr th {\n",
       "        vertical-align: top;\n",
       "    }\n",
       "\n",
       "    .dataframe thead th {\n",
       "        text-align: right;\n",
       "    }\n",
       "</style>\n",
       "<table border=\"1\" class=\"dataframe\">\n",
       "  <thead>\n",
       "    <tr style=\"text-align: right;\">\n",
       "      <th></th>\n",
       "      <th>SUMMA</th>\n",
       "      <th>KOL</th>\n",
       "    </tr>\n",
       "    <tr>\n",
       "      <th>DATA</th>\n",
       "      <th></th>\n",
       "      <th></th>\n",
       "    </tr>\n",
       "  </thead>\n",
       "  <tbody>\n",
       "    <tr>\n",
       "      <th>2004-11</th>\n",
       "      <td>268384.0</td>\n",
       "      <td>1890</td>\n",
       "    </tr>\n",
       "    <tr>\n",
       "      <th>2004-12</th>\n",
       "      <td>396718.1</td>\n",
       "      <td>2792</td>\n",
       "    </tr>\n",
       "  </tbody>\n",
       "</table>\n",
       "</div>"
      ],
      "text/plain": [
       "            SUMMA   KOL\n",
       "DATA                   \n",
       "2004-11  268384.0  1890\n",
       "2004-12  396718.1  2792"
      ]
     },
     "execution_count": 97,
     "metadata": {},
     "output_type": "execute_result"
    }
   ],
   "source": [
    "test"
   ]
  },
  {
   "cell_type": "code",
   "execution_count": 101,
   "metadata": {},
   "outputs": [],
   "source": [
    "sales_w_test = pd.concat([sales_by_month, test], sort=True, axis=0)"
   ]
  },
  {
   "cell_type": "markdown",
   "metadata": {},
   "source": [
    "###  Поиск корреляции между лагами и автокорреляции"
   ]
  },
  {
   "cell_type": "code",
   "execution_count": 25,
   "metadata": {},
   "outputs": [
    {
     "data": {
      "image/png": "[encoded data removed]",
      "text/plain": [
       "<Figure size 432x288 with 1 Axes>"
      ]
     },
     "metadata": {},
     "output_type": "display_data"
    }
   ],
   "source": [
    "# Lag-plots для выявления корреляции между значением сумм на\n",
    "# отрезке времени t+1 от сумм на отрезке времени t \n",
    "pd.plotting.lag_plot(sales_by_month.SUMMA);"
   ]
  },
  {
   "cell_type": "code",
   "execution_count": 26,
   "metadata": {
    "scrolled": true
   },
   "outputs": [
    {
     "data": {
      "image/png": "[encoded data removed]",
      "text/plain": [
       "<Figure size 432x288 with 1 Axes>"
      ]
     },
     "metadata": {},
     "output_type": "display_data"
    }
   ],
   "source": [
    "pd.plotting.lag_plot(sales_by_month.KOL);"
   ]
  },
  {
   "cell_type": "code",
   "execution_count": 27,
   "metadata": {},
   "outputs": [
    {
     "data": {
      "image/png": "[encoded data removed]",
      "text/plain": [
       "<Figure size 432x288 with 1 Axes>"
      ]
     },
     "metadata": {},
     "output_type": "display_data"
    }
   ],
   "source": [
    "pd.plotting.autocorrelation_plot(sales_by_month.truncate(before='2002').SUMMA);"
   ]
  },
  {
   "cell_type": "code",
   "execution_count": 28,
   "metadata": {},
   "outputs": [
    {
     "data": {
      "image/png": "[encoded data removed]",
      "text/plain": [
       "<Figure size 432x288 with 1 Axes>"
      ]
     },
     "metadata": {},
     "output_type": "display_data"
    }
   ],
   "source": [
    "pd.plotting.autocorrelation_plot(sales_by_month.truncate(before='2002').KOL);"
   ]
  },
  {
   "cell_type": "markdown",
   "metadata": {},
   "source": [
    "#### Скользящее окно "
   ]
  },
  {
   "cell_type": "code",
   "execution_count": 29,
   "metadata": {},
   "outputs": [],
   "source": [
    "sales_by_day = (sales_df.resample('D')\n",
    "                .sum()\n",
    "                .sort_index())"
   ]
  },
  {
   "cell_type": "code",
   "execution_count": 30,
   "metadata": {},
   "outputs": [
    {
     "data": {
      "text/plain": [
       "<matplotlib.axes._subplots.AxesSubplot at 0x120c85ef0>"
      ]
     },
     "execution_count": 30,
     "metadata": {},
     "output_type": "execute_result"
    },
    {
     "data": {
      "image/png": "[encoded data removed]",
      "text/plain": [
       "<Figure size 432x288 with 1 Axes>"
      ]
     },
     "metadata": {},
     "output_type": "display_data"
    }
   ],
   "source": [
    "pd.plotting.autocorrelation_plot(sales_by_day.SUMMA)"
   ]
  },
  {
   "cell_type": "code",
   "execution_count": 31,
   "metadata": {},
   "outputs": [],
   "source": [
    "rw = sales_by_day.rolling(window=30)"
   ]
  },
  {
   "cell_type": "code",
   "execution_count": 32,
   "metadata": {},
   "outputs": [
    {
     "data": {
      "image/png": "[encoded data removed]",
      "text/plain": [
       "<Figure size 576x576 with 1 Axes>"
      ]
     },
     "metadata": {},
     "output_type": "display_data"
    }
   ],
   "source": [
    "sales_by_day.SUMMA.plot(color='gray', figsize=(8,8), title='График сумм продаж по дням, среднее от скользящего окна (30)');\n",
    "rw.mean()['SUMMA'].plot(color='red');"
   ]
  },
  {
   "cell_type": "code",
   "execution_count": 33,
   "metadata": {},
   "outputs": [],
   "source": [
    "rw = sales_by_month.rolling(window=6)"
   ]
  },
  {
   "cell_type": "code",
   "execution_count": 34,
   "metadata": {},
   "outputs": [
    {
     "data": {
      "image/png": "[encoded data removed]",
      "text/plain": [
       "<Figure size 576x576 with 1 Axes>"
      ]
     },
     "metadata": {},
     "output_type": "display_data"
    }
   ],
   "source": [
    "sales_by_month.SUMMA.plot(color='gray', figsize=(8,8), title='График сумм продаж по месяцам, среднее от скользящего окна (6)');\n",
    "rw.mean()['SUMMA'].plot(color='red');"
   ]
  },
  {
   "cell_type": "markdown",
   "metadata": {},
   "source": [
    "### Подготовка данных для обучения нейросети - эксперимент 1"
   ]
  },
  {
   "cell_type": "code",
   "execution_count": 102,
   "metadata": {},
   "outputs": [],
   "source": [
    "# сдвигаем значения на i в прошлое и формируем имена для колонок\n",
    "shifts = []\n",
    "names = []\n",
    "for i in (1,2,3,12):\n",
    "    names.extend([f'KOL_{i}', f'SUMMA_{i}'])\n",
    "    shifts.append(sales_w_test.shift(i))"
   ]
  },
  {
   "cell_type": "code",
   "execution_count": 103,
   "metadata": {},
   "outputs": [],
   "source": [
    "# создаем DataFrame с последовательностью из записей 1,2,3,12 месяцев назад\n",
    "shifted_df = pd.concat(shifts, axis=1)"
   ]
  },
  {
   "cell_type": "code",
   "execution_count": 104,
   "metadata": {},
   "outputs": [],
   "source": [
    "# даем понятные имена\n",
    "shifted_df.columns = names"
   ]
  },
  {
   "cell_type": "code",
   "execution_count": 105,
   "metadata": {},
   "outputs": [],
   "source": [
    "# для того, чтобы не терять примеров в выборке\n",
    "# заменим пропуски на медианные значения\n",
    "shifted_df.fillna(shifted_df.median(), inplace=True)"
   ]
  },
  {
   "cell_type": "code",
   "execution_count": 107,
   "metadata": {},
   "outputs": [
    {
     "data": {
      "text/html": [
       "<div>\n",
       "<style scoped>\n",
       "    .dataframe tbody tr th:only-of-type {\n",
       "        vertical-align: middle;\n",
       "    }\n",
       "\n",
       "    .dataframe tbody tr th {\n",
       "        vertical-align: top;\n",
       "    }\n",
       "\n",
       "    .dataframe thead th {\n",
       "        text-align: right;\n",
       "    }\n",
       "</style>\n",
       "<table border=\"1\" class=\"dataframe\">\n",
       "  <thead>\n",
       "    <tr style=\"text-align: right;\">\n",
       "      <th></th>\n",
       "      <th>KOL_1</th>\n",
       "      <th>SUMMA_1</th>\n",
       "      <th>KOL_2</th>\n",
       "      <th>SUMMA_2</th>\n",
       "      <th>KOL_3</th>\n",
       "      <th>SUMMA_3</th>\n",
       "      <th>KOL_12</th>\n",
       "      <th>SUMMA_12</th>\n",
       "    </tr>\n",
       "    <tr>\n",
       "      <th>DATA</th>\n",
       "      <th></th>\n",
       "      <th></th>\n",
       "      <th></th>\n",
       "      <th></th>\n",
       "      <th></th>\n",
       "      <th></th>\n",
       "      <th></th>\n",
       "      <th></th>\n",
       "    </tr>\n",
       "  </thead>\n",
       "  <tbody>\n",
       "    <tr>\n",
       "      <th>2004-03</th>\n",
       "      <td>984.0</td>\n",
       "      <td>148030.61</td>\n",
       "      <td>1059.0</td>\n",
       "      <td>142150.37</td>\n",
       "      <td>1874.0</td>\n",
       "      <td>290191.42</td>\n",
       "      <td>791.0</td>\n",
       "      <td>121297.04</td>\n",
       "    </tr>\n",
       "    <tr>\n",
       "      <th>2004-04</th>\n",
       "      <td>1353.0</td>\n",
       "      <td>179439.95</td>\n",
       "      <td>984.0</td>\n",
       "      <td>148030.61</td>\n",
       "      <td>1059.0</td>\n",
       "      <td>142150.37</td>\n",
       "      <td>945.0</td>\n",
       "      <td>129349.33</td>\n",
       "    </tr>\n",
       "    <tr>\n",
       "      <th>2004-05</th>\n",
       "      <td>1435.0</td>\n",
       "      <td>209491.60</td>\n",
       "      <td>1353.0</td>\n",
       "      <td>179439.95</td>\n",
       "      <td>984.0</td>\n",
       "      <td>148030.61</td>\n",
       "      <td>802.0</td>\n",
       "      <td>118342.87</td>\n",
       "    </tr>\n",
       "    <tr>\n",
       "      <th>2004-06</th>\n",
       "      <td>1039.0</td>\n",
       "      <td>145582.17</td>\n",
       "      <td>1435.0</td>\n",
       "      <td>209491.60</td>\n",
       "      <td>1353.0</td>\n",
       "      <td>179439.95</td>\n",
       "      <td>884.0</td>\n",
       "      <td>132945.89</td>\n",
       "    </tr>\n",
       "    <tr>\n",
       "      <th>2004-07</th>\n",
       "      <td>1297.0</td>\n",
       "      <td>189178.99</td>\n",
       "      <td>1039.0</td>\n",
       "      <td>145582.17</td>\n",
       "      <td>1435.0</td>\n",
       "      <td>209491.60</td>\n",
       "      <td>1333.0</td>\n",
       "      <td>200744.99</td>\n",
       "    </tr>\n",
       "    <tr>\n",
       "      <th>2004-08</th>\n",
       "      <td>1422.0</td>\n",
       "      <td>204073.75</td>\n",
       "      <td>1297.0</td>\n",
       "      <td>189178.99</td>\n",
       "      <td>1039.0</td>\n",
       "      <td>145582.17</td>\n",
       "      <td>1374.0</td>\n",
       "      <td>212183.74</td>\n",
       "    </tr>\n",
       "    <tr>\n",
       "      <th>2004-09</th>\n",
       "      <td>1528.0</td>\n",
       "      <td>225672.45</td>\n",
       "      <td>1422.0</td>\n",
       "      <td>204073.75</td>\n",
       "      <td>1297.0</td>\n",
       "      <td>189178.99</td>\n",
       "      <td>1275.0</td>\n",
       "      <td>186138.13</td>\n",
       "    </tr>\n",
       "    <tr>\n",
       "      <th>2004-10</th>\n",
       "      <td>1759.0</td>\n",
       "      <td>243166.63</td>\n",
       "      <td>1528.0</td>\n",
       "      <td>225672.45</td>\n",
       "      <td>1422.0</td>\n",
       "      <td>204073.75</td>\n",
       "      <td>1539.0</td>\n",
       "      <td>223449.01</td>\n",
       "    </tr>\n",
       "    <tr>\n",
       "      <th>2004-11</th>\n",
       "      <td>1630.0</td>\n",
       "      <td>236117.68</td>\n",
       "      <td>1759.0</td>\n",
       "      <td>243166.63</td>\n",
       "      <td>1528.0</td>\n",
       "      <td>225672.45</td>\n",
       "      <td>1668.0</td>\n",
       "      <td>262605.30</td>\n",
       "    </tr>\n",
       "    <tr>\n",
       "      <th>2004-12</th>\n",
       "      <td>1890.0</td>\n",
       "      <td>268384.00</td>\n",
       "      <td>1630.0</td>\n",
       "      <td>236117.68</td>\n",
       "      <td>1759.0</td>\n",
       "      <td>243166.63</td>\n",
       "      <td>1874.0</td>\n",
       "      <td>290191.42</td>\n",
       "    </tr>\n",
       "  </tbody>\n",
       "</table>\n",
       "</div>"
      ],
      "text/plain": [
       "          KOL_1    SUMMA_1   KOL_2    SUMMA_2   KOL_3    SUMMA_3  KOL_12  \\\n",
       "DATA                                                                       \n",
       "2004-03   984.0  148030.61  1059.0  142150.37  1874.0  290191.42   791.0   \n",
       "2004-04  1353.0  179439.95   984.0  148030.61  1059.0  142150.37   945.0   \n",
       "2004-05  1435.0  209491.60  1353.0  179439.95   984.0  148030.61   802.0   \n",
       "2004-06  1039.0  145582.17  1435.0  209491.60  1353.0  179439.95   884.0   \n",
       "2004-07  1297.0  189178.99  1039.0  145582.17  1435.0  209491.60  1333.0   \n",
       "2004-08  1422.0  204073.75  1297.0  189178.99  1039.0  145582.17  1374.0   \n",
       "2004-09  1528.0  225672.45  1422.0  204073.75  1297.0  189178.99  1275.0   \n",
       "2004-10  1759.0  243166.63  1528.0  225672.45  1422.0  204073.75  1539.0   \n",
       "2004-11  1630.0  236117.68  1759.0  243166.63  1528.0  225672.45  1668.0   \n",
       "2004-12  1890.0  268384.00  1630.0  236117.68  1759.0  243166.63  1874.0   \n",
       "\n",
       "          SUMMA_12  \n",
       "DATA                \n",
       "2004-03  121297.04  \n",
       "2004-04  129349.33  \n",
       "2004-05  118342.87  \n",
       "2004-06  132945.89  \n",
       "2004-07  200744.99  \n",
       "2004-08  212183.74  \n",
       "2004-09  186138.13  \n",
       "2004-10  223449.01  \n",
       "2004-11  262605.30  \n",
       "2004-12  290191.42  "
      ]
     },
     "execution_count": 107,
     "metadata": {},
     "output_type": "execute_result"
    }
   ],
   "source": [
    "shifted_df.tail(10)"
   ]
  },
  {
   "cell_type": "code",
   "execution_count": 109,
   "metadata": {},
   "outputs": [
    {
     "data": {
      "text/plain": [
       "True"
      ]
     },
     "execution_count": 109,
     "metadata": {},
     "output_type": "execute_result"
    }
   ],
   "source": [
    "all(sales_w_test.index == shifted_df.index)"
   ]
  },
  {
   "cell_type": "code",
   "execution_count": 123,
   "metadata": {},
   "outputs": [],
   "source": [
    "# Разделим выборку на тренировочный, валидационный и тестовый набор\n",
    "# для валидации возьмем последние 4 месяца\n",
    "def valid_split(df, n_trn):\n",
    "    return df[:n_trn].copy(), df[n_trn:].copy()"
   ]
  },
  {
   "cell_type": "code",
   "execution_count": 138,
   "metadata": {},
   "outputs": [],
   "source": [
    "n_test = 2\n",
    "n_trn = len(shifted_df) - n_test"
   ]
  },
  {
   "cell_type": "code",
   "execution_count": 139,
   "metadata": {},
   "outputs": [],
   "source": [
    "X_train, X_test = valid_split(shifted_df, n_trn)\n",
    "Y_train, Y_test = valid_split(sales_w_test, n_trn)"
   ]
  },
  {
   "cell_type": "code",
   "execution_count": 140,
   "metadata": {},
   "outputs": [],
   "source": [
    "# разделим оставшиеся тренировочные данные на трейн и валидацию\n",
    "n_val = 4\n",
    "n_trn = len(X_train) - n_val\n",
    "\n",
    "X_train, X_valid = valid_split(X_train, n_trn)\n",
    "Y_train, Y_valid = valid_split(Y_train, n_trn)"
   ]
  },
  {
   "cell_type": "code",
   "execution_count": 141,
   "metadata": {},
   "outputs": [
    {
     "data": {
      "text/plain": [
       "((37, 8), (4, 8), (2, 8), (37, 2), (4, 2), (2, 2))"
      ]
     },
     "execution_count": 141,
     "metadata": {},
     "output_type": "execute_result"
    }
   ],
   "source": [
    "X_train.shape, X_valid.shape, X_test.shape, Y_train.shape, Y_valid.shape, Y_test.shape"
   ]
  },
  {
   "cell_type": "markdown",
   "metadata": {},
   "source": [
    "#### Обучение и валидация нейросети - эксп. 1"
   ]
  },
  {
   "cell_type": "code",
   "execution_count": 142,
   "metadata": {},
   "outputs": [],
   "source": [
    "nnr = MLPRegressor(hidden_layer_sizes=(4,), verbose=True, max_iter=1000)"
   ]
  },
  {
   "cell_type": "code",
   "execution_count": 143,
   "metadata": {
    "collapsed": true
   },
   "outputs": [
    {
     "name": "stdout",
     "output_type": "stream",
     "text": [
      "Iteration 1, loss = 6113340050.77819061\n",
      "Iteration 2, loss = 6098421124.66602993\n",
      "Iteration 3, loss = 6083672605.84537601\n",
      "Iteration 4, loss = 6069096519.13320827\n",
      "Iteration 5, loss = 6054694721.74951744\n",
      "Iteration 6, loss = 6040468894.59548569\n",
      "Iteration 7, loss = 6026420534.27471256\n",
      "Iteration 8, loss = 6013206626.92212486\n",
      "Iteration 9, loss = 6000486690.32356739\n",
      "Iteration 10, loss = 5988207715.49117851\n",
      "Iteration 11, loss = 5977308347.82321167\n",
      "Iteration 12, loss = 5966639731.06394100\n",
      "Iteration 13, loss = 5956185324.88473034\n",
      "Iteration 14, loss = 5945932207.56991863\n",
      "Iteration 15, loss = 5935870056.60489559\n",
      "Iteration 16, loss = 5925990453.87803078\n",
      "Iteration 17, loss = 5916478314.44491768\n",
      "Iteration 18, loss = 5907442431.04094219\n",
      "Iteration 19, loss = 5898591009.90884781\n",
      "Iteration 20, loss = 5889916169.72665310\n",
      "Iteration 21, loss = 5881410995.22764683\n",
      "Iteration 22, loss = 5873070547.74172974\n",
      "Iteration 23, loss = 5864905379.03638458\n",
      "Iteration 24, loss = 5856902936.71877480\n",
      "Iteration 25, loss = 5849232858.35169601\n",
      "Iteration 26, loss = 5841871660.94173717\n",
      "Iteration 27, loss = 5834664297.72139740\n",
      "Iteration 28, loss = 5827604550.73393631\n",
      "Iteration 29, loss = 5820686698.30547428\n",
      "Iteration 30, loss = 5813905444.09320641\n",
      "Iteration 31, loss = 5807255857.32266045\n",
      "Iteration 32, loss = 5801138381.90337467\n",
      "Iteration 33, loss = 5795314921.13868046\n",
      "Iteration 34, loss = 5789626768.26707172\n",
      "Iteration 35, loss = 5784066545.71924210\n",
      "Iteration 36, loss = 5778627466.55616283\n",
      "Iteration 37, loss = 5773303266.09663200\n",
      "Iteration 38, loss = 5768088142.44243240\n",
      "Iteration 39, loss = 5763008345.12911510\n",
      "Iteration 40, loss = 5758043177.05321121\n",
      "Iteration 41, loss = 5753169166.39522362\n",
      "Iteration 42, loss = 5748420725.23211765\n",
      "Iteration 43, loss = 5743963989.57297230\n",
      "Iteration 44, loss = 5740404230.26265812\n",
      "Iteration 45, loss = 5737227155.73304272\n",
      "Iteration 46, loss = 5734170507.79797935\n",
      "Iteration 47, loss = 5731221365.89739799\n",
      "Iteration 48, loss = 5728371195.09816647\n",
      "Iteration 49, loss = 5725624998.29486656\n",
      "Iteration 50, loss = 5722982831.70300579\n",
      "Iteration 51, loss = 5721270461.59840012\n",
      "Iteration 52, loss = 5719884935.00067234\n",
      "Iteration 53, loss = 5718931307.10893631\n",
      "Iteration 54, loss = 5718023824.51693916\n",
      "Iteration 55, loss = 5717158757.52971268\n",
      "Iteration 56, loss = 5716332686.19091702\n",
      "Iteration 57, loss = 5715542467.23674774\n",
      "Iteration 58, loss = 5714785204.81198883\n",
      "Iteration 59, loss = 5714058224.46720886\n",
      "Iteration 60, loss = 5713359050.02356815\n",
      "Iteration 61, loss = 5712685382.94888878\n",
      "Iteration 62, loss = 5712035083.93709183\n",
      "Iteration 63, loss = 5711521334.52626038\n",
      "Iteration 64, loss = 5711032595.20558167\n",
      "Iteration 65, loss = 5710555364.75274467\n",
      "Iteration 66, loss = 5710088602.30378246\n",
      "Iteration 67, loss = 5709631301.49137592\n",
      "Iteration 68, loss = 5709182486.15888691\n",
      "Iteration 69, loss = 5708741206.46522999\n",
      "Iteration 70, loss = 5708306535.33189201\n",
      "Iteration 71, loss = 5707877565.18929482\n",
      "Iteration 72, loss = 5707453404.98497486\n",
      "Iteration 73, loss = 5707033177.42044735\n",
      "Iteration 74, loss = 5706616016.38767433\n",
      "Iteration 75, loss = 5706201064.57931042\n",
      "Iteration 76, loss = 5705787471.25002670\n",
      "Iteration 77, loss = 5705374390.10873413\n",
      "Iteration 78, loss = 5704960977.32388401\n",
      "Iteration 79, loss = 5704546389.62603188\n",
      "Iteration 80, loss = 5704129782.49367714\n",
      "Iteration 81, loss = 5703710308.40997887\n",
      "Iteration 82, loss = 5703287115.17938614\n",
      "Iteration 83, loss = 5702859344.29454899\n",
      "Iteration 84, loss = 5702426129.34494781\n",
      "Iteration 85, loss = 5701986594.45986366\n",
      "Iteration 86, loss = 5701539852.77915096\n",
      "Iteration 87, loss = 5701085004.94626331\n",
      "Iteration 88, loss = 5700621137.61870766\n",
      "Iteration 89, loss = 5700147321.99195385\n",
      "Iteration 90, loss = 5699662612.33346653\n",
      "Iteration 91, loss = 5699166044.52425194\n",
      "Iteration 92, loss = 5698656634.60590744\n",
      "Iteration 93, loss = 5698133377.33182430\n",
      "Iteration 94, loss = 5697595244.72174263\n",
      "Iteration 95, loss = 5697041184.61944389\n",
      "Iteration 96, loss = 5696470119.25393867\n",
      "Iteration 97, loss = 5695880943.80505371\n",
      "Iteration 98, loss = 5695272524.97482300\n",
      "Iteration 99, loss = 5694643699.56669331\n",
      "Iteration 100, loss = 5693993273.07500744\n",
      "Iteration 101, loss = 5693320018.28783703\n",
      "Iteration 102, loss = 5692622673.90666485\n",
      "Iteration 103, loss = 5691899943.18702316\n",
      "Iteration 104, loss = 5691150492.60466385\n",
      "Iteration 105, loss = 5690372950.55234528\n",
      "Iteration 106, loss = 5689565906.07286358\n",
      "Iteration 107, loss = 5688727907.63438034\n",
      "Iteration 108, loss = 5687843542.92807770\n",
      "Iteration 109, loss = 5686891864.58306599\n",
      "Iteration 110, loss = 5685894630.92495823\n",
      "Iteration 111, loss = 5684849838.71318531\n",
      "Iteration 112, loss = 5683743098.27917480\n",
      "Iteration 113, loss = 5682566819.01665688\n",
      "Iteration 114, loss = 5681327179.70195103\n",
      "Iteration 115, loss = 5680023861.56929111\n",
      "Iteration 116, loss = 5678654504.90328217\n",
      "Iteration 117, loss = 5677199232.98232365\n",
      "Iteration 118, loss = 5675582965.54753399\n",
      "Iteration 119, loss = 5673871187.43359470\n",
      "Iteration 120, loss = 5672060545.38202000\n",
      "Iteration 121, loss = 5670147521.48200989\n",
      "Iteration 122, loss = 5668128436.54113483\n",
      "Iteration 123, loss = 5665999454.56431389\n",
      "Iteration 124, loss = 5663756588.34092522\n",
      "Iteration 125, loss = 5661395706.12430477\n",
      "Iteration 126, loss = 5658912539.37539291\n",
      "Iteration 127, loss = 5656302691.53219700\n",
      "Iteration 128, loss = 5653561647.75804424\n",
      "Iteration 129, loss = 5650655601.69883919\n",
      "Iteration 130, loss = 5647573303.06830311\n",
      "Iteration 131, loss = 5644314476.98775768\n",
      "Iteration 132, loss = 5640891287.43454361\n",
      "Iteration 133, loss = 5637298708.72700977\n",
      "Iteration 134, loss = 5633531626.18210983\n",
      "Iteration 135, loss = 5629584856.65472317\n",
      "Iteration 136, loss = 5625453169.46752644\n",
      "Iteration 137, loss = 5621131307.58032513\n",
      "Iteration 138, loss = 5616614008.84811401\n",
      "Iteration 139, loss = 5611853487.72743893\n",
      "Iteration 140, loss = 5606867472.97736359\n",
      "Iteration 141, loss = 5601661540.60990906\n",
      "Iteration 142, loss = 5596230684.88109779\n",
      "Iteration 143, loss = 5590569970.02823257\n",
      "Iteration 144, loss = 5584674553.82266045\n",
      "Iteration 145, loss = 5578539710.02612305\n",
      "Iteration 146, loss = 5572160849.64841938\n",
      "Iteration 147, loss = 5565533540.91802311\n",
      "Iteration 148, loss = 5558653527.89012146\n",
      "Iteration 149, loss = 5551516747.62763309\n",
      "Iteration 150, loss = 5544119345.90041161\n",
      "Iteration 151, loss = 5536294827.96997929\n",
      "Iteration 152, loss = 5528119216.37352467\n",
      "Iteration 153, loss = 5519641594.56189632\n",
      "Iteration 154, loss = 5510859928.41521931\n",
      "Iteration 155, loss = 5501772334.56138325\n",
      "Iteration 156, loss = 5492192282.93203068\n",
      "Iteration 157, loss = 5482174251.04724693\n",
      "Iteration 158, loss = 5471807791.90908718\n",
      "Iteration 159, loss = 5461093333.05080700\n",
      "Iteration 160, loss = 5449955016.38670921\n",
      "Iteration 161, loss = 5438448096.48694229\n",
      "Iteration 162, loss = 5426583667.27874947\n",
      "Iteration 163, loss = 5414142141.00468254\n",
      "Iteration 164, loss = 5401217693.86695862\n",
      "Iteration 165, loss = 5387901262.78204823\n",
      "Iteration 166, loss = 5374083981.23139095\n",
      "Iteration 167, loss = 5359830113.44315434\n",
      "Iteration 168, loss = 5345177470.63291645\n",
      "Iteration 169, loss = 5330130608.80074215\n",
      "Iteration 170, loss = 5314693980.43808270\n",
      "Iteration 171, loss = 5298871977.53267860\n",
      "Iteration 172, loss = 5282668966.89055729\n",
      "Iteration 173, loss = 5266089319.02329159\n",
      "Iteration 174, loss = 5249137431.70853615\n",
      "Iteration 175, loss = 5231817749.17165089\n",
      "Iteration 176, loss = 5214134777.65943813\n",
      "Iteration 177, loss = 5196093097.99096966\n",
      "Iteration 178, loss = 5177697375.48665428\n",
      "Iteration 179, loss = 5158952367.51017666\n",
      "Iteration 180, loss = 5139862928.72484493\n",
      "Iteration 181, loss = 5120434014.08106327\n",
      "Iteration 182, loss = 5100670679.52493858\n",
      "Iteration 183, loss = 5080578080.45174217\n",
      "Iteration 184, loss = 5060148898.78025055\n",
      "Iteration 185, loss = 5039390561.66635132\n",
      "Iteration 186, loss = 5018316906.78309822\n",
      "Iteration 187, loss = 4996933581.21998787\n",
      "Iteration 188, loss = 4975246283.78480053\n",
      "Iteration 189, loss = 4953260758.44882584\n",
      "Iteration 190, loss = 4930982788.36768055\n",
      "Iteration 191, loss = 4908418190.97257519\n",
      "Iteration 192, loss = 4885572814.42170620\n",
      "Iteration 193, loss = 4862452535.44526577\n",
      "Iteration 194, loss = 4839063258.34943295\n",
      "Iteration 195, loss = 4815410914.71247196\n",
      "Iteration 196, loss = 4791501463.15894890\n",
      "Iteration 197, loss = 4767340888.57222271\n",
      "Iteration 198, loss = 4742935200.21489811\n",
      "Iteration 199, loss = 4718290428.45603085\n",
      "Iteration 200, loss = 4693412620.10853863\n",
      "Iteration 201, loss = 4668307832.69647503\n",
      "Iteration 202, loss = 4642982128.22955227\n",
      "Iteration 203, loss = 4617440353.33886337\n",
      "Iteration 204, loss = 4591628701.11458111\n",
      "Iteration 205, loss = 4565609387.39322567\n",
      "Iteration 206, loss = 4539388922.88737488\n",
      "Iteration 207, loss = 4512973760.00058556\n",
      "Iteration 208, loss = 4486370298.59793568\n",
      "Iteration 209, loss = 4459584134.72884560\n",
      "Iteration 210, loss = 4432573137.13037014\n",
      "Iteration 211, loss = 4405388616.59368229\n",
      "Iteration 212, loss = 4378037163.27275276\n",
      "Iteration 213, loss = 4350525290.02466488\n",
      "Iteration 214, loss = 4322859434.65648651\n",
      "Iteration 215, loss = 4295045961.66145802\n",
      "Iteration 216, loss = 4267091164.27395391\n",
      "Iteration 217, loss = 4239001267.35565090\n",
      "Iteration 218, loss = 4210782431.16796446\n",
      "Iteration 219, loss = 4182440755.63608360\n",
      "Iteration 220, loss = 4153982284.42011738\n",
      "Iteration 221, loss = 4125413008.08070755\n",
      "Iteration 222, loss = 4096738865.86947298\n",
      "Iteration 223, loss = 4067965746.09828806\n",
      "Iteration 224, loss = 4039099485.48492002\n",
      "Iteration 225, loss = 4010145868.16555023\n",
      "Iteration 226, loss = 3981110625.09306145\n",
      "Iteration 227, loss = 3951999434.29286480\n",
      "Iteration 228, loss = 3922817922.02581024\n",
      "Iteration 229, loss = 3893571664.48456621\n",
      "Iteration 230, loss = 3864266189.40311337\n",
      "Iteration 231, loss = 3834906976.99241924\n",
      "Iteration 232, loss = 3805499459.90931082\n",
      "Iteration 233, loss = 3776049022.38352346\n",
      "Iteration 234, loss = 3746560998.97583246\n",
      "Iteration 235, loss = 3717040673.55790091\n",
      "Iteration 236, loss = 3687493278.94170284\n",
      "Iteration 237, loss = 3657923997.22869873\n",
      "Iteration 238, loss = 3628337960.57711506\n",
      "Iteration 239, loss = 3598740251.88530254\n",
      "Iteration 240, loss = 3569137709.00026560\n",
      "Iteration 241, loss = 3539535035.92039680\n",
      "Iteration 242, loss = 3509935472.62647438\n",
      "Iteration 243, loss = 3480343898.23546314\n",
      "Iteration 244, loss = 3450765140.16317368\n",
      "Iteration 245, loss = 3421203974.13578653\n",
      "Iteration 246, loss = 3391665124.56772852\n",
      "Iteration 247, loss = 3362153264.87950516\n",
      "Iteration 248, loss = 3332673017.39695406\n",
      "Iteration 249, loss = 3303228952.74901009\n",
      "Iteration 250, loss = 3273825588.98830795\n",
      "Iteration 251, loss = 3244467390.80888081\n",
      "Iteration 252, loss = 3215158769.14303923\n",
      "Iteration 253, loss = 3185904081.15705824\n",
      "Iteration 254, loss = 3156707630.40974474\n",
      "Iteration 255, loss = 3127573666.85512447\n",
      "Iteration 256, loss = 3098506386.50430632\n",
      "Iteration 257, loss = 3069509930.80920744\n",
      "Iteration 258, loss = 3040588386.01670122\n",
      "Iteration 259, loss = 3011745782.74158716\n",
      "Iteration 260, loss = 2982986095.83286858\n",
      "Iteration 261, loss = 2954313244.39483261\n",
      "Iteration 262, loss = 2925731091.72844696\n",
      "Iteration 263, loss = 2897243445.04152870\n",
      "Iteration 264, loss = 2868854054.96430969\n",
      "Iteration 265, loss = 2840566615.05170774\n",
      "Iteration 266, loss = 2812384761.44815397\n",
      "Iteration 267, loss = 2784312072.75071573\n",
      "Iteration 268, loss = 2756352069.95110321\n",
      "Iteration 269, loss = 2728508216.29111099\n",
      "Iteration 270, loss = 2700783916.95723152\n",
      "Iteration 271, loss = 2673182518.68356705\n",
      "Iteration 272, loss = 2645707309.40535164\n",
      "Iteration 273, loss = 2618361518.05285788\n",
      "Iteration 274, loss = 2591148314.45206547\n",
      "Iteration 275, loss = 2564070809.21554327\n",
      "Iteration 276, loss = 2537132053.53298426\n",
      "Iteration 277, loss = 2510335038.87386274\n",
      "Iteration 278, loss = 2483682696.69658661\n",
      "Iteration 279, loss = 2457177898.24791861\n",
      "Iteration 280, loss = 2430823454.45122719\n",
      "Iteration 281, loss = 2404622115.80740070\n",
      "Iteration 282, loss = 2378576572.23663998\n",
      "Iteration 283, loss = 2352689452.86113310\n",
      "Iteration 284, loss = 2326963325.79320908\n",
      "Iteration 285, loss = 2301400697.98920727\n",
      "Iteration 286, loss = 2276004015.16679192\n",
      "Iteration 287, loss = 2250775661.72987366\n",
      "Iteration 288, loss = 2225717960.65326309\n",
      "Iteration 289, loss = 2200833173.33462906\n",
      "Iteration 290, loss = 2176123499.46341133\n",
      "Iteration 291, loss = 2151591076.94304609\n",
      "Iteration 292, loss = 2127237981.85382366\n",
      "Iteration 293, loss = 2103066228.41395402\n",
      "Iteration 294, loss = 2079077768.91558456\n",
      "Iteration 295, loss = 2055274493.65477228\n",
      "Iteration 296, loss = 2031658230.89155698\n",
      "Iteration 297, loss = 2008230746.85199881\n",
      "Iteration 298, loss = 1984993745.74959803\n",
      "Iteration 299, loss = 1961948869.79848289\n",
      "Iteration 300, loss = 1939097699.21771312\n",
      "Iteration 301, loss = 1916441752.25087643\n",
      "Iteration 302, loss = 1893982485.21973681\n",
      "Iteration 303, loss = 1871721292.60453415\n",
      "Iteration 304, loss = 1849659507.12975454\n",
      "Iteration 305, loss = 1827798399.84752011\n",
      "Iteration 306, loss = 1806139180.23221445\n",
      "Iteration 307, loss = 1784682996.30259943\n",
      "Iteration 308, loss = 1763430934.77042842\n",
      "Iteration 309, loss = 1742384021.20081496\n",
      "Iteration 310, loss = 1721543220.17603898\n",
      "Iteration 311, loss = 1700909435.47077250\n",
      "Iteration 312, loss = 1680483510.25122285\n",
      "Iteration 313, loss = 1660266227.29914474\n",
      "Iteration 314, loss = 1640258309.25075221\n",
      "Iteration 315, loss = 1620460418.84428263\n",
      "Iteration 316, loss = 1600873159.18164968\n",
      "Iteration 317, loss = 1581497074.01282716\n",
      "Iteration 318, loss = 1562332648.04307818\n",
      "Iteration 319, loss = 1543380307.25565934\n",
      "Iteration 320, loss = 1524640419.24621296\n",
      "Iteration 321, loss = 1506113293.57344556\n",
      "Iteration 322, loss = 1487799182.13193202\n",
      "Iteration 323, loss = 1469698279.54608393\n",
      "Iteration 324, loss = 1451810723.57999539\n",
      "Iteration 325, loss = 1434136595.56172490\n",
      "Iteration 326, loss = 1416675920.82599640\n",
      "Iteration 327, loss = 1399428669.17839456\n",
      "Iteration 328, loss = 1382394755.37884593\n",
      "Iteration 329, loss = 1365574039.64080644\n",
      "Iteration 330, loss = 1348966328.14653134\n",
      "Iteration 331, loss = 1332571373.58169198\n",
      "Iteration 332, loss = 1316388875.69022942\n",
      "Iteration 333, loss = 1300418481.84699297\n",
      "Iteration 334, loss = 1284659787.64641070\n",
      "Iteration 335, loss = 1269112337.50859046\n",
      "Iteration 336, loss = 1253775625.30464578\n",
      "Iteration 337, loss = 1238649095.00036621\n",
      "Iteration 338, loss = 1223732141.31615996\n",
      "Iteration 339, loss = 1209024110.40308499\n",
      "Iteration 340, loss = 1194524300.53642178\n",
      "Iteration 341, loss = 1180231962.82707572\n",
      "Iteration 342, loss = 1166146301.94932532\n",
      "Iteration 343, loss = 1152266476.88392806\n",
      "Iteration 344, loss = 1138591601.67719483\n"
     ]
    },
    {
     "name": "stdout",
     "output_type": "stream",
     "text": [
      "Iteration 345, loss = 1125120746.21652699\n",
      "Iteration 346, loss = 1111852937.02150083\n",
      "Iteration 347, loss = 1098787158.04928493\n",
      "Iteration 348, loss = 1085922351.51436257\n",
      "Iteration 349, loss = 1073257418.72297812\n",
      "Iteration 350, loss = 1060791220.92182326\n",
      "Iteration 351, loss = 1048522580.15985727\n",
      "Iteration 352, loss = 1036450280.16280425\n",
      "Iteration 353, loss = 1024573067.22044873\n",
      "Iteration 354, loss = 1012889651.08631873\n",
      "Iteration 355, loss = 1001398705.88876593\n",
      "Iteration 356, loss = 990098871.05277789\n",
      "Iteration 357, loss = 978988752.23241258\n",
      "Iteration 358, loss = 968066922.25348997\n",
      "Iteration 359, loss = 957331922.06566024\n",
      "Iteration 360, loss = 946782261.70312309\n",
      "Iteration 361, loss = 936416421.25363672\n",
      "Iteration 362, loss = 926232851.83537233\n",
      "Iteration 363, loss = 916229976.58075702\n",
      "Iteration 364, loss = 906406191.62652683\n",
      "Iteration 365, loss = 896759867.10953641\n",
      "Iteration 366, loss = 887289348.16778994\n",
      "Iteration 367, loss = 877992955.94590449\n",
      "Iteration 368, loss = 868868988.60421646\n",
      "Iteration 369, loss = 859915722.33096373\n",
      "Iteration 370, loss = 851131412.35692775\n",
      "Iteration 371, loss = 842514293.97172785\n",
      "Iteration 372, loss = 834062583.54097915\n",
      "Iteration 373, loss = 825774479.52370501\n",
      "Iteration 374, loss = 817648163.48935580\n",
      "Iteration 375, loss = 809681801.13363183\n",
      "Iteration 376, loss = 801873543.29235971\n",
      "Iteration 377, loss = 794221526.95275903\n",
      "Iteration 378, loss = 786723876.26140952\n",
      "Iteration 379, loss = 779378703.52812731\n",
      "Iteration 380, loss = 772184110.22501791\n",
      "Iteration 381, loss = 765138187.98005354\n",
      "Iteration 382, loss = 758239019.56447685\n",
      "Iteration 383, loss = 751484679.87328947\n",
      "Iteration 384, loss = 744873236.89811909\n",
      "Iteration 385, loss = 738402752.69182897\n",
      "Iteration 386, loss = 732071284.32416856\n",
      "Iteration 387, loss = 725876884.82776701\n",
      "Iteration 388, loss = 719817604.13382578\n",
      "Iteration 389, loss = 713891489.99689639\n",
      "Iteration 390, loss = 708096588.90809321\n",
      "Iteration 391, loss = 702430946.99611533\n",
      "Iteration 392, loss = 696892610.91548324\n",
      "Iteration 393, loss = 691479628.72141623\n",
      "Iteration 394, loss = 686190050.73076487\n",
      "Iteration 395, loss = 681021930.36843812\n",
      "Iteration 396, loss = 675973324.99881566\n",
      "Iteration 397, loss = 671042296.74162614\n",
      "Iteration 398, loss = 666226913.27180195\n",
      "Iteration 399, loss = 661525248.60282612\n",
      "Iteration 400, loss = 656935383.85314155\n",
      "Iteration 401, loss = 652455407.99518347\n",
      "Iteration 402, loss = 648083418.58662581\n",
      "Iteration 403, loss = 643817522.48346698\n",
      "Iteration 404, loss = 639655836.53460371\n",
      "Iteration 405, loss = 635596488.25755632\n",
      "Iteration 406, loss = 631637616.49503350\n",
      "Iteration 407, loss = 627777372.05206478\n",
      "Iteration 408, loss = 624013918.31343400\n",
      "Iteration 409, loss = 620345431.84118390\n",
      "Iteration 410, loss = 616770102.95198381\n",
      "Iteration 411, loss = 613286136.27419019\n",
      "Iteration 412, loss = 609891751.28443539\n",
      "Iteration 413, loss = 606585182.82362235\n",
      "Iteration 414, loss = 603364681.59222305\n",
      "Iteration 415, loss = 600228514.62480187\n",
      "Iteration 416, loss = 597174965.74370992\n",
      "Iteration 417, loss = 594202335.99193084\n",
      "Iteration 418, loss = 591308944.04507232\n",
      "Iteration 419, loss = 588493126.60253036\n",
      "Iteration 420, loss = 585753238.75787711\n",
      "Iteration 421, loss = 583087654.34853876\n",
      "Iteration 422, loss = 580494766.28486645\n",
      "Iteration 423, loss = 577972986.85871172\n",
      "Iteration 424, loss = 575520748.03165472\n",
      "Iteration 425, loss = 573136501.70304644\n",
      "Iteration 426, loss = 570818719.95804930\n",
      "Iteration 427, loss = 568565895.29588568\n",
      "Iteration 428, loss = 566376540.83851290\n",
      "Iteration 429, loss = 564249190.51997840\n",
      "Iteration 430, loss = 562182399.25671184\n",
      "Iteration 431, loss = 560174743.09903812\n",
      "Iteration 432, loss = 558224819.36420834\n",
      "Iteration 433, loss = 556331246.75126898\n",
      "Iteration 434, loss = 554492665.43808854\n",
      "Iteration 435, loss = 552707737.16089845\n",
      "Iteration 436, loss = 550975145.27669668\n",
      "Iteration 437, loss = 549293594.80888784\n",
      "Iteration 438, loss = 547661812.47654629\n",
      "Iteration 439, loss = 546078546.70769060\n",
      "Iteration 440, loss = 544542567.63697553\n",
      "Iteration 441, loss = 543052667.08821797\n",
      "Iteration 442, loss = 541607658.54217303\n",
      "Iteration 443, loss = 540206377.08999193\n",
      "Iteration 444, loss = 538847679.37279987\n",
      "Iteration 445, loss = 537530443.50782895\n",
      "Iteration 446, loss = 536253569.00156093\n",
      "Iteration 447, loss = 535015976.65032291\n",
      "Iteration 448, loss = 533816608.42879403\n",
      "Iteration 449, loss = 532654427.36687720\n",
      "Iteration 450, loss = 531528417.41539454\n",
      "Iteration 451, loss = 530437583.30106366\n",
      "Iteration 452, loss = 529380950.37121612\n",
      "Iteration 453, loss = 528357564.42871261\n",
      "Iteration 454, loss = 527366491.55751246\n",
      "Iteration 455, loss = 526406817.93935466\n",
      "Iteration 456, loss = 525477649.66199619\n",
      "Iteration 457, loss = 524578112.51946384\n",
      "Iteration 458, loss = 523707351.80475307\n",
      "Iteration 459, loss = 522864532.09542590\n",
      "Iteration 460, loss = 522048837.03253329\n",
      "Iteration 461, loss = 521259469.09329349\n",
      "Iteration 462, loss = 520495649.35794944\n",
      "Iteration 463, loss = 519756617.27122301\n",
      "Iteration 464, loss = 519041630.39877063\n",
      "Iteration 465, loss = 518349964.17904395\n",
      "Iteration 466, loss = 517680911.67095166\n",
      "Iteration 467, loss = 517033783.29770225\n",
      "Iteration 468, loss = 516407906.58720976\n",
      "Iteration 469, loss = 515802625.90942550\n",
      "Iteration 470, loss = 515217302.21095914\n",
      "Iteration 471, loss = 514651312.74733353\n",
      "Iteration 472, loss = 514104050.81321812\n",
      "Iteration 473, loss = 513574925.47096521\n",
      "Iteration 474, loss = 513063361.27777386\n",
      "Iteration 475, loss = 512568798.01179063\n",
      "Iteration 476, loss = 512090690.39744127\n",
      "Iteration 477, loss = 511628507.83029228\n",
      "Iteration 478, loss = 511181734.10171252\n",
      "Iteration 479, loss = 510749867.12360859\n",
      "Iteration 480, loss = 510332418.65349299\n",
      "Iteration 481, loss = 509928914.02012801\n",
      "Iteration 482, loss = 509538891.84998721\n",
      "Iteration 483, loss = 509161903.79476261\n",
      "Iteration 484, loss = 508797514.26013052\n",
      "Iteration 485, loss = 508445300.13598579\n",
      "Iteration 486, loss = 508104850.52834111\n",
      "Iteration 487, loss = 507775766.49307734\n",
      "Iteration 488, loss = 507457660.77172214\n",
      "Iteration 489, loss = 507150157.52942556\n",
      "Iteration 490, loss = 506852892.09528714\n",
      "Iteration 491, loss = 506565510.70518845\n",
      "Iteration 492, loss = 506287670.24726200\n",
      "Iteration 493, loss = 506019038.01013625\n",
      "Iteration 494, loss = 505759291.43407118\n",
      "Iteration 495, loss = 505508117.86509830\n",
      "Iteration 496, loss = 505265214.31227195\n",
      "Iteration 497, loss = 505030287.20812660\n",
      "Iteration 498, loss = 504803052.17242682\n",
      "Iteration 499, loss = 504583233.77929175\n",
      "Iteration 500, loss = 504370565.32776582\n",
      "Iteration 501, loss = 504164788.61590493\n",
      "Iteration 502, loss = 503965653.71842903\n",
      "Iteration 503, loss = 503772918.76799983\n",
      "Iteration 504, loss = 503586349.74016470\n",
      "Iteration 505, loss = 503405720.24200833\n",
      "Iteration 506, loss = 503230811.30453855\n",
      "Iteration 507, loss = 503061411.17884344\n",
      "Iteration 508, loss = 502897315.13602728\n",
      "Iteration 509, loss = 502738325.27095401\n",
      "Iteration 510, loss = 502584250.30979824\n",
      "Iteration 511, loss = 502434905.42141581\n",
      "Iteration 512, loss = 502290112.03253114\n",
      "Iteration 513, loss = 502149697.64674026\n",
      "Iteration 514, loss = 502013495.66731703\n",
      "Iteration 515, loss = 501881345.22381610\n",
      "Iteration 516, loss = 501753091.00245231\n",
      "Iteration 517, loss = 501628583.08024019\n",
      "Iteration 518, loss = 501507676.76286596\n",
      "Iteration 519, loss = 501390232.42627209\n",
      "Iteration 520, loss = 501276115.36192036\n",
      "Iteration 521, loss = 501165195.62570286\n",
      "Iteration 522, loss = 501057347.89046663\n",
      "Iteration 523, loss = 500952451.30211538\n",
      "Iteration 524, loss = 500850389.33924741\n",
      "Iteration 525, loss = 500751049.67628807\n",
      "Iteration 526, loss = 500654324.05007762\n",
      "Iteration 527, loss = 500560108.12985981\n",
      "Iteration 528, loss = 500468301.39063883\n",
      "Iteration 529, loss = 500378806.98983890\n",
      "Iteration 530, loss = 500291531.64723259\n",
      "Iteration 531, loss = 500206385.52807760\n",
      "Iteration 532, loss = 500123282.12941343\n",
      "Iteration 533, loss = 500042138.16946316\n",
      "Iteration 534, loss = 499962873.48009014\n",
      "Iteration 535, loss = 499885410.90225202\n",
      "Iteration 536, loss = 499809676.18439847\n",
      "Iteration 537, loss = 499735597.88375682\n",
      "Iteration 538, loss = 499663107.27045155\n",
      "Iteration 539, loss = 499592138.23439735\n",
      "Iteration 540, loss = 499522627.19491631\n",
      "Iteration 541, loss = 499454513.01301390\n",
      "Iteration 542, loss = 499387736.90626764\n",
      "Iteration 543, loss = 499322242.36626375\n",
      "Iteration 544, loss = 499257975.07852876\n",
      "Iteration 545, loss = 499194882.84490174\n",
      "Iteration 546, loss = 499132915.50828838\n",
      "Iteration 547, loss = 499072024.87974489\n",
      "Iteration 548, loss = 499012164.66783237\n",
      "Iteration 549, loss = 498953290.41019118\n",
      "Iteration 550, loss = 498895359.40727979\n",
      "Iteration 551, loss = 498838330.65822345\n",
      "Iteration 552, loss = 498782164.79872131\n",
      "Iteration 553, loss = 498726824.04095787\n",
      "Iteration 554, loss = 498672272.11546934\n",
      "Iteration 555, loss = 498618474.21491259\n",
      "Iteration 556, loss = 498565396.93968469\n",
      "Iteration 557, loss = 498513008.24534667\n",
      "Iteration 558, loss = 498461277.39180022\n",
      "Iteration 559, loss = 498410174.89416885\n",
      "Iteration 560, loss = 498359672.47534037\n",
      "Iteration 561, loss = 498309743.02011758\n",
      "Iteration 562, loss = 498260360.53093737\n",
      "Iteration 563, loss = 498211500.08511031\n",
      "Iteration 564, loss = 498163137.79353631\n",
      "Iteration 565, loss = 498115250.76085693\n",
      "Iteration 566, loss = 498067817.04699624\n",
      "Iteration 567, loss = 498020815.63005489\n",
      "Iteration 568, loss = 497974226.37051153\n",
      "Iteration 569, loss = 497928029.97669733\n",
      "Iteration 570, loss = 497882207.97149825\n",
      "Iteration 571, loss = 497836742.66025263\n",
      "Iteration 572, loss = 497791617.09980559\n",
      "Iteration 573, loss = 497746815.06868207\n",
      "Iteration 574, loss = 497702321.03834546\n",
      "Iteration 575, loss = 497658120.14550555\n",
      "Iteration 576, loss = 497614198.16544425\n",
      "Iteration 577, loss = 497570541.48632443\n",
      "Iteration 578, loss = 497527137.08444959\n",
      "Iteration 579, loss = 497483972.50044560\n",
      "Iteration 580, loss = 497441035.81633264\n",
      "Iteration 581, loss = 497398315.63345587\n",
      "Iteration 582, loss = 497355801.05124950\n",
      "Iteration 583, loss = 497313481.64680678\n",
      "Iteration 584, loss = 497271347.45522094\n",
      "Iteration 585, loss = 497229388.95068330\n",
      "Iteration 586, loss = 497187597.02830178\n",
      "Iteration 587, loss = 497145962.98661858\n",
      "Iteration 588, loss = 497104478.51080662\n",
      "Iteration 589, loss = 497063135.65651447\n",
      "Iteration 590, loss = 497021926.83434284\n",
      "Iteration 591, loss = 496980844.79492468\n",
      "Iteration 592, loss = 496939882.61459380\n",
      "Iteration 593, loss = 496899033.68161601\n",
      "Iteration 594, loss = 496858291.68296504\n",
      "Iteration 595, loss = 496817650.59162325\n",
      "Iteration 596, loss = 496777104.65438616\n",
      "Iteration 597, loss = 496736648.38015717\n",
      "Iteration 598, loss = 496696276.52870882\n",
      "Iteration 599, loss = 496655984.09989870\n",
      "Iteration 600, loss = 496615766.32331747\n",
      "Iteration 601, loss = 496575618.64835978\n",
      "Iteration 602, loss = 496535536.73469639\n",
      "Iteration 603, loss = 496495516.44313586\n",
      "Iteration 604, loss = 496455553.82685947\n",
      "Iteration 605, loss = 496415645.12301624\n",
      "Iteration 606, loss = 496375786.74466509\n",
      "Iteration 607, loss = 496335975.27304810\n",
      "Iteration 608, loss = 496296207.45018482\n",
      "Iteration 609, loss = 496256480.17177510\n",
      "Iteration 610, loss = 496216790.48039669\n",
      "Iteration 611, loss = 496177135.55898905\n",
      "Iteration 612, loss = 496137512.72460854\n",
      "Iteration 613, loss = 496097919.42244738\n",
      "Iteration 614, loss = 496058353.22010744\n",
      "Iteration 615, loss = 496018811.80211049\n",
      "Iteration 616, loss = 495979292.96464890\n",
      "Iteration 617, loss = 495939794.61055458\n",
      "Iteration 618, loss = 495900314.74448490\n",
      "Iteration 619, loss = 495860851.46831387\n",
      "Iteration 620, loss = 495821402.97672284\n",
      "Iteration 621, loss = 495781967.55298066\n",
      "Iteration 622, loss = 495742543.56490427\n",
      "Iteration 623, loss = 495703129.46099657\n",
      "Iteration 624, loss = 495663723.76675117\n",
      "Iteration 625, loss = 495624325.08111811\n",
      "Iteration 626, loss = 495584932.07312351\n",
      "Iteration 627, loss = 495545543.47863901\n",
      "Iteration 628, loss = 495506158.09728974\n",
      "Iteration 629, loss = 495466774.78950292\n",
      "Iteration 630, loss = 495427392.47368199\n",
      "Iteration 631, loss = 495388010.12350971\n",
      "Iteration 632, loss = 495348626.76536858\n",
      "Iteration 633, loss = 495309241.47587717\n",
      "Iteration 634, loss = 495269853.37953579\n",
      "Iteration 635, loss = 495230461.64647704\n",
      "Iteration 636, loss = 495191065.49031961\n",
      "Iteration 637, loss = 495151664.16611469\n",
      "Iteration 638, loss = 495112256.96838772\n",
      "Iteration 639, loss = 495072843.22926807\n",
      "Iteration 640, loss = 495033422.31670296\n",
      "Iteration 641, loss = 494993993.63275230\n",
      "Iteration 642, loss = 494954556.61196148\n",
      "Iteration 643, loss = 494915110.71980923\n",
      "Iteration 644, loss = 494875655.45122516\n",
      "Iteration 645, loss = 494836190.32917434\n",
      "Iteration 646, loss = 494796714.90331054\n",
      "Iteration 647, loss = 494757228.74868715\n",
      "Iteration 648, loss = 494717731.46453112\n",
      "Iteration 649, loss = 494678222.67307138\n",
      "Iteration 650, loss = 494638702.01842159\n",
      "Iteration 651, loss = 494599169.16551787\n",
      "Iteration 652, loss = 494559623.79910147\n",
      "Iteration 653, loss = 494520065.62275213\n",
      "Iteration 654, loss = 494480494.35796654\n",
      "Iteration 655, loss = 494440909.74327791\n",
      "Iteration 656, loss = 494401311.53341842\n",
      "Iteration 657, loss = 494361699.49852270\n",
      "Iteration 658, loss = 494322073.42336470\n",
      "Iteration 659, loss = 494282433.10663593\n",
      "Iteration 660, loss = 494242778.36025292\n",
      "Iteration 661, loss = 494203109.00870150\n",
      "Iteration 662, loss = 494163424.88841009\n",
      "Iteration 663, loss = 494123725.84715354\n",
      "Iteration 664, loss = 494084011.74348545\n"
     ]
    },
    {
     "name": "stdout",
     "output_type": "stream",
     "text": [
      "Iteration 665, loss = 494044282.44619882\n",
      "Iteration 666, loss = 494004537.83381104\n",
      "Iteration 667, loss = 493964777.79407334\n",
      "Iteration 668, loss = 493925002.22350675\n",
      "Iteration 669, loss = 493885211.02695674\n",
      "Iteration 670, loss = 493845404.11717284\n",
      "Iteration 671, loss = 493805581.41440666\n",
      "Iteration 672, loss = 493765742.84602994\n",
      "Iteration 673, loss = 493725888.34617138\n",
      "Iteration 674, loss = 493686017.85537130\n",
      "Iteration 675, loss = 493646131.32025313\n",
      "Iteration 676, loss = 493606228.69321048\n",
      "Iteration 677, loss = 493566309.93211108\n",
      "Iteration 678, loss = 493526375.00001401\n",
      "Iteration 679, loss = 493486423.86490083\n",
      "Iteration 680, loss = 493446456.49942058\n",
      "Iteration 681, loss = 493406472.88064885\n",
      "Iteration 682, loss = 493366472.98985457\n",
      "Iteration 683, loss = 493326456.81228352\n",
      "Iteration 684, loss = 493286424.33694881\n",
      "Iteration 685, loss = 493246375.55643475\n",
      "Iteration 686, loss = 493206310.46670789\n",
      "Iteration 687, loss = 493166229.06693929\n",
      "Iteration 688, loss = 493126131.35933512\n",
      "Iteration 689, loss = 493086017.34897643\n",
      "Iteration 690, loss = 493045887.04366583\n",
      "Iteration 691, loss = 493005740.45378298\n",
      "Iteration 692, loss = 492965577.59214723\n",
      "Iteration 693, loss = 492925398.47388643\n",
      "Iteration 694, loss = 492885203.11631453\n",
      "Iteration 695, loss = 492844991.53881168\n",
      "Iteration 696, loss = 492804763.76271564\n",
      "Iteration 697, loss = 492764519.81121278\n",
      "Iteration 698, loss = 492724259.70924079\n",
      "Iteration 699, loss = 492683983.48339099\n",
      "Iteration 700, loss = 492643691.16181958\n",
      "Iteration 701, loss = 492603382.77416128\n",
      "Iteration 702, loss = 492563058.35144889\n",
      "Iteration 703, loss = 492522717.92603487\n",
      "Iteration 704, loss = 492482361.53152031\n",
      "Iteration 705, loss = 492441989.20268416\n",
      "Iteration 706, loss = 492401600.97541821\n",
      "Iteration 707, loss = 492361196.88666517\n",
      "Iteration 708, loss = 492320776.97435999\n",
      "Iteration 709, loss = 492280341.27737325\n",
      "Iteration 710, loss = 492239889.83545893\n",
      "Iteration 711, loss = 492199422.68920457\n",
      "Iteration 712, loss = 492158939.87998325\n",
      "Iteration 713, loss = 492118441.44990891\n",
      "Iteration 714, loss = 492077927.44179392\n",
      "Iteration 715, loss = 492037397.89910918\n",
      "Iteration 716, loss = 491996852.86594605\n",
      "Iteration 717, loss = 491956292.38697845\n",
      "Iteration 718, loss = 491915716.50743145\n",
      "Iteration 719, loss = 491875125.27304697\n",
      "Iteration 720, loss = 491834518.73005462\n",
      "Iteration 721, loss = 491793896.92514092\n",
      "Iteration 722, loss = 491753259.90542394\n",
      "Iteration 723, loss = 491712607.71842706\n",
      "Iteration 724, loss = 491671940.41205275\n",
      "Iteration 725, loss = 491631258.03456128\n",
      "Iteration 726, loss = 491590560.63454789\n",
      "Iteration 727, loss = 491549848.26092279\n",
      "Iteration 728, loss = 491509120.96289092\n",
      "Iteration 729, loss = 491468378.78993392\n",
      "Iteration 730, loss = 491427621.79179174\n",
      "Iteration 731, loss = 491386850.01844800\n",
      "Iteration 732, loss = 491346063.52011210\n",
      "Iteration 733, loss = 491305262.34720623\n",
      "Iteration 734, loss = 491264446.55035037\n",
      "Iteration 735, loss = 491223616.18034983\n",
      "Iteration 736, loss = 491182771.28818262\n",
      "Iteration 737, loss = 491141911.92498726\n",
      "Iteration 738, loss = 491101038.14205188\n",
      "Iteration 739, loss = 491060149.99080491\n",
      "Iteration 740, loss = 491019247.52280331\n",
      "Iteration 741, loss = 490978330.78972495\n",
      "Iteration 742, loss = 490937399.84335792\n",
      "Iteration 743, loss = 490896454.73559445\n",
      "Iteration 744, loss = 490855495.51842171\n",
      "Iteration 745, loss = 490814522.24391443\n",
      "Iteration 746, loss = 490773534.96422875\n",
      "Iteration 747, loss = 490732533.73159492\n",
      "Iteration 748, loss = 490691518.59831107\n",
      "Iteration 749, loss = 490650489.61673796\n",
      "Iteration 750, loss = 490609446.83929342\n",
      "Iteration 751, loss = 490568390.31844628\n",
      "Iteration 752, loss = 490527320.10671246\n",
      "Iteration 753, loss = 490486236.25665045\n",
      "Iteration 754, loss = 490445138.82085603\n",
      "Iteration 755, loss = 490404027.85195911\n",
      "Iteration 756, loss = 490362903.40261942\n",
      "Iteration 757, loss = 490321765.52552301\n",
      "Iteration 758, loss = 490280614.27337933\n",
      "Iteration 759, loss = 490239449.69891608\n",
      "Iteration 760, loss = 490198271.85487962\n",
      "Iteration 761, loss = 490157080.79402924\n",
      "Iteration 762, loss = 490115876.56913531\n",
      "Iteration 763, loss = 490074659.23297751\n",
      "Iteration 764, loss = 490033428.83834130\n",
      "Iteration 765, loss = 489992185.43801725\n",
      "Iteration 766, loss = 489950929.08479691\n",
      "Iteration 767, loss = 489909659.83147287\n",
      "Iteration 768, loss = 489868377.73083591\n",
      "Iteration 769, loss = 489827082.83567286\n",
      "Iteration 770, loss = 489785775.19876635\n",
      "Iteration 771, loss = 489744454.87289214\n",
      "Iteration 772, loss = 489703121.91081804\n",
      "Iteration 773, loss = 489661776.36530286\n",
      "Iteration 774, loss = 489620418.28909487\n",
      "Iteration 775, loss = 489579047.73493093\n",
      "Iteration 776, loss = 489537664.75553453\n",
      "Iteration 777, loss = 489496269.40361559\n",
      "Iteration 778, loss = 489454861.73187000\n",
      "Iteration 779, loss = 489413441.79297721\n",
      "Iteration 780, loss = 489372009.63960099\n",
      "Iteration 781, loss = 489330565.32438755\n",
      "Iteration 782, loss = 489289108.89996523\n",
      "Iteration 783, loss = 489247640.41894346\n",
      "Iteration 784, loss = 489206159.93391275\n",
      "Iteration 785, loss = 489164667.49744403\n",
      "Iteration 786, loss = 489123163.16208732\n",
      "Iteration 787, loss = 489081646.98037207\n",
      "Iteration 788, loss = 489040119.00480652\n",
      "Iteration 789, loss = 488998579.28787625\n",
      "Iteration 790, loss = 488957027.88204592\n",
      "Iteration 791, loss = 488915464.83975673\n",
      "Iteration 792, loss = 488873890.21342707\n",
      "Iteration 793, loss = 488832304.05545229\n",
      "Iteration 794, loss = 488790706.41820413\n",
      "Iteration 795, loss = 488749097.35403031\n",
      "Iteration 796, loss = 488707476.91525441\n",
      "Iteration 797, loss = 488665845.15417606\n",
      "Iteration 798, loss = 488624202.12307006\n",
      "Iteration 799, loss = 488582547.87418646\n",
      "Iteration 800, loss = 488540882.45975059\n",
      "Iteration 801, loss = 488499205.93196231\n",
      "Iteration 802, loss = 488457518.34299678\n",
      "Iteration 803, loss = 488415819.74500346\n",
      "Iteration 804, loss = 488374110.19010639\n",
      "Iteration 805, loss = 488332389.73040372\n",
      "Iteration 806, loss = 488290658.41796815\n",
      "Iteration 807, loss = 488248916.30484712\n",
      "Iteration 808, loss = 488207163.44306141\n",
      "Iteration 809, loss = 488165399.88460559\n",
      "Iteration 810, loss = 488123625.68144989\n",
      "Iteration 811, loss = 488081840.88553649\n",
      "Iteration 812, loss = 488040045.54878330\n",
      "Iteration 813, loss = 487998239.72307998\n",
      "Iteration 814, loss = 487956423.46029228\n",
      "Iteration 815, loss = 487914596.81225854\n",
      "Iteration 816, loss = 487872759.83079088\n",
      "Iteration 817, loss = 487830912.56767571\n",
      "Iteration 818, loss = 487789055.07467300\n",
      "Iteration 819, loss = 487747187.40351683\n",
      "Iteration 820, loss = 487705309.60591412\n",
      "Iteration 821, loss = 487663421.73354679\n",
      "Iteration 822, loss = 487621523.83806962\n",
      "Iteration 823, loss = 487579615.97111201\n",
      "Iteration 824, loss = 487537698.18427646\n",
      "Iteration 825, loss = 487495770.52914029\n",
      "Iteration 826, loss = 487453833.05725378\n",
      "Iteration 827, loss = 487411885.82014138\n",
      "Iteration 828, loss = 487369928.86930197\n",
      "Iteration 829, loss = 487327962.25620806\n",
      "Iteration 830, loss = 487285986.03230584\n",
      "Iteration 831, loss = 487244000.24901634\n",
      "Iteration 832, loss = 487202004.95773369\n",
      "Iteration 833, loss = 487160000.20982742\n",
      "Iteration 834, loss = 487117986.05664009\n",
      "Iteration 835, loss = 487075962.54948920\n",
      "Iteration 836, loss = 487033929.73966616\n",
      "Iteration 837, loss = 486991887.67843688\n",
      "Iteration 838, loss = 486949836.41704094\n",
      "Iteration 839, loss = 486907776.00669420\n",
      "Iteration 840, loss = 486865706.49858463\n",
      "Iteration 841, loss = 486823627.94387609\n",
      "Iteration 842, loss = 486781540.39370668\n",
      "Iteration 843, loss = 486739443.89918911\n",
      "Iteration 844, loss = 486697338.51141089\n",
      "Iteration 845, loss = 486655224.28143406\n",
      "Iteration 846, loss = 486613101.26029569\n",
      "Iteration 847, loss = 486570969.49900663\n",
      "Iteration 848, loss = 486528829.04855430\n",
      "Iteration 849, loss = 486486679.95990002\n",
      "Iteration 850, loss = 486444522.28398001\n",
      "Iteration 851, loss = 486402356.07170570\n",
      "Iteration 852, loss = 486360181.37396425\n",
      "Iteration 853, loss = 486317998.24161685\n",
      "Iteration 854, loss = 486275806.72550046\n",
      "Iteration 855, loss = 486233606.87642741\n",
      "Iteration 856, loss = 486191398.74518526\n",
      "Iteration 857, loss = 486149182.38253683\n",
      "Iteration 858, loss = 486106957.83922040\n",
      "Iteration 859, loss = 486064725.16594952\n",
      "Iteration 860, loss = 486022484.41341370\n",
      "Iteration 861, loss = 485980235.63227814\n",
      "Iteration 862, loss = 485937978.87318307\n",
      "Iteration 863, loss = 485895714.18674469\n",
      "Iteration 864, loss = 485853441.62355524\n",
      "Iteration 865, loss = 485811161.23418212\n",
      "Iteration 866, loss = 485768873.06916964\n",
      "Iteration 867, loss = 485726577.17903703\n",
      "Iteration 868, loss = 485684273.61427987\n",
      "Iteration 869, loss = 485641962.42536986\n",
      "Iteration 870, loss = 485599643.66275465\n",
      "Iteration 871, loss = 485557317.37685835\n",
      "Iteration 872, loss = 485514983.61808068\n",
      "Iteration 873, loss = 485472642.43679821\n",
      "Iteration 874, loss = 485430293.88336354\n",
      "Iteration 875, loss = 485387938.00810510\n",
      "Iteration 876, loss = 485345574.86132926\n",
      "Iteration 877, loss = 485303204.49331695\n",
      "Iteration 878, loss = 485260826.95432717\n",
      "Iteration 879, loss = 485218442.29459435\n",
      "Iteration 880, loss = 485176050.56433052\n",
      "Iteration 881, loss = 485133651.81372368\n",
      "Iteration 882, loss = 485091246.09293872\n",
      "Iteration 883, loss = 485048833.45211774\n",
      "Iteration 884, loss = 485006413.94137871\n",
      "Iteration 885, loss = 484963987.61081791\n",
      "Iteration 886, loss = 484921554.51050711\n",
      "Iteration 887, loss = 484879114.69049597\n",
      "Iteration 888, loss = 484836668.20081049\n",
      "Iteration 889, loss = 484794215.09145457\n",
      "Iteration 890, loss = 484751755.41240877\n",
      "Iteration 891, loss = 484709289.21363121\n",
      "Iteration 892, loss = 484666816.54505622\n",
      "Iteration 893, loss = 484624337.45659667\n",
      "Iteration 894, loss = 484581851.99814236\n",
      "Iteration 895, loss = 484539360.21955997\n",
      "Iteration 896, loss = 484496862.17069417\n",
      "Iteration 897, loss = 484454357.90136677\n",
      "Iteration 898, loss = 484411847.46137744\n",
      "Iteration 899, loss = 484369330.90050298\n",
      "Iteration 900, loss = 484326808.26849872\n",
      "Iteration 901, loss = 484284279.61509609\n",
      "Iteration 902, loss = 484241744.99000579\n",
      "Iteration 903, loss = 484199204.44291544\n",
      "Iteration 904, loss = 484156658.02349073\n",
      "Iteration 905, loss = 484114105.78137505\n",
      "Iteration 906, loss = 484071547.76618987\n",
      "Iteration 907, loss = 484028984.02753437\n",
      "Iteration 908, loss = 483986414.61498624\n",
      "Iteration 909, loss = 483943839.57810003\n",
      "Iteration 910, loss = 483901258.96641004\n",
      "Iteration 911, loss = 483858672.82942724\n",
      "Iteration 912, loss = 483816081.21664143\n",
      "Iteration 913, loss = 483773484.17752063\n",
      "Iteration 914, loss = 483730881.76151103\n",
      "Iteration 915, loss = 483688274.01803702\n",
      "Iteration 916, loss = 483645660.99650109\n",
      "Iteration 917, loss = 483603042.74628478\n",
      "Iteration 918, loss = 483560419.31674773\n",
      "Iteration 919, loss = 483517790.75722760\n",
      "Iteration 920, loss = 483475157.11704129\n",
      "Iteration 921, loss = 483432518.44548386\n",
      "Iteration 922, loss = 483389874.79182869\n",
      "Iteration 923, loss = 483347226.20532835\n",
      "Iteration 924, loss = 483304572.73521340\n",
      "Iteration 925, loss = 483261914.43069458\n",
      "Iteration 926, loss = 483219251.34095907\n",
      "Iteration 927, loss = 483176583.51517475\n",
      "Iteration 928, loss = 483133911.00248772\n",
      "Iteration 929, loss = 483091233.85202253\n",
      "Iteration 930, loss = 483048552.11288339\n",
      "Iteration 931, loss = 483005865.83415252\n",
      "Iteration 932, loss = 482963175.06489211\n",
      "Iteration 933, loss = 482920479.85414296\n",
      "Iteration 934, loss = 482877780.25092447\n",
      "Iteration 935, loss = 482835076.30423582\n",
      "Iteration 936, loss = 482792368.06305486\n",
      "Iteration 937, loss = 482749655.57633889\n",
      "Iteration 938, loss = 482706938.89302427\n",
      "Iteration 939, loss = 482664218.06202710\n",
      "Iteration 940, loss = 482621493.13224155\n",
      "Iteration 941, loss = 482578764.15254200\n",
      "Iteration 942, loss = 482536031.17178249\n",
      "Iteration 943, loss = 482493294.23879540\n",
      "Iteration 944, loss = 482450553.40239334\n",
      "Iteration 945, loss = 482407808.71136844\n",
      "Iteration 946, loss = 482365060.21449155\n",
      "Iteration 947, loss = 482322307.96051377\n",
      "Iteration 948, loss = 482279551.99816543\n",
      "Iteration 949, loss = 482236792.37615615\n",
      "Iteration 950, loss = 482194029.14317620\n",
      "Iteration 951, loss = 482151262.34789431\n",
      "Iteration 952, loss = 482108492.03895938\n",
      "Iteration 953, loss = 482065718.26500052\n",
      "Iteration 954, loss = 482022941.07462591\n",
      "Iteration 955, loss = 481980160.51642340\n",
      "Iteration 956, loss = 481937376.63896096\n",
      "Iteration 957, loss = 481894589.49078721\n",
      "Iteration 958, loss = 481851799.12042904\n",
      "Iteration 959, loss = 481809005.57639468\n",
      "Iteration 960, loss = 481766208.90717131\n",
      "Iteration 961, loss = 481723409.16122645\n",
      "Iteration 962, loss = 481680606.38700771\n",
      "Iteration 963, loss = 481637800.63294291\n",
      "Iteration 964, loss = 481594991.94743937\n",
      "Iteration 965, loss = 481552180.37888503\n",
      "Iteration 966, loss = 481509365.97564751\n",
      "Iteration 967, loss = 481466548.78607458\n",
      "Iteration 968, loss = 481423728.85849494\n",
      "Iteration 969, loss = 481380906.24121660\n",
      "Iteration 970, loss = 481338080.98252785\n",
      "Iteration 971, loss = 481295253.13069832\n",
      "Iteration 972, loss = 481252422.73397660\n",
      "Iteration 973, loss = 481209589.84059215\n",
      "Iteration 974, loss = 481166754.49875528\n",
      "Iteration 975, loss = 481123916.75665510\n",
      "Iteration 976, loss = 481081076.66246313\n",
      "Iteration 977, loss = 481038234.26432973\n",
      "Iteration 978, loss = 480995389.61038673\n",
      "Iteration 979, loss = 480952542.74874550\n",
      "Iteration 980, loss = 480909693.72749907\n",
      "Iteration 981, loss = 480866842.59471989\n",
      "Iteration 982, loss = 480823989.39846152\n",
      "Iteration 983, loss = 480781134.18675786\n",
      "Iteration 984, loss = 480738277.00762403\n",
      "Iteration 985, loss = 480695417.90905464\n",
      "Iteration 986, loss = 480652556.93902576\n",
      "Iteration 987, loss = 480609694.14549440\n",
      "Iteration 988, loss = 480566829.57639724\n",
      "Iteration 989, loss = 480523963.27965236\n",
      "Iteration 990, loss = 480481095.30315876\n",
      "Iteration 991, loss = 480438225.69479555\n",
      "Iteration 992, loss = 480395354.50242347\n",
      "Iteration 993, loss = 480352481.77388287\n",
      "Iteration 994, loss = 480309607.55699635\n",
      "Iteration 995, loss = 480266731.89956623\n",
      "Iteration 996, loss = 480223854.84937614\n",
      "Iteration 997, loss = 480180976.45419061\n",
      "Iteration 998, loss = 480138096.76175535\n",
      "Iteration 999, loss = 480095215.81979626\n",
      "Iteration 1000, loss = 480052333.67602104\n"
     ]
    },
    {
     "name": "stderr",
     "output_type": "stream",
     "text": [
      "/Users/alexeydemyanchuk/.virtualenvs/kaggle_env/lib/python3.6/site-packages/sklearn/neural_network/multilayer_perceptron.py:562: ConvergenceWarning: Stochastic Optimizer: Maximum iterations (1000) reached and the optimization hasn't converged yet.\n",
      "  % self.max_iter, ConvergenceWarning)\n"
     ]
    },
    {
     "data": {
      "text/plain": [
       "MLPRegressor(activation='relu', alpha=0.0001, batch_size='auto', beta_1=0.9,\n",
       "       beta_2=0.999, early_stopping=False, epsilon=1e-08,\n",
       "       hidden_layer_sizes=(4,), learning_rate='constant',\n",
       "       learning_rate_init=0.001, max_iter=1000, momentum=0.9,\n",
       "       n_iter_no_change=10, nesterovs_momentum=True, power_t=0.5,\n",
       "       random_state=None, shuffle=True, solver='adam', tol=0.0001,\n",
       "       validation_fraction=0.1, verbose=True, warm_start=False)"
      ]
     },
     "execution_count": 143,
     "metadata": {},
     "output_type": "execute_result"
    }
   ],
   "source": [
    "nnr.fit(X_train, Y_train)"
   ]
  },
  {
   "cell_type": "code",
   "execution_count": 144,
   "metadata": {},
   "outputs": [],
   "source": [
    "preds = nnr.predict(X_valid)"
   ]
  },
  {
   "cell_type": "code",
   "execution_count": 145,
   "metadata": {},
   "outputs": [
    {
     "data": {
      "text/plain": [
       "array([[  1429.10532205, 208179.94385187],\n",
       "       [  1303.41983787, 189861.96361633],\n",
       "       [  1471.29616316, 214329.03098509],\n",
       "       [  1605.00710019, 233816.67761195]])"
      ]
     },
     "execution_count": 145,
     "metadata": {},
     "output_type": "execute_result"
    }
   ],
   "source": [
    "preds"
   ]
  },
  {
   "cell_type": "code",
   "execution_count": 146,
   "metadata": {},
   "outputs": [
    {
     "data": {
      "text/html": [
       "<div>\n",
       "<style scoped>\n",
       "    .dataframe tbody tr th:only-of-type {\n",
       "        vertical-align: middle;\n",
       "    }\n",
       "\n",
       "    .dataframe tbody tr th {\n",
       "        vertical-align: top;\n",
       "    }\n",
       "\n",
       "    .dataframe thead th {\n",
       "        text-align: right;\n",
       "    }\n",
       "</style>\n",
       "<table border=\"1\" class=\"dataframe\">\n",
       "  <thead>\n",
       "    <tr style=\"text-align: right;\">\n",
       "      <th></th>\n",
       "      <th>KOL</th>\n",
       "      <th>SUMMA</th>\n",
       "    </tr>\n",
       "    <tr>\n",
       "      <th>DATA</th>\n",
       "      <th></th>\n",
       "      <th></th>\n",
       "    </tr>\n",
       "  </thead>\n",
       "  <tbody>\n",
       "    <tr>\n",
       "      <th>2004-07</th>\n",
       "      <td>1422.0</td>\n",
       "      <td>204073.75</td>\n",
       "    </tr>\n",
       "    <tr>\n",
       "      <th>2004-08</th>\n",
       "      <td>1528.0</td>\n",
       "      <td>225672.45</td>\n",
       "    </tr>\n",
       "    <tr>\n",
       "      <th>2004-09</th>\n",
       "      <td>1759.0</td>\n",
       "      <td>243166.63</td>\n",
       "    </tr>\n",
       "    <tr>\n",
       "      <th>2004-10</th>\n",
       "      <td>1630.0</td>\n",
       "      <td>236117.68</td>\n",
       "    </tr>\n",
       "  </tbody>\n",
       "</table>\n",
       "</div>"
      ],
      "text/plain": [
       "            KOL      SUMMA\n",
       "DATA                      \n",
       "2004-07  1422.0  204073.75\n",
       "2004-08  1528.0  225672.45\n",
       "2004-09  1759.0  243166.63\n",
       "2004-10  1630.0  236117.68"
      ]
     },
     "execution_count": 146,
     "metadata": {},
     "output_type": "execute_result"
    }
   ],
   "source": [
    "Y_valid"
   ]
  },
  {
   "cell_type": "code",
   "execution_count": 147,
   "metadata": {
    "scrolled": true
   },
   "outputs": [
    {
     "data": {
      "text/plain": [
       "182.9514126747553"
      ]
     },
     "execution_count": 147,
     "metadata": {},
     "output_type": "execute_result"
    }
   ],
   "source": [
    "# корень средне-квадратичной ошибки по количеству\n",
    "np.sqrt(mean_squared_error(Y_valid.KOL, preds[:,0]))"
   ]
  },
  {
   "cell_type": "code",
   "execution_count": 148,
   "metadata": {},
   "outputs": [
    {
     "data": {
      "text/plain": [
       "23109.270282283313"
      ]
     },
     "execution_count": 148,
     "metadata": {},
     "output_type": "execute_result"
    }
   ],
   "source": [
    "# корень средне-квадратичной ошибки по сумме\n",
    "np.sqrt(mean_squared_error(Y_valid.SUMMA, preds[:,1]))"
   ]
  },
  {
   "cell_type": "code",
   "execution_count": 149,
   "metadata": {},
   "outputs": [],
   "source": [
    "test_preds = nnr.predict(X_test)"
   ]
  },
  {
   "cell_type": "code",
   "execution_count": 150,
   "metadata": {},
   "outputs": [
    {
     "data": {
      "text/plain": [
       "array([[  1661.6515977 , 242072.3070711 ],\n",
       "       [  1870.30235231, 272482.02720865]])"
      ]
     },
     "execution_count": 150,
     "metadata": {},
     "output_type": "execute_result"
    }
   ],
   "source": [
    "test_preds"
   ]
  },
  {
   "cell_type": "code",
   "execution_count": 151,
   "metadata": {},
   "outputs": [
    {
     "data": {
      "text/html": [
       "<div>\n",
       "<style scoped>\n",
       "    .dataframe tbody tr th:only-of-type {\n",
       "        vertical-align: middle;\n",
       "    }\n",
       "\n",
       "    .dataframe tbody tr th {\n",
       "        vertical-align: top;\n",
       "    }\n",
       "\n",
       "    .dataframe thead th {\n",
       "        text-align: right;\n",
       "    }\n",
       "</style>\n",
       "<table border=\"1\" class=\"dataframe\">\n",
       "  <thead>\n",
       "    <tr style=\"text-align: right;\">\n",
       "      <th></th>\n",
       "      <th>KOL</th>\n",
       "      <th>SUMMA</th>\n",
       "    </tr>\n",
       "    <tr>\n",
       "      <th>DATA</th>\n",
       "      <th></th>\n",
       "      <th></th>\n",
       "    </tr>\n",
       "  </thead>\n",
       "  <tbody>\n",
       "    <tr>\n",
       "      <th>2004-11</th>\n",
       "      <td>1890.0</td>\n",
       "      <td>268384.0</td>\n",
       "    </tr>\n",
       "    <tr>\n",
       "      <th>2004-12</th>\n",
       "      <td>2792.0</td>\n",
       "      <td>396718.1</td>\n",
       "    </tr>\n",
       "  </tbody>\n",
       "</table>\n",
       "</div>"
      ],
      "text/plain": [
       "            KOL     SUMMA\n",
       "DATA                     \n",
       "2004-11  1890.0  268384.0\n",
       "2004-12  2792.0  396718.1"
      ]
     },
     "execution_count": 151,
     "metadata": {},
     "output_type": "execute_result"
    }
   ],
   "source": [
    "Y_test"
   ]
  },
  {
   "cell_type": "code",
   "execution_count": 152,
   "metadata": {
    "scrolled": true
   },
   "outputs": [
    {
     "data": {
      "text/plain": [
       "671.4423082387848"
      ]
     },
     "execution_count": 152,
     "metadata": {},
     "output_type": "execute_result"
    }
   ],
   "source": [
    "# корень средне-квадратичной ошибки по количеству\n",
    "np.sqrt(mean_squared_error(Y_test.KOL, test_preds[:,0]))"
   ]
  },
  {
   "cell_type": "code",
   "execution_count": 153,
   "metadata": {
    "scrolled": true
   },
   "outputs": [
    {
     "data": {
      "text/plain": [
       "89796.73425966356"
      ]
     },
     "execution_count": 153,
     "metadata": {},
     "output_type": "execute_result"
    }
   ],
   "source": [
    "# корень средне-квадратичной ошибки по сумме\n",
    "np.sqrt(mean_squared_error(Y_test.SUMMA, test_preds[:,1]))"
   ]
  },
  {
   "cell_type": "markdown",
   "metadata": {},
   "source": [
    "### Подготовка данных для обучения нейросети  - эксперимент 2"
   ]
  },
  {
   "cell_type": "markdown",
   "metadata": {},
   "source": [
    "В этом эксперименте удалим все примеры с неполными данными"
   ]
  },
  {
   "cell_type": "code",
   "execution_count": 177,
   "metadata": {},
   "outputs": [],
   "source": [
    "# сдвигаем значения на i в прошлое и формируем имена для колонок\n",
    "shifts = []\n",
    "names = []\n",
    "for i in (1,2,3,12):\n",
    "    names.extend([f'KOL_{i}', f'SUMMA_{i}'])\n",
    "    shifts.append(sales_w_test.shift(i))"
   ]
  },
  {
   "cell_type": "code",
   "execution_count": 178,
   "metadata": {},
   "outputs": [],
   "source": [
    "# создаем DataFrame с последовательностью из записей 1,2,3,12 месяцев назад\n",
    "shifted_df = pd.concat(shifts, axis=1)"
   ]
  },
  {
   "cell_type": "code",
   "execution_count": 179,
   "metadata": {},
   "outputs": [],
   "source": [
    "# даем понятные имена\n",
    "shifted_df.columns = names"
   ]
  },
  {
   "cell_type": "code",
   "execution_count": 157,
   "metadata": {},
   "outputs": [],
   "source": [
    "# для того, чтобы не терять примеров в выборке\n",
    "# заменим пропуски на медианные значения\n",
    "shifted_df.fillna(shifted_df.median(), inplace=True)"
   ]
  },
  {
   "cell_type": "code",
   "execution_count": 193,
   "metadata": {},
   "outputs": [],
   "source": [
    "shifted_df = shifted_df.truncate(before='2002-06')"
   ]
  },
  {
   "cell_type": "code",
   "execution_count": 194,
   "metadata": {},
   "outputs": [
    {
     "data": {
      "text/html": [
       "<div>\n",
       "<style scoped>\n",
       "    .dataframe tbody tr th:only-of-type {\n",
       "        vertical-align: middle;\n",
       "    }\n",
       "\n",
       "    .dataframe tbody tr th {\n",
       "        vertical-align: top;\n",
       "    }\n",
       "\n",
       "    .dataframe thead th {\n",
       "        text-align: right;\n",
       "    }\n",
       "</style>\n",
       "<table border=\"1\" class=\"dataframe\">\n",
       "  <thead>\n",
       "    <tr style=\"text-align: right;\">\n",
       "      <th></th>\n",
       "      <th>KOL_1</th>\n",
       "      <th>SUMMA_1</th>\n",
       "      <th>KOL_2</th>\n",
       "      <th>SUMMA_2</th>\n",
       "      <th>KOL_3</th>\n",
       "      <th>SUMMA_3</th>\n",
       "      <th>KOL_12</th>\n",
       "      <th>SUMMA_12</th>\n",
       "    </tr>\n",
       "    <tr>\n",
       "      <th>DATA</th>\n",
       "      <th></th>\n",
       "      <th></th>\n",
       "      <th></th>\n",
       "      <th></th>\n",
       "      <th></th>\n",
       "      <th></th>\n",
       "      <th></th>\n",
       "      <th></th>\n",
       "    </tr>\n",
       "  </thead>\n",
       "  <tbody>\n",
       "    <tr>\n",
       "      <th>2002-06</th>\n",
       "      <td>836.0</td>\n",
       "      <td>102910.35</td>\n",
       "      <td>658.0</td>\n",
       "      <td>93587.80</td>\n",
       "      <td>641.0</td>\n",
       "      <td>93518.36</td>\n",
       "      <td>163.0</td>\n",
       "      <td>23584.34</td>\n",
       "    </tr>\n",
       "    <tr>\n",
       "      <th>2002-07</th>\n",
       "      <td>845.0</td>\n",
       "      <td>104904.28</td>\n",
       "      <td>836.0</td>\n",
       "      <td>102910.35</td>\n",
       "      <td>658.0</td>\n",
       "      <td>93587.80</td>\n",
       "      <td>182.0</td>\n",
       "      <td>26192.45</td>\n",
       "    </tr>\n",
       "    <tr>\n",
       "      <th>2002-08</th>\n",
       "      <td>1044.0</td>\n",
       "      <td>139225.67</td>\n",
       "      <td>845.0</td>\n",
       "      <td>104904.28</td>\n",
       "      <td>836.0</td>\n",
       "      <td>102910.35</td>\n",
       "      <td>209.0</td>\n",
       "      <td>36497.35</td>\n",
       "    </tr>\n",
       "    <tr>\n",
       "      <th>2002-09</th>\n",
       "      <td>1068.0</td>\n",
       "      <td>155069.09</td>\n",
       "      <td>1044.0</td>\n",
       "      <td>139225.67</td>\n",
       "      <td>845.0</td>\n",
       "      <td>104904.28</td>\n",
       "      <td>147.0</td>\n",
       "      <td>25624.92</td>\n",
       "    </tr>\n",
       "    <tr>\n",
       "      <th>2002-10</th>\n",
       "      <td>585.0</td>\n",
       "      <td>94088.40</td>\n",
       "      <td>1068.0</td>\n",
       "      <td>155069.09</td>\n",
       "      <td>1044.0</td>\n",
       "      <td>139225.67</td>\n",
       "      <td>217.0</td>\n",
       "      <td>40886.54</td>\n",
       "    </tr>\n",
       "  </tbody>\n",
       "</table>\n",
       "</div>"
      ],
      "text/plain": [
       "          KOL_1    SUMMA_1   KOL_2    SUMMA_2   KOL_3    SUMMA_3  KOL_12  \\\n",
       "DATA                                                                       \n",
       "2002-06   836.0  102910.35   658.0   93587.80   641.0   93518.36   163.0   \n",
       "2002-07   845.0  104904.28   836.0  102910.35   658.0   93587.80   182.0   \n",
       "2002-08  1044.0  139225.67   845.0  104904.28   836.0  102910.35   209.0   \n",
       "2002-09  1068.0  155069.09  1044.0  139225.67   845.0  104904.28   147.0   \n",
       "2002-10   585.0   94088.40  1068.0  155069.09  1044.0  139225.67   217.0   \n",
       "\n",
       "         SUMMA_12  \n",
       "DATA               \n",
       "2002-06  23584.34  \n",
       "2002-07  26192.45  \n",
       "2002-08  36497.35  \n",
       "2002-09  25624.92  \n",
       "2002-10  40886.54  "
      ]
     },
     "execution_count": 194,
     "metadata": {},
     "output_type": "execute_result"
    }
   ],
   "source": [
    "shifted_df.head()"
   ]
  },
  {
   "cell_type": "code",
   "execution_count": 196,
   "metadata": {},
   "outputs": [],
   "source": [
    "sales_w_test = sales_w_test.truncate(before='2002-06')"
   ]
  },
  {
   "cell_type": "code",
   "execution_count": 197,
   "metadata": {},
   "outputs": [
    {
     "data": {
      "text/html": [
       "<div>\n",
       "<style scoped>\n",
       "    .dataframe tbody tr th:only-of-type {\n",
       "        vertical-align: middle;\n",
       "    }\n",
       "\n",
       "    .dataframe tbody tr th {\n",
       "        vertical-align: top;\n",
       "    }\n",
       "\n",
       "    .dataframe thead th {\n",
       "        text-align: right;\n",
       "    }\n",
       "</style>\n",
       "<table border=\"1\" class=\"dataframe\">\n",
       "  <thead>\n",
       "    <tr style=\"text-align: right;\">\n",
       "      <th></th>\n",
       "      <th>KOL</th>\n",
       "      <th>SUMMA</th>\n",
       "    </tr>\n",
       "    <tr>\n",
       "      <th>DATA</th>\n",
       "      <th></th>\n",
       "      <th></th>\n",
       "    </tr>\n",
       "  </thead>\n",
       "  <tbody>\n",
       "    <tr>\n",
       "      <th>2002-06</th>\n",
       "      <td>845.0</td>\n",
       "      <td>104904.28</td>\n",
       "    </tr>\n",
       "    <tr>\n",
       "      <th>2002-07</th>\n",
       "      <td>1044.0</td>\n",
       "      <td>139225.67</td>\n",
       "    </tr>\n",
       "    <tr>\n",
       "      <th>2002-08</th>\n",
       "      <td>1068.0</td>\n",
       "      <td>155069.09</td>\n",
       "    </tr>\n",
       "    <tr>\n",
       "      <th>2002-09</th>\n",
       "      <td>585.0</td>\n",
       "      <td>94088.40</td>\n",
       "    </tr>\n",
       "    <tr>\n",
       "      <th>2002-10</th>\n",
       "      <td>841.0</td>\n",
       "      <td>113904.12</td>\n",
       "    </tr>\n",
       "  </tbody>\n",
       "</table>\n",
       "</div>"
      ],
      "text/plain": [
       "            KOL      SUMMA\n",
       "DATA                      \n",
       "2002-06   845.0  104904.28\n",
       "2002-07  1044.0  139225.67\n",
       "2002-08  1068.0  155069.09\n",
       "2002-09   585.0   94088.40\n",
       "2002-10   841.0  113904.12"
      ]
     },
     "execution_count": 197,
     "metadata": {},
     "output_type": "execute_result"
    }
   ],
   "source": [
    "sales_w_test.head()"
   ]
  },
  {
   "cell_type": "code",
   "execution_count": 198,
   "metadata": {},
   "outputs": [
    {
     "data": {
      "text/plain": [
       "True"
      ]
     },
     "execution_count": 198,
     "metadata": {},
     "output_type": "execute_result"
    }
   ],
   "source": [
    "all(sales_w_test.index == shifted_df.index)"
   ]
  },
  {
   "cell_type": "code",
   "execution_count": 199,
   "metadata": {},
   "outputs": [],
   "source": [
    "# Разделим выборку на тренировочный, валидационный и тестовый набор\n",
    "# для валидации возьмем последние 4 месяца\n",
    "def valid_split(df, n_trn):\n",
    "    return df[:n_trn].copy(), df[n_trn:].copy()"
   ]
  },
  {
   "cell_type": "code",
   "execution_count": 200,
   "metadata": {},
   "outputs": [],
   "source": [
    "n_test = 2\n",
    "n_trn = len(shifted_df) - n_test"
   ]
  },
  {
   "cell_type": "code",
   "execution_count": 201,
   "metadata": {},
   "outputs": [],
   "source": [
    "X_train, X_test = valid_split(shifted_df, n_trn)\n",
    "Y_train, Y_test = valid_split(sales_w_test, n_trn)"
   ]
  },
  {
   "cell_type": "code",
   "execution_count": 202,
   "metadata": {},
   "outputs": [],
   "source": [
    "# разделим оставшиеся тренировочные данные на трейн и валидацию\n",
    "n_val = 4\n",
    "n_trn = len(X_train) - n_val\n",
    "\n",
    "X_train, X_valid = valid_split(X_train, n_trn)\n",
    "Y_train, Y_valid = valid_split(Y_train, n_trn)"
   ]
  },
  {
   "cell_type": "code",
   "execution_count": 203,
   "metadata": {},
   "outputs": [
    {
     "data": {
      "text/plain": [
       "((25, 8), (4, 8), (2, 8), (25, 2), (4, 2), (2, 2))"
      ]
     },
     "execution_count": 203,
     "metadata": {},
     "output_type": "execute_result"
    }
   ],
   "source": [
    "X_train.shape, X_valid.shape, X_test.shape, Y_train.shape, Y_valid.shape, Y_test.shape"
   ]
  },
  {
   "cell_type": "markdown",
   "metadata": {},
   "source": [
    "#### Обучение и валидация нейросети - эксп.2"
   ]
  },
  {
   "cell_type": "code",
   "execution_count": 258,
   "metadata": {},
   "outputs": [],
   "source": [
    "nnr = MLPRegressor(hidden_layer_sizes=(4,), learning_rate_init=0.001, max_iter=10000)"
   ]
  },
  {
   "cell_type": "code",
   "execution_count": 259,
   "metadata": {},
   "outputs": [
    {
     "name": "stderr",
     "output_type": "stream",
     "text": [
      "/Users/alexeydemyanchuk/.virtualenvs/kaggle_env/lib/python3.6/site-packages/sklearn/neural_network/multilayer_perceptron.py:562: ConvergenceWarning: Stochastic Optimizer: Maximum iterations (10000) reached and the optimization hasn't converged yet.\n",
      "  % self.max_iter, ConvergenceWarning)\n"
     ]
    },
    {
     "data": {
      "text/plain": [
       "MLPRegressor(activation='relu', alpha=0.0001, batch_size='auto', beta_1=0.9,\n",
       "       beta_2=0.999, early_stopping=False, epsilon=1e-08,\n",
       "       hidden_layer_sizes=(4,), learning_rate='constant',\n",
       "       learning_rate_init=0.001, max_iter=10000, momentum=0.9,\n",
       "       n_iter_no_change=10, nesterovs_momentum=True, power_t=0.5,\n",
       "       random_state=None, shuffle=True, solver='adam', tol=0.0001,\n",
       "       validation_fraction=0.1, verbose=False, warm_start=False)"
      ]
     },
     "execution_count": 259,
     "metadata": {},
     "output_type": "execute_result"
    }
   ],
   "source": [
    "nnr.fit(X_train, Y_train)"
   ]
  },
  {
   "cell_type": "code",
   "execution_count": 260,
   "metadata": {},
   "outputs": [],
   "source": [
    "preds = nnr.predict(X_valid)"
   ]
  },
  {
   "cell_type": "code",
   "execution_count": 261,
   "metadata": {},
   "outputs": [
    {
     "data": {
      "text/plain": [
       "array([[  1717.8787178 , 252873.82133098],\n",
       "       [  1684.26363803, 247924.94346907],\n",
       "       [  1692.65417072, 249160.21411998],\n",
       "       [  1920.73206773, 282738.28869001]])"
      ]
     },
     "execution_count": 261,
     "metadata": {},
     "output_type": "execute_result"
    }
   ],
   "source": [
    "preds"
   ]
  },
  {
   "cell_type": "code",
   "execution_count": 262,
   "metadata": {},
   "outputs": [
    {
     "data": {
      "text/html": [
       "<div>\n",
       "<style scoped>\n",
       "    .dataframe tbody tr th:only-of-type {\n",
       "        vertical-align: middle;\n",
       "    }\n",
       "\n",
       "    .dataframe tbody tr th {\n",
       "        vertical-align: top;\n",
       "    }\n",
       "\n",
       "    .dataframe thead th {\n",
       "        text-align: right;\n",
       "    }\n",
       "</style>\n",
       "<table border=\"1\" class=\"dataframe\">\n",
       "  <thead>\n",
       "    <tr style=\"text-align: right;\">\n",
       "      <th></th>\n",
       "      <th>KOL</th>\n",
       "      <th>SUMMA</th>\n",
       "    </tr>\n",
       "    <tr>\n",
       "      <th>DATA</th>\n",
       "      <th></th>\n",
       "      <th></th>\n",
       "    </tr>\n",
       "  </thead>\n",
       "  <tbody>\n",
       "    <tr>\n",
       "      <th>2004-07</th>\n",
       "      <td>1422.0</td>\n",
       "      <td>204073.75</td>\n",
       "    </tr>\n",
       "    <tr>\n",
       "      <th>2004-08</th>\n",
       "      <td>1528.0</td>\n",
       "      <td>225672.45</td>\n",
       "    </tr>\n",
       "    <tr>\n",
       "      <th>2004-09</th>\n",
       "      <td>1759.0</td>\n",
       "      <td>243166.63</td>\n",
       "    </tr>\n",
       "    <tr>\n",
       "      <th>2004-10</th>\n",
       "      <td>1630.0</td>\n",
       "      <td>236117.68</td>\n",
       "    </tr>\n",
       "  </tbody>\n",
       "</table>\n",
       "</div>"
      ],
      "text/plain": [
       "            KOL      SUMMA\n",
       "DATA                      \n",
       "2004-07  1422.0  204073.75\n",
       "2004-08  1528.0  225672.45\n",
       "2004-09  1759.0  243166.63\n",
       "2004-10  1630.0  236117.68"
      ]
     },
     "execution_count": 262,
     "metadata": {},
     "output_type": "execute_result"
    }
   ],
   "source": [
    "Y_valid"
   ]
  },
  {
   "cell_type": "code",
   "execution_count": 263,
   "metadata": {
    "scrolled": true
   },
   "outputs": [
    {
     "data": {
      "text/plain": [
       "224.10346075439824"
      ]
     },
     "execution_count": 263,
     "metadata": {},
     "output_type": "execute_result"
    }
   ],
   "source": [
    "# корень средне-квадратичной ошибки по количеству\n",
    "np.sqrt(mean_squared_error(Y_valid.KOL, preds[:,0]))"
   ]
  },
  {
   "cell_type": "code",
   "execution_count": 264,
   "metadata": {},
   "outputs": [
    {
     "data": {
      "text/plain": [
       "35658.18500965113"
      ]
     },
     "execution_count": 264,
     "metadata": {},
     "output_type": "execute_result"
    }
   ],
   "source": [
    "# корень средне-квадратичной ошибки по сумме\n",
    "np.sqrt(mean_squared_error(Y_valid.SUMMA, preds[:,1]))"
   ]
  },
  {
   "cell_type": "code",
   "execution_count": 265,
   "metadata": {},
   "outputs": [],
   "source": [
    "test_preds = nnr.predict(X_test)"
   ]
  },
  {
   "cell_type": "code",
   "execution_count": 266,
   "metadata": {},
   "outputs": [
    {
     "data": {
      "text/plain": [
       "array([[  2058.05291387, 302954.93253126],\n",
       "       [  2354.63804873, 346618.77679404]])"
      ]
     },
     "execution_count": 266,
     "metadata": {},
     "output_type": "execute_result"
    }
   ],
   "source": [
    "test_preds"
   ]
  },
  {
   "cell_type": "code",
   "execution_count": 267,
   "metadata": {},
   "outputs": [
    {
     "data": {
      "text/html": [
       "<div>\n",
       "<style scoped>\n",
       "    .dataframe tbody tr th:only-of-type {\n",
       "        vertical-align: middle;\n",
       "    }\n",
       "\n",
       "    .dataframe tbody tr th {\n",
       "        vertical-align: top;\n",
       "    }\n",
       "\n",
       "    .dataframe thead th {\n",
       "        text-align: right;\n",
       "    }\n",
       "</style>\n",
       "<table border=\"1\" class=\"dataframe\">\n",
       "  <thead>\n",
       "    <tr style=\"text-align: right;\">\n",
       "      <th></th>\n",
       "      <th>KOL</th>\n",
       "      <th>SUMMA</th>\n",
       "    </tr>\n",
       "    <tr>\n",
       "      <th>DATA</th>\n",
       "      <th></th>\n",
       "      <th></th>\n",
       "    </tr>\n",
       "  </thead>\n",
       "  <tbody>\n",
       "    <tr>\n",
       "      <th>2004-11</th>\n",
       "      <td>1890.0</td>\n",
       "      <td>268384.0</td>\n",
       "    </tr>\n",
       "    <tr>\n",
       "      <th>2004-12</th>\n",
       "      <td>2792.0</td>\n",
       "      <td>396718.1</td>\n",
       "    </tr>\n",
       "  </tbody>\n",
       "</table>\n",
       "</div>"
      ],
      "text/plain": [
       "            KOL     SUMMA\n",
       "DATA                     \n",
       "2004-11  1890.0  268384.0\n",
       "2004-12  2792.0  396718.1"
      ]
     },
     "execution_count": 267,
     "metadata": {},
     "output_type": "execute_result"
    }
   ],
   "source": [
    "Y_test"
   ]
  },
  {
   "cell_type": "code",
   "execution_count": 268,
   "metadata": {
    "scrolled": true
   },
   "outputs": [
    {
     "data": {
      "text/plain": [
       "331.3059449184836"
      ]
     },
     "execution_count": 268,
     "metadata": {},
     "output_type": "execute_result"
    }
   ],
   "source": [
    "# корень средне-квадратичной ошибки по количеству\n",
    "np.sqrt(mean_squared_error(Y_test.KOL, test_preds[:,0]))"
   ]
  },
  {
   "cell_type": "code",
   "execution_count": 269,
   "metadata": {
    "scrolled": true
   },
   "outputs": [
    {
     "data": {
      "text/plain": [
       "43041.21026281641"
      ]
     },
     "execution_count": 269,
     "metadata": {},
     "output_type": "execute_result"
    }
   ],
   "source": [
    "# корень средне-квадратичной ошибки по сумме\n",
    "np.sqrt(mean_squared_error(Y_test.SUMMA, test_preds[:,1]))"
   ]
  },
  {
   "cell_type": "code",
   "execution_count": null,
   "metadata": {},
   "outputs": [],
   "source": []
  }
 ],
 "metadata": {
  "kernelspec": {
   "display_name": "Python 3",
   "language": "python",
   "name": "python3"
  },
  "language_info": {
   "codemirror_mode": {
    "name": "ipython",
    "version": 3
   },
   "file_extension": ".py",
   "mimetype": "text/x-python",
   "name": "python",
   "nbconvert_exporter": "python",
   "pygments_lexer": "ipython3",
   "version": "3.6.5"
  },
  "toc": {
   "base_numbering": 1,
   "nav_menu": {},
   "number_sections": true,
   "sideBar": true,
   "skip_h1_title": false,
   "title_cell": "Table of Contents",
   "title_sidebar": "Contents",
   "toc_cell": false,
   "toc_position": {},
   "toc_section_display": true,
   "toc_window_display": true
  }
 },
 "nbformat": 4,
 "nbformat_minor": 2
}
