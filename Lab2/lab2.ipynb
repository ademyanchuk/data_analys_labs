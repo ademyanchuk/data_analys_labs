{
 "cells": [
  {
   "cell_type": "markdown",
   "metadata": {},
   "source": [
    "### Импорты"
   ]
  },
  {
   "cell_type": "code",
   "execution_count": 1,
   "metadata": {},
   "outputs": [],
   "source": [
    "import numpy as np\n",
    "import pandas as pd"
   ]
  },
  {
   "cell_type": "code",
   "execution_count": 2,
   "metadata": {
    "scrolled": true
   },
   "outputs": [
    {
     "name": "stdout",
     "output_type": "stream",
     "text": [
      "SQLalchemy is not installed. No support for SQL output.\n"
     ]
    }
   ],
   "source": [
    "from simpledbf import Dbf5"
   ]
  },
  {
   "cell_type": "code",
   "execution_count": 3,
   "metadata": {},
   "outputs": [],
   "source": [
    "import matplotlib.pyplot as plt"
   ]
  },
  {
   "cell_type": "code",
   "execution_count": 4,
   "metadata": {},
   "outputs": [],
   "source": [
    "from plotnine import *"
   ]
  },
  {
   "cell_type": "markdown",
   "metadata": {},
   "source": [
    "### Загрузка из dbf (файлы баз данных)"
   ]
  },
  {
   "cell_type": "markdown",
   "metadata": {},
   "source": [
    "загружаем данные из файлов формата `dbf`  с использованием библиотеки `simpledbf`"
   ]
  },
  {
   "cell_type": "code",
   "execution_count": 15,
   "metadata": {},
   "outputs": [],
   "source": [
    "groups = Dbf5('Part1/groups.dbf', codec='cp1251')\n",
    "produces = Dbf5('Part1/produces.dbf', codec='cp866')\n",
    "sales = Dbf5('Part1/sales.dbf', codec='cp866')\n",
    "stores = Dbf5('Part1/stores.dbf', codec='cp1251')"
   ]
  },
  {
   "cell_type": "markdown",
   "metadata": {},
   "source": [
    "конвертируем в нативную для `Pandas` форму датафрейма `df`"
   ]
  },
  {
   "cell_type": "code",
   "execution_count": 16,
   "metadata": {},
   "outputs": [],
   "source": [
    "groups_df = groups.to_dataframe()\n",
    "produces_df = produces.to_dataframe()\n",
    "sales_df = sales.to_dataframe()\n",
    "stores_df = stores.to_dataframe()"
   ]
  },
  {
   "cell_type": "code",
   "execution_count": 120,
   "metadata": {},
   "outputs": [
    {
     "data": {
      "text/html": [
       "<div>\n",
       "<style scoped>\n",
       "    .dataframe tbody tr th:only-of-type {\n",
       "        vertical-align: middle;\n",
       "    }\n",
       "\n",
       "    .dataframe tbody tr th {\n",
       "        vertical-align: top;\n",
       "    }\n",
       "\n",
       "    .dataframe thead th {\n",
       "        text-align: right;\n",
       "    }\n",
       "</style>\n",
       "<table border=\"1\" class=\"dataframe\">\n",
       "  <thead>\n",
       "    <tr style=\"text-align: right;\">\n",
       "      <th></th>\n",
       "      <th>FKGCODE</th>\n",
       "      <th>FKGNAME</th>\n",
       "    </tr>\n",
       "  </thead>\n",
       "  <tbody>\n",
       "    <tr>\n",
       "      <th>0</th>\n",
       "      <td>33</td>\n",
       "      <td>Иммуномодуляторы</td>\n",
       "    </tr>\n",
       "    <tr>\n",
       "      <th>1</th>\n",
       "      <td>48</td>\n",
       "      <td>Общетонизирующие средства и адаптогены</td>\n",
       "    </tr>\n",
       "    <tr>\n",
       "      <th>2</th>\n",
       "      <td>50</td>\n",
       "      <td>Местные анестетики</td>\n",
       "    </tr>\n",
       "    <tr>\n",
       "      <th>3</th>\n",
       "      <td>108</td>\n",
       "      <td>Микро- и макроэлементы</td>\n",
       "    </tr>\n",
       "    <tr>\n",
       "      <th>4</th>\n",
       "      <td>198</td>\n",
       "      <td>Витамины и витаминоподобные средства</td>\n",
       "    </tr>\n",
       "  </tbody>\n",
       "</table>\n",
       "</div>"
      ],
      "text/plain": [
       "   FKGCODE                                 FKGNAME\n",
       "0       33                        Иммуномодуляторы\n",
       "1       48  Общетонизирующие средства и адаптогены\n",
       "2       50                      Местные анестетики\n",
       "3      108                  Микро- и макроэлементы\n",
       "4      198    Витамины и витаминоподобные средства"
      ]
     },
     "execution_count": 120,
     "metadata": {},
     "output_type": "execute_result"
    }
   ],
   "source": [
    "groups_df.head()"
   ]
  },
  {
   "cell_type": "code",
   "execution_count": 121,
   "metadata": {},
   "outputs": [
    {
     "data": {
      "text/plain": [
       "(8, 2)"
      ]
     },
     "execution_count": 121,
     "metadata": {},
     "output_type": "execute_result"
    }
   ],
   "source": [
    "groups_df.shape"
   ]
  },
  {
   "cell_type": "code",
   "execution_count": 122,
   "metadata": {
    "scrolled": true
   },
   "outputs": [
    {
     "data": {
      "text/html": [
       "<div>\n",
       "<style scoped>\n",
       "    .dataframe tbody tr th:only-of-type {\n",
       "        vertical-align: middle;\n",
       "    }\n",
       "\n",
       "    .dataframe tbody tr th {\n",
       "        vertical-align: top;\n",
       "    }\n",
       "\n",
       "    .dataframe thead th {\n",
       "        text-align: right;\n",
       "    }\n",
       "</style>\n",
       "<table border=\"1\" class=\"dataframe\">\n",
       "  <thead>\n",
       "    <tr style=\"text-align: right;\">\n",
       "      <th></th>\n",
       "      <th>PRODID</th>\n",
       "      <th>NAME</th>\n",
       "      <th>FKGCODE</th>\n",
       "    </tr>\n",
       "  </thead>\n",
       "  <tbody>\n",
       "    <tr>\n",
       "      <th>0</th>\n",
       "      <td>774</td>\n",
       "      <td>Бетаферон пор.лиоф.д/ин. 9600000 ЕД фл. [с р-л...</td>\n",
       "      <td>33</td>\n",
       "    </tr>\n",
       "    <tr>\n",
       "      <th>1</th>\n",
       "      <td>808</td>\n",
       "      <td>Бифидумбактерин пор. для приема внутрь пак.флг...</td>\n",
       "      <td>33</td>\n",
       "    </tr>\n",
       "    <tr>\n",
       "      <th>2</th>\n",
       "      <td>809</td>\n",
       "      <td>Бифидумбактерин табл. фл. 20 пач.картон. 10 Ви...</td>\n",
       "      <td>33</td>\n",
       "    </tr>\n",
       "    <tr>\n",
       "      <th>3</th>\n",
       "      <td>810</td>\n",
       "      <td>Бифидумбактерин супп.ваг. уп.контурн.яч. 5 пач...</td>\n",
       "      <td>33</td>\n",
       "    </tr>\n",
       "    <tr>\n",
       "      <th>4</th>\n",
       "      <td>811</td>\n",
       "      <td>Бифидумбактерин супп.ваг. уп.контурн.яч. 5 пач...</td>\n",
       "      <td>33</td>\n",
       "    </tr>\n",
       "  </tbody>\n",
       "</table>\n",
       "</div>"
      ],
      "text/plain": [
       "   PRODID                                               NAME  FKGCODE\n",
       "0     774  Бетаферон пор.лиоф.д/ин. 9600000 ЕД фл. [с р-л...       33\n",
       "1     808  Бифидумбактерин пор. для приема внутрь пак.флг...       33\n",
       "2     809  Бифидумбактерин табл. фл. 20 пач.картон. 10 Ви...       33\n",
       "3     810  Бифидумбактерин супп.ваг. уп.контурн.яч. 5 пач...       33\n",
       "4     811  Бифидумбактерин супп.ваг. уп.контурн.яч. 5 пач...       33"
      ]
     },
     "execution_count": 122,
     "metadata": {},
     "output_type": "execute_result"
    }
   ],
   "source": [
    "produces_df.head()"
   ]
  },
  {
   "cell_type": "code",
   "execution_count": 123,
   "metadata": {},
   "outputs": [
    {
     "data": {
      "text/plain": [
       "(5086, 3)"
      ]
     },
     "execution_count": 123,
     "metadata": {},
     "output_type": "execute_result"
    }
   ],
   "source": [
    "produces_df.shape"
   ]
  },
  {
   "cell_type": "code",
   "execution_count": 124,
   "metadata": {},
   "outputs": [
    {
     "data": {
      "text/html": [
       "<div>\n",
       "<style scoped>\n",
       "    .dataframe tbody tr th:only-of-type {\n",
       "        vertical-align: middle;\n",
       "    }\n",
       "\n",
       "    .dataframe tbody tr th {\n",
       "        vertical-align: top;\n",
       "    }\n",
       "\n",
       "    .dataframe thead th {\n",
       "        text-align: right;\n",
       "    }\n",
       "</style>\n",
       "<table border=\"1\" class=\"dataframe\">\n",
       "  <thead>\n",
       "    <tr style=\"text-align: right;\">\n",
       "      <th></th>\n",
       "      <th>DATE</th>\n",
       "      <th>STOREID</th>\n",
       "      <th>PRODID</th>\n",
       "      <th>HOUR</th>\n",
       "      <th>COUNT</th>\n",
       "      <th>SUM</th>\n",
       "    </tr>\n",
       "  </thead>\n",
       "  <tbody>\n",
       "    <tr>\n",
       "      <th>0</th>\n",
       "      <td>2004-01-01</td>\n",
       "      <td>1</td>\n",
       "      <td>31052</td>\n",
       "      <td>13</td>\n",
       "      <td>1</td>\n",
       "      <td>56.50</td>\n",
       "    </tr>\n",
       "    <tr>\n",
       "      <th>1</th>\n",
       "      <td>2004-01-01</td>\n",
       "      <td>1</td>\n",
       "      <td>36259</td>\n",
       "      <td>16</td>\n",
       "      <td>1</td>\n",
       "      <td>72.48</td>\n",
       "    </tr>\n",
       "    <tr>\n",
       "      <th>2</th>\n",
       "      <td>2004-01-01</td>\n",
       "      <td>1</td>\n",
       "      <td>40345</td>\n",
       "      <td>15</td>\n",
       "      <td>1</td>\n",
       "      <td>15.84</td>\n",
       "    </tr>\n",
       "    <tr>\n",
       "      <th>3</th>\n",
       "      <td>2004-01-01</td>\n",
       "      <td>1</td>\n",
       "      <td>65841</td>\n",
       "      <td>14</td>\n",
       "      <td>1</td>\n",
       "      <td>163.02</td>\n",
       "    </tr>\n",
       "    <tr>\n",
       "      <th>4</th>\n",
       "      <td>2004-01-01</td>\n",
       "      <td>1</td>\n",
       "      <td>82545</td>\n",
       "      <td>13</td>\n",
       "      <td>1</td>\n",
       "      <td>173.32</td>\n",
       "    </tr>\n",
       "  </tbody>\n",
       "</table>\n",
       "</div>"
      ],
      "text/plain": [
       "         DATE  STOREID  PRODID  HOUR  COUNT     SUM\n",
       "0  2004-01-01        1   31052    13      1   56.50\n",
       "1  2004-01-01        1   36259    16      1   72.48\n",
       "2  2004-01-01        1   40345    15      1   15.84\n",
       "3  2004-01-01        1   65841    14      1  163.02\n",
       "4  2004-01-01        1   82545    13      1  173.32"
      ]
     },
     "execution_count": 124,
     "metadata": {},
     "output_type": "execute_result"
    }
   ],
   "source": [
    "sales_df.head()"
   ]
  },
  {
   "cell_type": "code",
   "execution_count": 125,
   "metadata": {},
   "outputs": [
    {
     "data": {
      "text/plain": [
       "(8052, 6)"
      ]
     },
     "execution_count": 125,
     "metadata": {},
     "output_type": "execute_result"
    }
   ],
   "source": [
    "sales_df.shape"
   ]
  },
  {
   "cell_type": "code",
   "execution_count": 17,
   "metadata": {},
   "outputs": [
    {
     "name": "stdout",
     "output_type": "stream",
     "text": [
      "[ 1  2  3  4  5  6  7  8  9 10 11 12]\n",
      "[ 4  5  6  7  8  9 10 11 12]\n",
      "[10 11 12]\n"
     ]
    }
   ],
   "source": [
    "for i in (1,2,3):\n",
    "    print(pd.to_datetime(sales_df.loc[sales_df.STOREID==i, 'DATE']).dt.month.unique())"
   ]
  },
  {
   "cell_type": "code",
   "execution_count": 126,
   "metadata": {
    "scrolled": true
   },
   "outputs": [
    {
     "data": {
      "text/html": [
       "<div>\n",
       "<style scoped>\n",
       "    .dataframe tbody tr th:only-of-type {\n",
       "        vertical-align: middle;\n",
       "    }\n",
       "\n",
       "    .dataframe tbody tr th {\n",
       "        vertical-align: top;\n",
       "    }\n",
       "\n",
       "    .dataframe thead th {\n",
       "        text-align: right;\n",
       "    }\n",
       "</style>\n",
       "<table border=\"1\" class=\"dataframe\">\n",
       "  <thead>\n",
       "    <tr style=\"text-align: right;\">\n",
       "      <th></th>\n",
       "      <th>STOREID</th>\n",
       "      <th>NAME</th>\n",
       "    </tr>\n",
       "  </thead>\n",
       "  <tbody>\n",
       "    <tr>\n",
       "      <th>0</th>\n",
       "      <td>1</td>\n",
       "      <td>Аптека 1</td>\n",
       "    </tr>\n",
       "    <tr>\n",
       "      <th>1</th>\n",
       "      <td>2</td>\n",
       "      <td>Аптека 2</td>\n",
       "    </tr>\n",
       "    <tr>\n",
       "      <th>2</th>\n",
       "      <td>3</td>\n",
       "      <td>Аптека 3</td>\n",
       "    </tr>\n",
       "  </tbody>\n",
       "</table>\n",
       "</div>"
      ],
      "text/plain": [
       "   STOREID      NAME\n",
       "0        1  Аптека 1\n",
       "1        2  Аптека 2\n",
       "2        3  Аптека 3"
      ]
     },
     "execution_count": 126,
     "metadata": {},
     "output_type": "execute_result"
    }
   ],
   "source": [
    "stores_df.head()"
   ]
  },
  {
   "cell_type": "code",
   "execution_count": 127,
   "metadata": {},
   "outputs": [
    {
     "data": {
      "text/plain": [
       "(3, 2)"
      ]
     },
     "execution_count": 127,
     "metadata": {},
     "output_type": "execute_result"
    }
   ],
   "source": [
    "stores_df.shape"
   ]
  },
  {
   "cell_type": "markdown",
   "metadata": {},
   "source": [
    "### Слияние таблиц"
   ]
  },
  {
   "cell_type": "markdown",
   "metadata": {},
   "source": [
    "Слияние `groups_df` и `produces_df` по `FKGCODE` "
   ]
  },
  {
   "cell_type": "code",
   "execution_count": 128,
   "metadata": {},
   "outputs": [],
   "source": [
    "prod_and_groups = pd.merge(left=produces_df, right=groups_df, on='FKGCODE', how='left')"
   ]
  },
  {
   "cell_type": "markdown",
   "metadata": {},
   "source": [
    "Объединяем таблицы `sales_df` и `stores_df` по `STOREID` "
   ]
  },
  {
   "cell_type": "code",
   "execution_count": 129,
   "metadata": {},
   "outputs": [],
   "source": [
    "sales_and_stores = pd.merge(left=sales_df, right=stores_df, on='STOREID', how='left')"
   ]
  },
  {
   "cell_type": "code",
   "execution_count": 130,
   "metadata": {},
   "outputs": [
    {
     "data": {
      "text/plain": [
       "(8052, 7)"
      ]
     },
     "execution_count": 130,
     "metadata": {},
     "output_type": "execute_result"
    }
   ],
   "source": [
    "sales_and_stores.shape"
   ]
  },
  {
   "cell_type": "markdown",
   "metadata": {},
   "source": [
    "Объединяем две получившиеся таблицы по `PRODID`, чтобы получить единую таблицу со всей необходимой информацией по продажам"
   ]
  },
  {
   "cell_type": "code",
   "execution_count": 131,
   "metadata": {},
   "outputs": [],
   "source": [
    "raw_sales = pd.merge(left=sales_and_stores, right=prod_and_groups, on='PRODID', how='left')"
   ]
  },
  {
   "cell_type": "code",
   "execution_count": 132,
   "metadata": {},
   "outputs": [
    {
     "data": {
      "text/html": [
       "<div>\n",
       "<style scoped>\n",
       "    .dataframe tbody tr th:only-of-type {\n",
       "        vertical-align: middle;\n",
       "    }\n",
       "\n",
       "    .dataframe tbody tr th {\n",
       "        vertical-align: top;\n",
       "    }\n",
       "\n",
       "    .dataframe thead th {\n",
       "        text-align: right;\n",
       "    }\n",
       "</style>\n",
       "<table border=\"1\" class=\"dataframe\">\n",
       "  <thead>\n",
       "    <tr style=\"text-align: right;\">\n",
       "      <th></th>\n",
       "      <th>DATE</th>\n",
       "      <th>STOREID</th>\n",
       "      <th>PRODID</th>\n",
       "      <th>HOUR</th>\n",
       "      <th>COUNT</th>\n",
       "      <th>SUM</th>\n",
       "      <th>NAME_x</th>\n",
       "      <th>NAME_y</th>\n",
       "      <th>FKGCODE</th>\n",
       "      <th>FKGNAME</th>\n",
       "    </tr>\n",
       "  </thead>\n",
       "  <tbody>\n",
       "    <tr>\n",
       "      <th>0</th>\n",
       "      <td>2004-01-01</td>\n",
       "      <td>1</td>\n",
       "      <td>31052</td>\n",
       "      <td>13</td>\n",
       "      <td>1</td>\n",
       "      <td>56.50</td>\n",
       "      <td>Аптека 1</td>\n",
       "      <td>Ингалипт аэроз. бал.аэроз.алюм. 30 мл пач.карт...</td>\n",
       "      <td>247</td>\n",
       "      <td>Антисептики и дезинфицирующие средства</td>\n",
       "    </tr>\n",
       "    <tr>\n",
       "      <th>1</th>\n",
       "      <td>2004-01-01</td>\n",
       "      <td>1</td>\n",
       "      <td>36259</td>\n",
       "      <td>16</td>\n",
       "      <td>1</td>\n",
       "      <td>72.48</td>\n",
       "      <td>Аптека 1</td>\n",
       "      <td>Компливит табл.п.о. бан.полимерн. 60 пач.карто...</td>\n",
       "      <td>198</td>\n",
       "      <td>Витамины и витаминоподобные средства</td>\n",
       "    </tr>\n",
       "    <tr>\n",
       "      <th>2</th>\n",
       "      <td>2004-01-01</td>\n",
       "      <td>1</td>\n",
       "      <td>40345</td>\n",
       "      <td>15</td>\n",
       "      <td>1</td>\n",
       "      <td>15.84</td>\n",
       "      <td>Аптека 1</td>\n",
       "      <td>Линимент бальзамический (по Вишневскому) линим...</td>\n",
       "      <td>247</td>\n",
       "      <td>Антисептики и дезинфицирующие средства</td>\n",
       "    </tr>\n",
       "    <tr>\n",
       "      <th>3</th>\n",
       "      <td>2004-01-01</td>\n",
       "      <td>1</td>\n",
       "      <td>65841</td>\n",
       "      <td>14</td>\n",
       "      <td>1</td>\n",
       "      <td>163.02</td>\n",
       "      <td>Аптека 1</td>\n",
       "      <td>Стрепсилс Плюс спрей доз. фл.с дозат. 20 мл ко...</td>\n",
       "      <td>247</td>\n",
       "      <td>Антисептики и дезинфицирующие средства</td>\n",
       "    </tr>\n",
       "    <tr>\n",
       "      <th>4</th>\n",
       "      <td>2004-01-01</td>\n",
       "      <td>1</td>\n",
       "      <td>82545</td>\n",
       "      <td>13</td>\n",
       "      <td>1</td>\n",
       "      <td>173.32</td>\n",
       "      <td>Аптека 1</td>\n",
       "      <td>Арбидол-ЛЭНС табл.п.о. 0,1 г бл. 10 кор. 1 Дал...</td>\n",
       "      <td>33</td>\n",
       "      <td>Иммуномодуляторы</td>\n",
       "    </tr>\n",
       "    <tr>\n",
       "      <th>5</th>\n",
       "      <td>2004-01-01</td>\n",
       "      <td>1</td>\n",
       "      <td>83563</td>\n",
       "      <td>13</td>\n",
       "      <td>1</td>\n",
       "      <td>47.95</td>\n",
       "      <td>Аптека 1</td>\n",
       "      <td>Доктор Тайсс Эвкалипт леденцы 50 г Dr. Theiss ...</td>\n",
       "      <td>247</td>\n",
       "      <td>Антисептики и дезинфицирующие средства</td>\n",
       "    </tr>\n",
       "    <tr>\n",
       "      <th>6</th>\n",
       "      <td>2004-01-02</td>\n",
       "      <td>1</td>\n",
       "      <td>2291</td>\n",
       "      <td>20</td>\n",
       "      <td>1</td>\n",
       "      <td>276.80</td>\n",
       "      <td>Аптека 1</td>\n",
       "      <td>Кальций-Д_3 Никомед табл.жев. с апельс. фл. 10...</td>\n",
       "      <td>198</td>\n",
       "      <td>Витамины и витаминоподобные средства</td>\n",
       "    </tr>\n",
       "    <tr>\n",
       "      <th>7</th>\n",
       "      <td>2004-01-02</td>\n",
       "      <td>1</td>\n",
       "      <td>11291</td>\n",
       "      <td>18</td>\n",
       "      <td>1</td>\n",
       "      <td>86.94</td>\n",
       "      <td>Аптека 1</td>\n",
       "      <td>Арбидол-ЛЭНС табл.п.о. 0,05 г уп.контурн.яч. 1...</td>\n",
       "      <td>33</td>\n",
       "      <td>Иммуномодуляторы</td>\n",
       "    </tr>\n",
       "    <tr>\n",
       "      <th>8</th>\n",
       "      <td>2004-01-02</td>\n",
       "      <td>1</td>\n",
       "      <td>24061</td>\n",
       "      <td>19</td>\n",
       "      <td>1</td>\n",
       "      <td>156.29</td>\n",
       "      <td>Аптека 1</td>\n",
       "      <td>Гриппферон капли наз. 10000 МЕ/мл фл.-кап. 10 ...</td>\n",
       "      <td>33</td>\n",
       "      <td>Иммуномодуляторы</td>\n",
       "    </tr>\n",
       "    <tr>\n",
       "      <th>9</th>\n",
       "      <td>2004-01-02</td>\n",
       "      <td>1</td>\n",
       "      <td>27649</td>\n",
       "      <td>15</td>\n",
       "      <td>1</td>\n",
       "      <td>210.50</td>\n",
       "      <td>Аптека 1</td>\n",
       "      <td>Доппельгерц Женьшень Актив эликсир фл.темн.сте...</td>\n",
       "      <td>48</td>\n",
       "      <td>Общетонизирующие средства и адаптогены</td>\n",
       "    </tr>\n",
       "  </tbody>\n",
       "</table>\n",
       "</div>"
      ],
      "text/plain": [
       "         DATE  STOREID  PRODID  HOUR  COUNT     SUM    NAME_x  \\\n",
       "0  2004-01-01        1   31052    13      1   56.50  Аптека 1   \n",
       "1  2004-01-01        1   36259    16      1   72.48  Аптека 1   \n",
       "2  2004-01-01        1   40345    15      1   15.84  Аптека 1   \n",
       "3  2004-01-01        1   65841    14      1  163.02  Аптека 1   \n",
       "4  2004-01-01        1   82545    13      1  173.32  Аптека 1   \n",
       "5  2004-01-01        1   83563    13      1   47.95  Аптека 1   \n",
       "6  2004-01-02        1    2291    20      1  276.80  Аптека 1   \n",
       "7  2004-01-02        1   11291    18      1   86.94  Аптека 1   \n",
       "8  2004-01-02        1   24061    19      1  156.29  Аптека 1   \n",
       "9  2004-01-02        1   27649    15      1  210.50  Аптека 1   \n",
       "\n",
       "                                              NAME_y  FKGCODE  \\\n",
       "0  Ингалипт аэроз. бал.аэроз.алюм. 30 мл пач.карт...      247   \n",
       "1  Компливит табл.п.о. бан.полимерн. 60 пач.карто...      198   \n",
       "2  Линимент бальзамический (по Вишневскому) линим...      247   \n",
       "3  Стрепсилс Плюс спрей доз. фл.с дозат. 20 мл ко...      247   \n",
       "4  Арбидол-ЛЭНС табл.п.о. 0,1 г бл. 10 кор. 1 Дал...       33   \n",
       "5  Доктор Тайсс Эвкалипт леденцы 50 г Dr. Theiss ...      247   \n",
       "6  Кальций-Д_3 Никомед табл.жев. с апельс. фл. 10...      198   \n",
       "7  Арбидол-ЛЭНС табл.п.о. 0,05 г уп.контурн.яч. 1...       33   \n",
       "8  Гриппферон капли наз. 10000 МЕ/мл фл.-кап. 10 ...       33   \n",
       "9  Доппельгерц Женьшень Актив эликсир фл.темн.сте...       48   \n",
       "\n",
       "                                  FKGNAME  \n",
       "0  Антисептики и дезинфицирующие средства  \n",
       "1    Витамины и витаминоподобные средства  \n",
       "2  Антисептики и дезинфицирующие средства  \n",
       "3  Антисептики и дезинфицирующие средства  \n",
       "4                        Иммуномодуляторы  \n",
       "5  Антисептики и дезинфицирующие средства  \n",
       "6    Витамины и витаминоподобные средства  \n",
       "7                        Иммуномодуляторы  \n",
       "8                        Иммуномодуляторы  \n",
       "9  Общетонизирующие средства и адаптогены  "
      ]
     },
     "execution_count": 132,
     "metadata": {},
     "output_type": "execute_result"
    }
   ],
   "source": [
    "raw_sales.head(10)"
   ]
  },
  {
   "cell_type": "code",
   "execution_count": 133,
   "metadata": {},
   "outputs": [
    {
     "data": {
      "text/plain": [
       "(8052, 10)"
      ]
     },
     "execution_count": 133,
     "metadata": {},
     "output_type": "execute_result"
    }
   ],
   "source": [
    "raw_sales.shape"
   ]
  },
  {
   "cell_type": "code",
   "execution_count": 134,
   "metadata": {},
   "outputs": [],
   "source": [
    "raw_sales.to_csv('Part1/raw_sales.csv', header=True, index=False)"
   ]
  },
  {
   "cell_type": "markdown",
   "metadata": {},
   "source": [
    "### Преобразование даты в pandas.datetime"
   ]
  },
  {
   "cell_type": "code",
   "execution_count": 5,
   "metadata": {},
   "outputs": [],
   "source": [
    "raw_sales = pd.read_csv('Part1/raw_sales.csv', \n",
    "                        parse_dates=['DATE'], \n",
    "                        infer_datetime_format=True)"
   ]
  },
  {
   "cell_type": "code",
   "execution_count": 6,
   "metadata": {},
   "outputs": [
    {
     "data": {
      "text/html": [
       "<div>\n",
       "<style scoped>\n",
       "    .dataframe tbody tr th:only-of-type {\n",
       "        vertical-align: middle;\n",
       "    }\n",
       "\n",
       "    .dataframe tbody tr th {\n",
       "        vertical-align: top;\n",
       "    }\n",
       "\n",
       "    .dataframe thead th {\n",
       "        text-align: right;\n",
       "    }\n",
       "</style>\n",
       "<table border=\"1\" class=\"dataframe\">\n",
       "  <thead>\n",
       "    <tr style=\"text-align: right;\">\n",
       "      <th></th>\n",
       "      <th>DATE</th>\n",
       "      <th>STOREID</th>\n",
       "      <th>PRODID</th>\n",
       "      <th>HOUR</th>\n",
       "      <th>COUNT</th>\n",
       "      <th>SUM</th>\n",
       "      <th>NAME_x</th>\n",
       "      <th>NAME_y</th>\n",
       "      <th>FKGCODE</th>\n",
       "      <th>FKGNAME</th>\n",
       "    </tr>\n",
       "  </thead>\n",
       "  <tbody>\n",
       "    <tr>\n",
       "      <th>0</th>\n",
       "      <td>2004-01-01</td>\n",
       "      <td>1</td>\n",
       "      <td>31052</td>\n",
       "      <td>13</td>\n",
       "      <td>1</td>\n",
       "      <td>56.50</td>\n",
       "      <td>Аптека 1</td>\n",
       "      <td>Ингалипт аэроз. бал.аэроз.алюм. 30 мл пач.карт...</td>\n",
       "      <td>247</td>\n",
       "      <td>Антисептики и дезинфицирующие средства</td>\n",
       "    </tr>\n",
       "    <tr>\n",
       "      <th>1</th>\n",
       "      <td>2004-01-01</td>\n",
       "      <td>1</td>\n",
       "      <td>36259</td>\n",
       "      <td>16</td>\n",
       "      <td>1</td>\n",
       "      <td>72.48</td>\n",
       "      <td>Аптека 1</td>\n",
       "      <td>Компливит табл.п.о. бан.полимерн. 60 пач.карто...</td>\n",
       "      <td>198</td>\n",
       "      <td>Витамины и витаминоподобные средства</td>\n",
       "    </tr>\n",
       "    <tr>\n",
       "      <th>2</th>\n",
       "      <td>2004-01-01</td>\n",
       "      <td>1</td>\n",
       "      <td>40345</td>\n",
       "      <td>15</td>\n",
       "      <td>1</td>\n",
       "      <td>15.84</td>\n",
       "      <td>Аптека 1</td>\n",
       "      <td>Линимент бальзамический (по Вишневскому) линим...</td>\n",
       "      <td>247</td>\n",
       "      <td>Антисептики и дезинфицирующие средства</td>\n",
       "    </tr>\n",
       "    <tr>\n",
       "      <th>3</th>\n",
       "      <td>2004-01-01</td>\n",
       "      <td>1</td>\n",
       "      <td>65841</td>\n",
       "      <td>14</td>\n",
       "      <td>1</td>\n",
       "      <td>163.02</td>\n",
       "      <td>Аптека 1</td>\n",
       "      <td>Стрепсилс Плюс спрей доз. фл.с дозат. 20 мл ко...</td>\n",
       "      <td>247</td>\n",
       "      <td>Антисептики и дезинфицирующие средства</td>\n",
       "    </tr>\n",
       "    <tr>\n",
       "      <th>4</th>\n",
       "      <td>2004-01-01</td>\n",
       "      <td>1</td>\n",
       "      <td>82545</td>\n",
       "      <td>13</td>\n",
       "      <td>1</td>\n",
       "      <td>173.32</td>\n",
       "      <td>Аптека 1</td>\n",
       "      <td>Арбидол-ЛЭНС табл.п.о. 0,1 г бл. 10 кор. 1 Дал...</td>\n",
       "      <td>33</td>\n",
       "      <td>Иммуномодуляторы</td>\n",
       "    </tr>\n",
       "    <tr>\n",
       "      <th>5</th>\n",
       "      <td>2004-01-01</td>\n",
       "      <td>1</td>\n",
       "      <td>83563</td>\n",
       "      <td>13</td>\n",
       "      <td>1</td>\n",
       "      <td>47.95</td>\n",
       "      <td>Аптека 1</td>\n",
       "      <td>Доктор Тайсс Эвкалипт леденцы 50 г Dr. Theiss ...</td>\n",
       "      <td>247</td>\n",
       "      <td>Антисептики и дезинфицирующие средства</td>\n",
       "    </tr>\n",
       "    <tr>\n",
       "      <th>6</th>\n",
       "      <td>2004-01-02</td>\n",
       "      <td>1</td>\n",
       "      <td>2291</td>\n",
       "      <td>20</td>\n",
       "      <td>1</td>\n",
       "      <td>276.80</td>\n",
       "      <td>Аптека 1</td>\n",
       "      <td>Кальций-Д_3 Никомед табл.жев. с апельс. фл. 10...</td>\n",
       "      <td>198</td>\n",
       "      <td>Витамины и витаминоподобные средства</td>\n",
       "    </tr>\n",
       "    <tr>\n",
       "      <th>7</th>\n",
       "      <td>2004-01-02</td>\n",
       "      <td>1</td>\n",
       "      <td>11291</td>\n",
       "      <td>18</td>\n",
       "      <td>1</td>\n",
       "      <td>86.94</td>\n",
       "      <td>Аптека 1</td>\n",
       "      <td>Арбидол-ЛЭНС табл.п.о. 0,05 г уп.контурн.яч. 1...</td>\n",
       "      <td>33</td>\n",
       "      <td>Иммуномодуляторы</td>\n",
       "    </tr>\n",
       "    <tr>\n",
       "      <th>8</th>\n",
       "      <td>2004-01-02</td>\n",
       "      <td>1</td>\n",
       "      <td>24061</td>\n",
       "      <td>19</td>\n",
       "      <td>1</td>\n",
       "      <td>156.29</td>\n",
       "      <td>Аптека 1</td>\n",
       "      <td>Гриппферон капли наз. 10000 МЕ/мл фл.-кап. 10 ...</td>\n",
       "      <td>33</td>\n",
       "      <td>Иммуномодуляторы</td>\n",
       "    </tr>\n",
       "    <tr>\n",
       "      <th>9</th>\n",
       "      <td>2004-01-02</td>\n",
       "      <td>1</td>\n",
       "      <td>27649</td>\n",
       "      <td>15</td>\n",
       "      <td>1</td>\n",
       "      <td>210.50</td>\n",
       "      <td>Аптека 1</td>\n",
       "      <td>Доппельгерц Женьшень Актив эликсир фл.темн.сте...</td>\n",
       "      <td>48</td>\n",
       "      <td>Общетонизирующие средства и адаптогены</td>\n",
       "    </tr>\n",
       "  </tbody>\n",
       "</table>\n",
       "</div>"
      ],
      "text/plain": [
       "        DATE  STOREID  PRODID  HOUR  COUNT     SUM    NAME_x  \\\n",
       "0 2004-01-01        1   31052    13      1   56.50  Аптека 1   \n",
       "1 2004-01-01        1   36259    16      1   72.48  Аптека 1   \n",
       "2 2004-01-01        1   40345    15      1   15.84  Аптека 1   \n",
       "3 2004-01-01        1   65841    14      1  163.02  Аптека 1   \n",
       "4 2004-01-01        1   82545    13      1  173.32  Аптека 1   \n",
       "5 2004-01-01        1   83563    13      1   47.95  Аптека 1   \n",
       "6 2004-01-02        1    2291    20      1  276.80  Аптека 1   \n",
       "7 2004-01-02        1   11291    18      1   86.94  Аптека 1   \n",
       "8 2004-01-02        1   24061    19      1  156.29  Аптека 1   \n",
       "9 2004-01-02        1   27649    15      1  210.50  Аптека 1   \n",
       "\n",
       "                                              NAME_y  FKGCODE  \\\n",
       "0  Ингалипт аэроз. бал.аэроз.алюм. 30 мл пач.карт...      247   \n",
       "1  Компливит табл.п.о. бан.полимерн. 60 пач.карто...      198   \n",
       "2  Линимент бальзамический (по Вишневскому) линим...      247   \n",
       "3  Стрепсилс Плюс спрей доз. фл.с дозат. 20 мл ко...      247   \n",
       "4  Арбидол-ЛЭНС табл.п.о. 0,1 г бл. 10 кор. 1 Дал...       33   \n",
       "5  Доктор Тайсс Эвкалипт леденцы 50 г Dr. Theiss ...      247   \n",
       "6  Кальций-Д_3 Никомед табл.жев. с апельс. фл. 10...      198   \n",
       "7  Арбидол-ЛЭНС табл.п.о. 0,05 г уп.контурн.яч. 1...       33   \n",
       "8  Гриппферон капли наз. 10000 МЕ/мл фл.-кап. 10 ...       33   \n",
       "9  Доппельгерц Женьшень Актив эликсир фл.темн.сте...       48   \n",
       "\n",
       "                                  FKGNAME  \n",
       "0  Антисептики и дезинфицирующие средства  \n",
       "1    Витамины и витаминоподобные средства  \n",
       "2  Антисептики и дезинфицирующие средства  \n",
       "3  Антисептики и дезинфицирующие средства  \n",
       "4                        Иммуномодуляторы  \n",
       "5  Антисептики и дезинфицирующие средства  \n",
       "6    Витамины и витаминоподобные средства  \n",
       "7                        Иммуномодуляторы  \n",
       "8                        Иммуномодуляторы  \n",
       "9  Общетонизирующие средства и адаптогены  "
      ]
     },
     "execution_count": 6,
     "metadata": {},
     "output_type": "execute_result"
    }
   ],
   "source": [
    "raw_sales.head(10)"
   ]
  },
  {
   "cell_type": "code",
   "execution_count": 7,
   "metadata": {},
   "outputs": [
    {
     "name": "stdout",
     "output_type": "stream",
     "text": [
      "<class 'pandas.core.frame.DataFrame'>\n",
      "RangeIndex: 8052 entries, 0 to 8051\n",
      "Data columns (total 10 columns):\n",
      "DATE       8052 non-null datetime64[ns]\n",
      "STOREID    8052 non-null int64\n",
      "PRODID     8052 non-null int64\n",
      "HOUR       8052 non-null int64\n",
      "COUNT      8052 non-null int64\n",
      "SUM        8052 non-null float64\n",
      "NAME_x     8052 non-null object\n",
      "NAME_y     8052 non-null object\n",
      "FKGCODE    8052 non-null int64\n",
      "FKGNAME    8052 non-null object\n",
      "dtypes: datetime64[ns](1), float64(1), int64(5), object(3)\n",
      "memory usage: 629.1+ KB\n"
     ]
    }
   ],
   "source": [
    "raw_sales.info()"
   ]
  },
  {
   "cell_type": "markdown",
   "metadata": {},
   "source": [
    "### Задание 3"
   ]
  },
  {
   "cell_type": "markdown",
   "metadata": {},
   "source": [
    "Построить куб по трем измерениям (торговая точки, неделя года, товарная группа), в ячейках которого отображается сумма и объем (количество проданных единиц продукции) продаж за последние три недели, имеющиеся в базе данных. Какая торговая точка приносит наибольшую сумму продаж? Какая товарная группа имеет максимальную сумму продаж? Постройте кросс-диаграмму сумм продаж: общие продажи, продажи по торговым точкам, продажи по товарным группам."
   ]
  },
  {
   "cell_type": "code",
   "execution_count": 9,
   "metadata": {},
   "outputs": [],
   "source": [
    "# фильтруем данные: возьмем только последние 3 недели\n",
    "last_3weeks = raw_sales[raw_sales.DATE.dt.week > 50].copy()"
   ]
  },
  {
   "cell_type": "code",
   "execution_count": 11,
   "metadata": {},
   "outputs": [],
   "source": [
    "# создадим колонку неделя года\n",
    "last_3weeks['week'] = last_3weeks.DATE.dt.week"
   ]
  },
  {
   "cell_type": "code",
   "execution_count": 12,
   "metadata": {},
   "outputs": [
    {
     "data": {
      "text/html": [
       "<div>\n",
       "<style scoped>\n",
       "    .dataframe tbody tr th:only-of-type {\n",
       "        vertical-align: middle;\n",
       "    }\n",
       "\n",
       "    .dataframe tbody tr th {\n",
       "        vertical-align: top;\n",
       "    }\n",
       "\n",
       "    .dataframe thead th {\n",
       "        text-align: right;\n",
       "    }\n",
       "</style>\n",
       "<table border=\"1\" class=\"dataframe\">\n",
       "  <thead>\n",
       "    <tr style=\"text-align: right;\">\n",
       "      <th></th>\n",
       "      <th>DATE</th>\n",
       "      <th>STOREID</th>\n",
       "      <th>PRODID</th>\n",
       "      <th>HOUR</th>\n",
       "      <th>COUNT</th>\n",
       "      <th>SUM</th>\n",
       "      <th>NAME_x</th>\n",
       "      <th>NAME_y</th>\n",
       "      <th>FKGCODE</th>\n",
       "      <th>FKGNAME</th>\n",
       "      <th>week</th>\n",
       "    </tr>\n",
       "  </thead>\n",
       "  <tbody>\n",
       "    <tr>\n",
       "      <th>7288</th>\n",
       "      <td>2004-12-13</td>\n",
       "      <td>1</td>\n",
       "      <td>24061</td>\n",
       "      <td>17</td>\n",
       "      <td>1</td>\n",
       "      <td>146.30</td>\n",
       "      <td>Аптека 1</td>\n",
       "      <td>Гриппферон капли наз. 10000 МЕ/мл фл.-кап. 10 ...</td>\n",
       "      <td>33</td>\n",
       "      <td>Иммуномодуляторы</td>\n",
       "      <td>51</td>\n",
       "    </tr>\n",
       "    <tr>\n",
       "      <th>7289</th>\n",
       "      <td>2004-12-13</td>\n",
       "      <td>1</td>\n",
       "      <td>24061</td>\n",
       "      <td>18</td>\n",
       "      <td>1</td>\n",
       "      <td>147.95</td>\n",
       "      <td>Аптека 1</td>\n",
       "      <td>Гриппферон капли наз. 10000 МЕ/мл фл.-кап. 10 ...</td>\n",
       "      <td>33</td>\n",
       "      <td>Иммуномодуляторы</td>\n",
       "      <td>51</td>\n",
       "    </tr>\n",
       "    <tr>\n",
       "      <th>7290</th>\n",
       "      <td>2004-12-13</td>\n",
       "      <td>1</td>\n",
       "      <td>31050</td>\n",
       "      <td>11</td>\n",
       "      <td>1</td>\n",
       "      <td>42.66</td>\n",
       "      <td>Аптека 1</td>\n",
       "      <td>Ингалипт аэроз. бал.аэроз.алюм. 30 мл [с доз.у...</td>\n",
       "      <td>247</td>\n",
       "      <td>Антисептики и дезинфицирующие средства</td>\n",
       "      <td>51</td>\n",
       "    </tr>\n",
       "    <tr>\n",
       "      <th>7291</th>\n",
       "      <td>2004-12-13</td>\n",
       "      <td>1</td>\n",
       "      <td>31050</td>\n",
       "      <td>18</td>\n",
       "      <td>1</td>\n",
       "      <td>42.66</td>\n",
       "      <td>Аптека 1</td>\n",
       "      <td>Ингалипт аэроз. бал.аэроз.алюм. 30 мл [с доз.у...</td>\n",
       "      <td>247</td>\n",
       "      <td>Антисептики и дезинфицирующие средства</td>\n",
       "      <td>51</td>\n",
       "    </tr>\n",
       "    <tr>\n",
       "      <th>7292</th>\n",
       "      <td>2004-12-13</td>\n",
       "      <td>1</td>\n",
       "      <td>36259</td>\n",
       "      <td>15</td>\n",
       "      <td>1</td>\n",
       "      <td>75.10</td>\n",
       "      <td>Аптека 1</td>\n",
       "      <td>Компливит табл.п.о. бан.полимерн. 60 пач.карто...</td>\n",
       "      <td>198</td>\n",
       "      <td>Витамины и витаминоподобные средства</td>\n",
       "      <td>51</td>\n",
       "    </tr>\n",
       "  </tbody>\n",
       "</table>\n",
       "</div>"
      ],
      "text/plain": [
       "           DATE  STOREID  PRODID  HOUR  COUNT     SUM    NAME_x  \\\n",
       "7288 2004-12-13        1   24061    17      1  146.30  Аптека 1   \n",
       "7289 2004-12-13        1   24061    18      1  147.95  Аптека 1   \n",
       "7290 2004-12-13        1   31050    11      1   42.66  Аптека 1   \n",
       "7291 2004-12-13        1   31050    18      1   42.66  Аптека 1   \n",
       "7292 2004-12-13        1   36259    15      1   75.10  Аптека 1   \n",
       "\n",
       "                                                 NAME_y  FKGCODE  \\\n",
       "7288  Гриппферон капли наз. 10000 МЕ/мл фл.-кап. 10 ...       33   \n",
       "7289  Гриппферон капли наз. 10000 МЕ/мл фл.-кап. 10 ...       33   \n",
       "7290  Ингалипт аэроз. бал.аэроз.алюм. 30 мл [с доз.у...      247   \n",
       "7291  Ингалипт аэроз. бал.аэроз.алюм. 30 мл [с доз.у...      247   \n",
       "7292  Компливит табл.п.о. бан.полимерн. 60 пач.карто...      198   \n",
       "\n",
       "                                     FKGNAME  week  \n",
       "7288                        Иммуномодуляторы    51  \n",
       "7289                        Иммуномодуляторы    51  \n",
       "7290  Антисептики и дезинфицирующие средства    51  \n",
       "7291  Антисептики и дезинфицирующие средства    51  \n",
       "7292    Витамины и витаминоподобные средства    51  "
      ]
     },
     "execution_count": 12,
     "metadata": {},
     "output_type": "execute_result"
    }
   ],
   "source": [
    "last_3weeks.head()"
   ]
  },
  {
   "cell_type": "code",
   "execution_count": 14,
   "metadata": {},
   "outputs": [],
   "source": [
    "# Проведем группировку данных по торговой точке, неделе и товарной группе\n",
    "# покажем сумму и объем продаж для каждой из полученных групп\n",
    "grouped_3weeks = last_3weeks.groupby(['NAME_x', 'week', 'FKGNAME'],\n",
    "                                     as_index=False).agg({'SUM':'sum', 'COUNT':'sum'})"
   ]
  },
  {
   "cell_type": "code",
   "execution_count": 15,
   "metadata": {
    "scrolled": true
   },
   "outputs": [
    {
     "data": {
      "text/html": [
       "<div>\n",
       "<style scoped>\n",
       "    .dataframe tbody tr th:only-of-type {\n",
       "        vertical-align: middle;\n",
       "    }\n",
       "\n",
       "    .dataframe tbody tr th {\n",
       "        vertical-align: top;\n",
       "    }\n",
       "\n",
       "    .dataframe thead th {\n",
       "        text-align: right;\n",
       "    }\n",
       "</style>\n",
       "<table border=\"1\" class=\"dataframe\">\n",
       "  <thead>\n",
       "    <tr style=\"text-align: right;\">\n",
       "      <th></th>\n",
       "      <th>NAME_x</th>\n",
       "      <th>week</th>\n",
       "      <th>FKGNAME</th>\n",
       "      <th>SUM</th>\n",
       "      <th>COUNT</th>\n",
       "    </tr>\n",
       "  </thead>\n",
       "  <tbody>\n",
       "    <tr>\n",
       "      <th>0</th>\n",
       "      <td>Аптека 1</td>\n",
       "      <td>51</td>\n",
       "      <td>Антисептики и дезинфицирующие средства</td>\n",
       "      <td>2888.70</td>\n",
       "      <td>75</td>\n",
       "    </tr>\n",
       "    <tr>\n",
       "      <th>1</th>\n",
       "      <td>Аптека 1</td>\n",
       "      <td>51</td>\n",
       "      <td>Витамины и витаминоподобные средства</td>\n",
       "      <td>1382.92</td>\n",
       "      <td>17</td>\n",
       "    </tr>\n",
       "    <tr>\n",
       "      <th>2</th>\n",
       "      <td>Аптека 1</td>\n",
       "      <td>51</td>\n",
       "      <td>Иммуномодуляторы</td>\n",
       "      <td>2806.17</td>\n",
       "      <td>22</td>\n",
       "    </tr>\n",
       "    <tr>\n",
       "      <th>3</th>\n",
       "      <td>Аптека 1</td>\n",
       "      <td>51</td>\n",
       "      <td>Местные анестетики</td>\n",
       "      <td>184.80</td>\n",
       "      <td>10</td>\n",
       "    </tr>\n",
       "    <tr>\n",
       "      <th>4</th>\n",
       "      <td>Аптека 1</td>\n",
       "      <td>51</td>\n",
       "      <td>Микро- и макроэлементы</td>\n",
       "      <td>76.07</td>\n",
       "      <td>4</td>\n",
       "    </tr>\n",
       "  </tbody>\n",
       "</table>\n",
       "</div>"
      ],
      "text/plain": [
       "     NAME_x  week                                 FKGNAME      SUM  COUNT\n",
       "0  Аптека 1    51  Антисептики и дезинфицирующие средства  2888.70     75\n",
       "1  Аптека 1    51    Витамины и витаминоподобные средства  1382.92     17\n",
       "2  Аптека 1    51                        Иммуномодуляторы  2806.17     22\n",
       "3  Аптека 1    51                      Местные анестетики   184.80     10\n",
       "4  Аптека 1    51                  Микро- и макроэлементы    76.07      4"
      ]
     },
     "execution_count": 15,
     "metadata": {},
     "output_type": "execute_result"
    }
   ],
   "source": [
    "grouped_3weeks.head()"
   ]
  },
  {
   "cell_type": "markdown",
   "metadata": {},
   "source": [
    "#### Какая торговая точка приносит наибольшую сумму продаж? "
   ]
  },
  {
   "cell_type": "code",
   "execution_count": 35,
   "metadata": {},
   "outputs": [],
   "source": [
    "by_store = grouped_3weeks.groupby('NAME_x', as_index=False).agg({'SUM': 'sum'})"
   ]
  },
  {
   "cell_type": "code",
   "execution_count": 36,
   "metadata": {},
   "outputs": [
    {
     "data": {
      "text/html": [
       "<div>\n",
       "<style scoped>\n",
       "    .dataframe tbody tr th:only-of-type {\n",
       "        vertical-align: middle;\n",
       "    }\n",
       "\n",
       "    .dataframe tbody tr th {\n",
       "        vertical-align: top;\n",
       "    }\n",
       "\n",
       "    .dataframe thead th {\n",
       "        text-align: right;\n",
       "    }\n",
       "</style>\n",
       "<table border=\"1\" class=\"dataframe\">\n",
       "  <thead>\n",
       "    <tr style=\"text-align: right;\">\n",
       "      <th></th>\n",
       "      <th>NAME_x</th>\n",
       "      <th>SUM</th>\n",
       "    </tr>\n",
       "  </thead>\n",
       "  <tbody>\n",
       "    <tr>\n",
       "      <th>0</th>\n",
       "      <td>Аптека 1</td>\n",
       "      <td>20354.84</td>\n",
       "    </tr>\n",
       "    <tr>\n",
       "      <th>1</th>\n",
       "      <td>Аптека 2</td>\n",
       "      <td>12494.94</td>\n",
       "    </tr>\n",
       "    <tr>\n",
       "      <th>2</th>\n",
       "      <td>Аптека 3</td>\n",
       "      <td>26682.93</td>\n",
       "    </tr>\n",
       "  </tbody>\n",
       "</table>\n",
       "</div>"
      ],
      "text/plain": [
       "     NAME_x       SUM\n",
       "0  Аптека 1  20354.84\n",
       "1  Аптека 2  12494.94\n",
       "2  Аптека 3  26682.93"
      ]
     },
     "execution_count": 36,
     "metadata": {},
     "output_type": "execute_result"
    }
   ],
   "source": [
    "by_store"
   ]
  },
  {
   "cell_type": "markdown",
   "metadata": {},
   "source": [
    "За последние три недели наибольшая сумма продаж у Аптеки №3 - 26682.93"
   ]
  },
  {
   "cell_type": "markdown",
   "metadata": {},
   "source": [
    "#### Какая товарная группа имеет максимальную сумму продаж?"
   ]
  },
  {
   "cell_type": "code",
   "execution_count": 37,
   "metadata": {},
   "outputs": [],
   "source": [
    "by_group = grouped_3weeks.groupby('FKGNAME', as_index=False).agg({'SUM': 'sum'})"
   ]
  },
  {
   "cell_type": "code",
   "execution_count": 38,
   "metadata": {},
   "outputs": [
    {
     "data": {
      "text/html": [
       "<div>\n",
       "<style scoped>\n",
       "    .dataframe tbody tr th:only-of-type {\n",
       "        vertical-align: middle;\n",
       "    }\n",
       "\n",
       "    .dataframe tbody tr th {\n",
       "        vertical-align: top;\n",
       "    }\n",
       "\n",
       "    .dataframe thead th {\n",
       "        text-align: right;\n",
       "    }\n",
       "</style>\n",
       "<table border=\"1\" class=\"dataframe\">\n",
       "  <thead>\n",
       "    <tr style=\"text-align: right;\">\n",
       "      <th></th>\n",
       "      <th>FKGNAME</th>\n",
       "      <th>SUM</th>\n",
       "    </tr>\n",
       "  </thead>\n",
       "  <tbody>\n",
       "    <tr>\n",
       "      <th>0</th>\n",
       "      <td>Антисептики и дезинфицирующие средства</td>\n",
       "      <td>18894.73</td>\n",
       "    </tr>\n",
       "    <tr>\n",
       "      <th>1</th>\n",
       "      <td>Витамины и витаминоподобные средства</td>\n",
       "      <td>15768.00</td>\n",
       "    </tr>\n",
       "    <tr>\n",
       "      <th>2</th>\n",
       "      <td>Желчегонные средства и препараты желчи</td>\n",
       "      <td>222.93</td>\n",
       "    </tr>\n",
       "    <tr>\n",
       "      <th>3</th>\n",
       "      <td>Иммуномодуляторы</td>\n",
       "      <td>20750.51</td>\n",
       "    </tr>\n",
       "    <tr>\n",
       "      <th>4</th>\n",
       "      <td>Местные анестетики</td>\n",
       "      <td>1076.88</td>\n",
       "    </tr>\n",
       "    <tr>\n",
       "      <th>5</th>\n",
       "      <td>Микро- и макроэлементы</td>\n",
       "      <td>788.65</td>\n",
       "    </tr>\n",
       "    <tr>\n",
       "      <th>6</th>\n",
       "      <td>Общетонизирующие средства и адаптогены</td>\n",
       "      <td>2031.01</td>\n",
       "    </tr>\n",
       "  </tbody>\n",
       "</table>\n",
       "</div>"
      ],
      "text/plain": [
       "                                  FKGNAME       SUM\n",
       "0  Антисептики и дезинфицирующие средства  18894.73\n",
       "1    Витамины и витаминоподобные средства  15768.00\n",
       "2  Желчегонные средства и препараты желчи    222.93\n",
       "3                        Иммуномодуляторы  20750.51\n",
       "4                      Местные анестетики   1076.88\n",
       "5                  Микро- и макроэлементы    788.65\n",
       "6  Общетонизирующие средства и адаптогены   2031.01"
      ]
     },
     "execution_count": 38,
     "metadata": {},
     "output_type": "execute_result"
    }
   ],
   "source": [
    "by_group"
   ]
  },
  {
   "cell_type": "markdown",
   "metadata": {},
   "source": [
    "За последние три недели наибольшая сумма продаж в группе \"Иммуномодуляторы\" - 20750.51"
   ]
  },
  {
   "cell_type": "markdown",
   "metadata": {},
   "source": [
    "#### Построим кросс-диаграммы "
   ]
  },
  {
   "cell_type": "code",
   "execution_count": 39,
   "metadata": {},
   "outputs": [],
   "source": [
    "by_week = grouped_3weeks.groupby('week', as_index=False).agg({'SUM': 'sum'})"
   ]
  },
  {
   "cell_type": "code",
   "execution_count": 60,
   "metadata": {},
   "outputs": [],
   "source": [
    "index = np.arange(len(by_week))\n",
    "values = by_week.SUM.values"
   ]
  },
  {
   "cell_type": "code",
   "execution_count": 61,
   "metadata": {},
   "outputs": [
    {
     "data": {
      "image/png": "[encoded data removed]",
      "text/plain": [
       "<Figure size 600x400 with 1 Axes>"
      ]
     },
     "metadata": {},
     "output_type": "display_data"
    }
   ],
   "source": [
    "plt.figure(num=None, figsize=(6, 4), dpi=100, facecolor='w', edgecolor='k')\n",
    "plt.bar(index, values)\n",
    "plt.ylabel('Сумма продаж', fontsize=10)\n",
    "plt.xlabel('Неделя', fontsize=10)\n",
    "plt.xticks(index, by_week.week, fontsize=8, rotation=0)\n",
    "plt.title('Общие продажи за последние 3 недели')\n",
    "plt.show()"
   ]
  },
  {
   "cell_type": "code",
   "execution_count": 62,
   "metadata": {},
   "outputs": [],
   "source": [
    "index = np.arange(len(by_store))\n",
    "values = by_store.SUM.values"
   ]
  },
  {
   "cell_type": "code",
   "execution_count": 63,
   "metadata": {},
   "outputs": [
    {
     "data": {
      "image/png": "[encoded data removed]",
      "text/plain": [
       "<Figure size 600x400 with 1 Axes>"
      ]
     },
     "metadata": {},
     "output_type": "display_data"
    }
   ],
   "source": [
    "plt.figure(num=None, figsize=(6, 4), dpi=100, facecolor='w', edgecolor='k')\n",
    "plt.bar(index, values)\n",
    "plt.ylabel('Сумма продаж', fontsize=10)\n",
    "plt.xlabel('Аптека', fontsize=10)\n",
    "plt.xticks(index, by_store.NAME_x, fontsize=8, rotation=0)\n",
    "plt.title('Общие продажи за последние 3 недели по аптекам')\n",
    "plt.show()"
   ]
  },
  {
   "cell_type": "code",
   "execution_count": 64,
   "metadata": {},
   "outputs": [],
   "source": [
    "by_group.sort_values(by='SUM', inplace=True, ascending=True)\n",
    "index = np.arange(len(by_group))\n",
    "values = by_group.SUM.values"
   ]
  },
  {
   "cell_type": "code",
   "execution_count": 65,
   "metadata": {},
   "outputs": [
    {
     "data": {
      "image/png": "[encoded data removed]",
      "text/plain": [
       "<Figure size 600x400 with 1 Axes>"
      ]
     },
     "metadata": {},
     "output_type": "display_data"
    }
   ],
   "source": [
    "plt.figure(num=None, figsize=(6, 4), dpi=100, facecolor='w', edgecolor='k')\n",
    "plt.barh(index, values)\n",
    "plt.ylabel('Группа', fontsize=10)\n",
    "plt.xlabel('Сумма продаж', fontsize=10)\n",
    "plt.yticks(index, by_group.FKGNAME, fontsize=8, rotation=0)\n",
    "plt.title('Общие продажи за последние 3 недели по группам')\n",
    "plt.show()"
   ]
  },
  {
   "cell_type": "markdown",
   "metadata": {},
   "source": [
    "### Задание 4"
   ]
  },
  {
   "cell_type": "markdown",
   "metadata": {},
   "source": [
    "Найти сумму максимальной и средней стоимости покупки за последний месяц от\n",
    "имеющихся данных."
   ]
  },
  {
   "cell_type": "code",
   "execution_count": 72,
   "metadata": {},
   "outputs": [],
   "source": [
    "# Отфильтруем таблицу по месяцу (декабрь) и будем использовать только колонку\n",
    "# с суммами продаж, используем стандартные функции max() и mean()\n",
    "max_sum = raw_sales.loc[raw_sales.DATE.dt.month == 12, 'SUM'].max()\n",
    "mean_sum = raw_sales.loc[raw_sales.DATE.dt.month == 12, 'SUM'].mean()"
   ]
  },
  {
   "cell_type": "code",
   "execution_count": 79,
   "metadata": {},
   "outputs": [
    {
     "data": {
      "text/plain": [
       "'Максимальная стоимость покупки в декабре: 1032.03, средняя - 77.42'"
      ]
     },
     "execution_count": 79,
     "metadata": {},
     "output_type": "execute_result"
    }
   ],
   "source": [
    "f'Максимальная стоимость покупки в декабре: {max_sum:.2f}, средняя - {mean_sum:.2f}'"
   ]
  },
  {
   "cell_type": "markdown",
   "metadata": {},
   "source": [
    "### Задание 9 "
   ]
  },
  {
   "cell_type": "markdown",
   "metadata": {},
   "source": [
    "Сформировать многомерный отчет и график загруженности торговых точек по дням\n",
    "месяца. Постройте линию тренда."
   ]
  },
  {
   "cell_type": "code",
   "execution_count": 8,
   "metadata": {},
   "outputs": [],
   "source": [
    "# Введем колонку день месяца в общую таблицу\n",
    "raw_sales['day_of_month'] = raw_sales.DATE.dt.day"
   ]
  },
  {
   "cell_type": "code",
   "execution_count": 9,
   "metadata": {},
   "outputs": [],
   "source": [
    "# Введем колонку месяц в общую таблицу\n",
    "raw_sales['month'] = raw_sales.DATE.dt.month"
   ]
  },
  {
   "cell_type": "code",
   "execution_count": 10,
   "metadata": {},
   "outputs": [
    {
     "data": {
      "text/html": [
       "<div>\n",
       "<style scoped>\n",
       "    .dataframe tbody tr th:only-of-type {\n",
       "        vertical-align: middle;\n",
       "    }\n",
       "\n",
       "    .dataframe tbody tr th {\n",
       "        vertical-align: top;\n",
       "    }\n",
       "\n",
       "    .dataframe thead th {\n",
       "        text-align: right;\n",
       "    }\n",
       "</style>\n",
       "<table border=\"1\" class=\"dataframe\">\n",
       "  <thead>\n",
       "    <tr style=\"text-align: right;\">\n",
       "      <th></th>\n",
       "      <th>DATE</th>\n",
       "      <th>STOREID</th>\n",
       "      <th>PRODID</th>\n",
       "      <th>HOUR</th>\n",
       "      <th>COUNT</th>\n",
       "      <th>SUM</th>\n",
       "      <th>NAME_x</th>\n",
       "      <th>NAME_y</th>\n",
       "      <th>FKGCODE</th>\n",
       "      <th>FKGNAME</th>\n",
       "      <th>day_of_month</th>\n",
       "      <th>month</th>\n",
       "    </tr>\n",
       "  </thead>\n",
       "  <tbody>\n",
       "    <tr>\n",
       "      <th>0</th>\n",
       "      <td>2004-01-01</td>\n",
       "      <td>1</td>\n",
       "      <td>31052</td>\n",
       "      <td>13</td>\n",
       "      <td>1</td>\n",
       "      <td>56.50</td>\n",
       "      <td>Аптека 1</td>\n",
       "      <td>Ингалипт аэроз. бал.аэроз.алюм. 30 мл пач.карт...</td>\n",
       "      <td>247</td>\n",
       "      <td>Антисептики и дезинфицирующие средства</td>\n",
       "      <td>1</td>\n",
       "      <td>1</td>\n",
       "    </tr>\n",
       "    <tr>\n",
       "      <th>1</th>\n",
       "      <td>2004-01-01</td>\n",
       "      <td>1</td>\n",
       "      <td>36259</td>\n",
       "      <td>16</td>\n",
       "      <td>1</td>\n",
       "      <td>72.48</td>\n",
       "      <td>Аптека 1</td>\n",
       "      <td>Компливит табл.п.о. бан.полимерн. 60 пач.карто...</td>\n",
       "      <td>198</td>\n",
       "      <td>Витамины и витаминоподобные средства</td>\n",
       "      <td>1</td>\n",
       "      <td>1</td>\n",
       "    </tr>\n",
       "    <tr>\n",
       "      <th>2</th>\n",
       "      <td>2004-01-01</td>\n",
       "      <td>1</td>\n",
       "      <td>40345</td>\n",
       "      <td>15</td>\n",
       "      <td>1</td>\n",
       "      <td>15.84</td>\n",
       "      <td>Аптека 1</td>\n",
       "      <td>Линимент бальзамический (по Вишневскому) линим...</td>\n",
       "      <td>247</td>\n",
       "      <td>Антисептики и дезинфицирующие средства</td>\n",
       "      <td>1</td>\n",
       "      <td>1</td>\n",
       "    </tr>\n",
       "    <tr>\n",
       "      <th>3</th>\n",
       "      <td>2004-01-01</td>\n",
       "      <td>1</td>\n",
       "      <td>65841</td>\n",
       "      <td>14</td>\n",
       "      <td>1</td>\n",
       "      <td>163.02</td>\n",
       "      <td>Аптека 1</td>\n",
       "      <td>Стрепсилс Плюс спрей доз. фл.с дозат. 20 мл ко...</td>\n",
       "      <td>247</td>\n",
       "      <td>Антисептики и дезинфицирующие средства</td>\n",
       "      <td>1</td>\n",
       "      <td>1</td>\n",
       "    </tr>\n",
       "    <tr>\n",
       "      <th>4</th>\n",
       "      <td>2004-01-01</td>\n",
       "      <td>1</td>\n",
       "      <td>82545</td>\n",
       "      <td>13</td>\n",
       "      <td>1</td>\n",
       "      <td>173.32</td>\n",
       "      <td>Аптека 1</td>\n",
       "      <td>Арбидол-ЛЭНС табл.п.о. 0,1 г бл. 10 кор. 1 Дал...</td>\n",
       "      <td>33</td>\n",
       "      <td>Иммуномодуляторы</td>\n",
       "      <td>1</td>\n",
       "      <td>1</td>\n",
       "    </tr>\n",
       "  </tbody>\n",
       "</table>\n",
       "</div>"
      ],
      "text/plain": [
       "        DATE  STOREID  PRODID  HOUR  COUNT     SUM    NAME_x  \\\n",
       "0 2004-01-01        1   31052    13      1   56.50  Аптека 1   \n",
       "1 2004-01-01        1   36259    16      1   72.48  Аптека 1   \n",
       "2 2004-01-01        1   40345    15      1   15.84  Аптека 1   \n",
       "3 2004-01-01        1   65841    14      1  163.02  Аптека 1   \n",
       "4 2004-01-01        1   82545    13      1  173.32  Аптека 1   \n",
       "\n",
       "                                              NAME_y  FKGCODE  \\\n",
       "0  Ингалипт аэроз. бал.аэроз.алюм. 30 мл пач.карт...      247   \n",
       "1  Компливит табл.п.о. бан.полимерн. 60 пач.карто...      198   \n",
       "2  Линимент бальзамический (по Вишневскому) линим...      247   \n",
       "3  Стрепсилс Плюс спрей доз. фл.с дозат. 20 мл ко...      247   \n",
       "4  Арбидол-ЛЭНС табл.п.о. 0,1 г бл. 10 кор. 1 Дал...       33   \n",
       "\n",
       "                                  FKGNAME  day_of_month  month  \n",
       "0  Антисептики и дезинфицирующие средства             1      1  \n",
       "1    Витамины и витаминоподобные средства             1      1  \n",
       "2  Антисептики и дезинфицирующие средства             1      1  \n",
       "3  Антисептики и дезинфицирующие средства             1      1  \n",
       "4                        Иммуномодуляторы             1      1  "
      ]
     },
     "execution_count": 10,
     "metadata": {},
     "output_type": "execute_result"
    }
   ],
   "source": [
    "raw_sales.head()"
   ]
  },
  {
   "cell_type": "code",
   "execution_count": 11,
   "metadata": {},
   "outputs": [],
   "source": [
    "# сгруппируем по месяцу и дню и подсчитаем объем продаж для каждого дня каждого месяца\n",
    "dom_counts = raw_sales.groupby(['month','day_of_month'], as_index=False).agg({'COUNT':'sum'})"
   ]
  },
  {
   "cell_type": "markdown",
   "metadata": {},
   "source": [
    "На графике ниже отражен тренд по объемам продаж в зависимости от дней месяца. Сплошная линия показывает среднее количество продаж в день месяца, серый полоса показывает отклонение от среднего."
   ]
  },
  {
   "cell_type": "code",
   "execution_count": 13,
   "metadata": {},
   "outputs": [
    {
     "data": {
      "image/png": "[encoded data removed]",
      "text/plain": [
       "<Figure size 640x480 with 1 Axes>"
      ]
     },
     "metadata": {},
     "output_type": "display_data"
    },
    {
     "data": {
      "text/plain": [
       "<ggplot: (-9223363310310794436)>"
      ]
     },
     "execution_count": 13,
     "metadata": {},
     "output_type": "execute_result"
    }
   ],
   "source": [
    "ggplot(dom_counts, aes('day_of_month', 'COUNT'))+stat_smooth(se=True, method='loess')"
   ]
  },
  {
   "cell_type": "code",
   "execution_count": 107,
   "metadata": {},
   "outputs": [],
   "source": [
    "# сгруппируем по месяцу, аптеке и дню и подсчитаем объем продаж для каждого дня каждого месяца\n",
    "dom_counts_by_store = raw_sales.groupby(['NAME_x', 'month', 'day_of_month'], as_index=False).agg({'COUNT':'sum'})"
   ]
  },
  {
   "cell_type": "code",
   "execution_count": 108,
   "metadata": {},
   "outputs": [
    {
     "name": "stdout",
     "output_type": "stream",
     "text": [
      "Аптека 1\n"
     ]
    },
    {
     "data": {
      "image/png": "[encoded data removed]",
      "text/plain": [
       "<Figure size 640x480 with 1 Axes>"
      ]
     },
     "metadata": {},
     "output_type": "display_data"
    },
    {
     "name": "stdout",
     "output_type": "stream",
     "text": [
      "<ggplot: (306313378)>\n",
      "Аптека 2\n"
     ]
    },
    {
     "data": {
      "image/png": "[encoded data removed]",
      "text/plain": [
       "<Figure size 640x480 with 1 Axes>"
      ]
     },
     "metadata": {},
     "output_type": "display_data"
    },
    {
     "name": "stdout",
     "output_type": "stream",
     "text": [
      "<ggplot: (306419576)>\n",
      "Аптека 3\n"
     ]
    },
    {
     "data": {
      "image/png": "[encoded data removed]",
      "text/plain": [
       "<Figure size 640x480 with 1 Axes>"
      ]
     },
     "metadata": {},
     "output_type": "display_data"
    },
    {
     "name": "stdout",
     "output_type": "stream",
     "text": [
      "<ggplot: (-9223372036548097276)>\n"
     ]
    }
   ],
   "source": [
    "for name in dom_counts_by_store.NAME_x.unique():\n",
    "    print(name)\n",
    "    print(ggplot(dom_counts_by_store[dom_counts_by_store.NAME_x == name], \n",
    "           aes('day_of_month', 'COUNT'))+stat_smooth(se=True, method='loess'))"
   ]
  },
  {
   "cell_type": "markdown",
   "metadata": {},
   "source": [
    "### Задание 10"
   ]
  },
  {
   "cell_type": "markdown",
   "metadata": {},
   "source": [
    "Сформировать многомерный отчет и график загруженности торговых точек по дням месяца за последние три месяца от имеющихся данных. Постройте линию тренда."
   ]
  },
  {
   "cell_type": "code",
   "execution_count": 21,
   "metadata": {},
   "outputs": [],
   "source": [
    "# Отфильтруем данные по времени и возьмем только последние 3 месяца\n",
    "last3_sales = raw_sales[raw_sales.month > 9].copy()"
   ]
  },
  {
   "cell_type": "code",
   "execution_count": 22,
   "metadata": {},
   "outputs": [],
   "source": [
    "# сгруппируем по месяцу и дню и подсчитаем объем продаж для каждого дня каждого месяца\n",
    "dom_counts = last3_sales.groupby(['month','day_of_month'], as_index=False).agg({'COUNT':'sum'})"
   ]
  },
  {
   "cell_type": "markdown",
   "metadata": {},
   "source": [
    "На графике ниже отражен тренд по объемам продаж в зависимости от дней месяца. Сплошная линия показывает среднее количество продаж в день месяца, серый полоса показывает отклонение от среднего."
   ]
  },
  {
   "cell_type": "code",
   "execution_count": 24,
   "metadata": {},
   "outputs": [
    {
     "data": {
      "image/png": "[encoded data removed]",
      "text/plain": [
       "<Figure size 640x480 with 1 Axes>"
      ]
     },
     "metadata": {},
     "output_type": "display_data"
    },
    {
     "data": {
      "text/plain": [
       "<ggplot: (-9223363310313257398)>"
      ]
     },
     "execution_count": 24,
     "metadata": {},
     "output_type": "execute_result"
    }
   ],
   "source": [
    "ggplot(dom_counts, aes('day_of_month', 'COUNT'))+stat_smooth(se=True, method='loess')"
   ]
  },
  {
   "cell_type": "code",
   "execution_count": 25,
   "metadata": {},
   "outputs": [],
   "source": [
    "# сгруппируем по месяцу, аптеке и дню и подсчитаем объем продаж для каждого дня каждого месяца\n",
    "dom_counts_by_store = last3_sales.groupby(['NAME_x', 'month', 'day_of_month'], \n",
    "                                          as_index=False).agg({'COUNT':'sum'})"
   ]
  },
  {
   "cell_type": "code",
   "execution_count": 26,
   "metadata": {},
   "outputs": [
    {
     "name": "stdout",
     "output_type": "stream",
     "text": [
      "Аптека 1\n"
     ]
    },
    {
     "data": {
      "image/png": "[encoded data removed]",
      "text/plain": [
       "<Figure size 640x480 with 1 Axes>"
      ]
     },
     "metadata": {},
     "output_type": "display_data"
    },
    {
     "name": "stdout",
     "output_type": "stream",
     "text": [
      "<ggplot: (8726541502058)>\n",
      "Аптека 2\n"
     ]
    },
    {
     "data": {
      "image/png": "[encoded data removed]",
      "text/plain": [
       "<Figure size 640x480 with 1 Axes>"
      ]
     },
     "metadata": {},
     "output_type": "display_data"
    },
    {
     "name": "stdout",
     "output_type": "stream",
     "text": [
      "<ggplot: (-9223363310313273705)>\n",
      "Аптека 3\n"
     ]
    },
    {
     "data": {
      "image/png": "[encoded data removed]",
      "text/plain": [
       "<Figure size 640x480 with 1 Axes>"
      ]
     },
     "metadata": {},
     "output_type": "display_data"
    },
    {
     "name": "stdout",
     "output_type": "stream",
     "text": [
      "<ggplot: (8726541452629)>\n"
     ]
    }
   ],
   "source": [
    "for name in dom_counts_by_store.NAME_x.unique():\n",
    "    print(name)\n",
    "    print(ggplot(dom_counts_by_store[dom_counts_by_store.NAME_x == name], \n",
    "           aes('day_of_month', 'COUNT'))+stat_smooth(se=True, method='loess'))"
   ]
  },
  {
   "cell_type": "markdown",
   "metadata": {},
   "source": [
    "### Задание 13"
   ]
  },
  {
   "cell_type": "markdown",
   "metadata": {},
   "source": [
    "10 самых продаваемых товаров по воскресеньям."
   ]
  },
  {
   "cell_type": "markdown",
   "metadata": {},
   "source": [
    "Чтобы найти 10 самых продаваемых товаров по воскресениям, мы отфильтруем данные таким образом, чтобы взять только продажи по воскресениям. Для этого введем дополнительную колонку «день недели» при помощи функциональности библиотеки pandas."
   ]
  },
  {
   "cell_type": "code",
   "execution_count": 29,
   "metadata": {},
   "outputs": [],
   "source": [
    "raw_sales['DOW'] = raw_sales.DATE.dt.dayofweek"
   ]
  },
  {
   "cell_type": "code",
   "execution_count": 32,
   "metadata": {},
   "outputs": [],
   "source": [
    "sundays = raw_sales[raw_sales.DOW == 6].copy()"
   ]
  },
  {
   "cell_type": "markdown",
   "metadata": {},
   "source": [
    "После этого можно сгруппировать данные по наименованию товара с агрегацией продаж по сумме и отсортировать полученные данные по сумме продаж. "
   ]
  },
  {
   "cell_type": "code",
   "execution_count": 33,
   "metadata": {},
   "outputs": [
    {
     "data": {
      "text/html": [
       "<div>\n",
       "<style scoped>\n",
       "    .dataframe tbody tr th:only-of-type {\n",
       "        vertical-align: middle;\n",
       "    }\n",
       "\n",
       "    .dataframe tbody tr th {\n",
       "        vertical-align: top;\n",
       "    }\n",
       "\n",
       "    .dataframe thead th {\n",
       "        text-align: right;\n",
       "    }\n",
       "</style>\n",
       "<table border=\"1\" class=\"dataframe\">\n",
       "  <thead>\n",
       "    <tr style=\"text-align: right;\">\n",
       "      <th></th>\n",
       "      <th>DATE</th>\n",
       "      <th>STOREID</th>\n",
       "      <th>PRODID</th>\n",
       "      <th>HOUR</th>\n",
       "      <th>COUNT</th>\n",
       "      <th>SUM</th>\n",
       "      <th>NAME_x</th>\n",
       "      <th>NAME_y</th>\n",
       "      <th>FKGCODE</th>\n",
       "      <th>FKGNAME</th>\n",
       "      <th>day_of_month</th>\n",
       "      <th>month</th>\n",
       "      <th>DOW</th>\n",
       "    </tr>\n",
       "  </thead>\n",
       "  <tbody>\n",
       "    <tr>\n",
       "      <th>33</th>\n",
       "      <td>2004-01-04</td>\n",
       "      <td>1</td>\n",
       "      <td>487</td>\n",
       "      <td>14</td>\n",
       "      <td>10</td>\n",
       "      <td>22.40</td>\n",
       "      <td>Аптека 1</td>\n",
       "      <td>Аспаркам табл. уп.контурн.яч. 10 Ай Си Эн Лекс...</td>\n",
       "      <td>108</td>\n",
       "      <td>Микро- и макроэлементы</td>\n",
       "      <td>4</td>\n",
       "      <td>1</td>\n",
       "      <td>6</td>\n",
       "    </tr>\n",
       "    <tr>\n",
       "      <th>34</th>\n",
       "      <td>2004-01-04</td>\n",
       "      <td>1</td>\n",
       "      <td>2291</td>\n",
       "      <td>14</td>\n",
       "      <td>1</td>\n",
       "      <td>276.80</td>\n",
       "      <td>Аптека 1</td>\n",
       "      <td>Кальций-Д_3 Никомед табл.жев. с апельс. фл. 10...</td>\n",
       "      <td>198</td>\n",
       "      <td>Витамины и витаминоподобные средства</td>\n",
       "      <td>4</td>\n",
       "      <td>1</td>\n",
       "      <td>6</td>\n",
       "    </tr>\n",
       "    <tr>\n",
       "      <th>35</th>\n",
       "      <td>2004-01-04</td>\n",
       "      <td>1</td>\n",
       "      <td>11291</td>\n",
       "      <td>11</td>\n",
       "      <td>1</td>\n",
       "      <td>86.94</td>\n",
       "      <td>Аптека 1</td>\n",
       "      <td>Арбидол-ЛЭНС табл.п.о. 0,05 г уп.контурн.яч. 1...</td>\n",
       "      <td>33</td>\n",
       "      <td>Иммуномодуляторы</td>\n",
       "      <td>4</td>\n",
       "      <td>1</td>\n",
       "      <td>6</td>\n",
       "    </tr>\n",
       "    <tr>\n",
       "      <th>36</th>\n",
       "      <td>2004-01-04</td>\n",
       "      <td>1</td>\n",
       "      <td>11931</td>\n",
       "      <td>14</td>\n",
       "      <td>1</td>\n",
       "      <td>13.60</td>\n",
       "      <td>Аптека 1</td>\n",
       "      <td>Аспаркам табл. уп.контурн.яч. 50 пач.картон. 1...</td>\n",
       "      <td>108</td>\n",
       "      <td>Микро- и макроэлементы</td>\n",
       "      <td>4</td>\n",
       "      <td>1</td>\n",
       "      <td>6</td>\n",
       "    </tr>\n",
       "    <tr>\n",
       "      <th>37</th>\n",
       "      <td>2004-01-04</td>\n",
       "      <td>1</td>\n",
       "      <td>28551</td>\n",
       "      <td>17</td>\n",
       "      <td>1</td>\n",
       "      <td>15.22</td>\n",
       "      <td>Аптека 1</td>\n",
       "      <td>Желудочно-кишечный сбор сбор лек. фильтр-пак. ...</td>\n",
       "      <td>223</td>\n",
       "      <td>Желчегонные средства и препараты желчи</td>\n",
       "      <td>4</td>\n",
       "      <td>1</td>\n",
       "      <td>6</td>\n",
       "    </tr>\n",
       "  </tbody>\n",
       "</table>\n",
       "</div>"
      ],
      "text/plain": [
       "         DATE  STOREID  PRODID  HOUR  COUNT     SUM    NAME_x  \\\n",
       "33 2004-01-04        1     487    14     10   22.40  Аптека 1   \n",
       "34 2004-01-04        1    2291    14      1  276.80  Аптека 1   \n",
       "35 2004-01-04        1   11291    11      1   86.94  Аптека 1   \n",
       "36 2004-01-04        1   11931    14      1   13.60  Аптека 1   \n",
       "37 2004-01-04        1   28551    17      1   15.22  Аптека 1   \n",
       "\n",
       "                                               NAME_y  FKGCODE  \\\n",
       "33  Аспаркам табл. уп.контурн.яч. 10 Ай Си Эн Лекс...      108   \n",
       "34  Кальций-Д_3 Никомед табл.жев. с апельс. фл. 10...      198   \n",
       "35  Арбидол-ЛЭНС табл.п.о. 0,05 г уп.контурн.яч. 1...       33   \n",
       "36  Аспаркам табл. уп.контурн.яч. 50 пач.картон. 1...      108   \n",
       "37  Желудочно-кишечный сбор сбор лек. фильтр-пак. ...      223   \n",
       "\n",
       "                                   FKGNAME  day_of_month  month  DOW  \n",
       "33                  Микро- и макроэлементы             4      1    6  \n",
       "34    Витамины и витаминоподобные средства             4      1    6  \n",
       "35                        Иммуномодуляторы             4      1    6  \n",
       "36                  Микро- и макроэлементы             4      1    6  \n",
       "37  Желчегонные средства и препараты желчи             4      1    6  "
      ]
     },
     "execution_count": 33,
     "metadata": {},
     "output_type": "execute_result"
    }
   ],
   "source": [
    "sundays.head()"
   ]
  },
  {
   "cell_type": "code",
   "execution_count": 42,
   "metadata": {},
   "outputs": [
    {
     "data": {
      "text/html": [
       "<div>\n",
       "<style scoped>\n",
       "    .dataframe tbody tr th:only-of-type {\n",
       "        vertical-align: middle;\n",
       "    }\n",
       "\n",
       "    .dataframe tbody tr th {\n",
       "        vertical-align: top;\n",
       "    }\n",
       "\n",
       "    .dataframe thead th {\n",
       "        text-align: right;\n",
       "    }\n",
       "</style>\n",
       "<table border=\"1\" class=\"dataframe\">\n",
       "  <thead>\n",
       "    <tr style=\"text-align: right;\">\n",
       "      <th></th>\n",
       "      <th>NAME_y</th>\n",
       "      <th>COUNT</th>\n",
       "    </tr>\n",
       "  </thead>\n",
       "  <tbody>\n",
       "    <tr>\n",
       "      <th>11</th>\n",
       "      <td>Арбидол-ЛЭНС табл.п.о. 0,1 г бл. 10 кор. 1 Дал...</td>\n",
       "      <td>57</td>\n",
       "    </tr>\n",
       "    <tr>\n",
       "      <th>78</th>\n",
       "      <td>Интерферон лейкоцитарный человеческий сухой по...</td>\n",
       "      <td>49</td>\n",
       "    </tr>\n",
       "    <tr>\n",
       "      <th>114</th>\n",
       "      <td>Компливит табл.п.о. бан.полимерн. 60 пач.карто...</td>\n",
       "      <td>46</td>\n",
       "    </tr>\n",
       "    <tr>\n",
       "      <th>97</th>\n",
       "      <td>Каметон аэроз. бал.аэроз. 45 г [с нас.наз.] па...</td>\n",
       "      <td>36</td>\n",
       "    </tr>\n",
       "    <tr>\n",
       "      <th>89</th>\n",
       "      <td>Календулы настойка настойка фл.темн.стекл. 40 ...</td>\n",
       "      <td>33</td>\n",
       "    </tr>\n",
       "    <tr>\n",
       "      <th>168</th>\n",
       "      <td>Фенюльс капс. бл. 10 кор. 1 Ranbaxy</td>\n",
       "      <td>31</td>\n",
       "    </tr>\n",
       "    <tr>\n",
       "      <th>73</th>\n",
       "      <td>Ингалипт аэроз. бал.аэроз.алюм. 30 мл [с доз.у...</td>\n",
       "      <td>31</td>\n",
       "    </tr>\n",
       "    <tr>\n",
       "      <th>90</th>\n",
       "      <td>Календулы настойка настойка фл.темн.стекл. 40 ...</td>\n",
       "      <td>29</td>\n",
       "    </tr>\n",
       "    <tr>\n",
       "      <th>80</th>\n",
       "      <td>Интерферон лейкоцитарный человеческий сухой по...</td>\n",
       "      <td>27</td>\n",
       "    </tr>\n",
       "    <tr>\n",
       "      <th>38</th>\n",
       "      <td>Бифидумбактерин сухой пор.лиоф.д/р-ра для прие...</td>\n",
       "      <td>24</td>\n",
       "    </tr>\n",
       "  </tbody>\n",
       "</table>\n",
       "</div>"
      ],
      "text/plain": [
       "                                                NAME_y  COUNT\n",
       "11   Арбидол-ЛЭНС табл.п.о. 0,1 г бл. 10 кор. 1 Дал...     57\n",
       "78   Интерферон лейкоцитарный человеческий сухой по...     49\n",
       "114  Компливит табл.п.о. бан.полимерн. 60 пач.карто...     46\n",
       "97   Каметон аэроз. бал.аэроз. 45 г [с нас.наз.] па...     36\n",
       "89   Календулы настойка настойка фл.темн.стекл. 40 ...     33\n",
       "168                Фенюльс капс. бл. 10 кор. 1 Ranbaxy     31\n",
       "73   Ингалипт аэроз. бал.аэроз.алюм. 30 мл [с доз.у...     31\n",
       "90   Календулы настойка настойка фл.темн.стекл. 40 ...     29\n",
       "80   Интерферон лейкоцитарный человеческий сухой по...     27\n",
       "38   Бифидумбактерин сухой пор.лиоф.д/р-ра для прие...     24"
      ]
     },
     "execution_count": 42,
     "metadata": {},
     "output_type": "execute_result"
    }
   ],
   "source": [
    "(sundays.groupby('NAME_y', as_index=False)\n",
    "     .agg({'COUNT':'sum'})\n",
    "         .sort_values(by='COUNT', ascending=False)\n",
    "         .iloc[:10])"
   ]
  },
  {
   "cell_type": "markdown",
   "metadata": {},
   "source": [
    "### Задание 14"
   ]
  },
  {
   "cell_type": "markdown",
   "metadata": {},
   "source": [
    " 5 самых популярных товаров в каждой товарной группе"
   ]
  },
  {
   "cell_type": "markdown",
   "metadata": {},
   "source": [
    "Чтобы найти 5 самых популярных товаров в каждой товарной группе за по-следнюю неделю, необходимо сгруппировать данные по группе товаров и названию отдельно взятого товара, провести агрегацию по количеству продаж (сумма) отсор-тировать и взять первые пять рядов для каждой товарной группы."
   ]
  },
  {
   "cell_type": "code",
   "execution_count": 47,
   "metadata": {},
   "outputs": [],
   "source": [
    "grouped = (raw_sales.groupby(['FKGNAME', 'NAME_y'], as_index=False)\n",
    "               .agg({'COUNT': 'sum'})\n",
    "               .sort_values(by=['FKGNAME', 'COUNT'], ascending=False)\n",
    "               .reset_index(drop=True))"
   ]
  },
  {
   "cell_type": "code",
   "execution_count": 48,
   "metadata": {},
   "outputs": [
    {
     "data": {
      "text/html": [
       "<div>\n",
       "<style scoped>\n",
       "    .dataframe tbody tr th:only-of-type {\n",
       "        vertical-align: middle;\n",
       "    }\n",
       "\n",
       "    .dataframe tbody tr th {\n",
       "        vertical-align: top;\n",
       "    }\n",
       "\n",
       "    .dataframe thead th {\n",
       "        text-align: right;\n",
       "    }\n",
       "</style>\n",
       "<table border=\"1\" class=\"dataframe\">\n",
       "  <thead>\n",
       "    <tr style=\"text-align: right;\">\n",
       "      <th></th>\n",
       "      <th>FKGNAME</th>\n",
       "      <th>NAME_y</th>\n",
       "      <th>COUNT</th>\n",
       "    </tr>\n",
       "  </thead>\n",
       "  <tbody>\n",
       "    <tr>\n",
       "      <th>0</th>\n",
       "      <td>Общетонизирующие средства и адаптогены</td>\n",
       "      <td>Мумие алтайское очищенное табл. 0,2 г уп.конту...</td>\n",
       "      <td>116</td>\n",
       "    </tr>\n",
       "    <tr>\n",
       "      <th>1</th>\n",
       "      <td>Общетонизирующие средства и адаптогены</td>\n",
       "      <td>Овса настойка настойка фл.темн.стекл. 100 мл к...</td>\n",
       "      <td>112</td>\n",
       "    </tr>\n",
       "    <tr>\n",
       "      <th>2</th>\n",
       "      <td>Общетонизирующие средства и адаптогены</td>\n",
       "      <td>Прополис мазь туба 30 г пач.картон. 1 Московск...</td>\n",
       "      <td>47</td>\n",
       "    </tr>\n",
       "    <tr>\n",
       "      <th>3</th>\n",
       "      <td>Общетонизирующие средства и адаптогены</td>\n",
       "      <td>Мумие алтайское очищенное табл. 0,2 г уп.конту...</td>\n",
       "      <td>37</td>\n",
       "    </tr>\n",
       "    <tr>\n",
       "      <th>4</th>\n",
       "      <td>Общетонизирующие средства и адаптогены</td>\n",
       "      <td>Болюсы Хуато пилюли бан. 80 г [с доз.ложкой] к...</td>\n",
       "      <td>27</td>\n",
       "    </tr>\n",
       "  </tbody>\n",
       "</table>\n",
       "</div>"
      ],
      "text/plain": [
       "                                  FKGNAME  \\\n",
       "0  Общетонизирующие средства и адаптогены   \n",
       "1  Общетонизирующие средства и адаптогены   \n",
       "2  Общетонизирующие средства и адаптогены   \n",
       "3  Общетонизирующие средства и адаптогены   \n",
       "4  Общетонизирующие средства и адаптогены   \n",
       "\n",
       "                                              NAME_y  COUNT  \n",
       "0  Мумие алтайское очищенное табл. 0,2 г уп.конту...    116  \n",
       "1  Овса настойка настойка фл.темн.стекл. 100 мл к...    112  \n",
       "2  Прополис мазь туба 30 г пач.картон. 1 Московск...     47  \n",
       "3  Мумие алтайское очищенное табл. 0,2 г уп.конту...     37  \n",
       "4  Болюсы Хуато пилюли бан. 80 г [с доз.ложкой] к...     27  "
      ]
     },
     "execution_count": 48,
     "metadata": {},
     "output_type": "execute_result"
    }
   ],
   "source": [
    "grouped.head()"
   ]
  },
  {
   "cell_type": "code",
   "execution_count": 56,
   "metadata": {
    "scrolled": false
   },
   "outputs": [
    {
     "name": "stdout",
     "output_type": "stream",
     "text": [
      "Общетонизирующие средства и адаптогены\n",
      "['Мумие алтайское очищенное табл. 0,2 г уп.контурн.б/яч. 10 Эвалар'\n",
      " 'Овса настойка настойка фл.темн.стекл. 100 мл кор. 1 Санкт-Петербургская фармфабрика'\n",
      " 'Прополис мазь туба 30 г пач.картон. 1 Московская фармфабрика'\n",
      " 'Мумие алтайское очищенное табл. 0,2 г уп.контурн.б/яч. 10 пач.картон. 2 Эвалар'\n",
      " 'Болюсы Хуато пилюли бан. 80 г [с доз.ложкой] кор. 1 Qixing Pharmaceutical Co.']\n",
      "\n",
      "Микро- и макроэлементы\n",
      "['Панангин табл.п.о. фл. 50 кор. 1 Gedeon Richter'\n",
      " 'Аспаркам табл. уп.контурн.яч. 10 Ай Си Эн Лексредства'\n",
      " 'Аспаркам табл. уп.контурн.б/яч. 10 Медисорб'\n",
      " 'Аспаркам табл. уп.контурн.яч. 50 пач.картон. 1 Галичфарм'\n",
      " 'Аспаркам таблетки табл. уп.контурн.яч. 50 пач.картон. 1 Луганский ХФЗ']\n",
      "\n",
      "Местные анестетики\n",
      "['Меновазин р-р спирт.наружн. фл.темн.стекл. 40 мл Тульская фармфабрика'\n",
      " 'Меновазин р-р спирт.наружн. фл.темн.стекл. 40 мл Московская фармфабрика'\n",
      " 'Меновазин р-р спирт.наружн. фл.темн.стекл. 40 мл Тверская фармфабрика'\n",
      " 'Калгель гель зубн. туба 10 г пач.картон. 1 Glaxo Wellcome Operations'\n",
      " 'Белластезин табл. проб. 10 Татхимфармпрепараты']\n",
      "\n",
      "Иммуномодуляторы\n",
      "['Арбидол-ЛЭНС табл.п.о. 0,1 г бл. 10 кор. 1 Дальхимфарм'\n",
      " 'Интерферон лейкоцитарный человеческий сухой пор.лиоф. 1000 МЕ 4 доз амп. [с нож.амп.] Микроген'\n",
      " 'Бифидумбактерин сухой пор.лиоф.д/р-ра для приема внутрь 5 доз фл. пач.картон. 10 Экополис'\n",
      " 'Интерферон лейкоцитарный человеческий сухой пор.лиоф. 1000 МЕ 4 доз амп. № 1 Иммунопрепарат'\n",
      " 'Арбидол-ЛЭНС табл.п.о. 0,05 г уп.контурн.яч. 10 пач.картон. 1 Дальхимфарм']\n",
      "\n",
      "Желчегонные средства и препараты желчи\n",
      "['Желудочно-кишечный сбор сбор лек. фильтр-пак. 2 г пач.картон. 20 Красногорсклексредства'\n",
      " 'Желудочно-кишечный сбор сбор лек. фильтр-пак. 2 г пач.картон. 10 Красногорсклексредства'\n",
      " 'Желудочно-кишечный сбор сбор лек. пак.бум. 50 г пач.картон. 1 Красногорсклексредства'\n",
      " 'Одуванчика корни лек.раст.сырье пак.бум. 50 г пач.картон. 1 Иван-Чай'\n",
      " 'Артехолин экстр.жидк. для приема внутрь фл.темн.стекл. 40 г [с мерн.стак.] пач.картон. 1 Phytopharm']\n",
      "\n",
      "Витамины и витаминоподобные средства\n",
      "['Фенюльс капс. бл. 10 кор. 1 Ranbaxy'\n",
      " 'Компливит табл.п.о. бан.полимерн. 60 пач.картон. 1 УфаВита'\n",
      " 'Дуовит драже уп.контурн.яч. 10 кор. 4 KRKA'\n",
      " 'Аскорутин табл. уп.контурн.б/яч. 10 Органика'\n",
      " 'Аскорутин табл. уп.контурн.яч. 10 пач.картон. ВИФИТЕХ']\n",
      "\n",
      "Биологически активные пищевые добавки\n",
      "['Стрикс табл. бл. 30 кор. 1 Ferrosan'\n",
      " 'Алликор табл. фл.пластик. 60 ИНАТ-ФАРМА']\n",
      "\n",
      "Антисептики и дезинфицирующие средства\n",
      "['Календулы настойка настойка фл.темн.стекл. 40 мл пач.картон. 1 Тверская фармфабрика'\n",
      " 'Ингалипт аэроз. бал.аэроз.алюм. 30 мл [с доз.устр.] пач.картон. 1 Алтайвитамины'\n",
      " 'Гексорал аэроз.наружн. 0,2 % бал.аэроз. 40 мл [с нас.] кор. 1 Parke-Davis'\n",
      " 'Линимент бальзамический (по Вишневскому) линим. туба 30 г пач.картон. 1 Фармновация'\n",
      " 'Каметон аэроз. бал.аэроз. 45 г [с нас.наз.] пач.картон. 1 Ай Си Эн Октябрь']\n",
      "\n"
     ]
    }
   ],
   "source": [
    "for group in grouped.FKGNAME.unique():\n",
    "    print(group)\n",
    "    print(grouped.loc[grouped.FKGNAME == group, 'NAME_y'].values[:5])\n",
    "    print()"
   ]
  },
  {
   "cell_type": "code",
   "execution_count": null,
   "metadata": {},
   "outputs": [],
   "source": []
  }
 ],
 "metadata": {
  "_draft": {
   "nbviewer_url": "https://gist.github.com/32205f99bc53e66eb6f35c0e3f37eb6b"
  },
  "gist": {
   "data": {
    "description": "lab2.ipynb",
    "public": true
   },
   "id": "32205f99bc53e66eb6f35c0e3f37eb6b"
  },
  "kernelspec": {
   "display_name": "Python 3",
   "language": "python",
   "name": "python3"
  },
  "language_info": {
   "codemirror_mode": {
    "name": "ipython",
    "version": 3
   },
   "file_extension": ".py",
   "mimetype": "text/x-python",
   "name": "python",
   "nbconvert_exporter": "python",
   "pygments_lexer": "ipython3",
   "version": "3.6.6"
  },
  "toc": {
   "base_numbering": 1,
   "nav_menu": {},
   "number_sections": true,
   "sideBar": true,
   "skip_h1_title": false,
   "title_cell": "Table of Contents",
   "title_sidebar": "Contents",
   "toc_cell": false,
   "toc_position": {
    "height": "calc(100% - 180px)",
    "left": "10px",
    "top": "150px",
    "width": "277px"
   },
   "toc_section_display": true,
   "toc_window_display": true
  }
 },
 "nbformat": 4,
 "nbformat_minor": 2
}
