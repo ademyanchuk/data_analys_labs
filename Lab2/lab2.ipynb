{
 "cells": [
  {
   "cell_type": "markdown",
   "metadata": {},
   "source": [
    "### Импорты"
   ]
  },
  {
   "cell_type": "code",
   "execution_count": 1,
   "metadata": {},
   "outputs": [],
   "source": [
    "import numpy as np\n",
    "import pandas as pd"
   ]
  },
  {
   "cell_type": "code",
   "execution_count": 2,
   "metadata": {
    "scrolled": true
   },
   "outputs": [
    {
     "name": "stdout",
     "output_type": "stream",
     "text": [
      "SQLalchemy is not installed. No support for SQL output.\n"
     ]
    }
   ],
   "source": [
    "from simpledbf import Dbf5"
   ]
  },
  {
   "cell_type": "code",
   "execution_count": 3,
   "metadata": {},
   "outputs": [],
   "source": [
    "import matplotlib.pyplot as plt"
   ]
  },
  {
   "cell_type": "markdown",
   "metadata": {},
   "source": [
    "### Загрузка из dbf (файлы баз данных)"
   ]
  },
  {
   "cell_type": "markdown",
   "metadata": {},
   "source": [
    "загружаем данные из файлов формата `dbf`  с использованием библиотеки `simpledbf`"
   ]
  },
  {
   "cell_type": "code",
   "execution_count": 20,
   "metadata": {},
   "outputs": [],
   "source": [
    "groups = Dbf5('Part1/groups.dbf', codec='cp1251')\n",
    "produces = Dbf5('Part1/produces.dbf', codec='cp866')\n",
    "sales = Dbf5('Part1/sales.dbf', codec='cp866')\n",
    "stores = Dbf5('Part1/stores.dbf', codec='cp1251')"
   ]
  },
  {
   "cell_type": "markdown",
   "metadata": {},
   "source": [
    "конвертируем в нативную для `Pandas` форму датафрейма `df`"
   ]
  },
  {
   "cell_type": "code",
   "execution_count": 21,
   "metadata": {},
   "outputs": [],
   "source": [
    "groups_df = groups.to_dataframe()\n",
    "produces_df = produces.to_dataframe()\n",
    "sales_df = sales.to_dataframe()\n",
    "stores_df = stores.to_dataframe()"
   ]
  },
  {
   "cell_type": "code",
   "execution_count": 22,
   "metadata": {},
   "outputs": [
    {
     "data": {
      "text/html": [
       "<div>\n",
       "<style scoped>\n",
       "    .dataframe tbody tr th:only-of-type {\n",
       "        vertical-align: middle;\n",
       "    }\n",
       "\n",
       "    .dataframe tbody tr th {\n",
       "        vertical-align: top;\n",
       "    }\n",
       "\n",
       "    .dataframe thead th {\n",
       "        text-align: right;\n",
       "    }\n",
       "</style>\n",
       "<table border=\"1\" class=\"dataframe\">\n",
       "  <thead>\n",
       "    <tr style=\"text-align: right;\">\n",
       "      <th></th>\n",
       "      <th>FKGCODE</th>\n",
       "      <th>FKGNAME</th>\n",
       "    </tr>\n",
       "  </thead>\n",
       "  <tbody>\n",
       "    <tr>\n",
       "      <th>0</th>\n",
       "      <td>33</td>\n",
       "      <td>Иммуномодуляторы</td>\n",
       "    </tr>\n",
       "    <tr>\n",
       "      <th>1</th>\n",
       "      <td>48</td>\n",
       "      <td>Общетонизирующие средства и адаптогены</td>\n",
       "    </tr>\n",
       "    <tr>\n",
       "      <th>2</th>\n",
       "      <td>50</td>\n",
       "      <td>Местные анестетики</td>\n",
       "    </tr>\n",
       "    <tr>\n",
       "      <th>3</th>\n",
       "      <td>108</td>\n",
       "      <td>Микро- и макроэлементы</td>\n",
       "    </tr>\n",
       "    <tr>\n",
       "      <th>4</th>\n",
       "      <td>198</td>\n",
       "      <td>Витамины и витаминоподобные средства</td>\n",
       "    </tr>\n",
       "  </tbody>\n",
       "</table>\n",
       "</div>"
      ],
      "text/plain": [
       "   FKGCODE                                 FKGNAME\n",
       "0       33                        Иммуномодуляторы\n",
       "1       48  Общетонизирующие средства и адаптогены\n",
       "2       50                      Местные анестетики\n",
       "3      108                  Микро- и макроэлементы\n",
       "4      198    Витамины и витаминоподобные средства"
      ]
     },
     "execution_count": 22,
     "metadata": {},
     "output_type": "execute_result"
    }
   ],
   "source": [
    "groups_df.head()"
   ]
  },
  {
   "cell_type": "code",
   "execution_count": 26,
   "metadata": {},
   "outputs": [
    {
     "data": {
      "text/plain": [
       "(8, 2)"
      ]
     },
     "execution_count": 26,
     "metadata": {},
     "output_type": "execute_result"
    }
   ],
   "source": [
    "groups_df.shape"
   ]
  },
  {
   "cell_type": "code",
   "execution_count": 24,
   "metadata": {
    "scrolled": true
   },
   "outputs": [
    {
     "data": {
      "text/html": [
       "<div>\n",
       "<style scoped>\n",
       "    .dataframe tbody tr th:only-of-type {\n",
       "        vertical-align: middle;\n",
       "    }\n",
       "\n",
       "    .dataframe tbody tr th {\n",
       "        vertical-align: top;\n",
       "    }\n",
       "\n",
       "    .dataframe thead th {\n",
       "        text-align: right;\n",
       "    }\n",
       "</style>\n",
       "<table border=\"1\" class=\"dataframe\">\n",
       "  <thead>\n",
       "    <tr style=\"text-align: right;\">\n",
       "      <th></th>\n",
       "      <th>PRODID</th>\n",
       "      <th>NAME</th>\n",
       "      <th>FKGCODE</th>\n",
       "    </tr>\n",
       "  </thead>\n",
       "  <tbody>\n",
       "    <tr>\n",
       "      <th>0</th>\n",
       "      <td>774</td>\n",
       "      <td>Бетаферон пор.лиоф.д/ин. 9600000 ЕД фл. [с р-л...</td>\n",
       "      <td>33</td>\n",
       "    </tr>\n",
       "    <tr>\n",
       "      <th>1</th>\n",
       "      <td>808</td>\n",
       "      <td>Бифидумбактерин пор. для приема внутрь пак.флг...</td>\n",
       "      <td>33</td>\n",
       "    </tr>\n",
       "    <tr>\n",
       "      <th>2</th>\n",
       "      <td>809</td>\n",
       "      <td>Бифидумбактерин табл. фл. 20 пач.картон. 10 Ви...</td>\n",
       "      <td>33</td>\n",
       "    </tr>\n",
       "    <tr>\n",
       "      <th>3</th>\n",
       "      <td>810</td>\n",
       "      <td>Бифидумбактерин супп.ваг. уп.контурн.яч. 5 пач...</td>\n",
       "      <td>33</td>\n",
       "    </tr>\n",
       "    <tr>\n",
       "      <th>4</th>\n",
       "      <td>811</td>\n",
       "      <td>Бифидумбактерин супп.ваг. уп.контурн.яч. 5 пач...</td>\n",
       "      <td>33</td>\n",
       "    </tr>\n",
       "  </tbody>\n",
       "</table>\n",
       "</div>"
      ],
      "text/plain": [
       "   PRODID                                               NAME  FKGCODE\n",
       "0     774  Бетаферон пор.лиоф.д/ин. 9600000 ЕД фл. [с р-л...       33\n",
       "1     808  Бифидумбактерин пор. для приема внутрь пак.флг...       33\n",
       "2     809  Бифидумбактерин табл. фл. 20 пач.картон. 10 Ви...       33\n",
       "3     810  Бифидумбактерин супп.ваг. уп.контурн.яч. 5 пач...       33\n",
       "4     811  Бифидумбактерин супп.ваг. уп.контурн.яч. 5 пач...       33"
      ]
     },
     "execution_count": 24,
     "metadata": {},
     "output_type": "execute_result"
    }
   ],
   "source": [
    "produces_df.head()"
   ]
  },
  {
   "cell_type": "code",
   "execution_count": 28,
   "metadata": {},
   "outputs": [
    {
     "data": {
      "text/plain": [
       "(5086, 3)"
      ]
     },
     "execution_count": 28,
     "metadata": {},
     "output_type": "execute_result"
    }
   ],
   "source": [
    "produces_df.shape"
   ]
  },
  {
   "cell_type": "code",
   "execution_count": 25,
   "metadata": {},
   "outputs": [
    {
     "data": {
      "text/html": [
       "<div>\n",
       "<style scoped>\n",
       "    .dataframe tbody tr th:only-of-type {\n",
       "        vertical-align: middle;\n",
       "    }\n",
       "\n",
       "    .dataframe tbody tr th {\n",
       "        vertical-align: top;\n",
       "    }\n",
       "\n",
       "    .dataframe thead th {\n",
       "        text-align: right;\n",
       "    }\n",
       "</style>\n",
       "<table border=\"1\" class=\"dataframe\">\n",
       "  <thead>\n",
       "    <tr style=\"text-align: right;\">\n",
       "      <th></th>\n",
       "      <th>DATE</th>\n",
       "      <th>STOREID</th>\n",
       "      <th>PRODID</th>\n",
       "      <th>HOUR</th>\n",
       "      <th>COUNT</th>\n",
       "      <th>SUM</th>\n",
       "    </tr>\n",
       "  </thead>\n",
       "  <tbody>\n",
       "    <tr>\n",
       "      <th>0</th>\n",
       "      <td>2004-01-01</td>\n",
       "      <td>1</td>\n",
       "      <td>31052</td>\n",
       "      <td>13</td>\n",
       "      <td>1</td>\n",
       "      <td>56.50</td>\n",
       "    </tr>\n",
       "    <tr>\n",
       "      <th>1</th>\n",
       "      <td>2004-01-01</td>\n",
       "      <td>1</td>\n",
       "      <td>36259</td>\n",
       "      <td>16</td>\n",
       "      <td>1</td>\n",
       "      <td>72.48</td>\n",
       "    </tr>\n",
       "    <tr>\n",
       "      <th>2</th>\n",
       "      <td>2004-01-01</td>\n",
       "      <td>1</td>\n",
       "      <td>40345</td>\n",
       "      <td>15</td>\n",
       "      <td>1</td>\n",
       "      <td>15.84</td>\n",
       "    </tr>\n",
       "    <tr>\n",
       "      <th>3</th>\n",
       "      <td>2004-01-01</td>\n",
       "      <td>1</td>\n",
       "      <td>65841</td>\n",
       "      <td>14</td>\n",
       "      <td>1</td>\n",
       "      <td>163.02</td>\n",
       "    </tr>\n",
       "    <tr>\n",
       "      <th>4</th>\n",
       "      <td>2004-01-01</td>\n",
       "      <td>1</td>\n",
       "      <td>82545</td>\n",
       "      <td>13</td>\n",
       "      <td>1</td>\n",
       "      <td>173.32</td>\n",
       "    </tr>\n",
       "  </tbody>\n",
       "</table>\n",
       "</div>"
      ],
      "text/plain": [
       "         DATE  STOREID  PRODID  HOUR  COUNT     SUM\n",
       "0  2004-01-01        1   31052    13      1   56.50\n",
       "1  2004-01-01        1   36259    16      1   72.48\n",
       "2  2004-01-01        1   40345    15      1   15.84\n",
       "3  2004-01-01        1   65841    14      1  163.02\n",
       "4  2004-01-01        1   82545    13      1  173.32"
      ]
     },
     "execution_count": 25,
     "metadata": {},
     "output_type": "execute_result"
    }
   ],
   "source": [
    "sales_df.head()"
   ]
  },
  {
   "cell_type": "code",
   "execution_count": 37,
   "metadata": {},
   "outputs": [
    {
     "data": {
      "text/plain": [
       "(8052, 6)"
      ]
     },
     "execution_count": 37,
     "metadata": {},
     "output_type": "execute_result"
    }
   ],
   "source": [
    "sales_df.shape"
   ]
  },
  {
   "cell_type": "code",
   "execution_count": 23,
   "metadata": {
    "scrolled": true
   },
   "outputs": [
    {
     "data": {
      "text/html": [
       "<div>\n",
       "<style scoped>\n",
       "    .dataframe tbody tr th:only-of-type {\n",
       "        vertical-align: middle;\n",
       "    }\n",
       "\n",
       "    .dataframe tbody tr th {\n",
       "        vertical-align: top;\n",
       "    }\n",
       "\n",
       "    .dataframe thead th {\n",
       "        text-align: right;\n",
       "    }\n",
       "</style>\n",
       "<table border=\"1\" class=\"dataframe\">\n",
       "  <thead>\n",
       "    <tr style=\"text-align: right;\">\n",
       "      <th></th>\n",
       "      <th>STOREID</th>\n",
       "      <th>NAME</th>\n",
       "    </tr>\n",
       "  </thead>\n",
       "  <tbody>\n",
       "    <tr>\n",
       "      <th>0</th>\n",
       "      <td>1</td>\n",
       "      <td>Аптека 1</td>\n",
       "    </tr>\n",
       "    <tr>\n",
       "      <th>1</th>\n",
       "      <td>2</td>\n",
       "      <td>Аптека 2</td>\n",
       "    </tr>\n",
       "    <tr>\n",
       "      <th>2</th>\n",
       "      <td>3</td>\n",
       "      <td>Аптека 3</td>\n",
       "    </tr>\n",
       "  </tbody>\n",
       "</table>\n",
       "</div>"
      ],
      "text/plain": [
       "   STOREID      NAME\n",
       "0        1  Аптека 1\n",
       "1        2  Аптека 2\n",
       "2        3  Аптека 3"
      ]
     },
     "execution_count": 23,
     "metadata": {},
     "output_type": "execute_result"
    }
   ],
   "source": [
    "stores_df.head()"
   ]
  },
  {
   "cell_type": "code",
   "execution_count": 38,
   "metadata": {},
   "outputs": [
    {
     "data": {
      "text/plain": [
       "(3, 2)"
      ]
     },
     "execution_count": 38,
     "metadata": {},
     "output_type": "execute_result"
    }
   ],
   "source": [
    "stores_df.shape"
   ]
  },
  {
   "cell_type": "markdown",
   "metadata": {},
   "source": [
    "### Слияние таблиц"
   ]
  },
  {
   "cell_type": "markdown",
   "metadata": {},
   "source": [
    "Слияние `groups_df` и `produces_df` по `FKGCODE` "
   ]
  },
  {
   "cell_type": "code",
   "execution_count": 31,
   "metadata": {},
   "outputs": [],
   "source": [
    "prod_and_groups = pd.merge(left=produces_df, right=groups_df, on='FKGCODE', how='left')"
   ]
  },
  {
   "cell_type": "markdown",
   "metadata": {},
   "source": [
    "Объединяем таблицы `sales_df` и `stores_df` по `STOREID` "
   ]
  },
  {
   "cell_type": "code",
   "execution_count": 34,
   "metadata": {},
   "outputs": [],
   "source": [
    "sales_and_stores = pd.merge(left=sales_df, right=stores_df, on='STOREID', how='left')"
   ]
  },
  {
   "cell_type": "markdown",
   "metadata": {},
   "source": [
    "Объединяем две получившиеся таблицы по `PRODID`, чтобы получить единую таблицу со всей необходимой информацией по продажам"
   ]
  },
  {
   "cell_type": "code",
   "execution_count": 40,
   "metadata": {},
   "outputs": [],
   "source": [
    "raw_sales = pd.merge(left=sales_and_stores, right=prod_and_groups, on='PRODID', how='left')"
   ]
  },
  {
   "cell_type": "code",
   "execution_count": 43,
   "metadata": {},
   "outputs": [
    {
     "data": {
      "text/html": [
       "<div>\n",
       "<style scoped>\n",
       "    .dataframe tbody tr th:only-of-type {\n",
       "        vertical-align: middle;\n",
       "    }\n",
       "\n",
       "    .dataframe tbody tr th {\n",
       "        vertical-align: top;\n",
       "    }\n",
       "\n",
       "    .dataframe thead th {\n",
       "        text-align: right;\n",
       "    }\n",
       "</style>\n",
       "<table border=\"1\" class=\"dataframe\">\n",
       "  <thead>\n",
       "    <tr style=\"text-align: right;\">\n",
       "      <th></th>\n",
       "      <th>DATE</th>\n",
       "      <th>STOREID</th>\n",
       "      <th>PRODID</th>\n",
       "      <th>HOUR</th>\n",
       "      <th>COUNT</th>\n",
       "      <th>SUM</th>\n",
       "      <th>NAME_x</th>\n",
       "      <th>NAME_y</th>\n",
       "      <th>FKGCODE</th>\n",
       "      <th>FKGNAME</th>\n",
       "    </tr>\n",
       "  </thead>\n",
       "  <tbody>\n",
       "    <tr>\n",
       "      <th>0</th>\n",
       "      <td>2004-01-01</td>\n",
       "      <td>1</td>\n",
       "      <td>31052</td>\n",
       "      <td>13</td>\n",
       "      <td>1</td>\n",
       "      <td>56.50</td>\n",
       "      <td>Аптека 1</td>\n",
       "      <td>Ингалипт аэроз. бал.аэроз.алюм. 30 мл пач.карт...</td>\n",
       "      <td>247</td>\n",
       "      <td>Антисептики и дезинфицирующие средства</td>\n",
       "    </tr>\n",
       "    <tr>\n",
       "      <th>1</th>\n",
       "      <td>2004-01-01</td>\n",
       "      <td>1</td>\n",
       "      <td>36259</td>\n",
       "      <td>16</td>\n",
       "      <td>1</td>\n",
       "      <td>72.48</td>\n",
       "      <td>Аптека 1</td>\n",
       "      <td>Компливит табл.п.о. бан.полимерн. 60 пач.карто...</td>\n",
       "      <td>198</td>\n",
       "      <td>Витамины и витаминоподобные средства</td>\n",
       "    </tr>\n",
       "    <tr>\n",
       "      <th>2</th>\n",
       "      <td>2004-01-01</td>\n",
       "      <td>1</td>\n",
       "      <td>40345</td>\n",
       "      <td>15</td>\n",
       "      <td>1</td>\n",
       "      <td>15.84</td>\n",
       "      <td>Аптека 1</td>\n",
       "      <td>Линимент бальзамический (по Вишневскому) линим...</td>\n",
       "      <td>247</td>\n",
       "      <td>Антисептики и дезинфицирующие средства</td>\n",
       "    </tr>\n",
       "    <tr>\n",
       "      <th>3</th>\n",
       "      <td>2004-01-01</td>\n",
       "      <td>1</td>\n",
       "      <td>65841</td>\n",
       "      <td>14</td>\n",
       "      <td>1</td>\n",
       "      <td>163.02</td>\n",
       "      <td>Аптека 1</td>\n",
       "      <td>Стрепсилс Плюс спрей доз. фл.с дозат. 20 мл ко...</td>\n",
       "      <td>247</td>\n",
       "      <td>Антисептики и дезинфицирующие средства</td>\n",
       "    </tr>\n",
       "    <tr>\n",
       "      <th>4</th>\n",
       "      <td>2004-01-01</td>\n",
       "      <td>1</td>\n",
       "      <td>82545</td>\n",
       "      <td>13</td>\n",
       "      <td>1</td>\n",
       "      <td>173.32</td>\n",
       "      <td>Аптека 1</td>\n",
       "      <td>Арбидол-ЛЭНС табл.п.о. 0,1 г бл. 10 кор. 1 Дал...</td>\n",
       "      <td>33</td>\n",
       "      <td>Иммуномодуляторы</td>\n",
       "    </tr>\n",
       "    <tr>\n",
       "      <th>5</th>\n",
       "      <td>2004-01-01</td>\n",
       "      <td>1</td>\n",
       "      <td>83563</td>\n",
       "      <td>13</td>\n",
       "      <td>1</td>\n",
       "      <td>47.95</td>\n",
       "      <td>Аптека 1</td>\n",
       "      <td>Доктор Тайсс Эвкалипт леденцы 50 г Dr. Theiss ...</td>\n",
       "      <td>247</td>\n",
       "      <td>Антисептики и дезинфицирующие средства</td>\n",
       "    </tr>\n",
       "    <tr>\n",
       "      <th>6</th>\n",
       "      <td>2004-01-02</td>\n",
       "      <td>1</td>\n",
       "      <td>2291</td>\n",
       "      <td>20</td>\n",
       "      <td>1</td>\n",
       "      <td>276.80</td>\n",
       "      <td>Аптека 1</td>\n",
       "      <td>Кальций-Д_3 Никомед табл.жев. с апельс. фл. 10...</td>\n",
       "      <td>198</td>\n",
       "      <td>Витамины и витаминоподобные средства</td>\n",
       "    </tr>\n",
       "    <tr>\n",
       "      <th>7</th>\n",
       "      <td>2004-01-02</td>\n",
       "      <td>1</td>\n",
       "      <td>11291</td>\n",
       "      <td>18</td>\n",
       "      <td>1</td>\n",
       "      <td>86.94</td>\n",
       "      <td>Аптека 1</td>\n",
       "      <td>Арбидол-ЛЭНС табл.п.о. 0,05 г уп.контурн.яч. 1...</td>\n",
       "      <td>33</td>\n",
       "      <td>Иммуномодуляторы</td>\n",
       "    </tr>\n",
       "    <tr>\n",
       "      <th>8</th>\n",
       "      <td>2004-01-02</td>\n",
       "      <td>1</td>\n",
       "      <td>24061</td>\n",
       "      <td>19</td>\n",
       "      <td>1</td>\n",
       "      <td>156.29</td>\n",
       "      <td>Аптека 1</td>\n",
       "      <td>Гриппферон капли наз. 10000 МЕ/мл фл.-кап. 10 ...</td>\n",
       "      <td>33</td>\n",
       "      <td>Иммуномодуляторы</td>\n",
       "    </tr>\n",
       "    <tr>\n",
       "      <th>9</th>\n",
       "      <td>2004-01-02</td>\n",
       "      <td>1</td>\n",
       "      <td>27649</td>\n",
       "      <td>15</td>\n",
       "      <td>1</td>\n",
       "      <td>210.50</td>\n",
       "      <td>Аптека 1</td>\n",
       "      <td>Доппельгерц Женьшень Актив эликсир фл.темн.сте...</td>\n",
       "      <td>48</td>\n",
       "      <td>Общетонизирующие средства и адаптогены</td>\n",
       "    </tr>\n",
       "  </tbody>\n",
       "</table>\n",
       "</div>"
      ],
      "text/plain": [
       "         DATE  STOREID  PRODID  HOUR  COUNT     SUM    NAME_x  \\\n",
       "0  2004-01-01        1   31052    13      1   56.50  Аптека 1   \n",
       "1  2004-01-01        1   36259    16      1   72.48  Аптека 1   \n",
       "2  2004-01-01        1   40345    15      1   15.84  Аптека 1   \n",
       "3  2004-01-01        1   65841    14      1  163.02  Аптека 1   \n",
       "4  2004-01-01        1   82545    13      1  173.32  Аптека 1   \n",
       "5  2004-01-01        1   83563    13      1   47.95  Аптека 1   \n",
       "6  2004-01-02        1    2291    20      1  276.80  Аптека 1   \n",
       "7  2004-01-02        1   11291    18      1   86.94  Аптека 1   \n",
       "8  2004-01-02        1   24061    19      1  156.29  Аптека 1   \n",
       "9  2004-01-02        1   27649    15      1  210.50  Аптека 1   \n",
       "\n",
       "                                              NAME_y  FKGCODE  \\\n",
       "0  Ингалипт аэроз. бал.аэроз.алюм. 30 мл пач.карт...      247   \n",
       "1  Компливит табл.п.о. бан.полимерн. 60 пач.карто...      198   \n",
       "2  Линимент бальзамический (по Вишневскому) линим...      247   \n",
       "3  Стрепсилс Плюс спрей доз. фл.с дозат. 20 мл ко...      247   \n",
       "4  Арбидол-ЛЭНС табл.п.о. 0,1 г бл. 10 кор. 1 Дал...       33   \n",
       "5  Доктор Тайсс Эвкалипт леденцы 50 г Dr. Theiss ...      247   \n",
       "6  Кальций-Д_3 Никомед табл.жев. с апельс. фл. 10...      198   \n",
       "7  Арбидол-ЛЭНС табл.п.о. 0,05 г уп.контурн.яч. 1...       33   \n",
       "8  Гриппферон капли наз. 10000 МЕ/мл фл.-кап. 10 ...       33   \n",
       "9  Доппельгерц Женьшень Актив эликсир фл.темн.сте...       48   \n",
       "\n",
       "                                  FKGNAME  \n",
       "0  Антисептики и дезинфицирующие средства  \n",
       "1    Витамины и витаминоподобные средства  \n",
       "2  Антисептики и дезинфицирующие средства  \n",
       "3  Антисептики и дезинфицирующие средства  \n",
       "4                        Иммуномодуляторы  \n",
       "5  Антисептики и дезинфицирующие средства  \n",
       "6    Витамины и витаминоподобные средства  \n",
       "7                        Иммуномодуляторы  \n",
       "8                        Иммуномодуляторы  \n",
       "9  Общетонизирующие средства и адаптогены  "
      ]
     },
     "execution_count": 43,
     "metadata": {},
     "output_type": "execute_result"
    }
   ],
   "source": [
    "raw_sales.head(10)"
   ]
  },
  {
   "cell_type": "code",
   "execution_count": 42,
   "metadata": {},
   "outputs": [],
   "source": [
    "raw_sales.to_csv('Part1/raw_sales.csv', header=True, index=False)"
   ]
  },
  {
   "cell_type": "markdown",
   "metadata": {},
   "source": [
    "### Преобразование даты в pandas.datetime"
   ]
  },
  {
   "cell_type": "code",
   "execution_count": 68,
   "metadata": {},
   "outputs": [],
   "source": [
    "raw_sales = pd.read_csv('Part1/raw_sales.csv', \n",
    "                        parse_dates=['DATE'], \n",
    "                        infer_datetime_format=True)"
   ]
  },
  {
   "cell_type": "code",
   "execution_count": 69,
   "metadata": {},
   "outputs": [
    {
     "data": {
      "text/html": [
       "<div>\n",
       "<style scoped>\n",
       "    .dataframe tbody tr th:only-of-type {\n",
       "        vertical-align: middle;\n",
       "    }\n",
       "\n",
       "    .dataframe tbody tr th {\n",
       "        vertical-align: top;\n",
       "    }\n",
       "\n",
       "    .dataframe thead th {\n",
       "        text-align: right;\n",
       "    }\n",
       "</style>\n",
       "<table border=\"1\" class=\"dataframe\">\n",
       "  <thead>\n",
       "    <tr style=\"text-align: right;\">\n",
       "      <th></th>\n",
       "      <th>DATE</th>\n",
       "      <th>STOREID</th>\n",
       "      <th>PRODID</th>\n",
       "      <th>HOUR</th>\n",
       "      <th>COUNT</th>\n",
       "      <th>SUM</th>\n",
       "      <th>NAME_x</th>\n",
       "      <th>NAME_y</th>\n",
       "      <th>FKGCODE</th>\n",
       "      <th>FKGNAME</th>\n",
       "    </tr>\n",
       "  </thead>\n",
       "  <tbody>\n",
       "    <tr>\n",
       "      <th>0</th>\n",
       "      <td>2004-01-01</td>\n",
       "      <td>1</td>\n",
       "      <td>31052</td>\n",
       "      <td>13</td>\n",
       "      <td>1</td>\n",
       "      <td>56.50</td>\n",
       "      <td>Аптека 1</td>\n",
       "      <td>Ингалипт аэроз. бал.аэроз.алюм. 30 мл пач.карт...</td>\n",
       "      <td>247</td>\n",
       "      <td>Антисептики и дезинфицирующие средства</td>\n",
       "    </tr>\n",
       "    <tr>\n",
       "      <th>1</th>\n",
       "      <td>2004-01-01</td>\n",
       "      <td>1</td>\n",
       "      <td>36259</td>\n",
       "      <td>16</td>\n",
       "      <td>1</td>\n",
       "      <td>72.48</td>\n",
       "      <td>Аптека 1</td>\n",
       "      <td>Компливит табл.п.о. бан.полимерн. 60 пач.карто...</td>\n",
       "      <td>198</td>\n",
       "      <td>Витамины и витаминоподобные средства</td>\n",
       "    </tr>\n",
       "    <tr>\n",
       "      <th>2</th>\n",
       "      <td>2004-01-01</td>\n",
       "      <td>1</td>\n",
       "      <td>40345</td>\n",
       "      <td>15</td>\n",
       "      <td>1</td>\n",
       "      <td>15.84</td>\n",
       "      <td>Аптека 1</td>\n",
       "      <td>Линимент бальзамический (по Вишневскому) линим...</td>\n",
       "      <td>247</td>\n",
       "      <td>Антисептики и дезинфицирующие средства</td>\n",
       "    </tr>\n",
       "    <tr>\n",
       "      <th>3</th>\n",
       "      <td>2004-01-01</td>\n",
       "      <td>1</td>\n",
       "      <td>65841</td>\n",
       "      <td>14</td>\n",
       "      <td>1</td>\n",
       "      <td>163.02</td>\n",
       "      <td>Аптека 1</td>\n",
       "      <td>Стрепсилс Плюс спрей доз. фл.с дозат. 20 мл ко...</td>\n",
       "      <td>247</td>\n",
       "      <td>Антисептики и дезинфицирующие средства</td>\n",
       "    </tr>\n",
       "    <tr>\n",
       "      <th>4</th>\n",
       "      <td>2004-01-01</td>\n",
       "      <td>1</td>\n",
       "      <td>82545</td>\n",
       "      <td>13</td>\n",
       "      <td>1</td>\n",
       "      <td>173.32</td>\n",
       "      <td>Аптека 1</td>\n",
       "      <td>Арбидол-ЛЭНС табл.п.о. 0,1 г бл. 10 кор. 1 Дал...</td>\n",
       "      <td>33</td>\n",
       "      <td>Иммуномодуляторы</td>\n",
       "    </tr>\n",
       "    <tr>\n",
       "      <th>5</th>\n",
       "      <td>2004-01-01</td>\n",
       "      <td>1</td>\n",
       "      <td>83563</td>\n",
       "      <td>13</td>\n",
       "      <td>1</td>\n",
       "      <td>47.95</td>\n",
       "      <td>Аптека 1</td>\n",
       "      <td>Доктор Тайсс Эвкалипт леденцы 50 г Dr. Theiss ...</td>\n",
       "      <td>247</td>\n",
       "      <td>Антисептики и дезинфицирующие средства</td>\n",
       "    </tr>\n",
       "    <tr>\n",
       "      <th>6</th>\n",
       "      <td>2004-01-02</td>\n",
       "      <td>1</td>\n",
       "      <td>2291</td>\n",
       "      <td>20</td>\n",
       "      <td>1</td>\n",
       "      <td>276.80</td>\n",
       "      <td>Аптека 1</td>\n",
       "      <td>Кальций-Д_3 Никомед табл.жев. с апельс. фл. 10...</td>\n",
       "      <td>198</td>\n",
       "      <td>Витамины и витаминоподобные средства</td>\n",
       "    </tr>\n",
       "    <tr>\n",
       "      <th>7</th>\n",
       "      <td>2004-01-02</td>\n",
       "      <td>1</td>\n",
       "      <td>11291</td>\n",
       "      <td>18</td>\n",
       "      <td>1</td>\n",
       "      <td>86.94</td>\n",
       "      <td>Аптека 1</td>\n",
       "      <td>Арбидол-ЛЭНС табл.п.о. 0,05 г уп.контурн.яч. 1...</td>\n",
       "      <td>33</td>\n",
       "      <td>Иммуномодуляторы</td>\n",
       "    </tr>\n",
       "    <tr>\n",
       "      <th>8</th>\n",
       "      <td>2004-01-02</td>\n",
       "      <td>1</td>\n",
       "      <td>24061</td>\n",
       "      <td>19</td>\n",
       "      <td>1</td>\n",
       "      <td>156.29</td>\n",
       "      <td>Аптека 1</td>\n",
       "      <td>Гриппферон капли наз. 10000 МЕ/мл фл.-кап. 10 ...</td>\n",
       "      <td>33</td>\n",
       "      <td>Иммуномодуляторы</td>\n",
       "    </tr>\n",
       "    <tr>\n",
       "      <th>9</th>\n",
       "      <td>2004-01-02</td>\n",
       "      <td>1</td>\n",
       "      <td>27649</td>\n",
       "      <td>15</td>\n",
       "      <td>1</td>\n",
       "      <td>210.50</td>\n",
       "      <td>Аптека 1</td>\n",
       "      <td>Доппельгерц Женьшень Актив эликсир фл.темн.сте...</td>\n",
       "      <td>48</td>\n",
       "      <td>Общетонизирующие средства и адаптогены</td>\n",
       "    </tr>\n",
       "  </tbody>\n",
       "</table>\n",
       "</div>"
      ],
      "text/plain": [
       "        DATE  STOREID  PRODID  HOUR  COUNT     SUM    NAME_x  \\\n",
       "0 2004-01-01        1   31052    13      1   56.50  Аптека 1   \n",
       "1 2004-01-01        1   36259    16      1   72.48  Аптека 1   \n",
       "2 2004-01-01        1   40345    15      1   15.84  Аптека 1   \n",
       "3 2004-01-01        1   65841    14      1  163.02  Аптека 1   \n",
       "4 2004-01-01        1   82545    13      1  173.32  Аптека 1   \n",
       "5 2004-01-01        1   83563    13      1   47.95  Аптека 1   \n",
       "6 2004-01-02        1    2291    20      1  276.80  Аптека 1   \n",
       "7 2004-01-02        1   11291    18      1   86.94  Аптека 1   \n",
       "8 2004-01-02        1   24061    19      1  156.29  Аптека 1   \n",
       "9 2004-01-02        1   27649    15      1  210.50  Аптека 1   \n",
       "\n",
       "                                              NAME_y  FKGCODE  \\\n",
       "0  Ингалипт аэроз. бал.аэроз.алюм. 30 мл пач.карт...      247   \n",
       "1  Компливит табл.п.о. бан.полимерн. 60 пач.карто...      198   \n",
       "2  Линимент бальзамический (по Вишневскому) линим...      247   \n",
       "3  Стрепсилс Плюс спрей доз. фл.с дозат. 20 мл ко...      247   \n",
       "4  Арбидол-ЛЭНС табл.п.о. 0,1 г бл. 10 кор. 1 Дал...       33   \n",
       "5  Доктор Тайсс Эвкалипт леденцы 50 г Dr. Theiss ...      247   \n",
       "6  Кальций-Д_3 Никомед табл.жев. с апельс. фл. 10...      198   \n",
       "7  Арбидол-ЛЭНС табл.п.о. 0,05 г уп.контурн.яч. 1...       33   \n",
       "8  Гриппферон капли наз. 10000 МЕ/мл фл.-кап. 10 ...       33   \n",
       "9  Доппельгерц Женьшень Актив эликсир фл.темн.сте...       48   \n",
       "\n",
       "                                  FKGNAME  \n",
       "0  Антисептики и дезинфицирующие средства  \n",
       "1    Витамины и витаминоподобные средства  \n",
       "2  Антисептики и дезинфицирующие средства  \n",
       "3  Антисептики и дезинфицирующие средства  \n",
       "4                        Иммуномодуляторы  \n",
       "5  Антисептики и дезинфицирующие средства  \n",
       "6    Витамины и витаминоподобные средства  \n",
       "7                        Иммуномодуляторы  \n",
       "8                        Иммуномодуляторы  \n",
       "9  Общетонизирующие средства и адаптогены  "
      ]
     },
     "execution_count": 69,
     "metadata": {},
     "output_type": "execute_result"
    }
   ],
   "source": [
    "raw_sales.head(10)"
   ]
  },
  {
   "cell_type": "code",
   "execution_count": 73,
   "metadata": {},
   "outputs": [
    {
     "name": "stdout",
     "output_type": "stream",
     "text": [
      "<class 'pandas.core.frame.DataFrame'>\n",
      "RangeIndex: 8052 entries, 0 to 8051\n",
      "Data columns (total 10 columns):\n",
      "DATE       8052 non-null datetime64[ns]\n",
      "STOREID    8052 non-null int64\n",
      "PRODID     8052 non-null int64\n",
      "HOUR       8052 non-null int64\n",
      "COUNT      8052 non-null int64\n",
      "SUM        8052 non-null float64\n",
      "NAME_x     8052 non-null object\n",
      "NAME_y     8052 non-null object\n",
      "FKGCODE    8052 non-null int64\n",
      "FKGNAME    8052 non-null object\n",
      "dtypes: datetime64[ns](1), float64(1), int64(5), object(3)\n",
      "memory usage: 629.1+ KB\n"
     ]
    }
   ],
   "source": [
    "raw_sales.info()"
   ]
  },
  {
   "cell_type": "code",
   "execution_count": null,
   "metadata": {},
   "outputs": [],
   "source": []
  }
 ],
 "metadata": {
  "_draft": {
   "nbviewer_url": "https://gist.github.com/32205f99bc53e66eb6f35c0e3f37eb6b"
  },
  "gist": {
   "data": {
    "description": "lab2.ipynb",
    "public": true
   },
   "id": "32205f99bc53e66eb6f35c0e3f37eb6b"
  },
  "kernelspec": {
   "display_name": "Python 3",
   "language": "python",
   "name": "python3"
  },
  "language_info": {
   "codemirror_mode": {
    "name": "ipython",
    "version": 3
   },
   "file_extension": ".py",
   "mimetype": "text/x-python",
   "name": "python",
   "nbconvert_exporter": "python",
   "pygments_lexer": "ipython3",
   "version": "3.6.6"
  },
  "toc": {
   "base_numbering": 1,
   "nav_menu": {},
   "number_sections": true,
   "sideBar": true,
   "skip_h1_title": false,
   "title_cell": "Table of Contents",
   "title_sidebar": "Contents",
   "toc_cell": false,
   "toc_position": {},
   "toc_section_display": true,
   "toc_window_display": true
  }
 },
 "nbformat": 4,
 "nbformat_minor": 2
}
