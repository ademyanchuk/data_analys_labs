{
 "cells": [
  {
   "cell_type": "markdown",
   "metadata": {},
   "source": [
    "### Импорты"
   ]
  },
  {
   "cell_type": "code",
   "execution_count": 55,
   "metadata": {},
   "outputs": [],
   "source": [
    "import numpy as np\n",
    "import pandas as pd"
   ]
  },
  {
   "cell_type": "code",
   "execution_count": 2,
   "metadata": {
    "scrolled": true
   },
   "outputs": [
    {
     "name": "stdout",
     "output_type": "stream",
     "text": [
      "SQLalchemy is not installed. No support for SQL output.\n"
     ]
    }
   ],
   "source": [
    "from simpledbf import Dbf5"
   ]
  },
  {
   "cell_type": "code",
   "execution_count": 41,
   "metadata": {},
   "outputs": [],
   "source": [
    "import matplotlib.pyplot as plt"
   ]
  },
  {
   "cell_type": "markdown",
   "metadata": {},
   "source": [
    "### Загрузка из dbf (файлы баз данных)"
   ]
  },
  {
   "cell_type": "markdown",
   "metadata": {},
   "source": [
    "загружаем данные из файлов формата `dbf`  с использованием библиотеки `simpledbf`"
   ]
  },
  {
   "cell_type": "code",
   "execution_count": 3,
   "metadata": {},
   "outputs": [],
   "source": [
    "goods_dbf = Dbf5('goods.dbf', codec='cp866')\n",
    "groups_dbf = Dbf5('groups.dbf', codec='cp866')"
   ]
  },
  {
   "cell_type": "markdown",
   "metadata": {},
   "source": [
    "конвертируем в нативную для `Pandas` форму датафрейма `df`"
   ]
  },
  {
   "cell_type": "code",
   "execution_count": 4,
   "metadata": {},
   "outputs": [],
   "source": [
    "goods_df = goods_dbf.to_dataframe()\n",
    "groups_df = groups_dbf.to_dataframe()"
   ]
  },
  {
   "cell_type": "code",
   "execution_count": 5,
   "metadata": {
    "scrolled": true
   },
   "outputs": [
    {
     "data": {
      "text/html": [
       "<div>\n",
       "<style scoped>\n",
       "    .dataframe tbody tr th:only-of-type {\n",
       "        vertical-align: middle;\n",
       "    }\n",
       "\n",
       "    .dataframe tbody tr th {\n",
       "        vertical-align: top;\n",
       "    }\n",
       "\n",
       "    .dataframe thead th {\n",
       "        text-align: right;\n",
       "    }\n",
       "</style>\n",
       "<table border=\"1\" class=\"dataframe\">\n",
       "  <thead>\n",
       "    <tr style=\"text-align: right;\">\n",
       "      <th></th>\n",
       "      <th>GROUP_ID</th>\n",
       "      <th>NAME</th>\n",
       "    </tr>\n",
       "  </thead>\n",
       "  <tbody>\n",
       "    <tr>\n",
       "      <th>0</th>\n",
       "      <td>1</td>\n",
       "      <td>Гомеопатия</td>\n",
       "    </tr>\n",
       "    <tr>\n",
       "      <th>1</th>\n",
       "      <td>2</td>\n",
       "      <td>Лечебно-косметические средства</td>\n",
       "    </tr>\n",
       "    <tr>\n",
       "      <th>2</th>\n",
       "      <td>3</td>\n",
       "      <td>Противоревматические,анальгезирующие,жаропониж...</td>\n",
       "    </tr>\n",
       "    <tr>\n",
       "      <th>3</th>\n",
       "      <td>4</td>\n",
       "      <td>Респираторные заболевания</td>\n",
       "    </tr>\n",
       "    <tr>\n",
       "      <th>4</th>\n",
       "      <td>5</td>\n",
       "      <td>Гормоны</td>\n",
       "    </tr>\n",
       "  </tbody>\n",
       "</table>\n",
       "</div>"
      ],
      "text/plain": [
       "   GROUP_ID                                               NAME\n",
       "0         1                                         Гомеопатия\n",
       "1         2                     Лечебно-косметические средства\n",
       "2         3  Противоревматические,анальгезирующие,жаропониж...\n",
       "3         4                          Респираторные заболевания\n",
       "4         5                                            Гормоны"
      ]
     },
     "execution_count": 5,
     "metadata": {},
     "output_type": "execute_result"
    }
   ],
   "source": [
    "groups_df.head()"
   ]
  },
  {
   "cell_type": "code",
   "execution_count": 9,
   "metadata": {},
   "outputs": [
    {
     "data": {
      "text/plain": [
       "(8916, 4)"
      ]
     },
     "execution_count": 9,
     "metadata": {},
     "output_type": "execute_result"
    }
   ],
   "source": [
    "goods_df.shape"
   ]
  },
  {
   "cell_type": "code",
   "execution_count": 6,
   "metadata": {},
   "outputs": [
    {
     "data": {
      "text/html": [
       "<div>\n",
       "<style scoped>\n",
       "    .dataframe tbody tr th:only-of-type {\n",
       "        vertical-align: middle;\n",
       "    }\n",
       "\n",
       "    .dataframe tbody tr th {\n",
       "        vertical-align: top;\n",
       "    }\n",
       "\n",
       "    .dataframe thead th {\n",
       "        text-align: right;\n",
       "    }\n",
       "</style>\n",
       "<table border=\"1\" class=\"dataframe\">\n",
       "  <thead>\n",
       "    <tr style=\"text-align: right;\">\n",
       "      <th></th>\n",
       "      <th>TOVAR_ID</th>\n",
       "      <th>UPAC</th>\n",
       "      <th>MAKER</th>\n",
       "      <th>GROUP_ID</th>\n",
       "    </tr>\n",
       "  </thead>\n",
       "  <tbody>\n",
       "    <tr>\n",
       "      <th>0</th>\n",
       "      <td>19</td>\n",
       "      <td>12.0</td>\n",
       "      <td>САГМЕЛ</td>\n",
       "      <td>3</td>\n",
       "    </tr>\n",
       "    <tr>\n",
       "      <th>1</th>\n",
       "      <td>20</td>\n",
       "      <td>6.0</td>\n",
       "      <td>САГМЕЛ</td>\n",
       "      <td>4</td>\n",
       "    </tr>\n",
       "    <tr>\n",
       "      <th>2</th>\n",
       "      <td>21</td>\n",
       "      <td>15.0</td>\n",
       "      <td>БЕРЛИН-ХЕМИ АГ (ГРУППА МЕНАРИНИ)</td>\n",
       "      <td>5</td>\n",
       "    </tr>\n",
       "    <tr>\n",
       "      <th>3</th>\n",
       "      <td>22</td>\n",
       "      <td>270.0</td>\n",
       "      <td>БЕРЛИН-ХЕМИ АГ (ГРУППА МЕНАРИНИ)</td>\n",
       "      <td>5</td>\n",
       "    </tr>\n",
       "    <tr>\n",
       "      <th>4</th>\n",
       "      <td>26</td>\n",
       "      <td>1.0</td>\n",
       "      <td>АРМАВИРСКАЯ БИОФАБРИКА</td>\n",
       "      <td>6</td>\n",
       "    </tr>\n",
       "  </tbody>\n",
       "</table>\n",
       "</div>"
      ],
      "text/plain": [
       "   TOVAR_ID   UPAC                             MAKER  GROUP_ID\n",
       "0        19   12.0                            САГМЕЛ         3\n",
       "1        20    6.0                            САГМЕЛ         4\n",
       "2        21   15.0  БЕРЛИН-ХЕМИ АГ (ГРУППА МЕНАРИНИ)         5\n",
       "3        22  270.0  БЕРЛИН-ХЕМИ АГ (ГРУППА МЕНАРИНИ)         5\n",
       "4        26    1.0            АРМАВИРСКАЯ БИОФАБРИКА         6"
      ]
     },
     "execution_count": 6,
     "metadata": {},
     "output_type": "execute_result"
    }
   ],
   "source": [
    "goods_df.head()"
   ]
  },
  {
   "cell_type": "markdown",
   "metadata": {},
   "source": [
    "### Слияние таблиц по колонке GROUP_ID"
   ]
  },
  {
   "cell_type": "code",
   "execution_count": 13,
   "metadata": {},
   "outputs": [],
   "source": [
    "merged_df = pd.merge(left=goods_df, right=groups_df, on='GROUP_ID', how='left')"
   ]
  },
  {
   "cell_type": "code",
   "execution_count": 14,
   "metadata": {},
   "outputs": [
    {
     "data": {
      "text/html": [
       "<div>\n",
       "<style scoped>\n",
       "    .dataframe tbody tr th:only-of-type {\n",
       "        vertical-align: middle;\n",
       "    }\n",
       "\n",
       "    .dataframe tbody tr th {\n",
       "        vertical-align: top;\n",
       "    }\n",
       "\n",
       "    .dataframe thead th {\n",
       "        text-align: right;\n",
       "    }\n",
       "</style>\n",
       "<table border=\"1\" class=\"dataframe\">\n",
       "  <thead>\n",
       "    <tr style=\"text-align: right;\">\n",
       "      <th></th>\n",
       "      <th>TOVAR_ID</th>\n",
       "      <th>UPAC</th>\n",
       "      <th>MAKER</th>\n",
       "      <th>GROUP_ID</th>\n",
       "      <th>NAME</th>\n",
       "    </tr>\n",
       "  </thead>\n",
       "  <tbody>\n",
       "    <tr>\n",
       "      <th>0</th>\n",
       "      <td>19</td>\n",
       "      <td>12.0</td>\n",
       "      <td>САГМЕЛ</td>\n",
       "      <td>3</td>\n",
       "      <td>Противоревматические,анальгезирующие,жаропониж...</td>\n",
       "    </tr>\n",
       "    <tr>\n",
       "      <th>1</th>\n",
       "      <td>20</td>\n",
       "      <td>6.0</td>\n",
       "      <td>САГМЕЛ</td>\n",
       "      <td>4</td>\n",
       "      <td>Респираторные заболевания</td>\n",
       "    </tr>\n",
       "    <tr>\n",
       "      <th>2</th>\n",
       "      <td>21</td>\n",
       "      <td>15.0</td>\n",
       "      <td>БЕРЛИН-ХЕМИ АГ (ГРУППА МЕНАРИНИ)</td>\n",
       "      <td>5</td>\n",
       "      <td>Гормоны</td>\n",
       "    </tr>\n",
       "    <tr>\n",
       "      <th>3</th>\n",
       "      <td>22</td>\n",
       "      <td>270.0</td>\n",
       "      <td>БЕРЛИН-ХЕМИ АГ (ГРУППА МЕНАРИНИ)</td>\n",
       "      <td>5</td>\n",
       "      <td>Гормоны</td>\n",
       "    </tr>\n",
       "    <tr>\n",
       "      <th>4</th>\n",
       "      <td>26</td>\n",
       "      <td>1.0</td>\n",
       "      <td>АРМАВИРСКАЯ БИОФАБРИКА</td>\n",
       "      <td>6</td>\n",
       "      <td>Противоопухолевые ср-ва</td>\n",
       "    </tr>\n",
       "  </tbody>\n",
       "</table>\n",
       "</div>"
      ],
      "text/plain": [
       "   TOVAR_ID   UPAC                             MAKER  GROUP_ID  \\\n",
       "0        19   12.0                            САГМЕЛ         3   \n",
       "1        20    6.0                            САГМЕЛ         4   \n",
       "2        21   15.0  БЕРЛИН-ХЕМИ АГ (ГРУППА МЕНАРИНИ)         5   \n",
       "3        22  270.0  БЕРЛИН-ХЕМИ АГ (ГРУППА МЕНАРИНИ)         5   \n",
       "4        26    1.0            АРМАВИРСКАЯ БИОФАБРИКА         6   \n",
       "\n",
       "                                                NAME  \n",
       "0  Противоревматические,анальгезирующие,жаропониж...  \n",
       "1                          Респираторные заболевания  \n",
       "2                                            Гормоны  \n",
       "3                                            Гормоны  \n",
       "4                            Противоопухолевые ср-ва  "
      ]
     },
     "execution_count": 14,
     "metadata": {},
     "output_type": "execute_result"
    }
   ],
   "source": [
    "merged_df.head()"
   ]
  },
  {
   "cell_type": "markdown",
   "metadata": {},
   "source": [
    "### Сохранение и загрузка объединенных данных"
   ]
  },
  {
   "cell_type": "code",
   "execution_count": 15,
   "metadata": {},
   "outputs": [],
   "source": [
    "merged_df.to_csv('merged_by_group_id.csv', header=True, index=False)"
   ]
  },
  {
   "cell_type": "code",
   "execution_count": 16,
   "metadata": {},
   "outputs": [],
   "source": [
    "merged_df = pd.read_csv('merged_by_group_id.csv')"
   ]
  },
  {
   "cell_type": "code",
   "execution_count": 17,
   "metadata": {},
   "outputs": [
    {
     "data": {
      "text/html": [
       "<div>\n",
       "<style scoped>\n",
       "    .dataframe tbody tr th:only-of-type {\n",
       "        vertical-align: middle;\n",
       "    }\n",
       "\n",
       "    .dataframe tbody tr th {\n",
       "        vertical-align: top;\n",
       "    }\n",
       "\n",
       "    .dataframe thead th {\n",
       "        text-align: right;\n",
       "    }\n",
       "</style>\n",
       "<table border=\"1\" class=\"dataframe\">\n",
       "  <thead>\n",
       "    <tr style=\"text-align: right;\">\n",
       "      <th></th>\n",
       "      <th>TOVAR_ID</th>\n",
       "      <th>UPAC</th>\n",
       "      <th>MAKER</th>\n",
       "      <th>GROUP_ID</th>\n",
       "      <th>NAME</th>\n",
       "    </tr>\n",
       "  </thead>\n",
       "  <tbody>\n",
       "    <tr>\n",
       "      <th>0</th>\n",
       "      <td>19</td>\n",
       "      <td>12.0</td>\n",
       "      <td>САГМЕЛ</td>\n",
       "      <td>3</td>\n",
       "      <td>Противоревматические,анальгезирующие,жаропониж...</td>\n",
       "    </tr>\n",
       "    <tr>\n",
       "      <th>1</th>\n",
       "      <td>20</td>\n",
       "      <td>6.0</td>\n",
       "      <td>САГМЕЛ</td>\n",
       "      <td>4</td>\n",
       "      <td>Респираторные заболевания</td>\n",
       "    </tr>\n",
       "    <tr>\n",
       "      <th>2</th>\n",
       "      <td>21</td>\n",
       "      <td>15.0</td>\n",
       "      <td>БЕРЛИН-ХЕМИ АГ (ГРУППА МЕНАРИНИ)</td>\n",
       "      <td>5</td>\n",
       "      <td>Гормоны</td>\n",
       "    </tr>\n",
       "    <tr>\n",
       "      <th>3</th>\n",
       "      <td>22</td>\n",
       "      <td>270.0</td>\n",
       "      <td>БЕРЛИН-ХЕМИ АГ (ГРУППА МЕНАРИНИ)</td>\n",
       "      <td>5</td>\n",
       "      <td>Гормоны</td>\n",
       "    </tr>\n",
       "    <tr>\n",
       "      <th>4</th>\n",
       "      <td>26</td>\n",
       "      <td>1.0</td>\n",
       "      <td>АРМАВИРСКАЯ БИОФАБРИКА</td>\n",
       "      <td>6</td>\n",
       "      <td>Противоопухолевые ср-ва</td>\n",
       "    </tr>\n",
       "  </tbody>\n",
       "</table>\n",
       "</div>"
      ],
      "text/plain": [
       "   TOVAR_ID   UPAC                             MAKER  GROUP_ID  \\\n",
       "0        19   12.0                            САГМЕЛ         3   \n",
       "1        20    6.0                            САГМЕЛ         4   \n",
       "2        21   15.0  БЕРЛИН-ХЕМИ АГ (ГРУППА МЕНАРИНИ)         5   \n",
       "3        22  270.0  БЕРЛИН-ХЕМИ АГ (ГРУППА МЕНАРИНИ)         5   \n",
       "4        26    1.0            АРМАВИРСКАЯ БИОФАБРИКА         6   \n",
       "\n",
       "                                                NAME  \n",
       "0  Противоревматические,анальгезирующие,жаропониж...  \n",
       "1                          Респираторные заболевания  \n",
       "2                                            Гормоны  \n",
       "3                                            Гормоны  \n",
       "4                            Противоопухолевые ср-ва  "
      ]
     },
     "execution_count": 17,
     "metadata": {},
     "output_type": "execute_result"
    }
   ],
   "source": [
    "merged_df.head()"
   ]
  },
  {
   "cell_type": "markdown",
   "metadata": {},
   "source": [
    "### Интерактивный анализ данных"
   ]
  },
  {
   "cell_type": "markdown",
   "metadata": {},
   "source": [
    " Распределения продаж товаров в разрезе производителя и групп товаров"
   ]
  },
  {
   "cell_type": "code",
   "execution_count": 26,
   "metadata": {},
   "outputs": [],
   "source": [
    "grouped_df = merged_df.groupby(by=['MAKER', 'NAME']).agg({'UPAC':'sum'})"
   ]
  },
  {
   "cell_type": "code",
   "execution_count": 28,
   "metadata": {},
   "outputs": [
    {
     "data": {
      "text/html": [
       "<div>\n",
       "<style scoped>\n",
       "    .dataframe tbody tr th:only-of-type {\n",
       "        vertical-align: middle;\n",
       "    }\n",
       "\n",
       "    .dataframe tbody tr th {\n",
       "        vertical-align: top;\n",
       "    }\n",
       "\n",
       "    .dataframe thead th {\n",
       "        text-align: right;\n",
       "    }\n",
       "</style>\n",
       "<table border=\"1\" class=\"dataframe\">\n",
       "  <thead>\n",
       "    <tr style=\"text-align: right;\">\n",
       "      <th></th>\n",
       "      <th></th>\n",
       "      <th>UPAC</th>\n",
       "    </tr>\n",
       "    <tr>\n",
       "      <th>MAKER</th>\n",
       "      <th>NAME</th>\n",
       "      <th></th>\n",
       "    </tr>\n",
       "  </thead>\n",
       "  <tbody>\n",
       "    <tr>\n",
       "      <th rowspan=\"3\" valign=\"top\">\"ЛАБОРАТОРИЯ ФАРМАЧЕУТИКО\"</th>\n",
       "      <th>Противоревматические,анальгезирующие,жаропонижающие</th>\n",
       "      <td>1.0</td>\n",
       "    </tr>\n",
       "    <tr>\n",
       "      <th>Сердечно-сосудистые средства</th>\n",
       "      <td>1.0</td>\n",
       "    </tr>\n",
       "    <tr>\n",
       "      <th>Синтетические антибактериальные препараты</th>\n",
       "      <td>1.0</td>\n",
       "    </tr>\n",
       "    <tr>\n",
       "      <th>3М</th>\n",
       "      <th>Фитопрепараты</th>\n",
       "      <td>1.0</td>\n",
       "    </tr>\n",
       "    <tr>\n",
       "      <th>А.Ж.С.ФАРМА</th>\n",
       "      <th>Алкоголизм,наркомания,курение.</th>\n",
       "      <td>10.0</td>\n",
       "    </tr>\n",
       "    <tr>\n",
       "      <th>АБОЛМЕД</th>\n",
       "      <th>Антибиотики</th>\n",
       "      <td>50.0</td>\n",
       "    </tr>\n",
       "    <tr>\n",
       "      <th>АВД ФАРМ И КО/ВИАТРИС ГМБХ</th>\n",
       "      <th>Заболевания желудочно-киш.тракта</th>\n",
       "      <td>0.0</td>\n",
       "    </tr>\n",
       "    <tr>\n",
       "      <th rowspan=\"3\" valign=\"top\">АВЕНТИС ФАРМА</th>\n",
       "      <th>Анестезиология и реанимация</th>\n",
       "      <td>0.0</td>\n",
       "    </tr>\n",
       "    <tr>\n",
       "      <th>Антиаллергические препараты</th>\n",
       "      <td>306.0</td>\n",
       "    </tr>\n",
       "    <tr>\n",
       "      <th>Бактерийные препараты,вакцины,сыворотки</th>\n",
       "      <td>0.0</td>\n",
       "    </tr>\n",
       "  </tbody>\n",
       "</table>\n",
       "</div>"
      ],
      "text/plain": [
       "                                                                                UPAC\n",
       "MAKER                      NAME                                                     \n",
       "\"ЛАБОРАТОРИЯ ФАРМАЧЕУТИКО\" Противоревматические,анальгезирующие,жаропонижа...    1.0\n",
       "                           Сердечно-сосудистые средства                          1.0\n",
       "                           Синтетические антибактериальные препараты             1.0\n",
       "3М                         Фитопрепараты                                         1.0\n",
       "А.Ж.С.ФАРМА                Алкоголизм,наркомания,курение.                       10.0\n",
       "АБОЛМЕД                    Антибиотики                                          50.0\n",
       "АВД ФАРМ И КО/ВИАТРИС ГМБХ Заболевания желудочно-киш.тракта                      0.0\n",
       "АВЕНТИС ФАРМА              Анестезиология и реанимация                           0.0\n",
       "                           Антиаллергические препараты                         306.0\n",
       "                           Бактерийные препараты,вакцины,сыворотки               0.0"
      ]
     },
     "execution_count": 28,
     "metadata": {},
     "output_type": "execute_result"
    }
   ],
   "source": [
    "grouped_df.head(10)"
   ]
  },
  {
   "cell_type": "markdown",
   "metadata": {},
   "source": [
    "транспонированное представление"
   ]
  },
  {
   "cell_type": "code",
   "execution_count": 31,
   "metadata": {},
   "outputs": [
    {
     "data": {
      "text/html": [
       "<div>\n",
       "<style scoped>\n",
       "    .dataframe tbody tr th:only-of-type {\n",
       "        vertical-align: middle;\n",
       "    }\n",
       "\n",
       "    .dataframe tbody tr th {\n",
       "        vertical-align: top;\n",
       "    }\n",
       "\n",
       "    .dataframe thead tr th {\n",
       "        text-align: left;\n",
       "    }\n",
       "</style>\n",
       "<table border=\"1\" class=\"dataframe\">\n",
       "  <thead>\n",
       "    <tr>\n",
       "      <th>MAKER</th>\n",
       "      <th colspan=\"3\" halign=\"left\">\"ЛАБОРАТОРИЯ ФАРМАЧЕУТИКО\"</th>\n",
       "      <th>3М</th>\n",
       "      <th>А.Ж.С.ФАРМА</th>\n",
       "      <th>АБОЛМЕД</th>\n",
       "      <th>АВД ФАРМ И КО/ВИАТРИС ГМБХ</th>\n",
       "      <th colspan=\"3\" halign=\"left\">АВЕНТИС ФАРМА</th>\n",
       "      <th>...</th>\n",
       "      <th colspan=\"10\" halign=\"left\">ЯРОСЛАВСКАЯ Ф.Ф-КА</th>\n",
       "    </tr>\n",
       "    <tr>\n",
       "      <th>NAME</th>\n",
       "      <th>Противоревматические,анальгезирующие,жаропонижающие</th>\n",
       "      <th>Сердечно-сосудистые средства</th>\n",
       "      <th>Синтетические антибактериальные препараты</th>\n",
       "      <th>Фитопрепараты</th>\n",
       "      <th>Алкоголизм,наркомания,курение.</th>\n",
       "      <th>Антибиотики</th>\n",
       "      <th>Заболевания желудочно-киш.тракта</th>\n",
       "      <th>Анестезиология и реанимация</th>\n",
       "      <th>Антиаллергические препараты</th>\n",
       "      <th>Бактерийные препараты,вакцины,сыворотки</th>\n",
       "      <th>...</th>\n",
       "      <th>Заболевания желудочно-киш.тракта</th>\n",
       "      <th>Коррекция метаболизма</th>\n",
       "      <th>Противоопухолевые ср-ва</th>\n",
       "      <th>Противопротозойные и противопаразит.</th>\n",
       "      <th>Противоревматические,анальгезирующие,жаропонижающие</th>\n",
       "      <th>Респираторные заболевания</th>\n",
       "      <th>Сердечно-сосудистые средства</th>\n",
       "      <th>Сиропы,бальзамы,настойки</th>\n",
       "      <th>Средства,действующие на ЦНС</th>\n",
       "      <th>Фитопрепараты</th>\n",
       "    </tr>\n",
       "  </thead>\n",
       "  <tbody>\n",
       "    <tr>\n",
       "      <th>UPAC</th>\n",
       "      <td>1.0</td>\n",
       "      <td>1.0</td>\n",
       "      <td>1.0</td>\n",
       "      <td>1.0</td>\n",
       "      <td>10.0</td>\n",
       "      <td>50.0</td>\n",
       "      <td>0.0</td>\n",
       "      <td>0.0</td>\n",
       "      <td>306.0</td>\n",
       "      <td>0.0</td>\n",
       "      <td>...</td>\n",
       "      <td>124.0</td>\n",
       "      <td>0.0</td>\n",
       "      <td>40.0</td>\n",
       "      <td>180.0</td>\n",
       "      <td>722.0</td>\n",
       "      <td>486.0</td>\n",
       "      <td>308.0</td>\n",
       "      <td>54.0</td>\n",
       "      <td>257.0</td>\n",
       "      <td>40.0</td>\n",
       "    </tr>\n",
       "  </tbody>\n",
       "</table>\n",
       "<p>1 rows × 2871 columns</p>\n",
       "</div>"
      ],
      "text/plain": [
       "MAKER                          \"ЛАБОРАТОРИЯ ФАРМАЧЕУТИКО\"  \\\n",
       "NAME  Противоревматические,анальгезирующие,жаропонижающие   \n",
       "UPAC                                                 1.0    \n",
       "\n",
       "MAKER                                                                         \\\n",
       "NAME  Сердечно-сосудистые средства Синтетические антибактериальные препараты   \n",
       "UPAC                           1.0                                       1.0   \n",
       "\n",
       "MAKER            3М                    А.Ж.С.ФАРМА     АБОЛМЕД  \\\n",
       "NAME  Фитопрепараты Алкоголизм,наркомания,курение. Антибиотики   \n",
       "UPAC            1.0                           10.0        50.0   \n",
       "\n",
       "MAKER       АВД ФАРМ И КО/ВИАТРИС ГМБХ               АВЕНТИС ФАРМА  \\\n",
       "NAME  Заболевания желудочно-киш.тракта Анестезиология и реанимация   \n",
       "UPAC                               0.0                         0.0   \n",
       "\n",
       "MAKER                                                                      \\\n",
       "NAME  Антиаллергические препараты Бактерийные препараты,вакцины,сыворотки   \n",
       "UPAC                        306.0                                     0.0   \n",
       "\n",
       "MAKER      ...                    ЯРОСЛАВСКАЯ Ф.Ф-КА                        \\\n",
       "NAME       ...      Заболевания желудочно-киш.тракта Коррекция метаболизма   \n",
       "UPAC       ...                                 124.0                   0.0   \n",
       "\n",
       "MAKER                                                               \\\n",
       "NAME  Противоопухолевые ср-ва Противопротозойные и противопаразит.   \n",
       "UPAC                     40.0                                180.0   \n",
       "\n",
       "MAKER                                                      \\\n",
       "NAME  Противоревматические,анальгезирующие,жаропонижающие   \n",
       "UPAC                                               722.0    \n",
       "\n",
       "MAKER                                                         \\\n",
       "NAME  Респираторные заболевания Сердечно-сосудистые средства   \n",
       "UPAC                      486.0                        308.0   \n",
       "\n",
       "MAKER                                                                     \n",
       "NAME  Сиропы,бальзамы,настойки Средства,действующие на ЦНС Фитопрепараты  \n",
       "UPAC                      54.0                       257.0          40.0  \n",
       "\n",
       "[1 rows x 2871 columns]"
      ]
     },
     "execution_count": 31,
     "metadata": {},
     "output_type": "execute_result"
    }
   ],
   "source": [
    "grouped_df.T"
   ]
  },
  {
   "cell_type": "markdown",
   "metadata": {},
   "source": [
    "Распределения продаж товаров в разрезе групп товаров"
   ]
  },
  {
   "cell_type": "code",
   "execution_count": 48,
   "metadata": {},
   "outputs": [],
   "source": [
    "grouped_name_df = merged_df.groupby(by=['NAME']).agg({'UPAC':'sum'})"
   ]
  },
  {
   "cell_type": "code",
   "execution_count": 49,
   "metadata": {},
   "outputs": [
    {
     "data": {
      "text/html": [
       "<div>\n",
       "<style scoped>\n",
       "    .dataframe tbody tr th:only-of-type {\n",
       "        vertical-align: middle;\n",
       "    }\n",
       "\n",
       "    .dataframe tbody tr th {\n",
       "        vertical-align: top;\n",
       "    }\n",
       "\n",
       "    .dataframe thead th {\n",
       "        text-align: right;\n",
       "    }\n",
       "</style>\n",
       "<table border=\"1\" class=\"dataframe\">\n",
       "  <thead>\n",
       "    <tr style=\"text-align: right;\">\n",
       "      <th></th>\n",
       "      <th>UPAC</th>\n",
       "    </tr>\n",
       "    <tr>\n",
       "      <th>NAME</th>\n",
       "      <th></th>\n",
       "    </tr>\n",
       "  </thead>\n",
       "  <tbody>\n",
       "    <tr>\n",
       "      <th>Адаптогены</th>\n",
       "      <td>371.0</td>\n",
       "    </tr>\n",
       "    <tr>\n",
       "      <th>Акушерство и гинекология</th>\n",
       "      <td>9918.0</td>\n",
       "    </tr>\n",
       "    <tr>\n",
       "      <th>Алкоголизм,наркомания,курение.</th>\n",
       "      <td>1254.0</td>\n",
       "    </tr>\n",
       "    <tr>\n",
       "      <th>Анестезиология и реанимация</th>\n",
       "      <td>4665.0</td>\n",
       "    </tr>\n",
       "    <tr>\n",
       "      <th>Антиаллергические препараты</th>\n",
       "      <td>25463.0</td>\n",
       "    </tr>\n",
       "  </tbody>\n",
       "</table>\n",
       "</div>"
      ],
      "text/plain": [
       "                                   UPAC\n",
       "NAME                                   \n",
       "Адаптогены                        371.0\n",
       "Акушерство и гинекология         9918.0\n",
       "Алкоголизм,наркомания,курение.   1254.0\n",
       "Анестезиология и реанимация      4665.0\n",
       "Антиаллергические препараты     25463.0"
      ]
     },
     "execution_count": 49,
     "metadata": {},
     "output_type": "execute_result"
    }
   ],
   "source": [
    "grouped_name_df.head()"
   ]
  },
  {
   "cell_type": "code",
   "execution_count": 56,
   "metadata": {},
   "outputs": [],
   "source": [
    "index = np.arange(len(grouped_name_df))\n",
    "values = grouped_name_df.UPAC.values"
   ]
  },
  {
   "cell_type": "code",
   "execution_count": 72,
   "metadata": {
    "scrolled": false
   },
   "outputs": [
    {
     "data": {
      "image/png": "[encoded data removed]",
      "text/plain": [
       "<Figure size 1200x1000 with 1 Axes>"
      ]
     },
     "metadata": {},
     "output_type": "display_data"
    }
   ],
   "source": [
    "plt.figure(num=None, figsize=(12, 10), dpi=100, facecolor='w', edgecolor='k')\n",
    "plt.barh(index, values)\n",
    "plt.ylabel('Groups', fontsize=10)\n",
    "plt.xlabel('Count', fontsize=10)\n",
    "plt.yticks(index, grouped_name_df.index, fontsize=8, rotation=0)\n",
    "plt.title('Sells count by groups')\n",
    "plt.show()"
   ]
  },
  {
   "cell_type": "code",
   "execution_count": null,
   "metadata": {},
   "outputs": [],
   "source": []
  }
 ],
 "metadata": {
  "_draft": {
   "nbviewer_url": "https://gist.github.com/07210d84389af2366c982e04851d672d"
  },
  "gist": {
   "data": {
    "description": "extract-load-transform.ipynb",
    "public": true
   },
   "id": "07210d84389af2366c982e04851d672d"
  },
  "kernelspec": {
   "display_name": "Python 3",
   "language": "python",
   "name": "python3"
  },
  "language_info": {
   "codemirror_mode": {
    "name": "ipython",
    "version": 3
   },
   "file_extension": ".py",
   "mimetype": "text/x-python",
   "name": "python",
   "nbconvert_exporter": "python",
   "pygments_lexer": "ipython3",
   "version": "3.6.6"
  },
  "toc": {
   "base_numbering": 1,
   "nav_menu": {},
   "number_sections": true,
   "sideBar": true,
   "skip_h1_title": false,
   "title_cell": "Table of Contents",
   "title_sidebar": "Contents",
   "toc_cell": false,
   "toc_position": {},
   "toc_section_display": true,
   "toc_window_display": true
  }
 },
 "nbformat": 4,
 "nbformat_minor": 2
}
