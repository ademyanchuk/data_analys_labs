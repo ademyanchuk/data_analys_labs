{
 "cells": [
  {
   "cell_type": "markdown",
   "metadata": {},
   "source": [
    "### Импорты"
   ]
  },
  {
   "cell_type": "code",
   "execution_count": 1,
   "metadata": {},
   "outputs": [],
   "source": [
    "%load_ext autoreload\n",
    "%autoreload 2\n",
    "\n",
    "%matplotlib inline"
   ]
  },
  {
   "cell_type": "code",
   "execution_count": 2,
   "metadata": {},
   "outputs": [],
   "source": [
    "import numpy as np\n",
    "import pandas as pd"
   ]
  },
  {
   "cell_type": "code",
   "execution_count": 3,
   "metadata": {},
   "outputs": [],
   "source": [
    "import matplotlib.pyplot as plt"
   ]
  },
  {
   "cell_type": "code",
   "execution_count": 97,
   "metadata": {},
   "outputs": [],
   "source": [
    "from fastai.imports import *\n",
    "from fastai.structured import *\n",
    "\n",
    "from pandas_summary import DataFrameSummary\n",
    "from sklearn.tree import DecisionTreeClassifier\n",
    "from IPython.display import display\n",
    "\n",
    "from sklearn import metrics"
   ]
  },
  {
   "cell_type": "code",
   "execution_count": 52,
   "metadata": {},
   "outputs": [],
   "source": [
    "from sklearn.cluster import KMeans"
   ]
  },
  {
   "cell_type": "code",
   "execution_count": 100,
   "metadata": {},
   "outputs": [],
   "source": [
    "from sklearn.model_selection import train_test_split\n",
    "from sklearn.metrics import confusion_matrix, classification_report"
   ]
  },
  {
   "cell_type": "code",
   "execution_count": 159,
   "metadata": {},
   "outputs": [],
   "source": [
    "from treeinterpreter import treeinterpreter as ti"
   ]
  },
  {
   "cell_type": "markdown",
   "metadata": {},
   "source": [
    "### Загрузка данных"
   ]
  },
  {
   "cell_type": "code",
   "execution_count": 5,
   "metadata": {},
   "outputs": [],
   "source": [
    "def display_all(df):\n",
    "    with pd.option_context(\"display.max_rows\", 1000, \"display.max_columns\", 1000): \n",
    "        display(df)"
   ]
  },
  {
   "cell_type": "code",
   "execution_count": 122,
   "metadata": {},
   "outputs": [],
   "source": [
    "def plot_confusion_matrix(cm, classes,\n",
    "                          normalize=False,\n",
    "                          title='Confusion matrix',\n",
    "                          cmap=plt.cm.Blues):\n",
    "    \"\"\"\n",
    "    This function prints and plots the confusion matrix.\n",
    "    Normalization can be applied by setting `normalize=True`.\n",
    "    \"\"\"\n",
    "    if normalize:\n",
    "        cm = cm.astype('float') / cm.sum(axis=1)[:, np.newaxis]\n",
    "        print(\"Normalized confusion matrix\")\n",
    "    else:\n",
    "        print('Confusion matrix, without normalization')\n",
    "\n",
    "    print(cm)\n",
    "\n",
    "    plt.imshow(cm, interpolation='nearest', cmap=cmap)\n",
    "    plt.title(title)\n",
    "    plt.colorbar()\n",
    "    tick_marks = np.arange(len(classes))\n",
    "    plt.xticks(tick_marks, classes, rotation=45)\n",
    "    plt.yticks(tick_marks, classes)\n",
    "\n",
    "    fmt = '.2f' if normalize else 'd'\n",
    "    thresh = cm.max() / 2.\n",
    "    for i, j in itertools.product(range(cm.shape[0]), range(cm.shape[1])):\n",
    "        plt.text(j, i, format(cm[i, j], fmt),\n",
    "                 horizontalalignment=\"center\",\n",
    "                 color=\"white\" if cm[i, j] > thresh else \"black\")\n",
    "\n",
    "    plt.ylabel('True label')\n",
    "    plt.xlabel('Predicted label')\n",
    "    plt.tight_layout()"
   ]
  },
  {
   "cell_type": "markdown",
   "metadata": {},
   "source": [
    "загружаем данные из таблицы"
   ]
  },
  {
   "cell_type": "code",
   "execution_count": 14,
   "metadata": {
    "scrolled": true
   },
   "outputs": [],
   "source": [
    "credits = pd.read_csv('Lab3/credit-default.csv')"
   ]
  },
  {
   "cell_type": "markdown",
   "metadata": {},
   "source": [
    "#### Краткаое описание данных"
   ]
  },
  {
   "cell_type": "code",
   "execution_count": 15,
   "metadata": {
    "scrolled": true
   },
   "outputs": [
    {
     "data": {
      "text/html": [
       "<div>\n",
       "<style scoped>\n",
       "    .dataframe tbody tr th:only-of-type {\n",
       "        vertical-align: middle;\n",
       "    }\n",
       "\n",
       "    .dataframe tbody tr th {\n",
       "        vertical-align: top;\n",
       "    }\n",
       "\n",
       "    .dataframe thead th {\n",
       "        text-align: right;\n",
       "    }\n",
       "</style>\n",
       "<table border=\"1\" class=\"dataframe\">\n",
       "  <thead>\n",
       "    <tr style=\"text-align: right;\">\n",
       "      <th></th>\n",
       "      <th>checking_balance</th>\n",
       "      <th>months_loan_duration</th>\n",
       "      <th>credit_history</th>\n",
       "      <th>purpose</th>\n",
       "      <th>amount</th>\n",
       "      <th>savings_balance</th>\n",
       "      <th>employment_length</th>\n",
       "      <th>installment_rate</th>\n",
       "      <th>personal_status</th>\n",
       "      <th>other_debtors</th>\n",
       "      <th>residence_history</th>\n",
       "      <th>property</th>\n",
       "      <th>age</th>\n",
       "      <th>installment_plan</th>\n",
       "      <th>housing</th>\n",
       "      <th>existing_credits</th>\n",
       "      <th>default</th>\n",
       "      <th>dependents</th>\n",
       "      <th>telephone</th>\n",
       "      <th>foreign_worker</th>\n",
       "      <th>job</th>\n",
       "    </tr>\n",
       "  </thead>\n",
       "  <tbody>\n",
       "    <tr>\n",
       "      <th>0</th>\n",
       "      <td>&lt; 0 DM</td>\n",
       "      <td>6</td>\n",
       "      <td>critical</td>\n",
       "      <td>radio/tv</td>\n",
       "      <td>1169</td>\n",
       "      <td>unknown</td>\n",
       "      <td>&gt; 7 yrs</td>\n",
       "      <td>4</td>\n",
       "      <td>single male</td>\n",
       "      <td>none</td>\n",
       "      <td>4</td>\n",
       "      <td>real estate</td>\n",
       "      <td>67</td>\n",
       "      <td>none</td>\n",
       "      <td>own</td>\n",
       "      <td>2</td>\n",
       "      <td>1</td>\n",
       "      <td>1</td>\n",
       "      <td>yes</td>\n",
       "      <td>yes</td>\n",
       "      <td>skilled employee</td>\n",
       "    </tr>\n",
       "    <tr>\n",
       "      <th>1</th>\n",
       "      <td>1 - 200 DM</td>\n",
       "      <td>48</td>\n",
       "      <td>repaid</td>\n",
       "      <td>radio/tv</td>\n",
       "      <td>5951</td>\n",
       "      <td>&lt; 100 DM</td>\n",
       "      <td>1 - 4 yrs</td>\n",
       "      <td>2</td>\n",
       "      <td>female</td>\n",
       "      <td>none</td>\n",
       "      <td>2</td>\n",
       "      <td>real estate</td>\n",
       "      <td>22</td>\n",
       "      <td>none</td>\n",
       "      <td>own</td>\n",
       "      <td>1</td>\n",
       "      <td>2</td>\n",
       "      <td>1</td>\n",
       "      <td>none</td>\n",
       "      <td>yes</td>\n",
       "      <td>skilled employee</td>\n",
       "    </tr>\n",
       "    <tr>\n",
       "      <th>2</th>\n",
       "      <td>unknown</td>\n",
       "      <td>12</td>\n",
       "      <td>critical</td>\n",
       "      <td>education</td>\n",
       "      <td>2096</td>\n",
       "      <td>&lt; 100 DM</td>\n",
       "      <td>4 - 7 yrs</td>\n",
       "      <td>2</td>\n",
       "      <td>single male</td>\n",
       "      <td>none</td>\n",
       "      <td>3</td>\n",
       "      <td>real estate</td>\n",
       "      <td>49</td>\n",
       "      <td>none</td>\n",
       "      <td>own</td>\n",
       "      <td>1</td>\n",
       "      <td>1</td>\n",
       "      <td>2</td>\n",
       "      <td>none</td>\n",
       "      <td>yes</td>\n",
       "      <td>unskilled resident</td>\n",
       "    </tr>\n",
       "    <tr>\n",
       "      <th>3</th>\n",
       "      <td>&lt; 0 DM</td>\n",
       "      <td>42</td>\n",
       "      <td>repaid</td>\n",
       "      <td>furniture</td>\n",
       "      <td>7882</td>\n",
       "      <td>&lt; 100 DM</td>\n",
       "      <td>4 - 7 yrs</td>\n",
       "      <td>2</td>\n",
       "      <td>single male</td>\n",
       "      <td>guarantor</td>\n",
       "      <td>4</td>\n",
       "      <td>building society savings</td>\n",
       "      <td>45</td>\n",
       "      <td>none</td>\n",
       "      <td>for free</td>\n",
       "      <td>1</td>\n",
       "      <td>1</td>\n",
       "      <td>2</td>\n",
       "      <td>none</td>\n",
       "      <td>yes</td>\n",
       "      <td>skilled employee</td>\n",
       "    </tr>\n",
       "    <tr>\n",
       "      <th>4</th>\n",
       "      <td>&lt; 0 DM</td>\n",
       "      <td>24</td>\n",
       "      <td>delayed</td>\n",
       "      <td>car (new)</td>\n",
       "      <td>4870</td>\n",
       "      <td>&lt; 100 DM</td>\n",
       "      <td>1 - 4 yrs</td>\n",
       "      <td>3</td>\n",
       "      <td>single male</td>\n",
       "      <td>none</td>\n",
       "      <td>4</td>\n",
       "      <td>unknown/none</td>\n",
       "      <td>53</td>\n",
       "      <td>none</td>\n",
       "      <td>for free</td>\n",
       "      <td>2</td>\n",
       "      <td>2</td>\n",
       "      <td>2</td>\n",
       "      <td>none</td>\n",
       "      <td>yes</td>\n",
       "      <td>skilled employee</td>\n",
       "    </tr>\n",
       "  </tbody>\n",
       "</table>\n",
       "</div>"
      ],
      "text/plain": [
       "  checking_balance  months_loan_duration credit_history    purpose  amount  \\\n",
       "0           < 0 DM                     6       critical   radio/tv    1169   \n",
       "1       1 - 200 DM                    48         repaid   radio/tv    5951   \n",
       "2          unknown                    12       critical  education    2096   \n",
       "3           < 0 DM                    42         repaid  furniture    7882   \n",
       "4           < 0 DM                    24        delayed  car (new)    4870   \n",
       "\n",
       "  savings_balance employment_length  installment_rate personal_status  \\\n",
       "0         unknown           > 7 yrs                 4     single male   \n",
       "1        < 100 DM         1 - 4 yrs                 2          female   \n",
       "2        < 100 DM         4 - 7 yrs                 2     single male   \n",
       "3        < 100 DM         4 - 7 yrs                 2     single male   \n",
       "4        < 100 DM         1 - 4 yrs                 3     single male   \n",
       "\n",
       "  other_debtors  residence_history                  property  age  \\\n",
       "0          none                  4               real estate   67   \n",
       "1          none                  2               real estate   22   \n",
       "2          none                  3               real estate   49   \n",
       "3     guarantor                  4  building society savings   45   \n",
       "4          none                  4              unknown/none   53   \n",
       "\n",
       "  installment_plan   housing  existing_credits  default  dependents telephone  \\\n",
       "0             none       own                 2        1           1       yes   \n",
       "1             none       own                 1        2           1      none   \n",
       "2             none       own                 1        1           2      none   \n",
       "3             none  for free                 1        1           2      none   \n",
       "4             none  for free                 2        2           2      none   \n",
       "\n",
       "  foreign_worker                 job  \n",
       "0            yes    skilled employee  \n",
       "1            yes    skilled employee  \n",
       "2            yes  unskilled resident  \n",
       "3            yes    skilled employee  \n",
       "4            yes    skilled employee  "
      ]
     },
     "metadata": {},
     "output_type": "display_data"
    }
   ],
   "source": [
    "display_all(credits.head())"
   ]
  },
  {
   "cell_type": "markdown",
   "metadata": {},
   "source": [
    "Набор данных состоит из 1000 примеров. Зависимая переменная `default`, она предсталена целочисленными значениями, где 1 - возврат кредита, а 2 - это невозврат кредита. Набор признаков состоит из различных типов переменных. \n",
    "\n",
    "Категориальные признаки:\n",
    "- `checking_balance` - баланс счета, который по существу является поделенной на интервалы числовой переменной\n",
    "- `credit_history` - кредитная история\n",
    "- `purpose` - назначение кредита\n",
    "- `savings_balance` - баланс сбережений\n",
    "- `employment_length` - рабочий стаж\n",
    "- `personal_status` - семейное положение \n",
    "- `property` - наличие собсвенности\n",
    "- и пр."
   ]
  },
  {
   "cell_type": "code",
   "execution_count": 16,
   "metadata": {
    "scrolled": true
   },
   "outputs": [
    {
     "data": {
      "text/plain": [
       "unknown       394\n",
       "< 0 DM        274\n",
       "1 - 200 DM    269\n",
       "> 200 DM       63\n",
       "Name: checking_balance, dtype: int64"
      ]
     },
     "execution_count": 16,
     "metadata": {},
     "output_type": "execute_result"
    }
   ],
   "source": [
    "credits.checking_balance.value_counts()"
   ]
  },
  {
   "cell_type": "code",
   "execution_count": 17,
   "metadata": {},
   "outputs": [
    {
     "data": {
      "text/plain": [
       "repaid                    530\n",
       "critical                  293\n",
       "delayed                    88\n",
       "fully repaid this bank     49\n",
       "fully repaid               40\n",
       "Name: credit_history, dtype: int64"
      ]
     },
     "execution_count": 17,
     "metadata": {},
     "output_type": "execute_result"
    }
   ],
   "source": [
    "credits.credit_history.value_counts()"
   ]
  },
  {
   "cell_type": "code",
   "execution_count": 18,
   "metadata": {},
   "outputs": [
    {
     "data": {
      "text/plain": [
       "radio/tv               280\n",
       "car (new)              234\n",
       "furniture              181\n",
       "car (used)             103\n",
       "business                97\n",
       "education               50\n",
       "repairs                 22\n",
       "domestic appliances     12\n",
       "others                  12\n",
       "retraining               9\n",
       "Name: purpose, dtype: int64"
      ]
     },
     "execution_count": 18,
     "metadata": {},
     "output_type": "execute_result"
    }
   ],
   "source": [
    "credits.purpose.value_counts()"
   ]
  },
  {
   "cell_type": "code",
   "execution_count": 19,
   "metadata": {},
   "outputs": [
    {
     "data": {
      "text/plain": [
       "< 100 DM         603\n",
       "unknown          183\n",
       "101 - 500 DM     103\n",
       "501 - 1000 DM     63\n",
       "> 1000 DM         48\n",
       "Name: savings_balance, dtype: int64"
      ]
     },
     "execution_count": 19,
     "metadata": {},
     "output_type": "execute_result"
    }
   ],
   "source": [
    "credits.savings_balance.value_counts()"
   ]
  },
  {
   "cell_type": "code",
   "execution_count": 20,
   "metadata": {},
   "outputs": [
    {
     "data": {
      "text/plain": [
       "1 - 4 yrs     339\n",
       "> 7 yrs       253\n",
       "4 - 7 yrs     174\n",
       "0 - 1 yrs     172\n",
       "unemployed     62\n",
       "Name: employment_length, dtype: int64"
      ]
     },
     "execution_count": 20,
     "metadata": {},
     "output_type": "execute_result"
    }
   ],
   "source": [
    "credits.employment_length.value_counts()"
   ]
  },
  {
   "cell_type": "code",
   "execution_count": 21,
   "metadata": {},
   "outputs": [
    {
     "data": {
      "text/plain": [
       "single male      548\n",
       "female           310\n",
       "married male      92\n",
       "divorced male     50\n",
       "Name: personal_status, dtype: int64"
      ]
     },
     "execution_count": 21,
     "metadata": {},
     "output_type": "execute_result"
    }
   ],
   "source": [
    "credits.personal_status.value_counts()"
   ]
  },
  {
   "cell_type": "code",
   "execution_count": 22,
   "metadata": {},
   "outputs": [
    {
     "data": {
      "text/plain": [
       "other                       332\n",
       "real estate                 282\n",
       "building society savings    232\n",
       "unknown/none                154\n",
       "Name: property, dtype: int64"
      ]
     },
     "execution_count": 22,
     "metadata": {},
     "output_type": "execute_result"
    }
   ],
   "source": [
    "credits.property.value_counts()"
   ]
  },
  {
   "cell_type": "code",
   "execution_count": 23,
   "metadata": {},
   "outputs": [
    {
     "data": {
      "text/html": [
       "<div>\n",
       "<style scoped>\n",
       "    .dataframe tbody tr th:only-of-type {\n",
       "        vertical-align: middle;\n",
       "    }\n",
       "\n",
       "    .dataframe tbody tr th {\n",
       "        vertical-align: top;\n",
       "    }\n",
       "\n",
       "    .dataframe thead th {\n",
       "        text-align: right;\n",
       "    }\n",
       "</style>\n",
       "<table border=\"1\" class=\"dataframe\">\n",
       "  <thead>\n",
       "    <tr style=\"text-align: right;\">\n",
       "      <th></th>\n",
       "      <th>months_loan_duration</th>\n",
       "      <th>amount</th>\n",
       "      <th>installment_rate</th>\n",
       "      <th>residence_history</th>\n",
       "      <th>age</th>\n",
       "      <th>existing_credits</th>\n",
       "      <th>default</th>\n",
       "      <th>dependents</th>\n",
       "    </tr>\n",
       "  </thead>\n",
       "  <tbody>\n",
       "    <tr>\n",
       "      <th>count</th>\n",
       "      <td>1000.000000</td>\n",
       "      <td>1000.000000</td>\n",
       "      <td>1000.000000</td>\n",
       "      <td>1000.000000</td>\n",
       "      <td>1000.000000</td>\n",
       "      <td>1000.000000</td>\n",
       "      <td>1000.000000</td>\n",
       "      <td>1000.000000</td>\n",
       "    </tr>\n",
       "    <tr>\n",
       "      <th>mean</th>\n",
       "      <td>20.903000</td>\n",
       "      <td>3271.258000</td>\n",
       "      <td>2.973000</td>\n",
       "      <td>2.845000</td>\n",
       "      <td>35.546000</td>\n",
       "      <td>1.407000</td>\n",
       "      <td>1.300000</td>\n",
       "      <td>1.155000</td>\n",
       "    </tr>\n",
       "    <tr>\n",
       "      <th>std</th>\n",
       "      <td>12.058814</td>\n",
       "      <td>2822.736876</td>\n",
       "      <td>1.118715</td>\n",
       "      <td>1.103718</td>\n",
       "      <td>11.375469</td>\n",
       "      <td>0.577654</td>\n",
       "      <td>0.458487</td>\n",
       "      <td>0.362086</td>\n",
       "    </tr>\n",
       "    <tr>\n",
       "      <th>min</th>\n",
       "      <td>4.000000</td>\n",
       "      <td>250.000000</td>\n",
       "      <td>1.000000</td>\n",
       "      <td>1.000000</td>\n",
       "      <td>19.000000</td>\n",
       "      <td>1.000000</td>\n",
       "      <td>1.000000</td>\n",
       "      <td>1.000000</td>\n",
       "    </tr>\n",
       "    <tr>\n",
       "      <th>25%</th>\n",
       "      <td>12.000000</td>\n",
       "      <td>1365.500000</td>\n",
       "      <td>2.000000</td>\n",
       "      <td>2.000000</td>\n",
       "      <td>27.000000</td>\n",
       "      <td>1.000000</td>\n",
       "      <td>1.000000</td>\n",
       "      <td>1.000000</td>\n",
       "    </tr>\n",
       "    <tr>\n",
       "      <th>50%</th>\n",
       "      <td>18.000000</td>\n",
       "      <td>2319.500000</td>\n",
       "      <td>3.000000</td>\n",
       "      <td>3.000000</td>\n",
       "      <td>33.000000</td>\n",
       "      <td>1.000000</td>\n",
       "      <td>1.000000</td>\n",
       "      <td>1.000000</td>\n",
       "    </tr>\n",
       "    <tr>\n",
       "      <th>75%</th>\n",
       "      <td>24.000000</td>\n",
       "      <td>3972.250000</td>\n",
       "      <td>4.000000</td>\n",
       "      <td>4.000000</td>\n",
       "      <td>42.000000</td>\n",
       "      <td>2.000000</td>\n",
       "      <td>2.000000</td>\n",
       "      <td>1.000000</td>\n",
       "    </tr>\n",
       "    <tr>\n",
       "      <th>max</th>\n",
       "      <td>72.000000</td>\n",
       "      <td>18424.000000</td>\n",
       "      <td>4.000000</td>\n",
       "      <td>4.000000</td>\n",
       "      <td>75.000000</td>\n",
       "      <td>4.000000</td>\n",
       "      <td>2.000000</td>\n",
       "      <td>2.000000</td>\n",
       "    </tr>\n",
       "  </tbody>\n",
       "</table>\n",
       "</div>"
      ],
      "text/plain": [
       "       months_loan_duration        amount  installment_rate  \\\n",
       "count           1000.000000   1000.000000       1000.000000   \n",
       "mean              20.903000   3271.258000          2.973000   \n",
       "std               12.058814   2822.736876          1.118715   \n",
       "min                4.000000    250.000000          1.000000   \n",
       "25%               12.000000   1365.500000          2.000000   \n",
       "50%               18.000000   2319.500000          3.000000   \n",
       "75%               24.000000   3972.250000          4.000000   \n",
       "max               72.000000  18424.000000          4.000000   \n",
       "\n",
       "       residence_history          age  existing_credits      default  \\\n",
       "count        1000.000000  1000.000000       1000.000000  1000.000000   \n",
       "mean            2.845000    35.546000          1.407000     1.300000   \n",
       "std             1.103718    11.375469          0.577654     0.458487   \n",
       "min             1.000000    19.000000          1.000000     1.000000   \n",
       "25%             2.000000    27.000000          1.000000     1.000000   \n",
       "50%             3.000000    33.000000          1.000000     1.000000   \n",
       "75%             4.000000    42.000000          2.000000     2.000000   \n",
       "max             4.000000    75.000000          4.000000     2.000000   \n",
       "\n",
       "        dependents  \n",
       "count  1000.000000  \n",
       "mean      1.155000  \n",
       "std       0.362086  \n",
       "min       1.000000  \n",
       "25%       1.000000  \n",
       "50%       1.000000  \n",
       "75%       1.000000  \n",
       "max       2.000000  "
      ]
     },
     "execution_count": 23,
     "metadata": {},
     "output_type": "execute_result"
    }
   ],
   "source": [
    "credits.describe()"
   ]
  },
  {
   "cell_type": "code",
   "execution_count": 24,
   "metadata": {},
   "outputs": [],
   "source": [
    "# так как алгоритмы не принимают на вход\n",
    "# строковых значений преобразуем их в категориальный\n",
    "# тип данных\n",
    "train_cats(credits)"
   ]
  },
  {
   "cell_type": "code",
   "execution_count": 25,
   "metadata": {},
   "outputs": [
    {
     "name": "stdout",
     "output_type": "stream",
     "text": [
      "<class 'pandas.core.frame.DataFrame'>\n",
      "RangeIndex: 1000 entries, 0 to 999\n",
      "Data columns (total 21 columns):\n",
      "checking_balance        1000 non-null category\n",
      "months_loan_duration    1000 non-null int64\n",
      "credit_history          1000 non-null category\n",
      "purpose                 1000 non-null category\n",
      "amount                  1000 non-null int64\n",
      "savings_balance         1000 non-null category\n",
      "employment_length       1000 non-null category\n",
      "installment_rate        1000 non-null int64\n",
      "personal_status         1000 non-null category\n",
      "other_debtors           1000 non-null category\n",
      "residence_history       1000 non-null int64\n",
      "property                1000 non-null category\n",
      "age                     1000 non-null int64\n",
      "installment_plan        1000 non-null category\n",
      "housing                 1000 non-null category\n",
      "existing_credits        1000 non-null int64\n",
      "default                 1000 non-null int64\n",
      "dependents              1000 non-null int64\n",
      "telephone               1000 non-null category\n",
      "foreign_worker          1000 non-null category\n",
      "job                     1000 non-null category\n",
      "dtypes: category(13), int64(8)\n",
      "memory usage: 77.5 KB\n"
     ]
    }
   ],
   "source": [
    "credits.info()"
   ]
  },
  {
   "cell_type": "markdown",
   "metadata": {},
   "source": [
    "#### Предварительная обработка данных"
   ]
  },
  {
   "cell_type": "markdown",
   "metadata": {},
   "source": [
    "Изменим зпнчения колонки `default` на стандартные 0 - отсутствие признака и 1 - присутстиве признака (дефолт по кредиту)"
   ]
  },
  {
   "cell_type": "code",
   "execution_count": 28,
   "metadata": {},
   "outputs": [],
   "source": [
    "credits.loc[credits.default == 1, 'default'] = 0\n",
    "credits.loc[credits.default == 2, 'default'] = 1"
   ]
  },
  {
   "cell_type": "code",
   "execution_count": 30,
   "metadata": {},
   "outputs": [
    {
     "data": {
      "text/plain": [
       "0.3"
      ]
     },
     "execution_count": 30,
     "metadata": {},
     "output_type": "execute_result"
    }
   ],
   "source": [
    "credits.default.mean()\n",
    "# в данных 30% невыплат по кредиту"
   ]
  },
  {
   "cell_type": "code",
   "execution_count": 31,
   "metadata": {},
   "outputs": [
    {
     "data": {
      "text/html": [
       "<div>\n",
       "<style scoped>\n",
       "    .dataframe tbody tr th:only-of-type {\n",
       "        vertical-align: middle;\n",
       "    }\n",
       "\n",
       "    .dataframe tbody tr th {\n",
       "        vertical-align: top;\n",
       "    }\n",
       "\n",
       "    .dataframe thead th {\n",
       "        text-align: right;\n",
       "    }\n",
       "</style>\n",
       "<table border=\"1\" class=\"dataframe\">\n",
       "  <thead>\n",
       "    <tr style=\"text-align: right;\">\n",
       "      <th></th>\n",
       "      <th>checking_balance</th>\n",
       "      <th>months_loan_duration</th>\n",
       "      <th>credit_history</th>\n",
       "      <th>purpose</th>\n",
       "      <th>amount</th>\n",
       "      <th>savings_balance</th>\n",
       "      <th>employment_length</th>\n",
       "      <th>installment_rate</th>\n",
       "      <th>personal_status</th>\n",
       "      <th>other_debtors</th>\n",
       "      <th>...</th>\n",
       "      <th>property</th>\n",
       "      <th>age</th>\n",
       "      <th>installment_plan</th>\n",
       "      <th>housing</th>\n",
       "      <th>existing_credits</th>\n",
       "      <th>default</th>\n",
       "      <th>dependents</th>\n",
       "      <th>telephone</th>\n",
       "      <th>foreign_worker</th>\n",
       "      <th>job</th>\n",
       "    </tr>\n",
       "  </thead>\n",
       "  <tbody>\n",
       "    <tr>\n",
       "      <th>0</th>\n",
       "      <td>&lt; 0 DM</td>\n",
       "      <td>6</td>\n",
       "      <td>critical</td>\n",
       "      <td>radio/tv</td>\n",
       "      <td>1169</td>\n",
       "      <td>unknown</td>\n",
       "      <td>&gt; 7 yrs</td>\n",
       "      <td>4</td>\n",
       "      <td>single male</td>\n",
       "      <td>none</td>\n",
       "      <td>...</td>\n",
       "      <td>real estate</td>\n",
       "      <td>67</td>\n",
       "      <td>none</td>\n",
       "      <td>own</td>\n",
       "      <td>2</td>\n",
       "      <td>0</td>\n",
       "      <td>1</td>\n",
       "      <td>yes</td>\n",
       "      <td>yes</td>\n",
       "      <td>skilled employee</td>\n",
       "    </tr>\n",
       "    <tr>\n",
       "      <th>1</th>\n",
       "      <td>1 - 200 DM</td>\n",
       "      <td>48</td>\n",
       "      <td>repaid</td>\n",
       "      <td>radio/tv</td>\n",
       "      <td>5951</td>\n",
       "      <td>&lt; 100 DM</td>\n",
       "      <td>1 - 4 yrs</td>\n",
       "      <td>2</td>\n",
       "      <td>female</td>\n",
       "      <td>none</td>\n",
       "      <td>...</td>\n",
       "      <td>real estate</td>\n",
       "      <td>22</td>\n",
       "      <td>none</td>\n",
       "      <td>own</td>\n",
       "      <td>1</td>\n",
       "      <td>1</td>\n",
       "      <td>1</td>\n",
       "      <td>none</td>\n",
       "      <td>yes</td>\n",
       "      <td>skilled employee</td>\n",
       "    </tr>\n",
       "    <tr>\n",
       "      <th>2</th>\n",
       "      <td>unknown</td>\n",
       "      <td>12</td>\n",
       "      <td>critical</td>\n",
       "      <td>education</td>\n",
       "      <td>2096</td>\n",
       "      <td>&lt; 100 DM</td>\n",
       "      <td>4 - 7 yrs</td>\n",
       "      <td>2</td>\n",
       "      <td>single male</td>\n",
       "      <td>none</td>\n",
       "      <td>...</td>\n",
       "      <td>real estate</td>\n",
       "      <td>49</td>\n",
       "      <td>none</td>\n",
       "      <td>own</td>\n",
       "      <td>1</td>\n",
       "      <td>0</td>\n",
       "      <td>2</td>\n",
       "      <td>none</td>\n",
       "      <td>yes</td>\n",
       "      <td>unskilled resident</td>\n",
       "    </tr>\n",
       "    <tr>\n",
       "      <th>3</th>\n",
       "      <td>&lt; 0 DM</td>\n",
       "      <td>42</td>\n",
       "      <td>repaid</td>\n",
       "      <td>furniture</td>\n",
       "      <td>7882</td>\n",
       "      <td>&lt; 100 DM</td>\n",
       "      <td>4 - 7 yrs</td>\n",
       "      <td>2</td>\n",
       "      <td>single male</td>\n",
       "      <td>guarantor</td>\n",
       "      <td>...</td>\n",
       "      <td>building society savings</td>\n",
       "      <td>45</td>\n",
       "      <td>none</td>\n",
       "      <td>for free</td>\n",
       "      <td>1</td>\n",
       "      <td>0</td>\n",
       "      <td>2</td>\n",
       "      <td>none</td>\n",
       "      <td>yes</td>\n",
       "      <td>skilled employee</td>\n",
       "    </tr>\n",
       "    <tr>\n",
       "      <th>4</th>\n",
       "      <td>&lt; 0 DM</td>\n",
       "      <td>24</td>\n",
       "      <td>delayed</td>\n",
       "      <td>car (new)</td>\n",
       "      <td>4870</td>\n",
       "      <td>&lt; 100 DM</td>\n",
       "      <td>1 - 4 yrs</td>\n",
       "      <td>3</td>\n",
       "      <td>single male</td>\n",
       "      <td>none</td>\n",
       "      <td>...</td>\n",
       "      <td>unknown/none</td>\n",
       "      <td>53</td>\n",
       "      <td>none</td>\n",
       "      <td>for free</td>\n",
       "      <td>2</td>\n",
       "      <td>1</td>\n",
       "      <td>2</td>\n",
       "      <td>none</td>\n",
       "      <td>yes</td>\n",
       "      <td>skilled employee</td>\n",
       "    </tr>\n",
       "  </tbody>\n",
       "</table>\n",
       "<p>5 rows × 21 columns</p>\n",
       "</div>"
      ],
      "text/plain": [
       "  checking_balance  months_loan_duration credit_history    purpose  amount  \\\n",
       "0           < 0 DM                     6       critical   radio/tv    1169   \n",
       "1       1 - 200 DM                    48         repaid   radio/tv    5951   \n",
       "2          unknown                    12       critical  education    2096   \n",
       "3           < 0 DM                    42         repaid  furniture    7882   \n",
       "4           < 0 DM                    24        delayed  car (new)    4870   \n",
       "\n",
       "  savings_balance employment_length  installment_rate personal_status  \\\n",
       "0         unknown           > 7 yrs                 4     single male   \n",
       "1        < 100 DM         1 - 4 yrs                 2          female   \n",
       "2        < 100 DM         4 - 7 yrs                 2     single male   \n",
       "3        < 100 DM         4 - 7 yrs                 2     single male   \n",
       "4        < 100 DM         1 - 4 yrs                 3     single male   \n",
       "\n",
       "  other_debtors         ...                          property age  \\\n",
       "0          none         ...                       real estate  67   \n",
       "1          none         ...                       real estate  22   \n",
       "2          none         ...                       real estate  49   \n",
       "3     guarantor         ...          building society savings  45   \n",
       "4          none         ...                      unknown/none  53   \n",
       "\n",
       "   installment_plan   housing existing_credits  default  dependents  \\\n",
       "0              none       own                2        0           1   \n",
       "1              none       own                1        1           1   \n",
       "2              none       own                1        0           2   \n",
       "3              none  for free                1        0           2   \n",
       "4              none  for free                2        1           2   \n",
       "\n",
       "   telephone foreign_worker                 job  \n",
       "0        yes            yes    skilled employee  \n",
       "1       none            yes    skilled employee  \n",
       "2       none            yes  unskilled resident  \n",
       "3       none            yes    skilled employee  \n",
       "4       none            yes    skilled employee  \n",
       "\n",
       "[5 rows x 21 columns]"
      ]
     },
     "execution_count": 31,
     "metadata": {},
     "output_type": "execute_result"
    }
   ],
   "source": [
    "credits.head()"
   ]
  },
  {
   "cell_type": "markdown",
   "metadata": {},
   "source": [
    "Окончательная предобработка данных сводится к тому, чтобы заменить категории в колонках\n",
    "категориальных признаков, на коды этих категорий, они представлены числами и могут быть \n",
    "использованы в дальнейшей работе с алгоритмаим (самоорганизующиеся карты, случайный лес)"
   ]
  },
  {
   "cell_type": "code",
   "execution_count": 75,
   "metadata": {},
   "outputs": [],
   "source": [
    "df, y, _ = proc_df(credits, 'default')"
   ]
  },
  {
   "cell_type": "code",
   "execution_count": 76,
   "metadata": {},
   "outputs": [
    {
     "data": {
      "text/html": [
       "<div>\n",
       "<style scoped>\n",
       "    .dataframe tbody tr th:only-of-type {\n",
       "        vertical-align: middle;\n",
       "    }\n",
       "\n",
       "    .dataframe tbody tr th {\n",
       "        vertical-align: top;\n",
       "    }\n",
       "\n",
       "    .dataframe thead th {\n",
       "        text-align: right;\n",
       "    }\n",
       "</style>\n",
       "<table border=\"1\" class=\"dataframe\">\n",
       "  <thead>\n",
       "    <tr style=\"text-align: right;\">\n",
       "      <th></th>\n",
       "      <th>checking_balance</th>\n",
       "      <th>months_loan_duration</th>\n",
       "      <th>credit_history</th>\n",
       "      <th>purpose</th>\n",
       "      <th>amount</th>\n",
       "      <th>savings_balance</th>\n",
       "      <th>employment_length</th>\n",
       "      <th>installment_rate</th>\n",
       "      <th>personal_status</th>\n",
       "      <th>other_debtors</th>\n",
       "      <th>residence_history</th>\n",
       "      <th>property</th>\n",
       "      <th>age</th>\n",
       "      <th>installment_plan</th>\n",
       "      <th>housing</th>\n",
       "      <th>existing_credits</th>\n",
       "      <th>dependents</th>\n",
       "      <th>telephone</th>\n",
       "      <th>foreign_worker</th>\n",
       "      <th>job</th>\n",
       "    </tr>\n",
       "  </thead>\n",
       "  <tbody>\n",
       "    <tr>\n",
       "      <th>0</th>\n",
       "      <td>2</td>\n",
       "      <td>6</td>\n",
       "      <td>1</td>\n",
       "      <td>8</td>\n",
       "      <td>1169</td>\n",
       "      <td>5</td>\n",
       "      <td>4</td>\n",
       "      <td>4</td>\n",
       "      <td>4</td>\n",
       "      <td>3</td>\n",
       "      <td>4</td>\n",
       "      <td>3</td>\n",
       "      <td>67</td>\n",
       "      <td>2</td>\n",
       "      <td>2</td>\n",
       "      <td>2</td>\n",
       "      <td>1</td>\n",
       "      <td>2</td>\n",
       "      <td>2</td>\n",
       "      <td>2</td>\n",
       "    </tr>\n",
       "    <tr>\n",
       "      <th>1</th>\n",
       "      <td>1</td>\n",
       "      <td>48</td>\n",
       "      <td>5</td>\n",
       "      <td>8</td>\n",
       "      <td>5951</td>\n",
       "      <td>3</td>\n",
       "      <td>2</td>\n",
       "      <td>2</td>\n",
       "      <td>2</td>\n",
       "      <td>3</td>\n",
       "      <td>2</td>\n",
       "      <td>3</td>\n",
       "      <td>22</td>\n",
       "      <td>2</td>\n",
       "      <td>2</td>\n",
       "      <td>1</td>\n",
       "      <td>1</td>\n",
       "      <td>1</td>\n",
       "      <td>2</td>\n",
       "      <td>2</td>\n",
       "    </tr>\n",
       "    <tr>\n",
       "      <th>2</th>\n",
       "      <td>4</td>\n",
       "      <td>12</td>\n",
       "      <td>1</td>\n",
       "      <td>5</td>\n",
       "      <td>2096</td>\n",
       "      <td>3</td>\n",
       "      <td>3</td>\n",
       "      <td>2</td>\n",
       "      <td>4</td>\n",
       "      <td>3</td>\n",
       "      <td>3</td>\n",
       "      <td>3</td>\n",
       "      <td>49</td>\n",
       "      <td>2</td>\n",
       "      <td>2</td>\n",
       "      <td>1</td>\n",
       "      <td>2</td>\n",
       "      <td>1</td>\n",
       "      <td>2</td>\n",
       "      <td>4</td>\n",
       "    </tr>\n",
       "    <tr>\n",
       "      <th>3</th>\n",
       "      <td>2</td>\n",
       "      <td>42</td>\n",
       "      <td>5</td>\n",
       "      <td>6</td>\n",
       "      <td>7882</td>\n",
       "      <td>3</td>\n",
       "      <td>3</td>\n",
       "      <td>2</td>\n",
       "      <td>4</td>\n",
       "      <td>2</td>\n",
       "      <td>4</td>\n",
       "      <td>1</td>\n",
       "      <td>45</td>\n",
       "      <td>2</td>\n",
       "      <td>1</td>\n",
       "      <td>1</td>\n",
       "      <td>2</td>\n",
       "      <td>1</td>\n",
       "      <td>2</td>\n",
       "      <td>2</td>\n",
       "    </tr>\n",
       "    <tr>\n",
       "      <th>4</th>\n",
       "      <td>2</td>\n",
       "      <td>24</td>\n",
       "      <td>2</td>\n",
       "      <td>2</td>\n",
       "      <td>4870</td>\n",
       "      <td>3</td>\n",
       "      <td>2</td>\n",
       "      <td>3</td>\n",
       "      <td>4</td>\n",
       "      <td>3</td>\n",
       "      <td>4</td>\n",
       "      <td>4</td>\n",
       "      <td>53</td>\n",
       "      <td>2</td>\n",
       "      <td>1</td>\n",
       "      <td>2</td>\n",
       "      <td>2</td>\n",
       "      <td>1</td>\n",
       "      <td>2</td>\n",
       "      <td>2</td>\n",
       "    </tr>\n",
       "  </tbody>\n",
       "</table>\n",
       "</div>"
      ],
      "text/plain": [
       "   checking_balance  months_loan_duration  credit_history  purpose  amount  \\\n",
       "0                 2                     6               1        8    1169   \n",
       "1                 1                    48               5        8    5951   \n",
       "2                 4                    12               1        5    2096   \n",
       "3                 2                    42               5        6    7882   \n",
       "4                 2                    24               2        2    4870   \n",
       "\n",
       "   savings_balance  employment_length  installment_rate  personal_status  \\\n",
       "0                5                  4                 4                4   \n",
       "1                3                  2                 2                2   \n",
       "2                3                  3                 2                4   \n",
       "3                3                  3                 2                4   \n",
       "4                3                  2                 3                4   \n",
       "\n",
       "   other_debtors  residence_history  property  age  installment_plan  housing  \\\n",
       "0              3                  4         3   67                 2        2   \n",
       "1              3                  2         3   22                 2        2   \n",
       "2              3                  3         3   49                 2        2   \n",
       "3              2                  4         1   45                 2        1   \n",
       "4              3                  4         4   53                 2        1   \n",
       "\n",
       "   existing_credits  dependents  telephone  foreign_worker  job  \n",
       "0                 2           1          2               2    2  \n",
       "1                 1           1          1               2    2  \n",
       "2                 1           2          1               2    4  \n",
       "3                 1           2          1               2    2  \n",
       "4                 2           2          1               2    2  "
      ]
     },
     "execution_count": 76,
     "metadata": {},
     "output_type": "execute_result"
    }
   ],
   "source": [
    "# теперь все данные представлены числовыми значениями\n",
    "df.head()"
   ]
  },
  {
   "cell_type": "markdown",
   "metadata": {},
   "source": [
    "### Сегментация при алгоритма кластеризации KMeans"
   ]
  },
  {
   "attachments": {},
   "cell_type": "markdown",
   "metadata": {},
   "source": [
    "Проведём сегментацию заёмщиков по следующим входным параметрам:\n",
    "- цель кредитования;\n",
    "- сумма кредита;\n",
    "- срок кредита;\n",
    "- возраст;\n",
    "- количество иждивенцев\n",
    "- собственность\n",
    "- стаж работы"
   ]
  },
  {
   "cell_type": "code",
   "execution_count": 77,
   "metadata": {},
   "outputs": [],
   "source": [
    "use_columns = ['purpose', 'amount', 'months_loan_duration', 'age', \n",
    "               'dependents', 'property', 'employment_length']\n",
    "\n",
    "# возмем только чать признаков\n",
    "cluster_df = df[use_columns].copy()"
   ]
  },
  {
   "cell_type": "code",
   "execution_count": 88,
   "metadata": {},
   "outputs": [
    {
     "data": {
      "text/plain": [
       "KMeans(algorithm='auto', copy_x=True, init='k-means++', max_iter=300,\n",
       "    n_clusters=3, n_init=10, n_jobs=None, precompute_distances='auto',\n",
       "    random_state=None, tol=0.0001, verbose=0)"
      ]
     },
     "execution_count": 88,
     "metadata": {},
     "output_type": "execute_result"
    }
   ],
   "source": [
    "# тренировака алгоритма\n",
    "k_means = KMeans(n_clusters=3)\n",
    "k_means.fit(cluster_df)"
   ]
  },
  {
   "cell_type": "code",
   "execution_count": 89,
   "metadata": {},
   "outputs": [],
   "source": [
    "# предскажем метку кластера для каждой записи\n",
    "predict = k_means.predict(cluster_df)"
   ]
  },
  {
   "cell_type": "code",
   "execution_count": 90,
   "metadata": {},
   "outputs": [],
   "source": [
    "cluster_df['cluster'] = predict"
   ]
  },
  {
   "cell_type": "code",
   "execution_count": 91,
   "metadata": {},
   "outputs": [
    {
     "data": {
      "text/html": [
       "<div>\n",
       "<style scoped>\n",
       "    .dataframe tbody tr th:only-of-type {\n",
       "        vertical-align: middle;\n",
       "    }\n",
       "\n",
       "    .dataframe tbody tr th {\n",
       "        vertical-align: top;\n",
       "    }\n",
       "\n",
       "    .dataframe thead th {\n",
       "        text-align: right;\n",
       "    }\n",
       "</style>\n",
       "<table border=\"1\" class=\"dataframe\">\n",
       "  <thead>\n",
       "    <tr style=\"text-align: right;\">\n",
       "      <th></th>\n",
       "      <th>purpose</th>\n",
       "      <th>amount</th>\n",
       "      <th>months_loan_duration</th>\n",
       "      <th>age</th>\n",
       "      <th>dependents</th>\n",
       "      <th>property</th>\n",
       "      <th>employment_length</th>\n",
       "      <th>cluster</th>\n",
       "    </tr>\n",
       "  </thead>\n",
       "  <tbody>\n",
       "    <tr>\n",
       "      <th>0</th>\n",
       "      <td>8</td>\n",
       "      <td>1169</td>\n",
       "      <td>6</td>\n",
       "      <td>67</td>\n",
       "      <td>1</td>\n",
       "      <td>3</td>\n",
       "      <td>4</td>\n",
       "      <td>1</td>\n",
       "    </tr>\n",
       "    <tr>\n",
       "      <th>1</th>\n",
       "      <td>8</td>\n",
       "      <td>5951</td>\n",
       "      <td>48</td>\n",
       "      <td>22</td>\n",
       "      <td>1</td>\n",
       "      <td>3</td>\n",
       "      <td>2</td>\n",
       "      <td>0</td>\n",
       "    </tr>\n",
       "    <tr>\n",
       "      <th>2</th>\n",
       "      <td>5</td>\n",
       "      <td>2096</td>\n",
       "      <td>12</td>\n",
       "      <td>49</td>\n",
       "      <td>2</td>\n",
       "      <td>3</td>\n",
       "      <td>3</td>\n",
       "      <td>1</td>\n",
       "    </tr>\n",
       "    <tr>\n",
       "      <th>3</th>\n",
       "      <td>6</td>\n",
       "      <td>7882</td>\n",
       "      <td>42</td>\n",
       "      <td>45</td>\n",
       "      <td>2</td>\n",
       "      <td>1</td>\n",
       "      <td>3</td>\n",
       "      <td>0</td>\n",
       "    </tr>\n",
       "    <tr>\n",
       "      <th>4</th>\n",
       "      <td>2</td>\n",
       "      <td>4870</td>\n",
       "      <td>24</td>\n",
       "      <td>53</td>\n",
       "      <td>2</td>\n",
       "      <td>4</td>\n",
       "      <td>2</td>\n",
       "      <td>0</td>\n",
       "    </tr>\n",
       "  </tbody>\n",
       "</table>\n",
       "</div>"
      ],
      "text/plain": [
       "   purpose  amount  months_loan_duration  age  dependents  property  \\\n",
       "0        8    1169                     6   67           1         3   \n",
       "1        8    5951                    48   22           1         3   \n",
       "2        5    2096                    12   49           2         3   \n",
       "3        6    7882                    42   45           2         1   \n",
       "4        2    4870                    24   53           2         4   \n",
       "\n",
       "   employment_length  cluster  \n",
       "0                  4        1  \n",
       "1                  2        0  \n",
       "2                  3        1  \n",
       "3                  3        0  \n",
       "4                  2        0  "
      ]
     },
     "execution_count": 91,
     "metadata": {},
     "output_type": "execute_result"
    }
   ],
   "source": [
    "cluster_df.head()"
   ]
  },
  {
   "cell_type": "code",
   "execution_count": 96,
   "metadata": {},
   "outputs": [
    {
     "data": {
      "text/html": [
       "<div>\n",
       "<style scoped>\n",
       "    .dataframe tbody tr th:only-of-type {\n",
       "        vertical-align: middle;\n",
       "    }\n",
       "\n",
       "    .dataframe tbody tr th {\n",
       "        vertical-align: top;\n",
       "    }\n",
       "\n",
       "    .dataframe thead tr th {\n",
       "        text-align: left;\n",
       "    }\n",
       "\n",
       "    .dataframe thead tr:last-of-type th {\n",
       "        text-align: right;\n",
       "    }\n",
       "</style>\n",
       "<table border=\"1\" class=\"dataframe\">\n",
       "  <thead>\n",
       "    <tr>\n",
       "      <th></th>\n",
       "      <th colspan=\"2\" halign=\"left\">purpose</th>\n",
       "      <th colspan=\"2\" halign=\"left\">amount</th>\n",
       "      <th colspan=\"2\" halign=\"left\">months_loan_duration</th>\n",
       "      <th colspan=\"2\" halign=\"left\">age</th>\n",
       "      <th colspan=\"2\" halign=\"left\">dependents</th>\n",
       "      <th colspan=\"2\" halign=\"left\">property</th>\n",
       "      <th colspan=\"2\" halign=\"left\">employment_length</th>\n",
       "    </tr>\n",
       "    <tr>\n",
       "      <th></th>\n",
       "      <th>mean</th>\n",
       "      <th>std</th>\n",
       "      <th>mean</th>\n",
       "      <th>std</th>\n",
       "      <th>mean</th>\n",
       "      <th>std</th>\n",
       "      <th>mean</th>\n",
       "      <th>std</th>\n",
       "      <th>mean</th>\n",
       "      <th>std</th>\n",
       "      <th>mean</th>\n",
       "      <th>std</th>\n",
       "      <th>mean</th>\n",
       "      <th>std</th>\n",
       "    </tr>\n",
       "    <tr>\n",
       "      <th>cluster</th>\n",
       "      <th></th>\n",
       "      <th></th>\n",
       "      <th></th>\n",
       "      <th></th>\n",
       "      <th></th>\n",
       "      <th></th>\n",
       "      <th></th>\n",
       "      <th></th>\n",
       "      <th></th>\n",
       "      <th></th>\n",
       "      <th></th>\n",
       "      <th></th>\n",
       "      <th></th>\n",
       "      <th></th>\n",
       "    </tr>\n",
       "  </thead>\n",
       "  <tbody>\n",
       "    <tr>\n",
       "      <th>0</th>\n",
       "      <td>4.074074</td>\n",
       "      <td>2.534244</td>\n",
       "      <td>5742.245370</td>\n",
       "      <td>1409.657834</td>\n",
       "      <td>30.143519</td>\n",
       "      <td>12.606486</td>\n",
       "      <td>36.180556</td>\n",
       "      <td>11.263846</td>\n",
       "      <td>1.175926</td>\n",
       "      <td>0.381642</td>\n",
       "      <td>2.337963</td>\n",
       "      <td>1.104597</td>\n",
       "      <td>2.824074</td>\n",
       "      <td>1.226291</td>\n",
       "    </tr>\n",
       "    <tr>\n",
       "      <th>1</th>\n",
       "      <td>5.179945</td>\n",
       "      <td>2.729791</td>\n",
       "      <td>1890.082418</td>\n",
       "      <td>882.555974</td>\n",
       "      <td>16.718407</td>\n",
       "      <td>8.336400</td>\n",
       "      <td>35.318681</td>\n",
       "      <td>11.427185</td>\n",
       "      <td>1.148352</td>\n",
       "      <td>0.355693</td>\n",
       "      <td>2.329670</td>\n",
       "      <td>0.949103</td>\n",
       "      <td>2.641484</td>\n",
       "      <td>1.186482</td>\n",
       "    </tr>\n",
       "    <tr>\n",
       "      <th>2</th>\n",
       "      <td>3.910714</td>\n",
       "      <td>2.466332</td>\n",
       "      <td>11695.589286</td>\n",
       "      <td>2274.279536</td>\n",
       "      <td>39.660714</td>\n",
       "      <td>13.268249</td>\n",
       "      <td>36.053571</td>\n",
       "      <td>11.219171</td>\n",
       "      <td>1.160714</td>\n",
       "      <td>0.370591</td>\n",
       "      <td>2.803571</td>\n",
       "      <td>1.150804</td>\n",
       "      <td>2.875000</td>\n",
       "      <td>1.206987</td>\n",
       "    </tr>\n",
       "  </tbody>\n",
       "</table>\n",
       "</div>"
      ],
      "text/plain": [
       "          purpose                  amount              months_loan_duration  \\\n",
       "             mean       std          mean          std                 mean   \n",
       "cluster                                                                       \n",
       "0        4.074074  2.534244   5742.245370  1409.657834            30.143519   \n",
       "1        5.179945  2.729791   1890.082418   882.555974            16.718407   \n",
       "2        3.910714  2.466332  11695.589286  2274.279536            39.660714   \n",
       "\n",
       "                          age            dependents            property  \\\n",
       "               std       mean        std       mean       std      mean   \n",
       "cluster                                                                   \n",
       "0        12.606486  36.180556  11.263846   1.175926  0.381642  2.337963   \n",
       "1         8.336400  35.318681  11.427185   1.148352  0.355693  2.329670   \n",
       "2        13.268249  36.053571  11.219171   1.160714  0.370591  2.803571   \n",
       "\n",
       "                  employment_length            \n",
       "              std              mean       std  \n",
       "cluster                                        \n",
       "0        1.104597          2.824074  1.226291  \n",
       "1        0.949103          2.641484  1.186482  \n",
       "2        1.150804          2.875000  1.206987  "
      ]
     },
     "execution_count": 96,
     "metadata": {},
     "output_type": "execute_result"
    }
   ],
   "source": [
    "# Сгруппируем по метке кластера и возьмем среднее по всем признакам\n",
    "# попробуем увидеть разницу в кластерах\n",
    "cluster_df.groupby('cluster').agg(['mean', 'std'])"
   ]
  },
  {
   "cell_type": "code",
   "execution_count": 93,
   "metadata": {
    "scrolled": true
   },
   "outputs": [
    {
     "data": {
      "text/plain": [
       "Index(['business', 'car (new)', 'car (used)', 'domestic appliances',\n",
       "       'education', 'furniture', 'others', 'radio/tv', 'repairs',\n",
       "       'retraining'],\n",
       "      dtype='object')"
      ]
     },
     "execution_count": 93,
     "metadata": {},
     "output_type": "execute_result"
    }
   ],
   "source": [
    "credits.purpose.cat.categories"
   ]
  },
  {
   "attachments": {},
   "cell_type": "markdown",
   "metadata": {},
   "source": [
    "### Дерево решений для объяснения результатов сегментации"
   ]
  },
  {
   "cell_type": "code",
   "execution_count": 99,
   "metadata": {},
   "outputs": [],
   "source": [
    "X_clusters, y_clusters, _ = proc_df(cluster_df, 'cluster')"
   ]
  },
  {
   "cell_type": "code",
   "execution_count": 101,
   "metadata": {},
   "outputs": [],
   "source": [
    "X_train, X_valid, y_train, y_valid = train_test_split(X_clusters, y_clusters, \n",
    "                                                      test_size=0.4, random_state=42)"
   ]
  },
  {
   "cell_type": "code",
   "execution_count": 116,
   "metadata": {},
   "outputs": [],
   "source": [
    "tree = DecisionTreeClassifier(min_samples_split=50)"
   ]
  },
  {
   "cell_type": "code",
   "execution_count": 117,
   "metadata": {},
   "outputs": [
    {
     "data": {
      "text/plain": [
       "DecisionTreeClassifier(class_weight=None, criterion='gini', max_depth=None,\n",
       "            max_features=None, max_leaf_nodes=None,\n",
       "            min_impurity_decrease=0.0, min_impurity_split=None,\n",
       "            min_samples_leaf=1, min_samples_split=50,\n",
       "            min_weight_fraction_leaf=0.0, presort=False, random_state=None,\n",
       "            splitter='best')"
      ]
     },
     "execution_count": 117,
     "metadata": {},
     "output_type": "execute_result"
    }
   ],
   "source": [
    "tree.fit(X_train, y_train)"
   ]
  },
  {
   "cell_type": "code",
   "execution_count": 118,
   "metadata": {},
   "outputs": [
    {
     "data": {
      "image/svg+xml": [
       "<?xml version=\"1.0\" encoding=\"UTF-8\" standalone=\"no\"?>\n",
       "<!DOCTYPE svg PUBLIC \"-//W3C//DTD SVG 1.1//EN\"\n",
       " \"http://www.w3.org/Graphics/SVG/1.1/DTD/svg11.dtd\">\n",
       "<!-- Generated by graphviz version 2.40.1 (20161225.0304)\n",
       " -->\n",
       "<!-- Title: Tree Pages: 1 -->\n",
       "<svg width=\"467pt\" height=\"283pt\"\n",
       " viewBox=\"0.00 0.00 466.61 282.80\" xmlns=\"http://www.w3.org/2000/svg\" xmlns:xlink=\"http://www.w3.org/1999/xlink\">\n",
       "<g id=\"graph0\" class=\"graph\" transform=\"scale(1 1) rotate(0) translate(4 278.8)\">\n",
       "<title>Tree</title>\n",
       "<polygon fill=\"#ffffff\" stroke=\"transparent\" points=\"-4,4 -4,-278.8 462.6113,-278.8 462.6113,4 -4,4\"/>\n",
       "<!-- 0 -->\n",
       "<g id=\"node1\" class=\"node\">\n",
       "<title>0</title>\n",
       "<polygon fill=\"#39e581\" fill-opacity=\"0.623529\" stroke=\"#000000\" points=\"140.6492,-198.2075 .5735,-198.2075 .5735,-134.2075 140.6492,-134.2075 140.6492,-198.2075\"/>\n",
       "<text text-anchor=\"start\" x=\"23.0229\" y=\"-183.0075\" font-family=\"Times,serif\" font-size=\"14.00\" fill=\"#000000\">amount ≤ 3828.0</text>\n",
       "<text text-anchor=\"start\" x=\"43.5239\" y=\"-169.0075\" font-family=\"Times,serif\" font-size=\"14.00\" fill=\"#000000\">gini = 0.0</text>\n",
       "<text text-anchor=\"start\" x=\"30.1118\" y=\"-155.0075\" font-family=\"Times,serif\" font-size=\"14.00\" fill=\"#000000\">samples = 600</text>\n",
       "<text text-anchor=\"start\" x=\"8.3428\" y=\"-141.0075\" font-family=\"Times,serif\" font-size=\"14.00\" fill=\"#000000\">value = [133, 424, 43]</text>\n",
       "</g>\n",
       "<!-- 1 -->\n",
       "<g id=\"node2\" class=\"node\">\n",
       "<title>1</title>\n",
       "<polygon fill=\"#39e581\" stroke=\"#000000\" points=\"299.1493,-256.2075 180.0733,-256.2075 180.0733,-206.2075 299.1493,-206.2075 299.1493,-256.2075\"/>\n",
       "<text text-anchor=\"start\" x=\"212.5239\" y=\"-241.0075\" font-family=\"Times,serif\" font-size=\"14.00\" fill=\"#000000\">gini = 0.0</text>\n",
       "<text text-anchor=\"start\" x=\"199.1118\" y=\"-227.0075\" font-family=\"Times,serif\" font-size=\"14.00\" fill=\"#000000\">samples = 424</text>\n",
       "<text text-anchor=\"start\" x=\"187.8428\" y=\"-213.0075\" font-family=\"Times,serif\" font-size=\"14.00\" fill=\"#000000\">value = [0, 424, 0]</text>\n",
       "</g>\n",
       "<!-- 0&#45;&gt;1 -->\n",
       "<g id=\"edge1\" class=\"edge\">\n",
       "<title>0&#45;&gt;1</title>\n",
       "<path fill=\"none\" stroke=\"#000000\" d=\"M140.8143,-193.2087C150.5407,-196.9496 160.5273,-200.7906 170.2384,-204.5257\"/>\n",
       "<polygon fill=\"#000000\" stroke=\"#000000\" points=\"169.2479,-207.8946 179.8378,-208.2177 171.7608,-201.3612 169.2479,-207.8946\"/>\n",
       "<text text-anchor=\"middle\" x=\"156.9925\" y=\"-214.1712\" font-family=\"Times,serif\" font-size=\"14.00\" fill=\"#000000\">True</text>\n",
       "</g>\n",
       "<!-- 2 -->\n",
       "<g id=\"node3\" class=\"node\">\n",
       "<title>2</title>\n",
       "<polygon fill=\"#e58139\" fill-opacity=\"0.678431\" stroke=\"#000000\" points=\"302.6493,-134.2075 176.5734,-134.2075 176.5734,-70.2075 302.6493,-70.2075 302.6493,-134.2075\"/>\n",
       "<text text-anchor=\"start\" x=\"192.0229\" y=\"-119.0075\" font-family=\"Times,serif\" font-size=\"14.00\" fill=\"#000000\">amount ≤ 8813.0</text>\n",
       "<text text-anchor=\"start\" x=\"212.5239\" y=\"-105.0075\" font-family=\"Times,serif\" font-size=\"14.00\" fill=\"#000000\">gini = 0.0</text>\n",
       "<text text-anchor=\"start\" x=\"199.1118\" y=\"-91.0075\" font-family=\"Times,serif\" font-size=\"14.00\" fill=\"#000000\">samples = 176</text>\n",
       "<text text-anchor=\"start\" x=\"184.3428\" y=\"-77.0075\" font-family=\"Times,serif\" font-size=\"14.00\" fill=\"#000000\">value = [133, 0, 43]</text>\n",
       "</g>\n",
       "<!-- 0&#45;&gt;2 -->\n",
       "<g id=\"edge2\" class=\"edge\">\n",
       "<title>0&#45;&gt;2</title>\n",
       "<path fill=\"none\" stroke=\"#000000\" d=\"M140.8143,-139.6218C149.3802,-136.3779 158.1479,-133.0576 166.7514,-129.7995\"/>\n",
       "<polygon fill=\"#000000\" stroke=\"#000000\" points=\"168.2636,-132.9695 176.3759,-126.1547 165.7845,-126.4231 168.2636,-132.9695\"/>\n",
       "<text text-anchor=\"middle\" x=\"153.5834\" y=\"-111.6834\" font-family=\"Times,serif\" font-size=\"14.00\" fill=\"#000000\">False</text>\n",
       "</g>\n",
       "<!-- 3 -->\n",
       "<g id=\"node4\" class=\"node\">\n",
       "<title>3</title>\n",
       "<polygon fill=\"#e58139\" stroke=\"#000000\" points=\"458.1493,-186.2075 339.0733,-186.2075 339.0733,-136.2075 458.1493,-136.2075 458.1493,-186.2075\"/>\n",
       "<text text-anchor=\"start\" x=\"371.5239\" y=\"-171.0075\" font-family=\"Times,serif\" font-size=\"14.00\" fill=\"#000000\">gini = 0.0</text>\n",
       "<text text-anchor=\"start\" x=\"358.1118\" y=\"-157.0075\" font-family=\"Times,serif\" font-size=\"14.00\" fill=\"#000000\">samples = 133</text>\n",
       "<text text-anchor=\"start\" x=\"346.8428\" y=\"-143.0075\" font-family=\"Times,serif\" font-size=\"14.00\" fill=\"#000000\">value = [133, 0, 0]</text>\n",
       "</g>\n",
       "<!-- 2&#45;&gt;3 -->\n",
       "<g id=\"edge3\" class=\"edge\">\n",
       "<title>2&#45;&gt;3</title>\n",
       "<path fill=\"none\" stroke=\"#000000\" d=\"M302.9092,-125.6954C311.6221,-128.9285 320.6062,-132.2622 329.4184,-135.5322\"/>\n",
       "<polygon fill=\"#000000\" stroke=\"#000000\" points=\"328.2992,-138.85 338.8922,-139.0476 330.7345,-132.2873 328.2992,-138.85\"/>\n",
       "</g>\n",
       "<!-- 4 -->\n",
       "<g id=\"node5\" class=\"node\">\n",
       "<title>4</title>\n",
       "<polygon fill=\"#8139e5\" stroke=\"#000000\" points=\"454.6494,-68.2075 342.5733,-68.2075 342.5733,-18.2075 454.6494,-18.2075 454.6494,-68.2075\"/>\n",
       "<text text-anchor=\"start\" x=\"371.5239\" y=\"-53.0075\" font-family=\"Times,serif\" font-size=\"14.00\" fill=\"#000000\">gini = 0.0</text>\n",
       "<text text-anchor=\"start\" x=\"361.6118\" y=\"-39.0075\" font-family=\"Times,serif\" font-size=\"14.00\" fill=\"#000000\">samples = 43</text>\n",
       "<text text-anchor=\"start\" x=\"350.3428\" y=\"-25.0075\" font-family=\"Times,serif\" font-size=\"14.00\" fill=\"#000000\">value = [0, 0, 43]</text>\n",
       "</g>\n",
       "<!-- 2&#45;&gt;4 -->\n",
       "<g id=\"edge4\" class=\"edge\">\n",
       "<title>2&#45;&gt;4</title>\n",
       "<path fill=\"none\" stroke=\"#000000\" d=\"M302.9092,-78.7197C312.819,-75.0424 323.0795,-71.2351 333.0391,-67.5394\"/>\n",
       "<polygon fill=\"#000000\" stroke=\"#000000\" points=\"334.3166,-70.7986 342.4744,-64.0382 331.8814,-64.2358 334.3166,-70.7986\"/>\n",
       "</g>\n",
       "</g>\n",
       "</svg>\n"
      ],
      "text/plain": [
       "<graphviz.files.Source at 0x12b76e3c8>"
      ]
     },
     "metadata": {},
     "output_type": "display_data"
    }
   ],
   "source": [
    "draw_tree(tree, X_clusters)"
   ]
  },
  {
   "cell_type": "code",
   "execution_count": 119,
   "metadata": {},
   "outputs": [],
   "source": [
    "pred_y = tree.predict(X_valid)"
   ]
  },
  {
   "cell_type": "code",
   "execution_count": 123,
   "metadata": {},
   "outputs": [],
   "source": [
    "cm = confusion_matrix(y_valid, pred_y)"
   ]
  },
  {
   "cell_type": "code",
   "execution_count": 125,
   "metadata": {},
   "outputs": [
    {
     "name": "stdout",
     "output_type": "stream",
     "text": [
      "Confusion matrix, without normalization\n",
      "[[ 83   0   0]\n",
      " [  0 304   0]\n",
      " [  0   0  13]]\n"
     ]
    },
    {
     "data": {
      "image/png": "[encoded data removed]",
      "text/plain": [
       "<Figure size 432x288 with 2 Axes>"
      ]
     },
     "metadata": {},
     "output_type": "display_data"
    }
   ],
   "source": [
    "np.set_printoptions(precision=2)\n",
    "\n",
    "# Plot non-normalized confusion matrix\n",
    "plt.figure()\n",
    "plot_confusion_matrix(cm, classes=[0,1,2],\n",
    "                      title='Confusion matrix, without normalization')"
   ]
  },
  {
   "cell_type": "code",
   "execution_count": 121,
   "metadata": {
    "scrolled": true
   },
   "outputs": [
    {
     "name": "stdout",
     "output_type": "stream",
     "text": [
      "              precision    recall  f1-score   support\n",
      "\n",
      "           0       1.00      1.00      1.00        83\n",
      "           1       1.00      1.00      1.00       304\n",
      "           2       1.00      1.00      1.00        13\n",
      "\n",
      "   micro avg       1.00      1.00      1.00       400\n",
      "   macro avg       1.00      1.00      1.00       400\n",
      "weighted avg       1.00      1.00      1.00       400\n",
      "\n"
     ]
    }
   ],
   "source": [
    "print(classification_report(y_valid, pred_y))"
   ]
  },
  {
   "attachments": {},
   "cell_type": "markdown",
   "metadata": {},
   "source": [
    "### Построение многомерного отчёта и кросс-диаграммы выплачиваемых кредитов по возрастным группам"
   ]
  },
  {
   "cell_type": "code",
   "execution_count": 130,
   "metadata": {},
   "outputs": [
    {
     "data": {
      "text/plain": [
       "<matplotlib.axes._subplots.AxesSubplot at 0x127c1ffd0>"
      ]
     },
     "execution_count": 130,
     "metadata": {},
     "output_type": "execute_result"
    },
    {
     "data": {
      "image/png": "[encoded data removed]",
      "text/plain": [
       "<Figure size 432x288 with 1 Axes>"
      ]
     },
     "metadata": {},
     "output_type": "display_data"
    }
   ],
   "source": [
    "credits.age.hist()"
   ]
  },
  {
   "cell_type": "markdown",
   "metadata": {},
   "source": [
    "Для этого выберем, только ту группу, которая выплатила кредиты, и покажем распределение возрастных групп"
   ]
  },
  {
   "cell_type": "code",
   "execution_count": 129,
   "metadata": {},
   "outputs": [
    {
     "data": {
      "text/plain": [
       "<matplotlib.axes._subplots.AxesSubplot at 0x12b6d3d68>"
      ]
     },
     "execution_count": 129,
     "metadata": {},
     "output_type": "execute_result"
    },
    {
     "data": {
      "image/png": "[encoded data removed]",
      "text/plain": [
       "<Figure size 432x288 with 1 Axes>"
      ]
     },
     "metadata": {},
     "output_type": "display_data"
    }
   ],
   "source": [
    "credits.loc[credits.default == 0, 'age'].hist()"
   ]
  },
  {
   "cell_type": "code",
   "execution_count": 131,
   "metadata": {},
   "outputs": [
    {
     "data": {
      "text/plain": [
       "<matplotlib.axes._subplots.AxesSubplot at 0x127c43e10>"
      ]
     },
     "execution_count": 131,
     "metadata": {},
     "output_type": "execute_result"
    },
    {
     "data": {
      "image/png": "[encoded data removed]",
      "text/plain": [
       "<Figure size 432x288 with 1 Axes>"
      ]
     },
     "metadata": {},
     "output_type": "display_data"
    }
   ],
   "source": [
    "credits.loc[credits.default == 1, 'age'].hist()"
   ]
  },
  {
   "attachments": {},
   "cell_type": "markdown",
   "metadata": {},
   "source": [
    "### Построение модели дерева решений для оценки кредитоспособности заёмщика для сегмента №2"
   ]
  },
  {
   "cell_type": "code",
   "execution_count": 134,
   "metadata": {},
   "outputs": [],
   "source": [
    "X_train, X_valid, y_train, y_valid = train_test_split(df, y, \n",
    "                                                      test_size=0.2, random_state=42)"
   ]
  },
  {
   "cell_type": "code",
   "execution_count": 136,
   "metadata": {},
   "outputs": [],
   "source": [
    "tree = DecisionTreeClassifier(min_samples_split=50)"
   ]
  },
  {
   "cell_type": "code",
   "execution_count": 137,
   "metadata": {},
   "outputs": [
    {
     "data": {
      "text/plain": [
       "DecisionTreeClassifier(class_weight=None, criterion='gini', max_depth=None,\n",
       "            max_features=None, max_leaf_nodes=None,\n",
       "            min_impurity_decrease=0.0, min_impurity_split=None,\n",
       "            min_samples_leaf=1, min_samples_split=50,\n",
       "            min_weight_fraction_leaf=0.0, presort=False, random_state=None,\n",
       "            splitter='best')"
      ]
     },
     "execution_count": 137,
     "metadata": {},
     "output_type": "execute_result"
    }
   ],
   "source": [
    "tree.fit(X_train, y_train)"
   ]
  },
  {
   "cell_type": "code",
   "execution_count": 138,
   "metadata": {},
   "outputs": [
    {
     "data": {
      "text/plain": [
       "DecisionTreeClassifier(class_weight=None, criterion='gini', max_depth=None,\n",
       "            max_features=None, max_leaf_nodes=None,\n",
       "            min_impurity_decrease=0.0, min_impurity_split=None,\n",
       "            min_samples_leaf=1, min_samples_split=50,\n",
       "            min_weight_fraction_leaf=0.0, presort=False, random_state=None,\n",
       "            splitter='best')"
      ]
     },
     "execution_count": 138,
     "metadata": {},
     "output_type": "execute_result"
    }
   ],
   "source": [
    "tree = DecisionTreeClassifier(min_samples_split=50)\n",
    "\n",
    "tree.fit(X_train, y_train)"
   ]
  },
  {
   "cell_type": "code",
   "execution_count": 144,
   "metadata": {},
   "outputs": [
    {
     "data": {
      "text/plain": [
       "0.79875"
      ]
     },
     "execution_count": 144,
     "metadata": {},
     "output_type": "execute_result"
    }
   ],
   "source": [
    "tree.score(X_train, y_train)"
   ]
  },
  {
   "cell_type": "code",
   "execution_count": 145,
   "metadata": {},
   "outputs": [
    {
     "data": {
      "text/plain": [
       "0.765"
      ]
     },
     "execution_count": 145,
     "metadata": {},
     "output_type": "execute_result"
    }
   ],
   "source": [
    "tree.score(X_valid, y_valid)"
   ]
  },
  {
   "cell_type": "code",
   "execution_count": 140,
   "metadata": {},
   "outputs": [
    {
     "data": {
      "image/svg+xml": [
       "<?xml version=\"1.0\" encoding=\"UTF-8\" standalone=\"no\"?>\n",
       "<!DOCTYPE svg PUBLIC \"-//W3C//DTD SVG 1.1//EN\"\n",
       " \"http://www.w3.org/Graphics/SVG/1.1/DTD/svg11.dtd\">\n",
       "<!-- Generated by graphviz version 2.40.1 (20161225.0304)\n",
       " -->\n",
       "<!-- Title: Tree Pages: 1 -->\n",
       "<svg width=\"720pt\" height=\"433pt\"\n",
       " viewBox=\"0.00 0.00 720.00 433.05\" xmlns=\"http://www.w3.org/2000/svg\" xmlns:xlink=\"http://www.w3.org/1999/xlink\">\n",
       "<g id=\"graph0\" class=\"graph\" transform=\"scale(.3971 .3971) rotate(0) translate(4 1086.4)\">\n",
       "<title>Tree</title>\n",
       "<polygon fill=\"#ffffff\" stroke=\"transparent\" points=\"-4,4 -4,-1086.4 1808.9287,-1086.4 1808.9287,4 -4,4\"/>\n",
       "<!-- 0 -->\n",
       "<g id=\"node1\" class=\"node\">\n",
       "<title>0</title>\n",
       "<polygon fill=\"#e58139\" fill-opacity=\"0.568627\" stroke=\"#000000\" points=\"148.3894,-607.3702 -.532,-607.3702 -.532,-543.3702 148.3894,-543.3702 148.3894,-607.3702\"/>\n",
       "<text text-anchor=\"start\" x=\"7.6987\" y=\"-592.1702\" font-family=\"Times,serif\" font-size=\"14.00\" fill=\"#000000\">checking_balance ≤ 2.0</text>\n",
       "<text text-anchor=\"start\" x=\"46.8413\" y=\"-578.1702\" font-family=\"Times,serif\" font-size=\"14.00\" fill=\"#000000\">gini = 0.0</text>\n",
       "<text text-anchor=\"start\" x=\"33.4292\" y=\"-564.1702\" font-family=\"Times,serif\" font-size=\"14.00\" fill=\"#000000\">samples = 800</text>\n",
       "<text text-anchor=\"start\" x=\"22.1602\" y=\"-550.1702\" font-family=\"Times,serif\" font-size=\"14.00\" fill=\"#000000\">value = [559, 241]</text>\n",
       "</g>\n",
       "<!-- 1 -->\n",
       "<g id=\"node2\" class=\"node\">\n",
       "<title>1</title>\n",
       "<polygon fill=\"#e58139\" fill-opacity=\"0.215686\" stroke=\"#000000\" points=\"365.5987,-628.3702 184.2587,-628.3702 184.2587,-564.3702 365.5987,-564.3702 365.5987,-628.3702\"/>\n",
       "<text text-anchor=\"start\" x=\"192.3438\" y=\"-613.1702\" font-family=\"Times,serif\" font-size=\"14.00\" fill=\"#000000\">months_loan_duration ≤ 22.0</text>\n",
       "<text text-anchor=\"start\" x=\"247.8413\" y=\"-599.1702\" font-family=\"Times,serif\" font-size=\"14.00\" fill=\"#000000\">gini = 0.0</text>\n",
       "<text text-anchor=\"start\" x=\"234.4292\" y=\"-585.1702\" font-family=\"Times,serif\" font-size=\"14.00\" fill=\"#000000\">samples = 428</text>\n",
       "<text text-anchor=\"start\" x=\"223.1602\" y=\"-571.1702\" font-family=\"Times,serif\" font-size=\"14.00\" fill=\"#000000\">value = [240, 188]</text>\n",
       "</g>\n",
       "<!-- 0&#45;&gt;1 -->\n",
       "<g id=\"edge1\" class=\"edge\">\n",
       "<title>0&#45;&gt;1</title>\n",
       "<path fill=\"none\" stroke=\"#000000\" d=\"M148.2026,-583.1302C156.6424,-584.012 165.3474,-584.9214 174.0562,-585.8313\"/>\n",
       "<polygon fill=\"#000000\" stroke=\"#000000\" points=\"173.956,-589.3398 184.2656,-586.898 174.6834,-582.3777 173.956,-589.3398\"/>\n",
       "<text text-anchor=\"middle\" x=\"164.8467\" y=\"-598.443\" font-family=\"Times,serif\" font-size=\"14.00\" fill=\"#000000\">True</text>\n",
       "</g>\n",
       "<!-- 36 -->\n",
       "<g id=\"node37\" class=\"node\">\n",
       "<title>36</title>\n",
       "<polygon fill=\"#e58139\" fill-opacity=\"0.835294\" stroke=\"#000000\" points=\"345.4306,-506.3702 204.4269,-506.3702 204.4269,-442.3702 345.4306,-442.3702 345.4306,-506.3702\"/>\n",
       "<text text-anchor=\"start\" x=\"212.1782\" y=\"-491.1702\" font-family=\"Times,serif\" font-size=\"14.00\" fill=\"#000000\">installment_plan ≤ 2.0</text>\n",
       "<text text-anchor=\"start\" x=\"247.8413\" y=\"-477.1702\" font-family=\"Times,serif\" font-size=\"14.00\" fill=\"#000000\">gini = 0.0</text>\n",
       "<text text-anchor=\"start\" x=\"234.4292\" y=\"-463.1702\" font-family=\"Times,serif\" font-size=\"14.00\" fill=\"#000000\">samples = 372</text>\n",
       "<text text-anchor=\"start\" x=\"226.6602\" y=\"-449.1702\" font-family=\"Times,serif\" font-size=\"14.00\" fill=\"#000000\">value = [319, 53]</text>\n",
       "</g>\n",
       "<!-- 0&#45;&gt;36 -->\n",
       "<g id=\"edge36\" class=\"edge\">\n",
       "<title>0&#45;&gt;36</title>\n",
       "<path fill=\"none\" stroke=\"#000000\" d=\"M137.8025,-543.2744C158.23,-533.0099 180.9961,-521.5702 202.0169,-511.0075\"/>\n",
       "<polygon fill=\"#000000\" stroke=\"#000000\" points=\"203.8572,-513.9999 211.2211,-506.3825 200.7142,-507.7451 203.8572,-513.9999\"/>\n",
       "<text text-anchor=\"middle\" x=\"187.4883\" y=\"-494.324\" font-family=\"Times,serif\" font-size=\"14.00\" fill=\"#000000\">False</text>\n",
       "</g>\n",
       "<!-- 2 -->\n",
       "<g id=\"node3\" class=\"node\">\n",
       "<title>2</title>\n",
       "<polygon fill=\"#e58139\" fill-opacity=\"0.482353\" stroke=\"#000000\" points=\"534.8711,-809.3702 408.9863,-809.3702 408.9863,-745.3702 534.8711,-745.3702 534.8711,-809.3702\"/>\n",
       "<text text-anchor=\"start\" x=\"416.9575\" y=\"-794.1702\" font-family=\"Times,serif\" font-size=\"14.00\" fill=\"#000000\">credit_history ≤ 2.0</text>\n",
       "<text text-anchor=\"start\" x=\"444.8413\" y=\"-780.1702\" font-family=\"Times,serif\" font-size=\"14.00\" fill=\"#000000\">gini = 0.0</text>\n",
       "<text text-anchor=\"start\" x=\"431.4292\" y=\"-766.1702\" font-family=\"Times,serif\" font-size=\"14.00\" fill=\"#000000\">samples = 235</text>\n",
       "<text text-anchor=\"start\" x=\"423.6602\" y=\"-752.1702\" font-family=\"Times,serif\" font-size=\"14.00\" fill=\"#000000\">value = [155, 80]</text>\n",
       "</g>\n",
       "<!-- 1&#45;&gt;2 -->\n",
       "<g id=\"edge2\" class=\"edge\">\n",
       "<title>1&#45;&gt;2</title>\n",
       "<path fill=\"none\" stroke=\"#000000\" d=\"M310.1484,-628.7294C343.625,-659.4871 394.0129,-705.7826 429.6457,-738.5214\"/>\n",
       "<polygon fill=\"#000000\" stroke=\"#000000\" points=\"427.2822,-741.1028 437.014,-745.2912 432.0182,-735.9481 427.2822,-741.1028\"/>\n",
       "</g>\n",
       "<!-- 23 -->\n",
       "<g id=\"node24\" class=\"node\">\n",
       "<title>23</title>\n",
       "<polygon fill=\"#399de5\" fill-opacity=\"0.211765\" stroke=\"#000000\" points=\"541.8574,-628.3702 402,-628.3702 402,-564.3702 541.8574,-564.3702 541.8574,-628.3702\"/>\n",
       "<text text-anchor=\"start\" x=\"409.9644\" y=\"-613.1702\" font-family=\"Times,serif\" font-size=\"14.00\" fill=\"#000000\">savings_balance ≤ 4.0</text>\n",
       "<text text-anchor=\"start\" x=\"444.8413\" y=\"-599.1702\" font-family=\"Times,serif\" font-size=\"14.00\" fill=\"#000000\">gini = 0.0</text>\n",
       "<text text-anchor=\"start\" x=\"431.4292\" y=\"-585.1702\" font-family=\"Times,serif\" font-size=\"14.00\" fill=\"#000000\">samples = 193</text>\n",
       "<text text-anchor=\"start\" x=\"423.6602\" y=\"-571.1702\" font-family=\"Times,serif\" font-size=\"14.00\" fill=\"#000000\">value = [85, 108]</text>\n",
       "</g>\n",
       "<!-- 1&#45;&gt;23 -->\n",
       "<g id=\"edge23\" class=\"edge\">\n",
       "<title>1&#45;&gt;23</title>\n",
       "<path fill=\"none\" stroke=\"#000000\" d=\"M365.6444,-596.3702C374.2595,-596.3702 382.9545,-596.3702 391.4635,-596.3702\"/>\n",
       "<polygon fill=\"#000000\" stroke=\"#000000\" points=\"391.7327,-599.8703 401.7327,-596.3702 391.7326,-592.8703 391.7327,-599.8703\"/>\n",
       "</g>\n",
       "<!-- 3 -->\n",
       "<g id=\"node4\" class=\"node\">\n",
       "<title>3</title>\n",
       "<polygon fill=\"#e58139\" fill-opacity=\"0.803922\" stroke=\"#000000\" points=\"730.5919,-973.3702 605.2655,-973.3702 605.2655,-909.3702 730.5919,-909.3702 730.5919,-973.3702\"/>\n",
       "<text text-anchor=\"start\" x=\"613.3472\" y=\"-958.1702\" font-family=\"Times,serif\" font-size=\"14.00\" fill=\"#000000\">other_debtors ≤ 2.0</text>\n",
       "<text text-anchor=\"start\" x=\"640.8413\" y=\"-944.1702\" font-family=\"Times,serif\" font-size=\"14.00\" fill=\"#000000\">gini = 0.0</text>\n",
       "<text text-anchor=\"start\" x=\"630.9292\" y=\"-930.1702\" font-family=\"Times,serif\" font-size=\"14.00\" fill=\"#000000\">samples = 67</text>\n",
       "<text text-anchor=\"start\" x=\"623.4165\" y=\"-916.1702\" font-family=\"Times,serif\" font-size=\"14.00\" fill=\"#000000\">value = [56, 11]</text>\n",
       "</g>\n",
       "<!-- 2&#45;&gt;3 -->\n",
       "<g id=\"edge3\" class=\"edge\">\n",
       "<title>2&#45;&gt;3</title>\n",
       "<path fill=\"none\" stroke=\"#000000\" d=\"M510.1848,-809.3804C542.0541,-836.0466 587.5544,-874.1183 621.505,-902.5259\"/>\n",
       "<polygon fill=\"#000000\" stroke=\"#000000\" points=\"619.5193,-905.428 629.4347,-909.161 624.0114,-900.0594 619.5193,-905.428\"/>\n",
       "</g>\n",
       "<!-- 8 -->\n",
       "<g id=\"node9\" class=\"node\">\n",
       "<title>8</title>\n",
       "<polygon fill=\"#e58139\" fill-opacity=\"0.301961\" stroke=\"#000000\" points=\"730.5919,-809.3702 605.2655,-809.3702 605.2655,-745.3702 730.5919,-745.3702 730.5919,-809.3702\"/>\n",
       "<text text-anchor=\"start\" x=\"613.3472\" y=\"-794.1702\" font-family=\"Times,serif\" font-size=\"14.00\" fill=\"#000000\">other_debtors ≤ 2.0</text>\n",
       "<text text-anchor=\"start\" x=\"640.8413\" y=\"-780.1702\" font-family=\"Times,serif\" font-size=\"14.00\" fill=\"#000000\">gini = 0.0</text>\n",
       "<text text-anchor=\"start\" x=\"627.4292\" y=\"-766.1702\" font-family=\"Times,serif\" font-size=\"14.00\" fill=\"#000000\">samples = 168</text>\n",
       "<text text-anchor=\"start\" x=\"623.1602\" y=\"-752.1702\" font-family=\"Times,serif\" font-size=\"14.00\" fill=\"#000000\">value = [99, 69]</text>\n",
       "</g>\n",
       "<!-- 2&#45;&gt;8 -->\n",
       "<g id=\"edge8\" class=\"edge\">\n",
       "<title>2&#45;&gt;8</title>\n",
       "<path fill=\"none\" stroke=\"#000000\" d=\"M535.0232,-777.3702C554.1779,-777.3702 575.379,-777.3702 595.1177,-777.3702\"/>\n",
       "<polygon fill=\"#000000\" stroke=\"#000000\" points=\"595.2878,-780.8703 605.2878,-777.3702 595.2878,-773.8703 595.2878,-780.8703\"/>\n",
       "</g>\n",
       "<!-- 4 -->\n",
       "<g id=\"node5\" class=\"node\">\n",
       "<title>4</title>\n",
       "<polygon fill=\"#e58139\" fill-opacity=\"0.333333\" stroke=\"#000000\" points=\"920.467,-1072.3702 829.3904,-1072.3702 829.3904,-1022.3702 920.467,-1022.3702 920.467,-1072.3702\"/>\n",
       "<text text-anchor=\"start\" x=\"847.8413\" y=\"-1057.1702\" font-family=\"Times,serif\" font-size=\"14.00\" fill=\"#000000\">gini = 0.0</text>\n",
       "<text text-anchor=\"start\" x=\"837.9292\" y=\"-1043.1702\" font-family=\"Times,serif\" font-size=\"14.00\" fill=\"#000000\">samples = 10</text>\n",
       "<text text-anchor=\"start\" x=\"837.1602\" y=\"-1029.1702\" font-family=\"Times,serif\" font-size=\"14.00\" fill=\"#000000\">value = [6, 4]</text>\n",
       "</g>\n",
       "<!-- 3&#45;&gt;4 -->\n",
       "<g id=\"edge4\" class=\"edge\">\n",
       "<title>3&#45;&gt;4</title>\n",
       "<path fill=\"none\" stroke=\"#000000\" d=\"M730.5973,-973.4614C759.1421,-988.0786 792.6218,-1005.2227 820.1461,-1019.3173\"/>\n",
       "<polygon fill=\"#000000\" stroke=\"#000000\" points=\"818.7402,-1022.5296 829.2364,-1023.9722 821.9308,-1016.299 818.7402,-1022.5296\"/>\n",
       "</g>\n",
       "<!-- 5 -->\n",
       "<g id=\"node6\" class=\"node\">\n",
       "<title>5</title>\n",
       "<polygon fill=\"#e58139\" fill-opacity=\"0.858824\" stroke=\"#000000\" points=\"930.6056,-973.3702 819.2518,-973.3702 819.2518,-909.3702 930.6056,-909.3702 930.6056,-973.3702\"/>\n",
       "<text text-anchor=\"start\" x=\"827.3403\" y=\"-958.1702\" font-family=\"Times,serif\" font-size=\"14.00\" fill=\"#000000\">amount ≤ 1519.0</text>\n",
       "<text text-anchor=\"start\" x=\"847.8413\" y=\"-944.1702\" font-family=\"Times,serif\" font-size=\"14.00\" fill=\"#000000\">gini = 0.0</text>\n",
       "<text text-anchor=\"start\" x=\"837.9292\" y=\"-930.1702\" font-family=\"Times,serif\" font-size=\"14.00\" fill=\"#000000\">samples = 57</text>\n",
       "<text text-anchor=\"start\" x=\"833.6602\" y=\"-916.1702\" font-family=\"Times,serif\" font-size=\"14.00\" fill=\"#000000\">value = [50, 7]</text>\n",
       "</g>\n",
       "<!-- 3&#45;&gt;5 -->\n",
       "<g id=\"edge5\" class=\"edge\">\n",
       "<title>3&#45;&gt;5</title>\n",
       "<path fill=\"none\" stroke=\"#000000\" d=\"M730.5973,-941.3702C755.384,-941.3702 783.8917,-941.3702 808.99,-941.3702\"/>\n",
       "<polygon fill=\"#000000\" stroke=\"#000000\" points=\"809.1512,-944.8703 819.1512,-941.3702 809.1512,-937.8703 809.1512,-944.8703\"/>\n",
       "</g>\n",
       "<!-- 6 -->\n",
       "<g id=\"node7\" class=\"node\">\n",
       "<title>6</title>\n",
       "<polygon fill=\"#e58139\" fill-opacity=\"0.647059\" stroke=\"#000000\" points=\"1109.9669,-1056.3702 1011.8905,-1056.3702 1011.8905,-1006.3702 1109.9669,-1006.3702 1109.9669,-1056.3702\"/>\n",
       "<text text-anchor=\"start\" x=\"1033.8413\" y=\"-1041.1702\" font-family=\"Times,serif\" font-size=\"14.00\" fill=\"#000000\">gini = 0.0</text>\n",
       "<text text-anchor=\"start\" x=\"1023.9292\" y=\"-1027.1702\" font-family=\"Times,serif\" font-size=\"14.00\" fill=\"#000000\">samples = 23</text>\n",
       "<text text-anchor=\"start\" x=\"1019.6602\" y=\"-1013.1702\" font-family=\"Times,serif\" font-size=\"14.00\" fill=\"#000000\">value = [17, 6]</text>\n",
       "</g>\n",
       "<!-- 5&#45;&gt;6 -->\n",
       "<g id=\"edge6\" class=\"edge\">\n",
       "<title>5&#45;&gt;6</title>\n",
       "<path fill=\"none\" stroke=\"#000000\" d=\"M930.7348,-968.3732C953.4006,-979.3405 979.5954,-992.0154 1002.5199,-1003.1079\"/>\n",
       "<polygon fill=\"#000000\" stroke=\"#000000\" points=\"1001.2653,-1006.389 1011.7914,-1007.5941 1004.3143,-1000.0879 1001.2653,-1006.389\"/>\n",
       "</g>\n",
       "<!-- 7 -->\n",
       "<g id=\"node8\" class=\"node\">\n",
       "<title>7</title>\n",
       "<polygon fill=\"#e58139\" fill-opacity=\"0.968627\" stroke=\"#000000\" points=\"1109.9669,-960.3702 1011.8905,-960.3702 1011.8905,-910.3702 1109.9669,-910.3702 1109.9669,-960.3702\"/>\n",
       "<text text-anchor=\"start\" x=\"1033.8413\" y=\"-945.1702\" font-family=\"Times,serif\" font-size=\"14.00\" fill=\"#000000\">gini = 0.0</text>\n",
       "<text text-anchor=\"start\" x=\"1023.9292\" y=\"-931.1702\" font-family=\"Times,serif\" font-size=\"14.00\" fill=\"#000000\">samples = 34</text>\n",
       "<text text-anchor=\"start\" x=\"1019.6602\" y=\"-917.1702\" font-family=\"Times,serif\" font-size=\"14.00\" fill=\"#000000\">value = [33, 1]</text>\n",
       "</g>\n",
       "<!-- 5&#45;&gt;7 -->\n",
       "<g id=\"edge7\" class=\"edge\">\n",
       "<title>5&#45;&gt;7</title>\n",
       "<path fill=\"none\" stroke=\"#000000\" d=\"M930.7348,-939.57C953.0984,-938.8486 978.8975,-938.0164 1001.6012,-937.284\"/>\n",
       "<polygon fill=\"#000000\" stroke=\"#000000\" points=\"1001.9094,-940.776 1011.7914,-936.9553 1001.6837,-933.7796 1001.9094,-940.776\"/>\n",
       "</g>\n",
       "<!-- 9 -->\n",
       "<g id=\"node10\" class=\"node\">\n",
       "<title>9</title>\n",
       "<polygon fill=\"#e58139\" stroke=\"#000000\" points=\"923.9669,-860.3702 825.8905,-860.3702 825.8905,-810.3702 923.9669,-810.3702 923.9669,-860.3702\"/>\n",
       "<text text-anchor=\"start\" x=\"847.8413\" y=\"-845.1702\" font-family=\"Times,serif\" font-size=\"14.00\" fill=\"#000000\">gini = 0.0</text>\n",
       "<text text-anchor=\"start\" x=\"837.9292\" y=\"-831.1702\" font-family=\"Times,serif\" font-size=\"14.00\" fill=\"#000000\">samples = 25</text>\n",
       "<text text-anchor=\"start\" x=\"833.6602\" y=\"-817.1702\" font-family=\"Times,serif\" font-size=\"14.00\" fill=\"#000000\">value = [25, 0]</text>\n",
       "</g>\n",
       "<!-- 8&#45;&gt;9 -->\n",
       "<g id=\"edge9\" class=\"edge\">\n",
       "<title>8&#45;&gt;9</title>\n",
       "<path fill=\"none\" stroke=\"#000000\" d=\"M730.5973,-794.9295C757.6092,-802.4981 789.04,-811.3048 815.6617,-818.764\"/>\n",
       "<polygon fill=\"#000000\" stroke=\"#000000\" points=\"815.0365,-822.2236 825.61,-821.5515 816.9252,-815.4832 815.0365,-822.2236\"/>\n",
       "</g>\n",
       "<!-- 10 -->\n",
       "<g id=\"node11\" class=\"node\">\n",
       "<title>10</title>\n",
       "<polygon fill=\"#e58139\" fill-opacity=\"0.066667\" stroke=\"#000000\" points=\"937.8711,-761.3702 811.9863,-761.3702 811.9863,-697.3702 937.8711,-697.3702 937.8711,-761.3702\"/>\n",
       "<text text-anchor=\"start\" x=\"819.9575\" y=\"-746.1702\" font-family=\"Times,serif\" font-size=\"14.00\" fill=\"#000000\">credit_history ≤ 4.0</text>\n",
       "<text text-anchor=\"start\" x=\"847.8413\" y=\"-732.1702\" font-family=\"Times,serif\" font-size=\"14.00\" fill=\"#000000\">gini = 0.0</text>\n",
       "<text text-anchor=\"start\" x=\"834.4292\" y=\"-718.1702\" font-family=\"Times,serif\" font-size=\"14.00\" fill=\"#000000\">samples = 143</text>\n",
       "<text text-anchor=\"start\" x=\"830.1602\" y=\"-704.1702\" font-family=\"Times,serif\" font-size=\"14.00\" fill=\"#000000\">value = [74, 69]</text>\n",
       "</g>\n",
       "<!-- 8&#45;&gt;10 -->\n",
       "<g id=\"edge10\" class=\"edge\">\n",
       "<title>8&#45;&gt;10</title>\n",
       "<path fill=\"none\" stroke=\"#000000\" d=\"M730.5973,-762.8384C753.0873,-757.6233 778.6407,-751.6979 801.9312,-746.2972\"/>\n",
       "<polygon fill=\"#000000\" stroke=\"#000000\" points=\"802.8079,-749.6869 811.7588,-744.0183 801.2266,-742.8678 802.8079,-749.6869\"/>\n",
       "</g>\n",
       "<!-- 11 -->\n",
       "<g id=\"node12\" class=\"node\">\n",
       "<title>11</title>\n",
       "<polygon fill=\"#399de5\" fill-opacity=\"0.721569\" stroke=\"#000000\" points=\"1109.9669,-860.3702 1011.8905,-860.3702 1011.8905,-810.3702 1109.9669,-810.3702 1109.9669,-860.3702\"/>\n",
       "<text text-anchor=\"start\" x=\"1033.8413\" y=\"-845.1702\" font-family=\"Times,serif\" font-size=\"14.00\" fill=\"#000000\">gini = 0.0</text>\n",
       "<text text-anchor=\"start\" x=\"1023.9292\" y=\"-831.1702\" font-family=\"Times,serif\" font-size=\"14.00\" fill=\"#000000\">samples = 23</text>\n",
       "<text text-anchor=\"start\" x=\"1019.6602\" y=\"-817.1702\" font-family=\"Times,serif\" font-size=\"14.00\" fill=\"#000000\">value = [5, 18]</text>\n",
       "</g>\n",
       "<!-- 10&#45;&gt;11 -->\n",
       "<g id=\"edge11\" class=\"edge\">\n",
       "<title>10&#45;&gt;11</title>\n",
       "<path fill=\"none\" stroke=\"#000000\" d=\"M931.2396,-761.4614C955.606,-775.3476 983.974,-791.5143 1007.9544,-805.1806\"/>\n",
       "<polygon fill=\"#000000\" stroke=\"#000000\" points=\"1006.4917,-808.3754 1016.9128,-810.2859 1009.9576,-802.2937 1006.4917,-808.3754\"/>\n",
       "</g>\n",
       "<!-- 12 -->\n",
       "<g id=\"node13\" class=\"node\">\n",
       "<title>12</title>\n",
       "<polygon fill=\"#e58139\" fill-opacity=\"0.262745\" stroke=\"#000000\" points=\"1116.6056,-761.3702 1005.2518,-761.3702 1005.2518,-697.3702 1116.6056,-697.3702 1116.6056,-761.3702\"/>\n",
       "<text text-anchor=\"start\" x=\"1013.3403\" y=\"-746.1702\" font-family=\"Times,serif\" font-size=\"14.00\" fill=\"#000000\">amount ≤ 7492.0</text>\n",
       "<text text-anchor=\"start\" x=\"1033.8413\" y=\"-732.1702\" font-family=\"Times,serif\" font-size=\"14.00\" fill=\"#000000\">gini = 0.0</text>\n",
       "<text text-anchor=\"start\" x=\"1020.4292\" y=\"-718.1702\" font-family=\"Times,serif\" font-size=\"14.00\" fill=\"#000000\">samples = 120</text>\n",
       "<text text-anchor=\"start\" x=\"1016.1602\" y=\"-704.1702\" font-family=\"Times,serif\" font-size=\"14.00\" fill=\"#000000\">value = [69, 51]</text>\n",
       "</g>\n",
       "<!-- 10&#45;&gt;12 -->\n",
       "<g id=\"edge12\" class=\"edge\">\n",
       "<title>10&#45;&gt;12</title>\n",
       "<path fill=\"none\" stroke=\"#000000\" d=\"M937.8998,-729.3702C956.307,-729.3702 976.4723,-729.3702 995.0543,-729.3702\"/>\n",
       "<polygon fill=\"#000000\" stroke=\"#000000\" points=\"995.1935,-732.8703 1005.1935,-729.3702 995.1934,-725.8703 995.1935,-732.8703\"/>\n",
       "</g>\n",
       "<!-- 13 -->\n",
       "<g id=\"node14\" class=\"node\">\n",
       "<title>13</title>\n",
       "<polygon fill=\"#e58139\" fill-opacity=\"0.333333\" stroke=\"#000000\" points=\"1291.6056,-864.3702 1180.2518,-864.3702 1180.2518,-800.3702 1291.6056,-800.3702 1291.6056,-864.3702\"/>\n",
       "<text text-anchor=\"start\" x=\"1188.3403\" y=\"-849.1702\" font-family=\"Times,serif\" font-size=\"14.00\" fill=\"#000000\">amount ≤ 1373.0</text>\n",
       "<text text-anchor=\"start\" x=\"1208.8413\" y=\"-835.1702\" font-family=\"Times,serif\" font-size=\"14.00\" fill=\"#000000\">gini = 0.0</text>\n",
       "<text text-anchor=\"start\" x=\"1195.6855\" y=\"-821.1702\" font-family=\"Times,serif\" font-size=\"14.00\" fill=\"#000000\">samples = 115</text>\n",
       "<text text-anchor=\"start\" x=\"1191.1602\" y=\"-807.1702\" font-family=\"Times,serif\" font-size=\"14.00\" fill=\"#000000\">value = [69, 46]</text>\n",
       "</g>\n",
       "<!-- 12&#45;&gt;13 -->\n",
       "<g id=\"edge13\" class=\"edge\">\n",
       "<title>12&#45;&gt;13</title>\n",
       "<path fill=\"none\" stroke=\"#000000\" d=\"M1115.3405,-761.3955C1133.5302,-772.1014 1153.9572,-784.1241 1172.7565,-795.1889\"/>\n",
       "<polygon fill=\"#000000\" stroke=\"#000000\" points=\"1171.1571,-798.3087 1181.5505,-800.3648 1174.7078,-792.2761 1171.1571,-798.3087\"/>\n",
       "</g>\n",
       "<!-- 22 -->\n",
       "<g id=\"node23\" class=\"node\">\n",
       "<title>22</title>\n",
       "<polygon fill=\"#399de5\" stroke=\"#000000\" points=\"1281.467,-751.3702 1190.3904,-751.3702 1190.3904,-701.3702 1281.467,-701.3702 1281.467,-751.3702\"/>\n",
       "<text text-anchor=\"start\" x=\"1208.8413\" y=\"-736.1702\" font-family=\"Times,serif\" font-size=\"14.00\" fill=\"#000000\">gini = 0.0</text>\n",
       "<text text-anchor=\"start\" x=\"1202.4292\" y=\"-722.1702\" font-family=\"Times,serif\" font-size=\"14.00\" fill=\"#000000\">samples = 5</text>\n",
       "<text text-anchor=\"start\" x=\"1198.1602\" y=\"-708.1702\" font-family=\"Times,serif\" font-size=\"14.00\" fill=\"#000000\">value = [0, 5]</text>\n",
       "</g>\n",
       "<!-- 12&#45;&gt;22 -->\n",
       "<g id=\"edge22\" class=\"edge\">\n",
       "<title>12&#45;&gt;22</title>\n",
       "<path fill=\"none\" stroke=\"#000000\" d=\"M1116.781,-728.4128C1137.0615,-728.0651 1159.9635,-727.6725 1180.2307,-727.3251\"/>\n",
       "<polygon fill=\"#000000\" stroke=\"#000000\" points=\"1180.3136,-730.8242 1190.2521,-727.1533 1180.1936,-723.8253 1180.3136,-730.8242\"/>\n",
       "</g>\n",
       "<!-- 14 -->\n",
       "<g id=\"node15\" class=\"node\">\n",
       "<title>14</title>\n",
       "<polygon fill=\"#399de5\" fill-opacity=\"0.137255\" stroke=\"#000000\" points=\"1519.0987,-916.3702 1344.7587,-916.3702 1344.7587,-852.3702 1519.0987,-852.3702 1519.0987,-916.3702\"/>\n",
       "<text text-anchor=\"start\" x=\"1352.8438\" y=\"-901.1702\" font-family=\"Times,serif\" font-size=\"14.00\" fill=\"#000000\">months_loan_duration ≤ 7.0</text>\n",
       "<text text-anchor=\"start\" x=\"1404.8413\" y=\"-887.1702\" font-family=\"Times,serif\" font-size=\"14.00\" fill=\"#000000\">gini = 0.0</text>\n",
       "<text text-anchor=\"start\" x=\"1394.9292\" y=\"-873.1702\" font-family=\"Times,serif\" font-size=\"14.00\" fill=\"#000000\">samples = 54</text>\n",
       "<text text-anchor=\"start\" x=\"1387.1602\" y=\"-859.1702\" font-family=\"Times,serif\" font-size=\"14.00\" fill=\"#000000\">value = [25, 29]</text>\n",
       "</g>\n",
       "<!-- 13&#45;&gt;14 -->\n",
       "<g id=\"edge14\" class=\"edge\">\n",
       "<title>13&#45;&gt;14</title>\n",
       "<path fill=\"none\" stroke=\"#000000\" d=\"M1291.5702,-847.1323C1305.1248,-850.7284 1320.0181,-854.6797 1334.8822,-858.6232\"/>\n",
       "<polygon fill=\"#000000\" stroke=\"#000000\" points=\"1334.0683,-862.0283 1344.6314,-861.2097 1335.8634,-855.2623 1334.0683,-862.0283\"/>\n",
       "</g>\n",
       "<!-- 17 -->\n",
       "<g id=\"node18\" class=\"node\">\n",
       "<title>17</title>\n",
       "<polygon fill=\"#e58139\" fill-opacity=\"0.611765\" stroke=\"#000000\" points=\"1484.4668,-800.3702 1379.3906,-800.3702 1379.3906,-736.3702 1484.4668,-736.3702 1484.4668,-800.3702\"/>\n",
       "<text text-anchor=\"start\" x=\"1392.123\" y=\"-785.1702\" font-family=\"Times,serif\" font-size=\"14.00\" fill=\"#000000\">property ≤ 4.0</text>\n",
       "<text text-anchor=\"start\" x=\"1404.8413\" y=\"-771.1702\" font-family=\"Times,serif\" font-size=\"14.00\" fill=\"#000000\">gini = 0.0</text>\n",
       "<text text-anchor=\"start\" x=\"1394.9292\" y=\"-757.1702\" font-family=\"Times,serif\" font-size=\"14.00\" fill=\"#000000\">samples = 61</text>\n",
       "<text text-anchor=\"start\" x=\"1387.1602\" y=\"-743.1702\" font-family=\"Times,serif\" font-size=\"14.00\" fill=\"#000000\">value = [44, 17]</text>\n",
       "</g>\n",
       "<!-- 13&#45;&gt;17 -->\n",
       "<g id=\"edge17\" class=\"edge\">\n",
       "<title>13&#45;&gt;17</title>\n",
       "<path fill=\"none\" stroke=\"#000000\" d=\"M1291.5702,-814.2016C1315.8491,-806.2738 1344.4232,-796.9435 1369.4309,-788.7777\"/>\n",
       "<polygon fill=\"#000000\" stroke=\"#000000\" points=\"1370.7631,-792.0246 1379.1828,-785.5934 1368.5903,-785.3704 1370.7631,-792.0246\"/>\n",
       "</g>\n",
       "<!-- 15 -->\n",
       "<g id=\"node16\" class=\"node\">\n",
       "<title>15</title>\n",
       "<polygon fill=\"#e58139\" fill-opacity=\"0.858824\" stroke=\"#000000\" points=\"1656.467,-1002.3702 1565.3904,-1002.3702 1565.3904,-952.3702 1656.467,-952.3702 1656.467,-1002.3702\"/>\n",
       "<text text-anchor=\"start\" x=\"1583.8413\" y=\"-987.1702\" font-family=\"Times,serif\" font-size=\"14.00\" fill=\"#000000\">gini = 0.0</text>\n",
       "<text text-anchor=\"start\" x=\"1577.4292\" y=\"-973.1702\" font-family=\"Times,serif\" font-size=\"14.00\" fill=\"#000000\">samples = 8</text>\n",
       "<text text-anchor=\"start\" x=\"1573.1602\" y=\"-959.1702\" font-family=\"Times,serif\" font-size=\"14.00\" fill=\"#000000\">value = [7, 1]</text>\n",
       "</g>\n",
       "<!-- 14&#45;&gt;15 -->\n",
       "<g id=\"edge15\" class=\"edge\">\n",
       "<title>14&#45;&gt;15</title>\n",
       "<path fill=\"none\" stroke=\"#000000\" d=\"M1493.5304,-916.3756C1513.964,-926.9919 1536.5534,-938.7283 1556.4148,-949.0473\"/>\n",
       "<polygon fill=\"#000000\" stroke=\"#000000\" points=\"1554.8433,-952.175 1565.3307,-953.6797 1558.0706,-945.9634 1554.8433,-952.175\"/>\n",
       "</g>\n",
       "<!-- 16 -->\n",
       "<g id=\"node17\" class=\"node\">\n",
       "<title>16</title>\n",
       "<polygon fill=\"#399de5\" fill-opacity=\"0.356863\" stroke=\"#000000\" points=\"1663.4668,-906.3702 1558.3906,-906.3702 1558.3906,-856.3702 1663.4668,-856.3702 1663.4668,-906.3702\"/>\n",
       "<text text-anchor=\"start\" x=\"1583.8413\" y=\"-891.1702\" font-family=\"Times,serif\" font-size=\"14.00\" fill=\"#000000\">gini = 0.0</text>\n",
       "<text text-anchor=\"start\" x=\"1573.9292\" y=\"-877.1702\" font-family=\"Times,serif\" font-size=\"14.00\" fill=\"#000000\">samples = 46</text>\n",
       "<text text-anchor=\"start\" x=\"1566.1602\" y=\"-863.1702\" font-family=\"Times,serif\" font-size=\"14.00\" fill=\"#000000\">value = [18, 28]</text>\n",
       "</g>\n",
       "<!-- 14&#45;&gt;16 -->\n",
       "<g id=\"edge16\" class=\"edge\">\n",
       "<title>14&#45;&gt;16</title>\n",
       "<path fill=\"none\" stroke=\"#000000\" d=\"M1519.0691,-882.9098C1528.8632,-882.7456 1538.695,-882.5809 1548.095,-882.4233\"/>\n",
       "<polygon fill=\"#000000\" stroke=\"#000000\" points=\"1548.1633,-885.9228 1558.1032,-882.2556 1548.0459,-878.9237 1548.1633,-885.9228\"/>\n",
       "</g>\n",
       "<!-- 18 -->\n",
       "<g id=\"node19\" class=\"node\">\n",
       "<title>18</title>\n",
       "<polygon fill=\"#e58139\" fill-opacity=\"0.682353\" stroke=\"#000000\" points=\"1663.4668,-805.3702 1558.3906,-805.3702 1558.3906,-741.3702 1663.4668,-741.3702 1663.4668,-805.3702\"/>\n",
       "<text text-anchor=\"start\" x=\"1581.623\" y=\"-790.1702\" font-family=\"Times,serif\" font-size=\"14.00\" fill=\"#000000\">age ≤ 30.0</text>\n",
       "<text text-anchor=\"start\" x=\"1583.8413\" y=\"-776.1702\" font-family=\"Times,serif\" font-size=\"14.00\" fill=\"#000000\">gini = 0.0</text>\n",
       "<text text-anchor=\"start\" x=\"1573.9292\" y=\"-762.1702\" font-family=\"Times,serif\" font-size=\"14.00\" fill=\"#000000\">samples = 54</text>\n",
       "<text text-anchor=\"start\" x=\"1566.1602\" y=\"-748.1702\" font-family=\"Times,serif\" font-size=\"14.00\" fill=\"#000000\">value = [41, 13]</text>\n",
       "</g>\n",
       "<!-- 17&#45;&gt;18 -->\n",
       "<g id=\"edge18\" class=\"edge\">\n",
       "<title>17&#45;&gt;18</title>\n",
       "<path fill=\"none\" stroke=\"#000000\" d=\"M1484.6665,-769.8434C1504.6069,-770.4004 1527.494,-771.0397 1548.2583,-771.6197\"/>\n",
       "<polygon fill=\"#000000\" stroke=\"#000000\" points=\"1548.165,-775.1183 1558.2589,-771.899 1548.3605,-768.1211 1548.165,-775.1183\"/>\n",
       "</g>\n",
       "<!-- 21 -->\n",
       "<g id=\"node22\" class=\"node\">\n",
       "<title>21</title>\n",
       "<polygon fill=\"#399de5\" fill-opacity=\"0.250980\" stroke=\"#000000\" points=\"1656.467,-692.3702 1565.3904,-692.3702 1565.3904,-642.3702 1656.467,-642.3702 1656.467,-692.3702\"/>\n",
       "<text text-anchor=\"start\" x=\"1583.8413\" y=\"-677.1702\" font-family=\"Times,serif\" font-size=\"14.00\" fill=\"#000000\">gini = 0.0</text>\n",
       "<text text-anchor=\"start\" x=\"1577.4292\" y=\"-663.1702\" font-family=\"Times,serif\" font-size=\"14.00\" fill=\"#000000\">samples = 7</text>\n",
       "<text text-anchor=\"start\" x=\"1573.1602\" y=\"-649.1702\" font-family=\"Times,serif\" font-size=\"14.00\" fill=\"#000000\">value = [3, 4]</text>\n",
       "</g>\n",
       "<!-- 17&#45;&gt;21 -->\n",
       "<g id=\"edge21\" class=\"edge\">\n",
       "<title>17&#45;&gt;21</title>\n",
       "<path fill=\"none\" stroke=\"#000000\" d=\"M1484.6665,-738.6132C1507.6088,-725.6681 1534.4519,-710.5219 1557.4745,-697.5315\"/>\n",
       "<polygon fill=\"#000000\" stroke=\"#000000\" points=\"1559.4335,-700.445 1566.4228,-692.4825 1555.9935,-694.3485 1559.4335,-700.445\"/>\n",
       "</g>\n",
       "<!-- 19 -->\n",
       "<g id=\"node20\" class=\"node\">\n",
       "<title>19</title>\n",
       "<polygon fill=\"#e58139\" fill-opacity=\"0.450980\" stroke=\"#000000\" points=\"1804.4531,-846.3702 1699.4043,-846.3702 1699.4043,-796.3702 1804.4531,-796.3702 1804.4531,-846.3702\"/>\n",
       "<text text-anchor=\"start\" x=\"1724.8413\" y=\"-831.1702\" font-family=\"Times,serif\" font-size=\"14.00\" fill=\"#000000\">gini = 0.0</text>\n",
       "<text text-anchor=\"start\" x=\"1714.9292\" y=\"-817.1702\" font-family=\"Times,serif\" font-size=\"14.00\" fill=\"#000000\">samples = 31</text>\n",
       "<text text-anchor=\"start\" x=\"1707.4165\" y=\"-803.1702\" font-family=\"Times,serif\" font-size=\"14.00\" fill=\"#000000\">value = [20, 11]</text>\n",
       "</g>\n",
       "<!-- 18&#45;&gt;19 -->\n",
       "<g id=\"edge19\" class=\"edge\">\n",
       "<title>18&#45;&gt;19</title>\n",
       "<path fill=\"none\" stroke=\"#000000\" d=\"M1663.8331,-791.3802C1672.2359,-794.2408 1680.995,-797.2226 1689.5901,-800.1486\"/>\n",
       "<polygon fill=\"#000000\" stroke=\"#000000\" points=\"1688.6023,-803.5095 1699.1968,-803.4189 1690.8582,-796.883 1688.6023,-803.5095\"/>\n",
       "</g>\n",
       "<!-- 20 -->\n",
       "<g id=\"node21\" class=\"node\">\n",
       "<title>20</title>\n",
       "<polygon fill=\"#e58139\" fill-opacity=\"0.905882\" stroke=\"#000000\" points=\"1800.9669,-750.3702 1702.8905,-750.3702 1702.8905,-700.3702 1800.9669,-700.3702 1800.9669,-750.3702\"/>\n",
       "<text text-anchor=\"start\" x=\"1724.8413\" y=\"-735.1702\" font-family=\"Times,serif\" font-size=\"14.00\" fill=\"#000000\">gini = 0.0</text>\n",
       "<text text-anchor=\"start\" x=\"1714.9292\" y=\"-721.1702\" font-family=\"Times,serif\" font-size=\"14.00\" fill=\"#000000\">samples = 23</text>\n",
       "<text text-anchor=\"start\" x=\"1710.6602\" y=\"-707.1702\" font-family=\"Times,serif\" font-size=\"14.00\" fill=\"#000000\">value = [21, 2]</text>\n",
       "</g>\n",
       "<!-- 18&#45;&gt;20 -->\n",
       "<g id=\"edge20\" class=\"edge\">\n",
       "<title>18&#45;&gt;20</title>\n",
       "<path fill=\"none\" stroke=\"#000000\" d=\"M1663.8331,-755.3602C1673.3275,-752.1281 1683.2767,-748.7411 1692.9303,-745.4548\"/>\n",
       "<polygon fill=\"#000000\" stroke=\"#000000\" points=\"1694.1189,-748.7475 1702.4575,-742.2115 1691.863,-742.1209 1694.1189,-748.7475\"/>\n",
       "</g>\n",
       "<!-- 24 -->\n",
       "<g id=\"node25\" class=\"node\">\n",
       "<title>24</title>\n",
       "<polygon fill=\"#399de5\" fill-opacity=\"0.392157\" stroke=\"#000000\" points=\"758.5987,-639.3702 577.2587,-639.3702 577.2587,-575.3702 758.5987,-575.3702 758.5987,-639.3702\"/>\n",
       "<text text-anchor=\"start\" x=\"585.3438\" y=\"-624.1702\" font-family=\"Times,serif\" font-size=\"14.00\" fill=\"#000000\">months_loan_duration ≤ 48.0</text>\n",
       "<text text-anchor=\"start\" x=\"640.8413\" y=\"-610.1702\" font-family=\"Times,serif\" font-size=\"14.00\" fill=\"#000000\">gini = 0.0</text>\n",
       "<text text-anchor=\"start\" x=\"627.4292\" y=\"-596.1702\" font-family=\"Times,serif\" font-size=\"14.00\" fill=\"#000000\">samples = 156</text>\n",
       "<text text-anchor=\"start\" x=\"623.1602\" y=\"-582.1702\" font-family=\"Times,serif\" font-size=\"14.00\" fill=\"#000000\">value = [59, 97]</text>\n",
       "</g>\n",
       "<!-- 23&#45;&gt;24 -->\n",
       "<g id=\"edge24\" class=\"edge\">\n",
       "<title>23&#45;&gt;24</title>\n",
       "<path fill=\"none\" stroke=\"#000000\" d=\"M541.8591,-600.2949C550.077,-600.7561 558.5825,-601.2335 567.1164,-601.7124\"/>\n",
       "<polygon fill=\"#000000\" stroke=\"#000000\" points=\"566.9516,-605.2086 577.1321,-602.2745 567.3439,-598.2196 566.9516,-605.2086\"/>\n",
       "</g>\n",
       "<!-- 35 -->\n",
       "<g id=\"node36\" class=\"node\">\n",
       "<title>35</title>\n",
       "<polygon fill=\"#e58139\" fill-opacity=\"0.576471\" stroke=\"#000000\" points=\"720.4531,-526.3702 615.4043,-526.3702 615.4043,-476.3702 720.4531,-476.3702 720.4531,-526.3702\"/>\n",
       "<text text-anchor=\"start\" x=\"640.8413\" y=\"-511.1702\" font-family=\"Times,serif\" font-size=\"14.00\" fill=\"#000000\">gini = 0.0</text>\n",
       "<text text-anchor=\"start\" x=\"630.9292\" y=\"-497.1702\" font-family=\"Times,serif\" font-size=\"14.00\" fill=\"#000000\">samples = 37</text>\n",
       "<text text-anchor=\"start\" x=\"623.4165\" y=\"-483.1702\" font-family=\"Times,serif\" font-size=\"14.00\" fill=\"#000000\">value = [26, 11]</text>\n",
       "</g>\n",
       "<!-- 23&#45;&gt;35 -->\n",
       "<g id=\"edge35\" class=\"edge\">\n",
       "<title>23&#45;&gt;35</title>\n",
       "<path fill=\"none\" stroke=\"#000000\" d=\"M538.0121,-564.34C560.2807,-553.5466 585.0175,-541.5568 606.8798,-530.9603\"/>\n",
       "<polygon fill=\"#000000\" stroke=\"#000000\" points=\"608.5857,-534.0229 616.0578,-526.5117 605.5326,-527.7238 608.5857,-534.0229\"/>\n",
       "</g>\n",
       "<!-- 25 -->\n",
       "<g id=\"node26\" class=\"node\">\n",
       "<title>25</title>\n",
       "<polygon fill=\"#399de5\" fill-opacity=\"0.254902\" stroke=\"#000000\" points=\"927.4668,-645.3702 822.3906,-645.3702 822.3906,-581.3702 927.4668,-581.3702 927.4668,-645.3702\"/>\n",
       "<text text-anchor=\"start\" x=\"845.623\" y=\"-630.1702\" font-family=\"Times,serif\" font-size=\"14.00\" fill=\"#000000\">age ≤ 62.0</text>\n",
       "<text text-anchor=\"start\" x=\"847.8413\" y=\"-616.1702\" font-family=\"Times,serif\" font-size=\"14.00\" fill=\"#000000\">gini = 0.0</text>\n",
       "<text text-anchor=\"start\" x=\"834.4292\" y=\"-602.1702\" font-family=\"Times,serif\" font-size=\"14.00\" fill=\"#000000\">samples = 129</text>\n",
       "<text text-anchor=\"start\" x=\"830.1602\" y=\"-588.1702\" font-family=\"Times,serif\" font-size=\"14.00\" fill=\"#000000\">value = [55, 74]</text>\n",
       "</g>\n",
       "<!-- 24&#45;&gt;25 -->\n",
       "<g id=\"edge25\" class=\"edge\">\n",
       "<title>24&#45;&gt;25</title>\n",
       "<path fill=\"none\" stroke=\"#000000\" d=\"M758.7219,-610.0019C776.7137,-610.5234 795.2256,-611.06 812.0383,-611.5473\"/>\n",
       "<polygon fill=\"#000000\" stroke=\"#000000\" points=\"812.17,-615.0525 822.2672,-611.8438 812.3728,-608.0555 812.17,-615.0525\"/>\n",
       "</g>\n",
       "<!-- 34 -->\n",
       "<g id=\"node35\" class=\"node\">\n",
       "<title>34</title>\n",
       "<polygon fill=\"#399de5\" fill-opacity=\"0.827451\" stroke=\"#000000\" points=\"923.9669,-532.3702 825.8905,-532.3702 825.8905,-482.3702 923.9669,-482.3702 923.9669,-532.3702\"/>\n",
       "<text text-anchor=\"start\" x=\"847.8413\" y=\"-517.1702\" font-family=\"Times,serif\" font-size=\"14.00\" fill=\"#000000\">gini = 0.0</text>\n",
       "<text text-anchor=\"start\" x=\"837.9292\" y=\"-503.1702\" font-family=\"Times,serif\" font-size=\"14.00\" fill=\"#000000\">samples = 27</text>\n",
       "<text text-anchor=\"start\" x=\"833.6602\" y=\"-489.1702\" font-family=\"Times,serif\" font-size=\"14.00\" fill=\"#000000\">value = [4, 23]</text>\n",
       "</g>\n",
       "<!-- 24&#45;&gt;34 -->\n",
       "<g id=\"edge34\" class=\"edge\">\n",
       "<title>24&#45;&gt;34</title>\n",
       "<path fill=\"none\" stroke=\"#000000\" d=\"M734.2789,-575.317C760.7145,-562.5462 790.8782,-547.9743 816.475,-535.6087\"/>\n",
       "<polygon fill=\"#000000\" stroke=\"#000000\" points=\"818.2016,-538.6617 825.6834,-531.1602 815.1566,-532.3587 818.2016,-538.6617\"/>\n",
       "</g>\n",
       "<!-- 26 -->\n",
       "<g id=\"node27\" class=\"node\">\n",
       "<title>26</title>\n",
       "<polygon fill=\"#399de5\" fill-opacity=\"0.309804\" stroke=\"#000000\" points=\"1116.6056,-645.3702 1005.2518,-645.3702 1005.2518,-581.3702 1116.6056,-581.3702 1116.6056,-645.3702\"/>\n",
       "<text text-anchor=\"start\" x=\"1013.3403\" y=\"-630.1702\" font-family=\"Times,serif\" font-size=\"14.00\" fill=\"#000000\">amount ≤ 2212.0</text>\n",
       "<text text-anchor=\"start\" x=\"1033.8413\" y=\"-616.1702\" font-family=\"Times,serif\" font-size=\"14.00\" fill=\"#000000\">gini = 0.0</text>\n",
       "<text text-anchor=\"start\" x=\"1020.4292\" y=\"-602.1702\" font-family=\"Times,serif\" font-size=\"14.00\" fill=\"#000000\">samples = 125</text>\n",
       "<text text-anchor=\"start\" x=\"1016.1602\" y=\"-588.1702\" font-family=\"Times,serif\" font-size=\"14.00\" fill=\"#000000\">value = [51, 74]</text>\n",
       "</g>\n",
       "<!-- 25&#45;&gt;26 -->\n",
       "<g id=\"edge26\" class=\"edge\">\n",
       "<title>25&#45;&gt;26</title>\n",
       "<path fill=\"none\" stroke=\"#000000\" d=\"M927.7313,-613.3702C948.5929,-613.3702 972.796,-613.3702 994.8029,-613.3702\"/>\n",
       "<polygon fill=\"#000000\" stroke=\"#000000\" points=\"995.0714,-616.8703 1005.0714,-613.3702 995.0713,-609.8703 995.0714,-616.8703\"/>\n",
       "</g>\n",
       "<!-- 33 -->\n",
       "<g id=\"node34\" class=\"node\">\n",
       "<title>33</title>\n",
       "<polygon fill=\"#e58139\" stroke=\"#000000\" points=\"1106.467,-532.3702 1015.3904,-532.3702 1015.3904,-482.3702 1106.467,-482.3702 1106.467,-532.3702\"/>\n",
       "<text text-anchor=\"start\" x=\"1033.8413\" y=\"-517.1702\" font-family=\"Times,serif\" font-size=\"14.00\" fill=\"#000000\">gini = 0.0</text>\n",
       "<text text-anchor=\"start\" x=\"1027.4292\" y=\"-503.1702\" font-family=\"Times,serif\" font-size=\"14.00\" fill=\"#000000\">samples = 4</text>\n",
       "<text text-anchor=\"start\" x=\"1023.1602\" y=\"-489.1702\" font-family=\"Times,serif\" font-size=\"14.00\" fill=\"#000000\">value = [4, 0]</text>\n",
       "</g>\n",
       "<!-- 25&#45;&gt;33 -->\n",
       "<g id=\"edge33\" class=\"edge\">\n",
       "<title>25&#45;&gt;33</title>\n",
       "<path fill=\"none\" stroke=\"#000000\" d=\"M927.7313,-583.2784C952.7929,-568.996 982.677,-551.9653 1007.7824,-537.6579\"/>\n",
       "<polygon fill=\"#000000\" stroke=\"#000000\" points=\"1009.8425,-540.5124 1016.7977,-532.5201 1006.3766,-534.4307 1009.8425,-540.5124\"/>\n",
       "</g>\n",
       "<!-- 27 -->\n",
       "<g id=\"node28\" class=\"node\">\n",
       "<title>27</title>\n",
       "<polygon fill=\"#399de5\" fill-opacity=\"0.701961\" stroke=\"#000000\" points=\"1284.9669,-652.3702 1186.8905,-652.3702 1186.8905,-602.3702 1284.9669,-602.3702 1284.9669,-652.3702\"/>\n",
       "<text text-anchor=\"start\" x=\"1208.8413\" y=\"-637.1702\" font-family=\"Times,serif\" font-size=\"14.00\" fill=\"#000000\">gini = 0.0</text>\n",
       "<text text-anchor=\"start\" x=\"1198.9292\" y=\"-623.1702\" font-family=\"Times,serif\" font-size=\"14.00\" fill=\"#000000\">samples = 26</text>\n",
       "<text text-anchor=\"start\" x=\"1194.6602\" y=\"-609.1702\" font-family=\"Times,serif\" font-size=\"14.00\" fill=\"#000000\">value = [6, 20]</text>\n",
       "</g>\n",
       "<!-- 26&#45;&gt;27 -->\n",
       "<g id=\"edge27\" class=\"edge\">\n",
       "<title>26&#45;&gt;27</title>\n",
       "<path fill=\"none\" stroke=\"#000000\" d=\"M1116.781,-617.8384C1135.8588,-619.3646 1157.2564,-621.0765 1176.5983,-622.6238\"/>\n",
       "<polygon fill=\"#000000\" stroke=\"#000000\" points=\"1176.555,-626.1314 1186.8022,-623.4401 1177.1132,-619.1537 1176.555,-626.1314\"/>\n",
       "</g>\n",
       "<!-- 28 -->\n",
       "<g id=\"node29\" class=\"node\">\n",
       "<title>28</title>\n",
       "<polygon fill=\"#399de5\" fill-opacity=\"0.164706\" stroke=\"#000000\" points=\"1288.4668,-553.3702 1183.3906,-553.3702 1183.3906,-489.3702 1288.4668,-489.3702 1288.4668,-553.3702\"/>\n",
       "<text text-anchor=\"start\" x=\"1206.623\" y=\"-538.1702\" font-family=\"Times,serif\" font-size=\"14.00\" fill=\"#000000\">age ≤ 30.0</text>\n",
       "<text text-anchor=\"start\" x=\"1208.8413\" y=\"-524.1702\" font-family=\"Times,serif\" font-size=\"14.00\" fill=\"#000000\">gini = 0.0</text>\n",
       "<text text-anchor=\"start\" x=\"1198.9292\" y=\"-510.1702\" font-family=\"Times,serif\" font-size=\"14.00\" fill=\"#000000\">samples = 99</text>\n",
       "<text text-anchor=\"start\" x=\"1191.1602\" y=\"-496.1702\" font-family=\"Times,serif\" font-size=\"14.00\" fill=\"#000000\">value = [45, 54]</text>\n",
       "</g>\n",
       "<!-- 26&#45;&gt;28 -->\n",
       "<g id=\"edge28\" class=\"edge\">\n",
       "<title>26&#45;&gt;28</title>\n",
       "<path fill=\"none\" stroke=\"#000000\" d=\"M1116.781,-584.0079C1135.091,-574.3821 1155.5378,-563.6329 1174.2533,-553.7939\"/>\n",
       "<polygon fill=\"#000000\" stroke=\"#000000\" points=\"1176.0621,-556.7972 1183.2848,-549.0459 1172.8048,-550.6012 1176.0621,-556.7972\"/>\n",
       "</g>\n",
       "<!-- 29 -->\n",
       "<g id=\"node30\" class=\"node\">\n",
       "<title>29</title>\n",
       "<polygon fill=\"#399de5\" fill-opacity=\"0.498039\" stroke=\"#000000\" points=\"1484.4668,-645.3702 1379.3906,-645.3702 1379.3906,-595.3702 1484.4668,-595.3702 1484.4668,-645.3702\"/>\n",
       "<text text-anchor=\"start\" x=\"1404.8413\" y=\"-630.1702\" font-family=\"Times,serif\" font-size=\"14.00\" fill=\"#000000\">gini = 0.0</text>\n",
       "<text text-anchor=\"start\" x=\"1394.9292\" y=\"-616.1702\" font-family=\"Times,serif\" font-size=\"14.00\" fill=\"#000000\">samples = 45</text>\n",
       "<text text-anchor=\"start\" x=\"1387.1602\" y=\"-602.1702\" font-family=\"Times,serif\" font-size=\"14.00\" fill=\"#000000\">value = [15, 30]</text>\n",
       "</g>\n",
       "<!-- 28&#45;&gt;29 -->\n",
       "<g id=\"edge29\" class=\"edge\">\n",
       "<title>28&#45;&gt;29</title>\n",
       "<path fill=\"none\" stroke=\"#000000\" d=\"M1288.7109,-548.0306C1314.891,-561.2542 1346.5852,-577.2631 1373.4957,-590.8556\"/>\n",
       "<polygon fill=\"#000000\" stroke=\"#000000\" points=\"1371.9196,-593.9806 1382.4236,-595.3651 1375.0757,-587.7324 1371.9196,-593.9806\"/>\n",
       "</g>\n",
       "<!-- 30 -->\n",
       "<g id=\"node31\" class=\"node\">\n",
       "<title>30</title>\n",
       "<polygon fill=\"#e58139\" fill-opacity=\"0.200000\" stroke=\"#000000\" points=\"1522.5987,-546.3702 1341.2587,-546.3702 1341.2587,-482.3702 1522.5987,-482.3702 1522.5987,-546.3702\"/>\n",
       "<text text-anchor=\"start\" x=\"1349.3438\" y=\"-531.1702\" font-family=\"Times,serif\" font-size=\"14.00\" fill=\"#000000\">months_loan_duration ≤ 38.0</text>\n",
       "<text text-anchor=\"start\" x=\"1404.8413\" y=\"-517.1702\" font-family=\"Times,serif\" font-size=\"14.00\" fill=\"#000000\">gini = 0.0</text>\n",
       "<text text-anchor=\"start\" x=\"1394.9292\" y=\"-503.1702\" font-family=\"Times,serif\" font-size=\"14.00\" fill=\"#000000\">samples = 54</text>\n",
       "<text text-anchor=\"start\" x=\"1387.1602\" y=\"-489.1702\" font-family=\"Times,serif\" font-size=\"14.00\" fill=\"#000000\">value = [30, 24]</text>\n",
       "</g>\n",
       "<!-- 28&#45;&gt;30 -->\n",
       "<g id=\"edge30\" class=\"edge\">\n",
       "<title>28&#45;&gt;30</title>\n",
       "<path fill=\"none\" stroke=\"#000000\" d=\"M1288.7109,-519.4852C1301.8847,-519.0147 1316.4546,-518.4943 1331.1087,-517.9709\"/>\n",
       "<polygon fill=\"#000000\" stroke=\"#000000\" points=\"1331.3825,-521.4635 1341.2512,-517.6087 1331.1326,-514.468 1331.3825,-521.4635\"/>\n",
       "</g>\n",
       "<!-- 31 -->\n",
       "<g id=\"node32\" class=\"node\">\n",
       "<title>31</title>\n",
       "<polygon fill=\"#e58139\" fill-opacity=\"0.039216\" stroke=\"#000000\" points=\"1663.4668,-591.3702 1558.3906,-591.3702 1558.3906,-541.3702 1663.4668,-541.3702 1663.4668,-591.3702\"/>\n",
       "<text text-anchor=\"start\" x=\"1583.8413\" y=\"-576.1702\" font-family=\"Times,serif\" font-size=\"14.00\" fill=\"#000000\">gini = 0.0</text>\n",
       "<text text-anchor=\"start\" x=\"1573.9292\" y=\"-562.1702\" font-family=\"Times,serif\" font-size=\"14.00\" fill=\"#000000\">samples = 49</text>\n",
       "<text text-anchor=\"start\" x=\"1566.1602\" y=\"-548.1702\" font-family=\"Times,serif\" font-size=\"14.00\" fill=\"#000000\">value = [25, 24]</text>\n",
       "</g>\n",
       "<!-- 30&#45;&gt;31 -->\n",
       "<g id=\"edge31\" class=\"edge\">\n",
       "<title>30&#45;&gt;31</title>\n",
       "<path fill=\"none\" stroke=\"#000000\" d=\"M1522.7397,-540.7511C1531.4478,-543.2808 1540.1394,-545.8058 1548.4846,-548.2301\"/>\n",
       "<polygon fill=\"#000000\" stroke=\"#000000\" points=\"1547.5229,-551.5953 1558.1023,-551.024 1549.4757,-544.8732 1547.5229,-551.5953\"/>\n",
       "</g>\n",
       "<!-- 32 -->\n",
       "<g id=\"node33\" class=\"node\">\n",
       "<title>32</title>\n",
       "<polygon fill=\"#e58139\" stroke=\"#000000\" points=\"1656.467,-495.3702 1565.3904,-495.3702 1565.3904,-445.3702 1656.467,-445.3702 1656.467,-495.3702\"/>\n",
       "<text text-anchor=\"start\" x=\"1583.8413\" y=\"-480.1702\" font-family=\"Times,serif\" font-size=\"14.00\" fill=\"#000000\">gini = 0.0</text>\n",
       "<text text-anchor=\"start\" x=\"1577.4292\" y=\"-466.1702\" font-family=\"Times,serif\" font-size=\"14.00\" fill=\"#000000\">samples = 5</text>\n",
       "<text text-anchor=\"start\" x=\"1573.1602\" y=\"-452.1702\" font-family=\"Times,serif\" font-size=\"14.00\" fill=\"#000000\">value = [5, 0]</text>\n",
       "</g>\n",
       "<!-- 30&#45;&gt;32 -->\n",
       "<g id=\"edge32\" class=\"edge\">\n",
       "<title>30&#45;&gt;32</title>\n",
       "<path fill=\"none\" stroke=\"#000000\" d=\"M1522.7397,-492.048C1533.8886,-489.3075 1545.0103,-486.5736 1555.4127,-484.0166\"/>\n",
       "<polygon fill=\"#000000\" stroke=\"#000000\" points=\"1556.2677,-487.4107 1565.1431,-481.6248 1554.5967,-480.6131 1556.2677,-487.4107\"/>\n",
       "</g>\n",
       "<!-- 37 -->\n",
       "<g id=\"node38\" class=\"node\">\n",
       "<title>37</title>\n",
       "<polygon fill=\"#e58139\" fill-opacity=\"0.498039\" stroke=\"#000000\" points=\"524.4668,-499.3702 419.3906,-499.3702 419.3906,-449.3702 524.4668,-449.3702 524.4668,-499.3702\"/>\n",
       "<text text-anchor=\"start\" x=\"444.8413\" y=\"-484.1702\" font-family=\"Times,serif\" font-size=\"14.00\" fill=\"#000000\">gini = 0.0</text>\n",
       "<text text-anchor=\"start\" x=\"434.9292\" y=\"-470.1702\" font-family=\"Times,serif\" font-size=\"14.00\" fill=\"#000000\">samples = 48</text>\n",
       "<text text-anchor=\"start\" x=\"427.1602\" y=\"-456.1702\" font-family=\"Times,serif\" font-size=\"14.00\" fill=\"#000000\">value = [32, 16]</text>\n",
       "</g>\n",
       "<!-- 36&#45;&gt;37 -->\n",
       "<g id=\"edge37\" class=\"edge\">\n",
       "<title>36&#45;&gt;37</title>\n",
       "<path fill=\"none\" stroke=\"#000000\" d=\"M345.4938,-474.3702C366.2723,-474.3702 388.8587,-474.3702 409.1164,-474.3702\"/>\n",
       "<polygon fill=\"#000000\" stroke=\"#000000\" points=\"409.1647,-477.8703 419.1646,-474.3702 409.1646,-470.8703 409.1647,-477.8703\"/>\n",
       "</g>\n",
       "<!-- 38 -->\n",
       "<g id=\"node39\" class=\"node\">\n",
       "<title>38</title>\n",
       "<polygon fill=\"#e58139\" fill-opacity=\"0.870588\" stroke=\"#000000\" points=\"527.9668,-358.3702 415.8907,-358.3702 415.8907,-294.3702 527.9668,-294.3702 527.9668,-358.3702\"/>\n",
       "<text text-anchor=\"start\" x=\"442.623\" y=\"-343.1702\" font-family=\"Times,serif\" font-size=\"14.00\" fill=\"#000000\">age ≤ 30.0</text>\n",
       "<text text-anchor=\"start\" x=\"444.8413\" y=\"-329.1702\" font-family=\"Times,serif\" font-size=\"14.00\" fill=\"#000000\">gini = 0.0</text>\n",
       "<text text-anchor=\"start\" x=\"431.4292\" y=\"-315.1702\" font-family=\"Times,serif\" font-size=\"14.00\" fill=\"#000000\">samples = 324</text>\n",
       "<text text-anchor=\"start\" x=\"423.6602\" y=\"-301.1702\" font-family=\"Times,serif\" font-size=\"14.00\" fill=\"#000000\">value = [287, 37]</text>\n",
       "</g>\n",
       "<!-- 36&#45;&gt;38 -->\n",
       "<g id=\"edge38\" class=\"edge\">\n",
       "<title>36&#45;&gt;38</title>\n",
       "<path fill=\"none\" stroke=\"#000000\" d=\"M317.6748,-442.2564C348.0077,-419.4683 388.8586,-388.7782 420.9008,-364.7059\"/>\n",
       "<polygon fill=\"#000000\" stroke=\"#000000\" points=\"423.3732,-367.2262 429.2661,-358.4214 419.1686,-361.6296 423.3732,-367.2262\"/>\n",
       "</g>\n",
       "<!-- 39 -->\n",
       "<g id=\"node40\" class=\"node\">\n",
       "<title>39</title>\n",
       "<polygon fill=\"#e58139\" fill-opacity=\"0.764706\" stroke=\"#000000\" points=\"723.6056,-358.3702 612.2518,-358.3702 612.2518,-294.3702 723.6056,-294.3702 723.6056,-358.3702\"/>\n",
       "<text text-anchor=\"start\" x=\"620.3403\" y=\"-343.1702\" font-family=\"Times,serif\" font-size=\"14.00\" fill=\"#000000\">amount ≤ 6488.0</text>\n",
       "<text text-anchor=\"start\" x=\"640.8413\" y=\"-329.1702\" font-family=\"Times,serif\" font-size=\"14.00\" fill=\"#000000\">gini = 0.0</text>\n",
       "<text text-anchor=\"start\" x=\"627.6855\" y=\"-315.1702\" font-family=\"Times,serif\" font-size=\"14.00\" fill=\"#000000\">samples = 116</text>\n",
       "<text text-anchor=\"start\" x=\"623.1602\" y=\"-301.1702\" font-family=\"Times,serif\" font-size=\"14.00\" fill=\"#000000\">value = [94, 22]</text>\n",
       "</g>\n",
       "<!-- 38&#45;&gt;39 -->\n",
       "<g id=\"edge39\" class=\"edge\">\n",
       "<title>38&#45;&gt;39</title>\n",
       "<path fill=\"none\" stroke=\"#000000\" d=\"M528.0944,-326.3702C551.1569,-326.3702 578.0245,-326.3702 602.0102,-326.3702\"/>\n",
       "<polygon fill=\"#000000\" stroke=\"#000000\" points=\"602.0939,-329.8703 612.0939,-326.3702 602.0938,-322.8703 602.0939,-329.8703\"/>\n",
       "</g>\n",
       "<!-- 48 -->\n",
       "<g id=\"node49\" class=\"node\">\n",
       "<title>48</title>\n",
       "<polygon fill=\"#e58139\" fill-opacity=\"0.921569\" stroke=\"#000000\" points=\"738.4306,-221.3702 597.4269,-221.3702 597.4269,-157.3702 738.4306,-157.3702 738.4306,-221.3702\"/>\n",
       "<text text-anchor=\"start\" x=\"605.1782\" y=\"-206.1702\" font-family=\"Times,serif\" font-size=\"14.00\" fill=\"#000000\">installment_plan ≤ 2.0</text>\n",
       "<text text-anchor=\"start\" x=\"640.8413\" y=\"-192.1702\" font-family=\"Times,serif\" font-size=\"14.00\" fill=\"#000000\">gini = 0.0</text>\n",
       "<text text-anchor=\"start\" x=\"627.4292\" y=\"-178.1702\" font-family=\"Times,serif\" font-size=\"14.00\" fill=\"#000000\">samples = 208</text>\n",
       "<text text-anchor=\"start\" x=\"619.6602\" y=\"-164.1702\" font-family=\"Times,serif\" font-size=\"14.00\" fill=\"#000000\">value = [193, 15]</text>\n",
       "</g>\n",
       "<!-- 38&#45;&gt;48 -->\n",
       "<g id=\"edge48\" class=\"edge\">\n",
       "<title>38&#45;&gt;48</title>\n",
       "<path fill=\"none\" stroke=\"#000000\" d=\"M517.882,-294.2498C546.5305,-274.2251 583.5386,-248.3572 613.6323,-227.3224\"/>\n",
       "<polygon fill=\"#000000\" stroke=\"#000000\" points=\"615.7331,-230.1242 621.9242,-221.5265 611.7227,-224.3868 615.7331,-230.1242\"/>\n",
       "</g>\n",
       "<!-- 40 -->\n",
       "<g id=\"node41\" class=\"node\">\n",
       "<title>40</title>\n",
       "<polygon fill=\"#e58139\" fill-opacity=\"0.823529\" stroke=\"#000000\" points=\"927.4668,-433.3702 822.3906,-433.3702 822.3906,-369.3702 927.4668,-369.3702 927.4668,-433.3702\"/>\n",
       "<text text-anchor=\"start\" x=\"845.623\" y=\"-418.1702\" font-family=\"Times,serif\" font-size=\"14.00\" fill=\"#000000\">age ≤ 22.0</text>\n",
       "<text text-anchor=\"start\" x=\"847.8413\" y=\"-404.1702\" font-family=\"Times,serif\" font-size=\"14.00\" fill=\"#000000\">gini = 0.0</text>\n",
       "<text text-anchor=\"start\" x=\"834.4292\" y=\"-390.1702\" font-family=\"Times,serif\" font-size=\"14.00\" fill=\"#000000\">samples = 106</text>\n",
       "<text text-anchor=\"start\" x=\"830.1602\" y=\"-376.1702\" font-family=\"Times,serif\" font-size=\"14.00\" fill=\"#000000\">value = [90, 16]</text>\n",
       "</g>\n",
       "<!-- 39&#45;&gt;40 -->\n",
       "<g id=\"edge40\" class=\"edge\">\n",
       "<title>39&#45;&gt;40</title>\n",
       "<path fill=\"none\" stroke=\"#000000\" d=\"M723.6732,-346.5675C751.2149,-356.5464 784.5351,-368.6189 812.8843,-378.8904\"/>\n",
       "<polygon fill=\"#000000\" stroke=\"#000000\" points=\"811.6981,-382.1832 822.2923,-382.2991 814.0827,-375.6019 811.6981,-382.1832\"/>\n",
       "</g>\n",
       "<!-- 47 -->\n",
       "<g id=\"node48\" class=\"node\">\n",
       "<title>47</title>\n",
       "<polygon fill=\"#399de5\" fill-opacity=\"0.333333\" stroke=\"#000000\" points=\"920.467,-320.3702 829.3904,-320.3702 829.3904,-270.3702 920.467,-270.3702 920.467,-320.3702\"/>\n",
       "<text text-anchor=\"start\" x=\"847.8413\" y=\"-305.1702\" font-family=\"Times,serif\" font-size=\"14.00\" fill=\"#000000\">gini = 0.0</text>\n",
       "<text text-anchor=\"start\" x=\"837.9292\" y=\"-291.1702\" font-family=\"Times,serif\" font-size=\"14.00\" fill=\"#000000\">samples = 10</text>\n",
       "<text text-anchor=\"start\" x=\"837.1602\" y=\"-277.1702\" font-family=\"Times,serif\" font-size=\"14.00\" fill=\"#000000\">value = [4, 6]</text>\n",
       "</g>\n",
       "<!-- 39&#45;&gt;47 -->\n",
       "<g id=\"edge47\" class=\"edge\">\n",
       "<title>39&#45;&gt;47</title>\n",
       "<path fill=\"none\" stroke=\"#000000\" d=\"M723.6732,-318.022C753.2375,-313.5945 789.4602,-308.1699 819.0453,-303.7392\"/>\n",
       "<polygon fill=\"#000000\" stroke=\"#000000\" points=\"819.84,-307.1593 829.2114,-302.2168 818.8032,-300.2365 819.84,-307.1593\"/>\n",
       "</g>\n",
       "<!-- 41 -->\n",
       "<g id=\"node42\" class=\"node\">\n",
       "<title>41</title>\n",
       "<polygon fill=\"#e58139\" fill-opacity=\"0.286275\" stroke=\"#000000\" points=\"1106.467,-433.3702 1015.3904,-433.3702 1015.3904,-383.3702 1106.467,-383.3702 1106.467,-433.3702\"/>\n",
       "<text text-anchor=\"start\" x=\"1033.8413\" y=\"-418.1702\" font-family=\"Times,serif\" font-size=\"14.00\" fill=\"#000000\">gini = 0.0</text>\n",
       "<text text-anchor=\"start\" x=\"1023.9292\" y=\"-404.1702\" font-family=\"Times,serif\" font-size=\"14.00\" fill=\"#000000\">samples = 12</text>\n",
       "<text text-anchor=\"start\" x=\"1023.1602\" y=\"-390.1702\" font-family=\"Times,serif\" font-size=\"14.00\" fill=\"#000000\">value = [7, 5]</text>\n",
       "</g>\n",
       "<!-- 40&#45;&gt;41 -->\n",
       "<g id=\"edge41\" class=\"edge\">\n",
       "<title>40&#45;&gt;41</title>\n",
       "<path fill=\"none\" stroke=\"#000000\" d=\"M927.7313,-403.3574C951.8833,-404.2664 980.5141,-405.3439 1005.0305,-406.2665\"/>\n",
       "<polygon fill=\"#000000\" stroke=\"#000000\" points=\"1005.1359,-409.7729 1015.2605,-406.6515 1005.3993,-402.7778 1005.1359,-409.7729\"/>\n",
       "</g>\n",
       "<!-- 42 -->\n",
       "<g id=\"node43\" class=\"node\">\n",
       "<title>42</title>\n",
       "<polygon fill=\"#e58139\" fill-opacity=\"0.866667\" stroke=\"#000000\" points=\"1129.2608,-334.3702 992.5966,-334.3702 992.5966,-270.3702 1129.2608,-270.3702 1129.2608,-334.3702\"/>\n",
       "<text text-anchor=\"start\" x=\"1000.5127\" y=\"-319.1702\" font-family=\"Times,serif\" font-size=\"14.00\" fill=\"#000000\">existing_credits ≤ 2.0</text>\n",
       "<text text-anchor=\"start\" x=\"1033.8413\" y=\"-305.1702\" font-family=\"Times,serif\" font-size=\"14.00\" fill=\"#000000\">gini = 0.0</text>\n",
       "<text text-anchor=\"start\" x=\"1023.9292\" y=\"-291.1702\" font-family=\"Times,serif\" font-size=\"14.00\" fill=\"#000000\">samples = 94</text>\n",
       "<text text-anchor=\"start\" x=\"1016.4165\" y=\"-277.1702\" font-family=\"Times,serif\" font-size=\"14.00\" fill=\"#000000\">value = [83, 11]</text>\n",
       "</g>\n",
       "<!-- 40&#45;&gt;42 -->\n",
       "<g id=\"edge42\" class=\"edge\">\n",
       "<title>40&#45;&gt;42</title>\n",
       "<path fill=\"none\" stroke=\"#000000\" d=\"M927.7313,-373.2656C947.6544,-362.6614 970.6251,-350.4351 991.8199,-339.1539\"/>\n",
       "<polygon fill=\"#000000\" stroke=\"#000000\" points=\"993.5977,-342.1727 1000.7807,-334.3845 990.3087,-335.9934 993.5977,-342.1727\"/>\n",
       "</g>\n",
       "<!-- 43 -->\n",
       "<g id=\"node44\" class=\"node\">\n",
       "<title>43</title>\n",
       "<polygon fill=\"#e58139\" fill-opacity=\"0.878431\" stroke=\"#000000\" points=\"1305.3062,-433.3702 1166.5512,-433.3702 1166.5512,-369.3702 1305.3062,-369.3702 1305.3062,-433.3702\"/>\n",
       "<text text-anchor=\"start\" x=\"1174.7402\" y=\"-418.1702\" font-family=\"Times,serif\" font-size=\"14.00\" fill=\"#000000\">installment_rate ≤ 4.0</text>\n",
       "<text text-anchor=\"start\" x=\"1208.8413\" y=\"-404.1702\" font-family=\"Times,serif\" font-size=\"14.00\" fill=\"#000000\">gini = 0.0</text>\n",
       "<text text-anchor=\"start\" x=\"1198.9292\" y=\"-390.1702\" font-family=\"Times,serif\" font-size=\"14.00\" fill=\"#000000\">samples = 93</text>\n",
       "<text text-anchor=\"start\" x=\"1191.1602\" y=\"-376.1702\" font-family=\"Times,serif\" font-size=\"14.00\" fill=\"#000000\">value = [83, 10]</text>\n",
       "</g>\n",
       "<!-- 42&#45;&gt;43 -->\n",
       "<g id=\"edge43\" class=\"edge\">\n",
       "<title>42&#45;&gt;43</title>\n",
       "<path fill=\"none\" stroke=\"#000000\" d=\"M1117.7462,-334.5127C1134.4888,-343.9843 1152.9475,-354.4266 1170.2003,-364.1868\"/>\n",
       "<polygon fill=\"#000000\" stroke=\"#000000\" points=\"1168.6699,-367.3422 1179.0971,-369.2198 1172.1166,-361.2495 1168.6699,-367.3422\"/>\n",
       "</g>\n",
       "<!-- 46 -->\n",
       "<g id=\"node47\" class=\"node\">\n",
       "<title>46</title>\n",
       "<polygon fill=\"#399de5\" stroke=\"#000000\" points=\"1281.467,-320.3702 1190.3904,-320.3702 1190.3904,-270.3702 1281.467,-270.3702 1281.467,-320.3702\"/>\n",
       "<text text-anchor=\"start\" x=\"1208.8413\" y=\"-305.1702\" font-family=\"Times,serif\" font-size=\"14.00\" fill=\"#000000\">gini = 0.0</text>\n",
       "<text text-anchor=\"start\" x=\"1202.4292\" y=\"-291.1702\" font-family=\"Times,serif\" font-size=\"14.00\" fill=\"#000000\">samples = 1</text>\n",
       "<text text-anchor=\"start\" x=\"1198.1602\" y=\"-277.1702\" font-family=\"Times,serif\" font-size=\"14.00\" fill=\"#000000\">value = [0, 1]</text>\n",
       "</g>\n",
       "<!-- 42&#45;&gt;46 -->\n",
       "<g id=\"edge46\" class=\"edge\">\n",
       "<title>42&#45;&gt;46</title>\n",
       "<path fill=\"none\" stroke=\"#000000\" d=\"M1129.3402,-299.6338C1146.0902,-298.9638 1163.8212,-298.2545 1179.913,-297.6109\"/>\n",
       "<polygon fill=\"#000000\" stroke=\"#000000\" points=\"1180.372,-301.0954 1190.224,-297.1984 1180.0921,-294.101 1180.372,-301.0954\"/>\n",
       "</g>\n",
       "<!-- 44 -->\n",
       "<g id=\"node45\" class=\"node\">\n",
       "<title>44</title>\n",
       "<polygon fill=\"#e58139\" fill-opacity=\"0.956863\" stroke=\"#000000\" points=\"1480.9669,-430.3702 1382.8905,-430.3702 1382.8905,-380.3702 1480.9669,-380.3702 1480.9669,-430.3702\"/>\n",
       "<text text-anchor=\"start\" x=\"1404.8413\" y=\"-415.1702\" font-family=\"Times,serif\" font-size=\"14.00\" fill=\"#000000\">gini = 0.0</text>\n",
       "<text text-anchor=\"start\" x=\"1394.9292\" y=\"-401.1702\" font-family=\"Times,serif\" font-size=\"14.00\" fill=\"#000000\">samples = 49</text>\n",
       "<text text-anchor=\"start\" x=\"1390.6602\" y=\"-387.1702\" font-family=\"Times,serif\" font-size=\"14.00\" fill=\"#000000\">value = [47, 2]</text>\n",
       "</g>\n",
       "<!-- 43&#45;&gt;44 -->\n",
       "<g id=\"edge44\" class=\"edge\">\n",
       "<title>43&#45;&gt;44</title>\n",
       "<path fill=\"none\" stroke=\"#000000\" d=\"M1305.3068,-402.7861C1327.2626,-403.2342 1351.3195,-403.7251 1372.5118,-404.1576\"/>\n",
       "<polygon fill=\"#000000\" stroke=\"#000000\" points=\"1372.594,-407.66 1382.6634,-404.3648 1372.7369,-400.6614 1372.594,-407.66\"/>\n",
       "</g>\n",
       "<!-- 45 -->\n",
       "<g id=\"node46\" class=\"node\">\n",
       "<title>45</title>\n",
       "<polygon fill=\"#e58139\" fill-opacity=\"0.776471\" stroke=\"#000000\" points=\"1480.9669,-334.3702 1382.8905,-334.3702 1382.8905,-284.3702 1480.9669,-284.3702 1480.9669,-334.3702\"/>\n",
       "<text text-anchor=\"start\" x=\"1404.8413\" y=\"-319.1702\" font-family=\"Times,serif\" font-size=\"14.00\" fill=\"#000000\">gini = 0.0</text>\n",
       "<text text-anchor=\"start\" x=\"1394.9292\" y=\"-305.1702\" font-family=\"Times,serif\" font-size=\"14.00\" fill=\"#000000\">samples = 44</text>\n",
       "<text text-anchor=\"start\" x=\"1390.6602\" y=\"-291.1702\" font-family=\"Times,serif\" font-size=\"14.00\" fill=\"#000000\">value = [36, 8]</text>\n",
       "</g>\n",
       "<!-- 43&#45;&gt;45 -->\n",
       "<g id=\"edge45\" class=\"edge\">\n",
       "<title>43&#45;&gt;45</title>\n",
       "<path fill=\"none\" stroke=\"#000000\" d=\"M1304.2049,-369.3223C1326.8255,-358.7044 1351.7799,-346.9911 1373.5839,-336.7566\"/>\n",
       "<polygon fill=\"#000000\" stroke=\"#000000\" points=\"1375.1545,-339.8858 1382.7197,-332.4684 1372.1801,-333.5492 1375.1545,-339.8858\"/>\n",
       "</g>\n",
       "<!-- 49 -->\n",
       "<g id=\"node50\" class=\"node\">\n",
       "<title>49</title>\n",
       "<polygon fill=\"#e58139\" fill-opacity=\"0.941176\" stroke=\"#000000\" points=\"955.0919,-221.3702 794.7655,-221.3702 794.7655,-157.3702 955.0919,-157.3702 955.0919,-221.3702\"/>\n",
       "<text text-anchor=\"start\" x=\"802.8472\" y=\"-206.1702\" font-family=\"Times,serif\" font-size=\"14.00\" fill=\"#000000\">employment_length ≤ 2.0</text>\n",
       "<text text-anchor=\"start\" x=\"847.8413\" y=\"-192.1702\" font-family=\"Times,serif\" font-size=\"14.00\" fill=\"#000000\">gini = 0.0</text>\n",
       "<text text-anchor=\"start\" x=\"834.4292\" y=\"-178.1702\" font-family=\"Times,serif\" font-size=\"14.00\" fill=\"#000000\">samples = 194</text>\n",
       "<text text-anchor=\"start\" x=\"826.9165\" y=\"-164.1702\" font-family=\"Times,serif\" font-size=\"14.00\" fill=\"#000000\">value = [183, 11]</text>\n",
       "</g>\n",
       "<!-- 48&#45;&gt;49 -->\n",
       "<g id=\"edge49\" class=\"edge\">\n",
       "<title>48&#45;&gt;49</title>\n",
       "<path fill=\"none\" stroke=\"#000000\" d=\"M738.5874,-189.3702C753.3832,-189.3702 769.1779,-189.3702 784.5778,-189.3702\"/>\n",
       "<polygon fill=\"#000000\" stroke=\"#000000\" points=\"784.6263,-192.8703 794.6263,-189.3702 784.6263,-185.8703 784.6263,-192.8703\"/>\n",
       "</g>\n",
       "<!-- 58 -->\n",
       "<g id=\"node59\" class=\"node\">\n",
       "<title>58</title>\n",
       "<polygon fill=\"#e58139\" fill-opacity=\"0.600000\" stroke=\"#000000\" points=\"923.9669,-108.3702 825.8905,-108.3702 825.8905,-58.3702 923.9669,-58.3702 923.9669,-108.3702\"/>\n",
       "<text text-anchor=\"start\" x=\"847.8413\" y=\"-93.1702\" font-family=\"Times,serif\" font-size=\"14.00\" fill=\"#000000\">gini = 0.0</text>\n",
       "<text text-anchor=\"start\" x=\"837.9292\" y=\"-79.1702\" font-family=\"Times,serif\" font-size=\"14.00\" fill=\"#000000\">samples = 14</text>\n",
       "<text text-anchor=\"start\" x=\"833.6602\" y=\"-65.1702\" font-family=\"Times,serif\" font-size=\"14.00\" fill=\"#000000\">value = [10, 4]</text>\n",
       "</g>\n",
       "<!-- 48&#45;&gt;58 -->\n",
       "<g id=\"edge58\" class=\"edge\">\n",
       "<title>48&#45;&gt;58</title>\n",
       "<path fill=\"none\" stroke=\"#000000\" d=\"M730.5973,-157.2791C758.0731,-143.2094 790.1208,-126.7984 817.029,-113.0194\"/>\n",
       "<polygon fill=\"#000000\" stroke=\"#000000\" points=\"818.6377,-116.1278 825.9433,-108.4546 815.4471,-109.8972 818.6377,-116.1278\"/>\n",
       "</g>\n",
       "<!-- 50 -->\n",
       "<g id=\"node51\" class=\"node\">\n",
       "<title>50</title>\n",
       "<polygon fill=\"#e58139\" fill-opacity=\"0.713725\" stroke=\"#000000\" points=\"1109.9669,-218.3702 1011.8905,-218.3702 1011.8905,-168.3702 1109.9669,-168.3702 1109.9669,-218.3702\"/>\n",
       "<text text-anchor=\"start\" x=\"1033.8413\" y=\"-203.1702\" font-family=\"Times,serif\" font-size=\"14.00\" fill=\"#000000\">gini = 0.0</text>\n",
       "<text text-anchor=\"start\" x=\"1023.9292\" y=\"-189.1702\" font-family=\"Times,serif\" font-size=\"14.00\" fill=\"#000000\">samples = 18</text>\n",
       "<text text-anchor=\"start\" x=\"1019.6602\" y=\"-175.1702\" font-family=\"Times,serif\" font-size=\"14.00\" fill=\"#000000\">value = [14, 4]</text>\n",
       "</g>\n",
       "<!-- 49&#45;&gt;50 -->\n",
       "<g id=\"edge50\" class=\"edge\">\n",
       "<title>49&#45;&gt;50</title>\n",
       "<path fill=\"none\" stroke=\"#000000\" d=\"M955.159,-191.0956C970.8168,-191.4323 986.9667,-191.7797 1001.788,-192.0984\"/>\n",
       "<polygon fill=\"#000000\" stroke=\"#000000\" points=\"1001.7412,-195.5981 1011.8142,-192.314 1001.8918,-188.5997 1001.7412,-195.5981\"/>\n",
       "</g>\n",
       "<!-- 51 -->\n",
       "<g id=\"node52\" class=\"node\">\n",
       "<title>51</title>\n",
       "<polygon fill=\"#e58139\" fill-opacity=\"0.956863\" stroke=\"#000000\" points=\"1130.8574,-119.3702 991,-119.3702 991,-55.3702 1130.8574,-55.3702 1130.8574,-119.3702\"/>\n",
       "<text text-anchor=\"start\" x=\"998.9644\" y=\"-104.1702\" font-family=\"Times,serif\" font-size=\"14.00\" fill=\"#000000\">savings_balance ≤ 2.0</text>\n",
       "<text text-anchor=\"start\" x=\"1033.8413\" y=\"-90.1702\" font-family=\"Times,serif\" font-size=\"14.00\" fill=\"#000000\">gini = 0.0</text>\n",
       "<text text-anchor=\"start\" x=\"1020.4292\" y=\"-76.1702\" font-family=\"Times,serif\" font-size=\"14.00\" fill=\"#000000\">samples = 176</text>\n",
       "<text text-anchor=\"start\" x=\"1016.1602\" y=\"-62.1702\" font-family=\"Times,serif\" font-size=\"14.00\" fill=\"#000000\">value = [169, 7]</text>\n",
       "</g>\n",
       "<!-- 49&#45;&gt;51 -->\n",
       "<g id=\"edge51\" class=\"edge\">\n",
       "<title>49&#45;&gt;51</title>\n",
       "<path fill=\"none\" stroke=\"#000000\" d=\"M933.525,-157.2368C952.5475,-146.8051 973.8055,-135.1475 993.4233,-124.3893\"/>\n",
       "<polygon fill=\"#000000\" stroke=\"#000000\" points=\"995.2223,-127.3946 1002.3075,-119.5173 991.8565,-121.2569 995.2223,-127.3946\"/>\n",
       "</g>\n",
       "<!-- 52 -->\n",
       "<g id=\"node53\" class=\"node\">\n",
       "<title>52</title>\n",
       "<polygon fill=\"#e58139\" fill-opacity=\"0.811765\" stroke=\"#000000\" points=\"1284.9669,-218.3702 1186.8905,-218.3702 1186.8905,-168.3702 1284.9669,-168.3702 1284.9669,-218.3702\"/>\n",
       "<text text-anchor=\"start\" x=\"1208.8413\" y=\"-203.1702\" font-family=\"Times,serif\" font-size=\"14.00\" fill=\"#000000\">gini = 0.0</text>\n",
       "<text text-anchor=\"start\" x=\"1198.9292\" y=\"-189.1702\" font-family=\"Times,serif\" font-size=\"14.00\" fill=\"#000000\">samples = 19</text>\n",
       "<text text-anchor=\"start\" x=\"1194.6602\" y=\"-175.1702\" font-family=\"Times,serif\" font-size=\"14.00\" fill=\"#000000\">value = [16, 3]</text>\n",
       "</g>\n",
       "<!-- 51&#45;&gt;52 -->\n",
       "<g id=\"edge52\" class=\"edge\">\n",
       "<title>51&#45;&gt;52</title>\n",
       "<path fill=\"none\" stroke=\"#000000\" d=\"M1113.9094,-119.4614C1136.7337,-133.2864 1163.29,-149.3719 1185.7889,-162.9998\"/>\n",
       "<polygon fill=\"#000000\" stroke=\"#000000\" points=\"1184.1493,-166.0987 1194.5159,-168.2859 1187.7759,-160.1114 1184.1493,-166.0987\"/>\n",
       "</g>\n",
       "<!-- 53 -->\n",
       "<g id=\"node54\" class=\"node\">\n",
       "<title>53</title>\n",
       "<polygon fill=\"#e58139\" fill-opacity=\"0.972549\" stroke=\"#000000\" points=\"1288.4668,-119.3702 1183.3906,-119.3702 1183.3906,-55.3702 1288.4668,-55.3702 1288.4668,-119.3702\"/>\n",
       "<text text-anchor=\"start\" x=\"1206.623\" y=\"-104.1702\" font-family=\"Times,serif\" font-size=\"14.00\" fill=\"#000000\">age ≤ 54.0</text>\n",
       "<text text-anchor=\"start\" x=\"1208.8413\" y=\"-90.1702\" font-family=\"Times,serif\" font-size=\"14.00\" fill=\"#000000\">gini = 0.0</text>\n",
       "<text text-anchor=\"start\" x=\"1195.4292\" y=\"-76.1702\" font-family=\"Times,serif\" font-size=\"14.00\" fill=\"#000000\">samples = 157</text>\n",
       "<text text-anchor=\"start\" x=\"1191.1602\" y=\"-62.1702\" font-family=\"Times,serif\" font-size=\"14.00\" fill=\"#000000\">value = [153, 4]</text>\n",
       "</g>\n",
       "<!-- 51&#45;&gt;53 -->\n",
       "<g id=\"edge53\" class=\"edge\">\n",
       "<title>51&#45;&gt;53</title>\n",
       "<path fill=\"none\" stroke=\"#000000\" d=\"M1131.0996,-87.3702C1144.9664,-87.3702 1159.4382,-87.3702 1173.0454,-87.3702\"/>\n",
       "<polygon fill=\"#000000\" stroke=\"#000000\" points=\"1173.258,-90.8703 1183.258,-87.3702 1173.2579,-83.8703 1173.258,-90.8703\"/>\n",
       "</g>\n",
       "<!-- 54 -->\n",
       "<g id=\"node55\" class=\"node\">\n",
       "<title>54</title>\n",
       "<polygon fill=\"#e58139\" fill-opacity=\"0.992157\" stroke=\"#000000\" points=\"1506.3894,-173.3702 1357.468,-173.3702 1357.468,-109.3702 1506.3894,-109.3702 1506.3894,-173.3702\"/>\n",
       "<text text-anchor=\"start\" x=\"1365.6987\" y=\"-158.1702\" font-family=\"Times,serif\" font-size=\"14.00\" fill=\"#000000\">checking_balance ≤ 4.0</text>\n",
       "<text text-anchor=\"start\" x=\"1404.8413\" y=\"-144.1702\" font-family=\"Times,serif\" font-size=\"14.00\" fill=\"#000000\">gini = 0.0</text>\n",
       "<text text-anchor=\"start\" x=\"1391.4292\" y=\"-130.1702\" font-family=\"Times,serif\" font-size=\"14.00\" fill=\"#000000\">samples = 130</text>\n",
       "<text text-anchor=\"start\" x=\"1387.1602\" y=\"-116.1702\" font-family=\"Times,serif\" font-size=\"14.00\" fill=\"#000000\">value = [129, 1]</text>\n",
       "</g>\n",
       "<!-- 53&#45;&gt;54 -->\n",
       "<g id=\"edge54\" class=\"edge\">\n",
       "<title>53&#45;&gt;54</title>\n",
       "<path fill=\"none\" stroke=\"#000000\" d=\"M1288.7109,-101.9123C1306.8346,-106.9055 1327.6008,-112.6268 1347.5932,-118.1349\"/>\n",
       "<polygon fill=\"#000000\" stroke=\"#000000\" points=\"1346.76,-121.5357 1357.3305,-120.8177 1348.6194,-114.7872 1346.76,-121.5357\"/>\n",
       "</g>\n",
       "<!-- 57 -->\n",
       "<g id=\"node58\" class=\"node\">\n",
       "<title>57</title>\n",
       "<polygon fill=\"#e58139\" fill-opacity=\"0.874510\" stroke=\"#000000\" points=\"1480.9669,-60.3702 1382.8905,-60.3702 1382.8905,-10.3702 1480.9669,-10.3702 1480.9669,-60.3702\"/>\n",
       "<text text-anchor=\"start\" x=\"1404.8413\" y=\"-45.1702\" font-family=\"Times,serif\" font-size=\"14.00\" fill=\"#000000\">gini = 0.0</text>\n",
       "<text text-anchor=\"start\" x=\"1394.9292\" y=\"-31.1702\" font-family=\"Times,serif\" font-size=\"14.00\" fill=\"#000000\">samples = 27</text>\n",
       "<text text-anchor=\"start\" x=\"1390.6602\" y=\"-17.1702\" font-family=\"Times,serif\" font-size=\"14.00\" fill=\"#000000\">value = [24, 3]</text>\n",
       "</g>\n",
       "<!-- 53&#45;&gt;57 -->\n",
       "<g id=\"edge57\" class=\"edge\">\n",
       "<title>53&#45;&gt;57</title>\n",
       "<path fill=\"none\" stroke=\"#000000\" d=\"M1288.7109,-73.3668C1314.65,-66.485 1346.0023,-58.167 1372.7515,-51.0703\"/>\n",
       "<polygon fill=\"#000000\" stroke=\"#000000\" points=\"1373.9891,-54.3631 1382.7572,-48.4157 1372.194,-47.5972 1373.9891,-54.3631\"/>\n",
       "</g>\n",
       "<!-- 55 -->\n",
       "<g id=\"node56\" class=\"node\">\n",
       "<title>55</title>\n",
       "<polygon fill=\"#e58139\" fill-opacity=\"0.909804\" stroke=\"#000000\" points=\"1659.9531,-214.3702 1561.9043,-214.3702 1561.9043,-164.3702 1659.9531,-164.3702 1659.9531,-214.3702\"/>\n",
       "<text text-anchor=\"start\" x=\"1583.8413\" y=\"-199.1702\" font-family=\"Times,serif\" font-size=\"14.00\" fill=\"#000000\">gini = 0.0</text>\n",
       "<text text-anchor=\"start\" x=\"1573.9292\" y=\"-185.1702\" font-family=\"Times,serif\" font-size=\"14.00\" fill=\"#000000\">samples = 12</text>\n",
       "<text text-anchor=\"start\" x=\"1569.9165\" y=\"-171.1702\" font-family=\"Times,serif\" font-size=\"14.00\" fill=\"#000000\">value = [11, 1]</text>\n",
       "</g>\n",
       "<!-- 54&#45;&gt;55 -->\n",
       "<g id=\"edge55\" class=\"edge\">\n",
       "<title>54&#45;&gt;55</title>\n",
       "<path fill=\"none\" stroke=\"#000000\" d=\"M1506.2858,-161.3096C1521.5044,-165.3905 1537.3247,-169.6329 1551.917,-173.5459\"/>\n",
       "<polygon fill=\"#000000\" stroke=\"#000000\" points=\"1551.2354,-176.9867 1561.8007,-176.1962 1553.0485,-170.2255 1551.2354,-176.9867\"/>\n",
       "</g>\n",
       "<!-- 56 -->\n",
       "<g id=\"node57\" class=\"node\">\n",
       "<title>56</title>\n",
       "<polygon fill=\"#e58139\" stroke=\"#000000\" points=\"1663.4531,-118.3702 1558.4043,-118.3702 1558.4043,-68.3702 1663.4531,-68.3702 1663.4531,-118.3702\"/>\n",
       "<text text-anchor=\"start\" x=\"1583.8413\" y=\"-103.1702\" font-family=\"Times,serif\" font-size=\"14.00\" fill=\"#000000\">gini = 0.0</text>\n",
       "<text text-anchor=\"start\" x=\"1570.6855\" y=\"-89.1702\" font-family=\"Times,serif\" font-size=\"14.00\" fill=\"#000000\">samples = 118</text>\n",
       "<text text-anchor=\"start\" x=\"1566.4165\" y=\"-75.1702\" font-family=\"Times,serif\" font-size=\"14.00\" fill=\"#000000\">value = [118, 0]</text>\n",
       "</g>\n",
       "<!-- 54&#45;&gt;56 -->\n",
       "<g id=\"edge56\" class=\"edge\">\n",
       "<title>54&#45;&gt;56</title>\n",
       "<path fill=\"none\" stroke=\"#000000\" d=\"M1506.2858,-121.4309C1520.3533,-117.6586 1534.9349,-113.7485 1548.5854,-110.088\"/>\n",
       "<polygon fill=\"#000000\" stroke=\"#000000\" points=\"1549.5877,-113.443 1558.3399,-107.4723 1547.7746,-106.6818 1549.5877,-113.443\"/>\n",
       "</g>\n",
       "</g>\n",
       "</svg>\n"
      ],
      "text/plain": [
       "<graphviz.files.Source at 0x12844ca58>"
      ]
     },
     "metadata": {},
     "output_type": "display_data"
    }
   ],
   "source": [
    "draw_tree(tree, df)"
   ]
  },
  {
   "cell_type": "code",
   "execution_count": 146,
   "metadata": {},
   "outputs": [],
   "source": [
    "pred_y = tree.predict(X_valid)"
   ]
  },
  {
   "cell_type": "code",
   "execution_count": 147,
   "metadata": {},
   "outputs": [],
   "source": [
    "cm = confusion_matrix(y_valid, pred_y)"
   ]
  },
  {
   "cell_type": "code",
   "execution_count": 148,
   "metadata": {},
   "outputs": [
    {
     "name": "stdout",
     "output_type": "stream",
     "text": [
      "Confusion matrix, without normalization\n",
      "[[124  17]\n",
      " [ 30  29]]\n"
     ]
    },
    {
     "data": {
      "image/png": "[encoded data removed]",
      "text/plain": [
       "<Figure size 432x288 with 2 Axes>"
      ]
     },
     "metadata": {},
     "output_type": "display_data"
    }
   ],
   "source": [
    "np.set_printoptions(precision=2)\n",
    "\n",
    "# Plot non-normalized confusion matrix\n",
    "plt.figure()\n",
    "plot_confusion_matrix(cm, classes=[0,1,2],\n",
    "                      title='Confusion matrix, without normalization')"
   ]
  },
  {
   "cell_type": "code",
   "execution_count": 149,
   "metadata": {
    "scrolled": true
   },
   "outputs": [
    {
     "name": "stdout",
     "output_type": "stream",
     "text": [
      "              precision    recall  f1-score   support\n",
      "\n",
      "           0       0.81      0.88      0.84       141\n",
      "           1       0.63      0.49      0.55        59\n",
      "\n",
      "   micro avg       0.77      0.77      0.77       200\n",
      "   macro avg       0.72      0.69      0.70       200\n",
      "weighted avg       0.75      0.77      0.76       200\n",
      "\n"
     ]
    }
   ],
   "source": [
    "print(classification_report(y_valid, pred_y))"
   ]
  },
  {
   "cell_type": "markdown",
   "metadata": {},
   "source": [
    "Важность признаков в полученном классификаторе"
   ]
  },
  {
   "cell_type": "code",
   "execution_count": 150,
   "metadata": {},
   "outputs": [
    {
     "data": {
      "text/html": [
       "<div>\n",
       "<style scoped>\n",
       "    .dataframe tbody tr th:only-of-type {\n",
       "        vertical-align: middle;\n",
       "    }\n",
       "\n",
       "    .dataframe tbody tr th {\n",
       "        vertical-align: top;\n",
       "    }\n",
       "\n",
       "    .dataframe thead th {\n",
       "        text-align: right;\n",
       "    }\n",
       "</style>\n",
       "<table border=\"1\" class=\"dataframe\">\n",
       "  <thead>\n",
       "    <tr style=\"text-align: right;\">\n",
       "      <th></th>\n",
       "      <th>cols</th>\n",
       "      <th>imp</th>\n",
       "    </tr>\n",
       "  </thead>\n",
       "  <tbody>\n",
       "    <tr>\n",
       "      <th>0</th>\n",
       "      <td>checking_balance</td>\n",
       "      <td>0.294943</td>\n",
       "    </tr>\n",
       "    <tr>\n",
       "      <th>1</th>\n",
       "      <td>months_loan_duration</td>\n",
       "      <td>0.159171</td>\n",
       "    </tr>\n",
       "    <tr>\n",
       "      <th>4</th>\n",
       "      <td>amount</td>\n",
       "      <td>0.121389</td>\n",
       "    </tr>\n",
       "    <tr>\n",
       "      <th>12</th>\n",
       "      <td>age</td>\n",
       "      <td>0.096189</td>\n",
       "    </tr>\n",
       "    <tr>\n",
       "      <th>9</th>\n",
       "      <td>other_debtors</td>\n",
       "      <td>0.093955</td>\n",
       "    </tr>\n",
       "    <tr>\n",
       "      <th>2</th>\n",
       "      <td>credit_history</td>\n",
       "      <td>0.090125</td>\n",
       "    </tr>\n",
       "    <tr>\n",
       "      <th>5</th>\n",
       "      <td>savings_balance</td>\n",
       "      <td>0.057738</td>\n",
       "    </tr>\n",
       "    <tr>\n",
       "      <th>13</th>\n",
       "      <td>installment_plan</td>\n",
       "      <td>0.045107</td>\n",
       "    </tr>\n",
       "    <tr>\n",
       "      <th>15</th>\n",
       "      <td>existing_credits</td>\n",
       "      <td>0.013202</td>\n",
       "    </tr>\n",
       "    <tr>\n",
       "      <th>11</th>\n",
       "      <td>property</td>\n",
       "      <td>0.011353</td>\n",
       "    </tr>\n",
       "  </tbody>\n",
       "</table>\n",
       "</div>"
      ],
      "text/plain": [
       "                    cols       imp\n",
       "0       checking_balance  0.294943\n",
       "1   months_loan_duration  0.159171\n",
       "4                 amount  0.121389\n",
       "12                   age  0.096189\n",
       "9          other_debtors  0.093955\n",
       "2         credit_history  0.090125\n",
       "5        savings_balance  0.057738\n",
       "13      installment_plan  0.045107\n",
       "15      existing_credits  0.013202\n",
       "11              property  0.011353"
      ]
     },
     "execution_count": 150,
     "metadata": {},
     "output_type": "execute_result"
    }
   ],
   "source": [
    "fi = rf_feat_importance(tree, df); fi[:10]"
   ]
  },
  {
   "cell_type": "code",
   "execution_count": 151,
   "metadata": {},
   "outputs": [],
   "source": [
    "def plot_fi(fi): return fi.plot('cols', 'imp', 'barh', figsize=(12,7), legend=False)"
   ]
  },
  {
   "cell_type": "code",
   "execution_count": 157,
   "metadata": {},
   "outputs": [
    {
     "data": {
      "image/png": "[encoded data removed]",
      "text/plain": [
       "<Figure size 864x504 with 1 Axes>"
      ]
     },
     "metadata": {},
     "output_type": "display_data"
    }
   ],
   "source": [
    "plot_fi(fi[:12]);"
   ]
  },
  {
   "cell_type": "markdown",
   "metadata": {},
   "source": [
    "Проинтерпретируем процесс принятия решения нашей моделью для клиента из сегмента №2 \"долгосрочный крупный кредит\"\n",
    "Для этого выберем один из примеров этого сегмента из нашего валидационного набора данных и применим к нему\n",
    "функционал пакета `treeinterpreter`"
   ]
  },
  {
   "cell_type": "code",
   "execution_count": 163,
   "metadata": {},
   "outputs": [],
   "source": [
    "X_valid.reset_index(inplace=True, drop=True)"
   ]
  },
  {
   "cell_type": "code",
   "execution_count": 164,
   "metadata": {},
   "outputs": [
    {
     "data": {
      "text/html": [
       "<div>\n",
       "<style scoped>\n",
       "    .dataframe tbody tr th:only-of-type {\n",
       "        vertical-align: middle;\n",
       "    }\n",
       "\n",
       "    .dataframe tbody tr th {\n",
       "        vertical-align: top;\n",
       "    }\n",
       "\n",
       "    .dataframe thead th {\n",
       "        text-align: right;\n",
       "    }\n",
       "</style>\n",
       "<table border=\"1\" class=\"dataframe\">\n",
       "  <thead>\n",
       "    <tr style=\"text-align: right;\">\n",
       "      <th></th>\n",
       "      <th>checking_balance</th>\n",
       "      <th>months_loan_duration</th>\n",
       "      <th>credit_history</th>\n",
       "      <th>purpose</th>\n",
       "      <th>amount</th>\n",
       "      <th>savings_balance</th>\n",
       "      <th>employment_length</th>\n",
       "      <th>installment_rate</th>\n",
       "      <th>personal_status</th>\n",
       "      <th>other_debtors</th>\n",
       "      <th>residence_history</th>\n",
       "      <th>property</th>\n",
       "      <th>age</th>\n",
       "      <th>installment_plan</th>\n",
       "      <th>housing</th>\n",
       "      <th>existing_credits</th>\n",
       "      <th>dependents</th>\n",
       "      <th>telephone</th>\n",
       "      <th>foreign_worker</th>\n",
       "      <th>job</th>\n",
       "    </tr>\n",
       "  </thead>\n",
       "  <tbody>\n",
       "    <tr>\n",
       "      <th>87</th>\n",
       "      <td>1</td>\n",
       "      <td>60</td>\n",
       "      <td>5</td>\n",
       "      <td>2</td>\n",
       "      <td>14027</td>\n",
       "      <td>3</td>\n",
       "      <td>3</td>\n",
       "      <td>4</td>\n",
       "      <td>4</td>\n",
       "      <td>3</td>\n",
       "      <td>2</td>\n",
       "      <td>4</td>\n",
       "      <td>27</td>\n",
       "      <td>2</td>\n",
       "      <td>2</td>\n",
       "      <td>1</td>\n",
       "      <td>1</td>\n",
       "      <td>2</td>\n",
       "      <td>2</td>\n",
       "      <td>1</td>\n",
       "    </tr>\n",
       "    <tr>\n",
       "      <th>98</th>\n",
       "      <td>1</td>\n",
       "      <td>48</td>\n",
       "      <td>3</td>\n",
       "      <td>1</td>\n",
       "      <td>14421</td>\n",
       "      <td>3</td>\n",
       "      <td>2</td>\n",
       "      <td>2</td>\n",
       "      <td>4</td>\n",
       "      <td>3</td>\n",
       "      <td>2</td>\n",
       "      <td>2</td>\n",
       "      <td>25</td>\n",
       "      <td>2</td>\n",
       "      <td>2</td>\n",
       "      <td>1</td>\n",
       "      <td>1</td>\n",
       "      <td>2</td>\n",
       "      <td>2</td>\n",
       "      <td>2</td>\n",
       "    </tr>\n",
       "  </tbody>\n",
       "</table>\n",
       "</div>"
      ],
      "text/plain": [
       "    checking_balance  months_loan_duration  credit_history  purpose  amount  \\\n",
       "87                 1                    60               5        2   14027   \n",
       "98                 1                    48               3        1   14421   \n",
       "\n",
       "    savings_balance  employment_length  installment_rate  personal_status  \\\n",
       "87                3                  3                 4                4   \n",
       "98                3                  2                 2                4   \n",
       "\n",
       "    other_debtors  residence_history  property  age  installment_plan  \\\n",
       "87              3                  2         4   27                 2   \n",
       "98              3                  2         2   25                 2   \n",
       "\n",
       "    housing  existing_credits  dependents  telephone  foreign_worker  job  \n",
       "87        2                 1           1          2               2    1  \n",
       "98        2                 1           1          2               2    2  "
      ]
     },
     "execution_count": 164,
     "metadata": {},
     "output_type": "execute_result"
    }
   ],
   "source": [
    "X_valid[(X_valid.amount > 12000) & (X_valid.months_loan_duration > 40)]"
   ]
  },
  {
   "cell_type": "code",
   "execution_count": 167,
   "metadata": {},
   "outputs": [
    {
     "data": {
      "text/plain": [
       "1"
      ]
     },
     "execution_count": 167,
     "metadata": {},
     "output_type": "execute_result"
    }
   ],
   "source": [
    "y_valid[87]"
   ]
  },
  {
   "cell_type": "code",
   "execution_count": 168,
   "metadata": {},
   "outputs": [
    {
     "data": {
      "text/plain": [
       "array([[    1,    60,     5,     2, 14027,     3,     3,     4,     4,     3,     2,     4,    27,     2,\n",
       "            2,     1,     1,     2,     2,     1]])"
      ]
     },
     "execution_count": 168,
     "metadata": {},
     "output_type": "execute_result"
    }
   ],
   "source": [
    "# Возьмем пример с индексом 87, его реальный результат - это невыплата кредита\n",
    "# посмотрим, как будет принято решение деревом по этому случаю\n",
    "row = X_valid.values[None,87]; row"
   ]
  },
  {
   "cell_type": "code",
   "execution_count": 169,
   "metadata": {},
   "outputs": [],
   "source": [
    "prediction, bias, contributions = ti.predict(tree, row)"
   ]
  },
  {
   "cell_type": "code",
   "execution_count": 211,
   "metadata": {},
   "outputs": [
    {
     "data": {
      "text/plain": [
       "(0.8518518518518519, 0.30125)"
      ]
     },
     "execution_count": 211,
     "metadata": {},
     "output_type": "execute_result"
    }
   ],
   "source": [
    "prediction[0][1], bias[0][1]"
   ]
  },
  {
   "cell_type": "code",
   "execution_count": 213,
   "metadata": {},
   "outputs": [
    {
     "data": {
      "text/plain": [
       "array([0.14, 0.35, 0.  , 0.  , 0.  , 0.06, 0.  , 0.  , 0.  , 0.  , 0.  , 0.  , 0.  , 0.  , 0.  , 0.  , 0.  ,\n",
       "       0.  , 0.  , 0.  ])"
      ]
     },
     "execution_count": 213,
     "metadata": {},
     "output_type": "execute_result"
    }
   ],
   "source": [
    "contributions[:,:,1][0]"
   ]
  },
  {
   "cell_type": "code",
   "execution_count": 214,
   "metadata": {},
   "outputs": [],
   "source": [
    "idxs = np.argsort(contributions[:,:,1][0])"
   ]
  },
  {
   "cell_type": "code",
   "execution_count": 215,
   "metadata": {},
   "outputs": [
    {
     "data": {
      "text/plain": [
       "[('other_debtors', 3, 0.0),\n",
       " ('telephone', 2, 0.0),\n",
       " ('dependents', 1, 0.0),\n",
       " ('existing_credits', 1, 0.0),\n",
       " ('housing', 2, 0.0),\n",
       " ('installment_plan', 2, 0.0),\n",
       " ('age', 27, 0.0),\n",
       " ('property', 4, 0.0),\n",
       " ('residence_history', 2, 0.0),\n",
       " ('job', 1, 0.0),\n",
       " ('personal_status', 4, 0.0),\n",
       " ('installment_rate', 4, 0.0),\n",
       " ('employment_length', 3, 0.0),\n",
       " ('amount', 14027, 0.0),\n",
       " ('purpose', 2, 0.0),\n",
       " ('credit_history', 5, 0.0),\n",
       " ('foreign_worker', 2, 0.0),\n",
       " ('savings_balance', 3, 0.06220937956689254),\n",
       " ('checking_balance', 1, 0.1380023364485981),\n",
       " ('months_loan_duration', 60, 0.3503901358363612)]"
      ]
     },
     "execution_count": 215,
     "metadata": {},
     "output_type": "execute_result"
    }
   ],
   "source": [
    "[o for o in zip(X_valid.columns[idxs], X_valid.iloc[87][idxs], contributions[:,:,1][0][idxs])]"
   ]
  },
  {
   "cell_type": "code",
   "execution_count": 216,
   "metadata": {},
   "outputs": [
    {
     "data": {
      "text/plain": [
       "0.5506018518518518"
      ]
     },
     "execution_count": 216,
     "metadata": {},
     "output_type": "execute_result"
    }
   ],
   "source": [
    "contributions[:,:,1][0].sum()"
   ]
  },
  {
   "cell_type": "code",
   "execution_count": 217,
   "metadata": {},
   "outputs": [
    {
     "data": {
      "text/plain": [
       "array([[0.15, 0.85]])"
      ]
     },
     "execution_count": 217,
     "metadata": {},
     "output_type": "execute_result"
    }
   ],
   "source": [
    "tree.predict_proba(X_valid.iloc[87].values.reshape(1, -1))"
   ]
  },
  {
   "cell_type": "code",
   "execution_count": 218,
   "metadata": {},
   "outputs": [
    {
     "data": {
      "text/plain": [
       "Index(['1 - 200 DM', '< 0 DM', '> 200 DM', 'unknown'], dtype='object')"
      ]
     },
     "execution_count": 218,
     "metadata": {},
     "output_type": "execute_result"
    }
   ],
   "source": [
    "credits.checking_balance.cat.categories"
   ]
  },
  {
   "cell_type": "code",
   "execution_count": 219,
   "metadata": {},
   "outputs": [
    {
     "data": {
      "text/plain": [
       "Index(['101 - 500 DM', '501 - 1000 DM', '< 100 DM', '> 1000 DM', 'unknown'], dtype='object')"
      ]
     },
     "execution_count": 219,
     "metadata": {},
     "output_type": "execute_result"
    }
   ],
   "source": [
    "credits.savings_balance.cat.categories"
   ]
  },
  {
   "cell_type": "code",
   "execution_count": null,
   "metadata": {},
   "outputs": [],
   "source": []
  }
 ],
 "metadata": {
  "_draft": {
   "nbviewer_url": "https://gist.github.com/eb8d33ce440fdcfba75e7ac5f66f94eb"
  },
  "gist": {
   "data": {
    "description": "Lab3.ipynb",
    "public": true
   },
   "id": "eb8d33ce440fdcfba75e7ac5f66f94eb"
  },
  "kernelspec": {
   "display_name": "Python 3",
   "language": "python",
   "name": "python3"
  },
  "language_info": {
   "codemirror_mode": {
    "name": "ipython",
    "version": 3
   },
   "file_extension": ".py",
   "mimetype": "text/x-python",
   "name": "python",
   "nbconvert_exporter": "python",
   "pygments_lexer": "ipython3",
   "version": "3.6.5"
  },
  "toc": {
   "base_numbering": 1,
   "nav_menu": {},
   "number_sections": true,
   "sideBar": true,
   "skip_h1_title": false,
   "title_cell": "Table of Contents",
   "title_sidebar": "Contents",
   "toc_cell": false,
   "toc_position": {
    "height": "calc(100% - 180px)",
    "left": "10px",
    "top": "150px",
    "width": "328px"
   },
   "toc_section_display": true,
   "toc_window_display": true
  }
 },
 "nbformat": 4,
 "nbformat_minor": 2
}
